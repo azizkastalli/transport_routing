{
 "cells": [
  {
   "cell_type": "markdown",
   "id": "mounted-internship",
   "metadata": {},
   "source": [
    "## Correct path prediction :"
   ]
  },
  {
   "cell_type": "code",
   "execution_count": 1,
   "id": "sexual-gnome",
   "metadata": {},
   "outputs": [],
   "source": [
    "import pandas as pd\n",
    "import matplotlib.pyplot as plt\n",
    "import seaborn as sns\n",
    "import numpy as np\n",
    "from datetime import datetime"
   ]
  },
  {
   "cell_type": "code",
   "execution_count": 2,
   "id": "numerical-campus",
   "metadata": {},
   "outputs": [],
   "source": [
    "import tensorflow as tf\n",
    "from tensorflow .data import Dataset\n",
    "from tensorflow.keras import Sequential, Model\n",
    "from tensorflow.keras.layers import Dense, Input, RNN, GRU, LSTM, Dropout, BatchNormalization\n",
    "from tensorflow.keras.losses import SparseCategoricalCrossentropy\n",
    "from tensorflow.keras.metrics import SparseCategoricalAccuracy\n",
    "from tensorflow.keras.callbacks import EarlyStopping\n",
    "from tensorflow.keras.optimizers import Adam, RMSprop"
   ]
  },
  {
   "cell_type": "code",
   "execution_count": 3,
   "id": "future-saint",
   "metadata": {},
   "outputs": [
    {
     "name": "stdout",
     "output_type": "stream",
     "text": [
      "WARNING:tensorflow:From <ipython-input-3-17bb7203622b>:1: is_gpu_available (from tensorflow.python.framework.test_util) is deprecated and will be removed in a future version.\n",
      "Instructions for updating:\n",
      "Use `tf.config.list_physical_devices('GPU')` instead.\n"
     ]
    },
    {
     "data": {
      "text/plain": [
       "True"
      ]
     },
     "execution_count": 3,
     "metadata": {},
     "output_type": "execute_result"
    }
   ],
   "source": [
    "tf.test.is_gpu_available()"
   ]
  },
  {
   "cell_type": "code",
   "execution_count": 4,
   "id": "invisible-antique",
   "metadata": {},
   "outputs": [
    {
     "name": "stdout",
     "output_type": "stream",
     "text": [
      "<class 'pandas.core.frame.DataFrame'>\n",
      "RangeIndex: 1950296 entries, 0 to 1950295\n",
      "Data columns (total 12 columns):\n",
      " #   Column         Dtype  \n",
      "---  ------         -----  \n",
      " 0   vehicle_id     int64  \n",
      " 1   line_id        int64  \n",
      " 2   latitude       float64\n",
      " 3   longitude      float64\n",
      " 4   datetime       object \n",
      " 5   station_id     int64  \n",
      " 6   vehicle_type   float64\n",
      " 7   sequence_id    object \n",
      " 8   order          int64  \n",
      " 9   line_label     object \n",
      " 10  datetime_diff  float64\n",
      " 11  outlier        int64  \n",
      "dtypes: float64(4), int64(5), object(3)\n",
      "memory usage: 178.6+ MB\n"
     ]
    }
   ],
   "source": [
    "picktime = pd.read_csv('../Data preprocessing/data/gps_clean.csv', low_memory=False)\n",
    "picktime.info()"
   ]
  },
  {
   "cell_type": "code",
   "execution_count": 5,
   "id": "adopted-tractor",
   "metadata": {},
   "outputs": [],
   "source": [
    "target_encoder = dict( (target,code) for code, target in enumerate(picktime.line_id.unique()) )\n",
    "target_decoder = dict( (code, target) for target, code in target_encoder.items() ) "
   ]
  },
  {
   "cell_type": "code",
   "execution_count": 6,
   "id": "fixed-lounge",
   "metadata": {},
   "outputs": [],
   "source": [
    "nb_targets = picktime.line_id.nunique()"
   ]
  },
  {
   "cell_type": "code",
   "execution_count": 7,
   "id": "personalized-interference",
   "metadata": {},
   "outputs": [
    {
     "data": {
      "text/plain": [
       "43"
      ]
     },
     "execution_count": 7,
     "metadata": {},
     "output_type": "execute_result"
    }
   ],
   "source": [
    "nb_targets"
   ]
  },
  {
   "cell_type": "code",
   "execution_count": 8,
   "id": "genetic-parks",
   "metadata": {},
   "outputs": [],
   "source": [
    "correct_lineid = picktime[['sequence_id','line_id']].groupby('sequence_id').first().line_id"
   ]
  },
  {
   "cell_type": "markdown",
   "id": "advanced-standard",
   "metadata": {},
   "source": [
    "### DATA ETL :"
   ]
  },
  {
   "cell_type": "code",
   "execution_count": 11,
   "id": "operating-crash",
   "metadata": {},
   "outputs": [
    {
     "name": "stdout",
     "output_type": "stream",
     "text": [
      "---------------------------ETL------------------------------\n",
      "\n",
      "\n",
      "loading chunk  fullpick_chunk1 ... done in 6.37 second(s)\n",
      "chunk preprocessing ... done in 114.75 second(s)\n",
      "generating stop steps sequences ... done in 14.07 second(s)\n",
      "extracting preprocessed numpy array data ... done in 69.77 second(s)\n",
      "chunk statistics report : \n",
      "                          * total records sum =  9475562\n",
      "                          * data length       =  70785\n",
      "delete temp objects ... done\n",
      "\n",
      "------------------------------------------------------------------------\n",
      "\n",
      "loading chunk  fullpick_chunk10 ... done in 10.72 second(s)\n",
      "chunk preprocessing ... done in 78.22 second(s)\n",
      "generating stop steps sequences ... done in 9.81 second(s)\n",
      "extracting preprocessed numpy array data ... done in 12.18 second(s)\n",
      "chunk statistics report : \n",
      "                          * total records sum =  6076372\n",
      "                          * data length       =  49717\n",
      "delete temp objects ... done\n",
      "\n",
      "------------------------------------------------------------------------\n",
      "\n",
      "loading chunk  fullpick_chunk11 ... done in 9.46 second(s)\n",
      "chunk preprocessing ... done in 115.76 second(s)\n",
      "generating stop steps sequences ... done in 14.98 second(s)\n",
      "extracting preprocessed numpy array data ... done in 52.71 second(s)\n",
      "chunk statistics report : \n",
      "                          * total records sum =  10302028\n",
      "                          * data length       =  76259\n",
      "delete temp objects ... done\n",
      "\n",
      "------------------------------------------------------------------------\n",
      "\n",
      "loading chunk  fullpick_chunk12 ... done in 13.71 second(s)\n",
      "chunk preprocessing ... done in 118.27 second(s)\n",
      "generating stop steps sequences ... done in 15.20 second(s)\n",
      "extracting preprocessed numpy array data ... done in 40.38 second(s)\n",
      "chunk statistics report : \n",
      "                          * total records sum =  9959062\n",
      "                          * data length       =  74549\n",
      "delete temp objects ... done\n",
      "\n",
      "------------------------------------------------------------------------\n",
      "\n",
      "loading chunk  fullpick_chunk13 ... done in 12.90 second(s)\n",
      "chunk preprocessing ... done in 119.58 second(s)\n",
      "generating stop steps sequences ... done in 15.11 second(s)\n",
      "extracting preprocessed numpy array data ... done in 30.43 second(s)\n",
      "chunk statistics report : \n",
      "                          * total records sum =  10357582\n",
      "                          * data length       =  76422\n",
      "delete temp objects ... done\n",
      "\n",
      "------------------------------------------------------------------------\n",
      "\n",
      "loading chunk  fullpick_chunk14 ... done in 8.92 second(s)\n",
      "chunk preprocessing ... done in 114.89 second(s)\n",
      "generating stop steps sequences ... done in 14.89 second(s)\n",
      "extracting preprocessed numpy array data ... done in 46.88 second(s)\n",
      "chunk statistics report : \n",
      "                          * total records sum =  10164811\n",
      "                          * data length       =  76214\n",
      "delete temp objects ... done\n",
      "\n",
      "------------------------------------------------------------------------\n",
      "\n",
      "loading chunk  fullpick_chunk15 ... done in 13.90 second(s)\n",
      "chunk preprocessing ... done in 117.44 second(s)\n",
      "generating stop steps sequences ... done in 14.80 second(s)\n",
      "extracting preprocessed numpy array data ... done in 28.12 second(s)\n",
      "chunk statistics report : \n",
      "                          * total records sum =  9957175\n",
      "                          * data length       =  75519\n",
      "delete temp objects ... done\n",
      "\n",
      "------------------------------------------------------------------------\n",
      "\n",
      "loading chunk  fullpick_chunk16 ... done in 9.42 second(s)\n",
      "chunk preprocessing ... done in 115.08 second(s)\n",
      "generating stop steps sequences ... done in 15.08 second(s)\n",
      "extracting preprocessed numpy array data ... done in 22.51 second(s)\n",
      "chunk statistics report : \n",
      "                          * total records sum =  10067147\n",
      "                          * data length       =  75088\n",
      "delete temp objects ... done\n",
      "\n",
      "------------------------------------------------------------------------\n",
      "\n",
      "loading chunk  fullpick_chunk17 ... done in 7.74 second(s)\n",
      "chunk preprocessing ... done in 112.49 second(s)\n",
      "generating stop steps sequences ... done in 14.49 second(s)\n",
      "extracting preprocessed numpy array data ... done in 38.32 second(s)\n",
      "chunk statistics report : \n",
      "                          * total records sum =  9706633\n",
      "                          * data length       =  73863\n",
      "delete temp objects ... done\n",
      "\n",
      "------------------------------------------------------------------------\n",
      "\n",
      "loading chunk  fullpick_chunk18 ... done in 10.78 second(s)\n",
      "chunk preprocessing ... done in 114.00 second(s)\n",
      "generating stop steps sequences ... done in 14.36 second(s)\n",
      "extracting preprocessed numpy array data ... done in 27.77 second(s)\n",
      "chunk statistics report : \n",
      "                          * total records sum =  9757776\n",
      "                          * data length       =  73930\n",
      "delete temp objects ... done\n",
      "\n",
      "------------------------------------------------------------------------\n",
      "\n",
      "loading chunk  fullpick_chunk19 ... done in 10.78 second(s)\n",
      "chunk preprocessing ... done in 112.30 second(s)\n",
      "generating stop steps sequences ... done in 14.66 second(s)\n",
      "extracting preprocessed numpy array data ... done in 25.37 second(s)\n",
      "chunk statistics report : \n",
      "                          * total records sum =  10028543\n",
      "                          * data length       =  74925\n",
      "delete temp objects ... done\n",
      "\n",
      "------------------------------------------------------------------------\n",
      "\n",
      "loading chunk  fullpick_chunk2 ... done in 7.25 second(s)\n",
      "chunk preprocessing ... done in 109.99 second(s)\n",
      "generating stop steps sequences ... done in 14.13 second(s)\n",
      "extracting preprocessed numpy array data ... done in 26.37 second(s)\n",
      "chunk statistics report : \n",
      "                          * total records sum =  9735145\n",
      "                          * data length       =  71734\n",
      "delete temp objects ... done\n",
      "\n",
      "------------------------------------------------------------------------\n",
      "\n",
      "loading chunk  fullpick_chunk20 ... done in 7.58 second(s)\n",
      "chunk preprocessing ... done in 111.83 second(s)\n",
      "generating stop steps sequences ... done in 14.33 second(s)\n",
      "extracting preprocessed numpy array data ... done in 25.18 second(s)\n",
      "chunk statistics report : \n",
      "                          * total records sum =  9891317\n",
      "                          * data length       =  75561\n",
      "delete temp objects ... done\n",
      "\n",
      "------------------------------------------------------------------------\n",
      "\n",
      "loading chunk  fullpick_chunk21 ... done in 9.04 second(s)\n",
      "chunk preprocessing ... done in 108.35 second(s)\n",
      "generating stop steps sequences ... done in 13.87 second(s)\n",
      "extracting preprocessed numpy array data ... done in 20.19 second(s)\n",
      "chunk statistics report : \n",
      "                          * total records sum =  9638191\n",
      "                          * data length       =  72883\n",
      "delete temp objects ... done\n",
      "\n",
      "------------------------------------------------------------------------\n",
      "\n",
      "loading chunk  fullpick_chunk22 ... done in 7.18 second(s)\n",
      "chunk preprocessing ... done in 98.21 second(s)\n",
      "generating stop steps sequences ... done in 12.06 second(s)\n",
      "extracting preprocessed numpy array data ... done in 21.84 second(s)\n",
      "chunk statistics report : \n",
      "                          * total records sum =  8535543\n",
      "                          * data length       =  65449\n",
      "delete temp objects ... done\n",
      "\n",
      "------------------------------------------------------------------------\n",
      "\n",
      "loading chunk  fullpick_chunk23 ... done in 7.71 second(s)\n",
      "chunk preprocessing ... done in 85.76 second(s)\n",
      "generating stop steps sequences ... done in 10.77 second(s)\n",
      "extracting preprocessed numpy array data ... done in 19.76 second(s)\n",
      "chunk statistics report : \n",
      "                          * total records sum =  7231243\n",
      "                          * data length       =  55307\n",
      "delete temp objects ... done\n",
      "\n",
      "------------------------------------------------------------------------\n",
      "\n",
      "loading chunk  fullpick_chunk24 ... done in 2.54 second(s)\n",
      "chunk preprocessing ... done in 32.67 second(s)\n",
      "generating stop steps sequences ... done in 4.25 second(s)\n",
      "extracting preprocessed numpy array data ... done in 4.31 second(s)\n",
      "chunk statistics report : \n",
      "                          * total records sum =  2708572\n",
      "                          * data length       =  21020\n",
      "delete temp objects ... done\n",
      "\n",
      "------------------------------------------------------------------------\n",
      "\n",
      "loading chunk  fullpick_chunk3 ... done in 7.17 second(s)\n",
      "chunk preprocessing ... done in 105.86 second(s)\n",
      "generating stop steps sequences ... done in 12.94 second(s)\n",
      "extracting preprocessed numpy array data ... done in 159.61 second(s)\n",
      "chunk statistics report : \n",
      "                          * total records sum =  9341208\n",
      "                          * data length       =  69075\n",
      "delete temp objects ... done\n",
      "\n",
      "------------------------------------------------------------------------\n",
      "\n",
      "loading chunk  fullpick_chunk4 ... done in 6.08 second(s)\n",
      "chunk preprocessing ... done in 35.19 second(s)\n",
      "generating stop steps sequences ... done in 3.72 second(s)\n",
      "extracting preprocessed numpy array data ... done in 4.46 second(s)\n",
      "chunk statistics report : \n",
      "                          * total records sum =  2114020\n",
      "                          * data length       =  24855\n",
      "delete temp objects ... done\n",
      "\n",
      "------------------------------------------------------------------------\n",
      "\n",
      "loading chunk  fullpick_chunk5 ... done in 3.49 second(s)\n",
      "chunk preprocessing ... done in 37.04 second(s)\n",
      "generating stop steps sequences ... done in 3.43 second(s)\n",
      "extracting preprocessed numpy array data ... done in 11.56 second(s)\n",
      "chunk statistics report : \n",
      "                          * total records sum =  2229448\n",
      "                          * data length       =  26001\n",
      "delete temp objects ... done\n",
      "\n",
      "------------------------------------------------------------------------\n",
      "\n",
      "loading chunk  fullpick_chunk6 ... done in 4.23 second(s)\n",
      "chunk preprocessing ... done in 45.50 second(s)\n",
      "generating stop steps sequences ... done in 4.30 second(s)\n",
      "extracting preprocessed numpy array data ... done in 6.59 second(s)\n",
      "chunk statistics report : \n",
      "                          * total records sum =  2581252\n",
      "                          * data length       =  29212\n",
      "delete temp objects ... done\n",
      "\n",
      "------------------------------------------------------------------------\n",
      "\n",
      "loading chunk  fullpick_chunk7 ... done in 6.93 second(s)\n",
      "chunk preprocessing ... done in 44.13 second(s)\n",
      "generating stop steps sequences ... done in 3.91 second(s)\n",
      "extracting preprocessed numpy array data ... done in 9.97 second(s)\n",
      "chunk statistics report : \n",
      "                          * total records sum =  2494012\n",
      "                          * data length       =  28030\n",
      "delete temp objects ... done\n",
      "\n",
      "------------------------------------------------------------------------\n",
      "\n",
      "loading chunk  fullpick_chunk8 ... done in 3.62 second(s)\n",
      "chunk preprocessing ... done in 46.26 second(s)\n",
      "generating stop steps sequences ... done in 4.64 second(s)\n",
      "extracting preprocessed numpy array data ... done in 5.65 second(s)\n",
      "chunk statistics report : \n",
      "                          * total records sum =  2612022\n",
      "                          * data length       =  29493\n",
      "delete temp objects ... done\n",
      "\n",
      "------------------------------------------------------------------------\n",
      "\n",
      "loading chunk  fullpick_chunk9 ... done in 3.28 second(s)\n",
      "chunk preprocessing ... done in 41.71 second(s)\n",
      "generating stop steps sequences ... done in 3.89 second(s)\n",
      "extracting preprocessed numpy array data ... done in 5.36 second(s)\n",
      "chunk statistics report : \n",
      "                          * total records sum =  2457450\n",
      "                          * data length       =  27971\n",
      "delete temp objects ... done\n",
      "\n",
      "------------------------------------------------------------------------\n",
      "\n",
      "Final report : \n",
      "               * total records sum =  177422114\n",
      "               * data length       =  1393862\n"
     ]
    }
   ],
   "source": [
    "from sklearn.preprocessing import MinMaxScaler, LabelEncoder\n",
    "import gc\n",
    "import random\n",
    "from time import time\n",
    "import os\n",
    "\n",
    "filenames = os.listdir('../Data preprocessing/data/fullpick')[1:]\n",
    "filenames = ['../Data preprocessing/data/fullpick/'+ filename for filename in filenames]\n",
    "names = [name[:-4] for name in os.listdir('../Data preprocessing/data/fullpick') ][1:]\n",
    "\n",
    "print('---------------------------ETL------------------------------', end='\\n')\n",
    "print('\\n\\n',end='')\n",
    "\n",
    "data_length_sum = 0\n",
    "features_records_sum = 0\n",
    "maxlength_exeeded = 0\n",
    "\n",
    "for c, filename in enumerate(filenames):\n",
    "    print('loading chunk ',names[c], end=' ... ')\n",
    "    start = time()\n",
    "    #load chunk\n",
    "    fullpick = pd.read_csv(filename)\n",
    "    stop = time()\n",
    "    print('done in {:.2f} second(s)'.format(stop-start))\n",
    "\n",
    "    print('chunk preprocessing', end=' ... ')\n",
    "    #convert str to datetime\n",
    "    start = time()\n",
    "    fullpick.datetime = fullpick.datetime.apply(lambda x : datetime.strptime(x, '%Y-%m-%d %H:%M:%S'))\n",
    "\n",
    "    #datetime features : \n",
    "    fullpick['hour'] = fullpick.datetime.dt.hour\n",
    "    fullpick['day'] = fullpick.datetime.dt.day\n",
    "    fullpick['month'] = fullpick.datetime.dt.month\n",
    "    fullpick['quarter'] = fullpick.datetime.dt.quarter\n",
    "    fullpick['dayofweek'] = fullpick.datetime.dt.dayofweek\n",
    "    fullpick['service_class'] = fullpick['datetime'].dt.weekday.apply(lambda x : 1 if x in [5,6] else 0)\n",
    "\n",
    "    #map true line_id\n",
    "    fullpick['correct_line_id'] = fullpick.sequence_id.map(correct_lineid)   #affect target (True line_id)\n",
    "    fullpick['correct_line_id'] = fullpick.correct_line_id.map(target_encoder)    #target label encoder\n",
    "\n",
    "    #scale data between 0 and 1\n",
    "    scaler = MinMaxScaler()\n",
    "    fullpick.vehicle_id =  scaler.fit_transform(fullpick[['vehicle_id']])\n",
    "    fullpick.line_id =  scaler.fit_transform(fullpick[['line_id']])\n",
    "    fullpick.latitude =  scaler.fit_transform(fullpick[['latitude']])\n",
    "    fullpick.longitude =  scaler.fit_transform(fullpick[['longitude']])\n",
    "    fullpick.direction =  scaler.fit_transform(fullpick[['direction']])\n",
    "    fullpick.vehicle_type =  scaler.fit_transform(fullpick[['vehicle_type']])\n",
    "    fullpick.hour =  scaler.fit_transform(fullpick[['hour']])\n",
    "    fullpick.day =  scaler.fit_transform(fullpick[['day']])\n",
    "    fullpick.month =  scaler.fit_transform(fullpick[['month']])\n",
    "    fullpick.quarter =  scaler.fit_transform(fullpick[['quarter']])\n",
    "    fullpick.dayofweek =  scaler.fit_transform(fullpick[['dayofweek']])\n",
    "    fullpick.service_class =  scaler.fit_transform(fullpick[['service_class']])\n",
    "\n",
    "    #grouping sequences\n",
    "    grouping_dict = {'sequence_id':'first', 'station_id':'first', 'vehicle_id':'first', 'line_id':'first', 'correct_line_id':'first', 'vehicle_type':'first',\n",
    "                     'latitude':list, 'longitude':list, 'direction':list, 'hour':list, 'day':list, 'month':list, 'quarter':list,\n",
    "                     'dayofweek':list, 'service_class':list}\n",
    "    fullpick = fullpick.set_index('datetime').groupby(['sequence_id','station_id'], as_index=False).agg(grouping_dict).reset_index(drop = True)\n",
    "    stop = time()\n",
    "    print('done in {:.2f} second(s)'.format(stop-start))\n",
    "\n",
    "    print('generating stop steps sequences', end=' ... ')\n",
    "    #generating X_train and y_train time step squences\n",
    "    start = time()\n",
    "    n = fullpick.shape[0]\n",
    "    features = []\n",
    "    labels = []\n",
    "    sequence_timestep = {}\n",
    "    line_id_sequence_map = {}\n",
    "    \n",
    "    for sequence_id, station_id, vehicle_id, line_id, correct_line_id, vehicle_type, \\\n",
    "        latitude, longitude, direction, hour, day, month, quarter, dayofweek, service_class in fullpick.values :\n",
    "        n = len(latitude)\n",
    "        samples = []\n",
    "        sample = np.zeros(12)\n",
    "        for i in range(n):\n",
    "            sample[0] = vehicle_id\n",
    "            sample[1] = line_id\n",
    "            sample[2] = latitude[i]\n",
    "            sample[3] = longitude[i]\n",
    "            sample[4] = direction[i]\n",
    "            sample[5] = vehicle_type\n",
    "            sample[6] = hour[i]\n",
    "            sample[7] = day[i]\n",
    "            sample[8] = month[i]\n",
    "            sample[9] = quarter[i]\n",
    "            sample[10] = dayofweek[i]\n",
    "            sample[11] = service_class[i]\n",
    "            samples.append(sample)\n",
    "        if sequence_id in sequence_timestep : \n",
    "            sequence_timestep[sequence_id].append(samples)       \n",
    "        else:\n",
    "            sequence_timestep[sequence_id] = [samples]\n",
    "        labels.append(np.array(correct_line_id))\n",
    "\n",
    "    #add history of past time steps to sequences\n",
    "    for sequence in sequence_timestep.keys() :    #loop on each sequence\n",
    "        history = []         #history keeps 25% of data for each past time step (data is selected randomly)\n",
    "        for i, timestep in enumerate(sequence_timestep[sequence]) :     #loop on each sequence time step\n",
    "            if i != 0 :\n",
    "                sequence_timestep[sequence][i] = history + sequence_timestep[sequence][i]    #add history list at the start of the current timestep\n",
    "                \n",
    "            #if sequence_timestep dims exeeded 200, select 200 random sample \n",
    "            if len(sequence_timestep[sequence][i]) > 200 :\n",
    "                sequence_timestep[sequence][i] = random.sample(sequence_timestep[sequence][i], 200)\n",
    "                maxlength_exeeded += 1\n",
    "                \n",
    "            #add 25% of the current time_step at the end of history list \n",
    "            n = len(timestep)\n",
    "            k = round(n*0.25)\n",
    "            history += random.sample(timestep, k)\n",
    "\n",
    "    #convert sequences to numpy arrays\n",
    "    for sequence in sequence_timestep.keys() :\n",
    "        for i in range(len(sequence_timestep[sequence])) :\n",
    "            sequence_timestep[sequence][i] = np.array(sequence_timestep[sequence][i])\n",
    "        sequence_timestep[sequence] = np.array(sequence_timestep[sequence], object)\n",
    "\n",
    "    #generate X_train numpy array \n",
    "    features = []\n",
    "    for path in sequence_timestep.values():\n",
    "        for sequence in path : \n",
    "            features.append(sequence)\n",
    "\n",
    "    #convert X_train and y_train to numpy arrays\n",
    "    features = np.array(features, dtype=object)\n",
    "    labels = np.array(labels).reshape(-1,1)\n",
    "    stop = time()\n",
    "    print('done in {:.2f} second(s)'.format(stop-start))\n",
    "\n",
    "    print('extracting preprocessed numpy array data', end=' ... ')\n",
    "    #export data ready to consume by TF models\n",
    "    start = time()\n",
    "    np.save('../Data preprocessing/data/Fullpick ETL/features/'+names[c]+'.npy', features)\n",
    "    np.save('../Data preprocessing/data/Fullpick ETL/labels/'+names[c]+'.npy', labels)\n",
    "    stop = time()\n",
    "    print('done in {:.2f} second(s)'.format(stop-start))\n",
    "\n",
    "    #sequences and records data stats\n",
    "    tot_recs = 0\n",
    "    for i in range(features.shape[0]):\n",
    "        tot_recs += features[i].shape[0]\n",
    "    features_records_sum += tot_recs\n",
    "    data_length_sum += labels.shape[0]\n",
    "\n",
    "    print('chunk statistics report : ')\n",
    "    print('                          * total records sum = ',tot_recs)\n",
    "    print('                          * data length       = ',labels.shape[0])\n",
    "\n",
    "    #delete temp objects\n",
    "    print('delete temp objects', end=' ... ')\n",
    "    del features\n",
    "    del labels\n",
    "    del samples\n",
    "    del sample\n",
    "    del fullpick\n",
    "    gc.collect()\n",
    "    print('done', end='\\n\\n')\n",
    "\n",
    "    print('------------------------------------------------------------------------', end='\\n\\n')\n",
    "\n",
    "print('Final report : ')\n",
    "print('               * total records sum = ',features_records_sum)\n",
    "print('               * data length       = ',data_length_sum)"
   ]
  },
  {
   "cell_type": "code",
   "execution_count": 17,
   "id": "solid-translator",
   "metadata": {},
   "outputs": [
    {
     "data": {
      "text/plain": [
       "246753"
      ]
     },
     "execution_count": 17,
     "metadata": {},
     "output_type": "execute_result"
    }
   ],
   "source": [
    "maxlength_exeeded"
   ]
  },
  {
   "cell_type": "markdown",
   "id": "proper-import",
   "metadata": {},
   "source": [
    "### Extract a stratified (with respect to line_id) sequence sample (10% of data)"
   ]
  },
  {
   "cell_type": "code",
   "execution_count": 12,
   "id": "conceptual-worse",
   "metadata": {},
   "outputs": [],
   "source": [
    "import os\n",
    "import re\n",
    "\n",
    "features_path = '../Data preprocessing/data/Fullpick ETL/features/'\n",
    "labels_path = '../Data preprocessing/data/Fullpick ETL/labels/'\n",
    "filenames = sorted(os.listdir('../Data preprocessing/data/Fullpick ETL/features'), key = lambda x : int(re.findall(r'\\d+',x)[0]) )\n",
    "\n",
    "features_names = [ features_path+filename for filename in filenames ]\n",
    "label_names = [ labels_path+filename for filename in filenames ]"
   ]
  },
  {
   "cell_type": "code",
   "execution_count": 13,
   "id": "ecological-milton",
   "metadata": {},
   "outputs": [
    {
     "name": "stderr",
     "output_type": "stream",
     "text": [
      "24it [10:47, 26.99s/it]\n"
     ]
    }
   ],
   "source": [
    "from sklearn.model_selection import train_test_split\n",
    "from tqdm import tqdm\n",
    "\n",
    "for feature_filename, label_filename in tqdm(zip(features_names, label_names)):\n",
    "\n",
    "    #load data\n",
    "    features = np.load(feature_filename, allow_pickle=True)\n",
    "    labels = np.load(label_filename, allow_pickle=False)\n",
    "    \n",
    "    #startified data sampling\n",
    "    _, stratified_features, _, stratified_labels  = train_test_split(features, labels, test_size=0.1, stratify=labels)\n",
    "\n",
    "    #save startified samples\n",
    "    np.save(feature_filename.replace('features','startified sample/features'), stratified_features)\n",
    "    np.save(label_filename.replace('labels','startified sample/labels'), stratified_labels)"
   ]
  },
  {
   "cell_type": "markdown",
   "id": "complicated-jackson",
   "metadata": {},
   "source": [
    "### Join all startified samples into one train/test sample"
   ]
  },
  {
   "cell_type": "code",
   "execution_count": 14,
   "id": "sticky-pontiac",
   "metadata": {},
   "outputs": [],
   "source": [
    "import os\n",
    "import re\n",
    "\n",
    "features_path = '../Data preprocessing/data/Fullpick ETL/startified sample/features/'\n",
    "labels_path = '../Data preprocessing/data/Fullpick ETL/startified sample/labels/'\n",
    "\n",
    "filenames = sorted(os.listdir('../Data preprocessing/data/Fullpick ETL/startified sample/features'), key = lambda x : int(re.findall(r'\\d+',x)[0]) )\n",
    "\n",
    "features_names = [ features_path+filename for filename in filenames ]\n",
    "label_names = [ labels_path+filename for filename in filenames ]"
   ]
  },
  {
   "cell_type": "code",
   "execution_count": 15,
   "id": "placed-documentation",
   "metadata": {},
   "outputs": [
    {
     "name": "stderr",
     "output_type": "stream",
     "text": [
      "24it [00:36,  1.53s/it]"
     ]
    },
    {
     "name": "stdout",
     "output_type": "stream",
     "text": [
      "sample length :  139397\n"
     ]
    },
    {
     "name": "stderr",
     "output_type": "stream",
     "text": [
      "\n"
     ]
    }
   ],
   "source": [
    "first  = True\n",
    "for feature_filename, label_filename in tqdm(zip(features_names, label_names)):\n",
    "    #load data\n",
    "    if first :\n",
    "        first  = False\n",
    "        data   = np.load(feature_filename, allow_pickle=True)\n",
    "        target = np.load(label_filename, allow_pickle=False)\n",
    "    else : \n",
    "        data = np.append(data, np.load(feature_filename, allow_pickle=True))\n",
    "        target = np.append(target, np.load(label_filename, allow_pickle=False))\n",
    "\n",
    "print('sample length : ', len(target))"
   ]
  },
  {
   "cell_type": "code",
   "execution_count": 16,
   "id": "reserved-idaho",
   "metadata": {},
   "outputs": [],
   "source": [
    "extraction_path = '../Data preprocessing/data/Fullpick ETL/startified sample/merged sample/'\n",
    "\n",
    "np.save(extraction_path+'features', data)\n",
    "np.save(extraction_path+'labels', target)"
   ]
  },
  {
   "cell_type": "markdown",
   "id": "liberal-syria",
   "metadata": {},
   "source": [
    "### Model training and validation"
   ]
  },
  {
   "cell_type": "code",
   "execution_count": 3,
   "id": "funded-seating",
   "metadata": {},
   "outputs": [],
   "source": [
    "data = np.load('../Data preprocessing/data/Fullpick ETL/startified sample/merged sample/features.npy', allow_pickle=True)\n",
    "target = np.load('../Data preprocessing/data/Fullpick ETL/startified sample/merged sample/labels.npy')"
   ]
  },
  {
   "cell_type": "code",
   "execution_count": 11,
   "id": "introductory-street",
   "metadata": {},
   "outputs": [
    {
     "name": "stdout",
     "output_type": "stream",
     "text": [
      "Model: \"model\"\n",
      "_________________________________________________________________\n",
      "Layer (type)                 Output Shape              Param #   \n",
      "=================================================================\n",
      "input_2 (InputLayer)         [(None, None, 12)]        0         \n",
      "_________________________________________________________________\n",
      "lstm_1 (LSTM)                (None, 124)               67952     \n",
      "_________________________________________________________________\n",
      "dropout_2 (Dropout)          (None, 124)               0         \n",
      "_________________________________________________________________\n",
      "dense_2 (Dense)              (None, 512)               64000     \n",
      "_________________________________________________________________\n",
      "dropout_3 (Dropout)          (None, 512)               0         \n",
      "_________________________________________________________________\n",
      "dense_3 (Dense)              (None, 256)               131328    \n",
      "_________________________________________________________________\n",
      "dense_4 (Dense)              (None, 43)                11051     \n",
      "=================================================================\n",
      "Total params: 274,331\n",
      "Trainable params: 274,331\n",
      "Non-trainable params: 0\n",
      "_________________________________________________________________\n"
     ]
    }
   ],
   "source": [
    "#model architecture keras API\n",
    "\n",
    "with tf.device('/gpu:0'):\n",
    "    #three time step inputs\n",
    "    inputs = Input(shape = (None,12), ragged=True)\n",
    "\n",
    "    #Lstm / Gru / Rnn\n",
    "    x = LSTM(units = 124, activation='tanh' , input_shape = (-1, None, 12), return_sequences = False )(inputs)\n",
    "\n",
    "    #Dense layers\n",
    "    x = Dropout(0.2)(x)\n",
    "    x = Dense(512, activation='relu')(x)\n",
    "    x = Dropout(0.2)(x)\n",
    "    x = Dense(256, activation='relu')(x)\n",
    "    out = Dense(43, activation='softmax')(x)\n",
    "\n",
    "    path_model = Model(inputs, out)\n",
    "    path_model.summary()"
   ]
  },
  {
   "cell_type": "code",
   "execution_count": 12,
   "id": "fleet-egyptian",
   "metadata": {},
   "outputs": [],
   "source": [
    "optimizer = Adam(lr=0.002)\n",
    "loss = SparseCategoricalCrossentropy(from_logits = True)\n",
    "metric = SparseCategoricalAccuracy()\n",
    "path_model.compile(optimizer=optimizer, loss=loss, metrics=metric)"
   ]
  },
  {
   "cell_type": "code",
   "execution_count": 13,
   "id": "material-boston",
   "metadata": {},
   "outputs": [],
   "source": [
    "#split train and validation size\n",
    "chunk_size = target.shape[0]\n",
    "validation_size = round(chunk_size*0.1) \n",
    "train_size = chunk_size - validation_size"
   ]
  },
  {
   "cell_type": "code",
   "execution_count": 14,
   "id": "anonymous-institute",
   "metadata": {},
   "outputs": [
    {
     "data": {
      "text/plain": [
       "125457"
      ]
     },
     "execution_count": 14,
     "metadata": {},
     "output_type": "execute_result"
    }
   ],
   "source": [
    "train_size"
   ]
  },
  {
   "cell_type": "code",
   "execution_count": 15,
   "id": "extreme-trainer",
   "metadata": {},
   "outputs": [
    {
     "data": {
      "text/plain": [
       "13940"
      ]
     },
     "execution_count": 15,
     "metadata": {},
     "output_type": "execute_result"
    }
   ],
   "source": [
    "validation_size"
   ]
  },
  {
   "cell_type": "code",
   "execution_count": null,
   "id": "undefined-password",
   "metadata": {},
   "outputs": [],
   "source": [
    "data   = tf.ragged.constant(data, dtype=tf.float32)\n",
    "target = tf.constant(target, dtype=tf.int32)"
   ]
  },
  {
   "cell_type": "code",
   "execution_count": null,
   "id": "fallen-passage",
   "metadata": {},
   "outputs": [],
   "source": [
    "# tensorflow data pipeline\n",
    "ds = tf.data.Dataset.from_tensor_slices((data, target))\n",
    "ds = ds.shuffle(1024).repeat(2)\n",
    "ds = ds.batch(300)\n",
    "ds = ds.prefetch(tf.data.experimental.AUTOTUNE)\n",
    "train = ds.take(train_size)\n",
    "validation = ds.skip(train_size)"
   ]
  },
  {
   "cell_type": "code",
   "execution_count": null,
   "id": "checked-jordan",
   "metadata": {},
   "outputs": [],
   "source": [
    "path_model.fit(train, validation_data = validation, epochs=20 , shuffle=False, workers=8, use_multiprocessing=True,\n",
    "               callbacks = EarlyStopping(monitor = 'val_sparse_categorical_accuracy', patience = 3, restore_best_weights=True)  )"
   ]
  },
  {
   "cell_type": "code",
   "execution_count": null,
   "id": "unlikely-clause",
   "metadata": {},
   "outputs": [],
   "source": [
    "#export model\n",
    "path_model.save_weights('./checkpoint/path_many_to_one.cpkt')"
   ]
  }
 ],
 "metadata": {
  "kernelspec": {
   "display_name": "Python 3",
   "language": "python",
   "name": "python3"
  },
  "language_info": {
   "codemirror_mode": {
    "name": "ipython",
    "version": 3
   },
   "file_extension": ".py",
   "mimetype": "text/x-python",
   "name": "python",
   "nbconvert_exporter": "python",
   "pygments_lexer": "ipython3",
   "version": "3.8.0"
  }
 },
 "nbformat": 4,
 "nbformat_minor": 5
}
