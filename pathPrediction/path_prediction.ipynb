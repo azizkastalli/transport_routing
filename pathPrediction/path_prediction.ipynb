{
 "cells": [
  {
   "cell_type": "markdown",
   "id": "super-disorder",
   "metadata": {},
   "source": [
    "## Correct path prediction :"
   ]
  },
  {
   "cell_type": "code",
   "execution_count": 1,
   "id": "raising-general",
   "metadata": {},
   "outputs": [],
   "source": [
    "import pandas as pd\n",
    "import matplotlib.pyplot as plt\n",
    "import seaborn as sns\n",
    "import numpy as np\n",
    "from datetime import datetime\n",
    "import warnings\n",
    "warnings.filterwarnings('ignore')"
   ]
  },
  {
   "cell_type": "code",
   "execution_count": 2,
   "id": "approximate-sacrifice",
   "metadata": {},
   "outputs": [
    {
     "ename": "ModuleNotFoundError",
     "evalue": "No module named 'tensorflow'",
     "output_type": "error",
     "traceback": [
      "\u001b[1;31m---------------------------------------------------------------------------\u001b[0m",
      "\u001b[1;31mModuleNotFoundError\u001b[0m                       Traceback (most recent call last)",
      "\u001b[1;32m<ipython-input-2-040806475c18>\u001b[0m in \u001b[0;36m<module>\u001b[1;34m\u001b[0m\n\u001b[1;32m----> 1\u001b[1;33m \u001b[1;32mimport\u001b[0m \u001b[0mtensorflow\u001b[0m \u001b[1;32mas\u001b[0m \u001b[0mtf\u001b[0m\u001b[1;33m\u001b[0m\u001b[1;33m\u001b[0m\u001b[0m\n\u001b[0m\u001b[0;32m      2\u001b[0m \u001b[1;32mimport\u001b[0m \u001b[0mkerastuner\u001b[0m \u001b[1;32mas\u001b[0m \u001b[0mkt\u001b[0m\u001b[1;33m\u001b[0m\u001b[1;33m\u001b[0m\u001b[0m\n\u001b[0;32m      3\u001b[0m \u001b[1;32mfrom\u001b[0m \u001b[0mtensorflow\u001b[0m \u001b[1;33m.\u001b[0m\u001b[0mdata\u001b[0m \u001b[1;32mimport\u001b[0m \u001b[0mDataset\u001b[0m\u001b[1;33m\u001b[0m\u001b[1;33m\u001b[0m\u001b[0m\n\u001b[0;32m      4\u001b[0m \u001b[1;32mfrom\u001b[0m \u001b[0mtensorflow\u001b[0m\u001b[1;33m.\u001b[0m\u001b[0mkeras\u001b[0m \u001b[1;32mimport\u001b[0m \u001b[0mSequential\u001b[0m\u001b[1;33m,\u001b[0m \u001b[0mModel\u001b[0m\u001b[1;33m\u001b[0m\u001b[1;33m\u001b[0m\u001b[0m\n\u001b[0;32m      5\u001b[0m \u001b[1;32mfrom\u001b[0m \u001b[0mtensorflow\u001b[0m\u001b[1;33m.\u001b[0m\u001b[0mkeras\u001b[0m \u001b[1;32mimport\u001b[0m \u001b[0mlayers\u001b[0m\u001b[1;33m\u001b[0m\u001b[1;33m\u001b[0m\u001b[0m\n",
      "\u001b[1;31mModuleNotFoundError\u001b[0m: No module named 'tensorflow'"
     ]
    }
   ],
   "source": [
    "import tensorflow as tf\n",
    "import kerastuner as kt\n",
    "from tensorflow .data import Dataset\n",
    "from tensorflow.keras import Sequential, Model\n",
    "from tensorflow.keras import layers\n",
    "from tensorflow.keras.losses import SparseCategoricalCrossentropy\n",
    "from tensorflow.keras.metrics import SparseCategoricalAccuracy\n",
    "from tensorflow.keras.callbacks import EarlyStopping\n",
    "from tensorflow.keras.optimizers import Adam, RMSprop"
   ]
  },
  {
   "cell_type": "code",
   "execution_count": null,
   "id": "divided-smell",
   "metadata": {},
   "outputs": [],
   "source": [
    "tf.test.is_gpu_available()"
   ]
  },
  {
   "cell_type": "code",
   "execution_count": null,
   "id": "italic-darkness",
   "metadata": {},
   "outputs": [],
   "source": [
    "picktime = pd.read_csv('../dataPreprocessing/data/gps_clean.csv', low_memory=False)\n",
    "picktime.info()"
   ]
  },
  {
   "cell_type": "code",
   "execution_count": null,
   "id": "seven-charter",
   "metadata": {},
   "outputs": [],
   "source": [
    "target_encoder = dict( (target,code) for code, target in enumerate(picktime.line_id.unique()) )\n",
    "target_decoder = dict( (code, target) for target, code in target_encoder.items() ) "
   ]
  },
  {
   "cell_type": "code",
   "execution_count": null,
   "id": "chicken-keeping",
   "metadata": {},
   "outputs": [],
   "source": [
    "nb_targets = picktime.line_id.nunique()"
   ]
  },
  {
   "cell_type": "code",
   "execution_count": null,
   "id": "handy-cornell",
   "metadata": {},
   "outputs": [],
   "source": [
    "nb_targets"
   ]
  },
  {
   "cell_type": "code",
   "execution_count": null,
   "id": "structured-pierce",
   "metadata": {},
   "outputs": [],
   "source": [
    "mask = picktime.groupby('sequence_id').station_id.count() > 5\n",
    "select_sequences = picktime.groupby('sequence_id').station_id.count()[mask].index\n",
    "select_sequences"
   ]
  },
  {
   "cell_type": "code",
   "execution_count": null,
   "id": "empty-tuesday",
   "metadata": {},
   "outputs": [],
   "source": [
    "picktime = picktime[picktime.sequence_id.isin(select_sequences)]"
   ]
  },
  {
   "cell_type": "code",
   "execution_count": null,
   "id": "single-cream",
   "metadata": {},
   "outputs": [],
   "source": [
    "picktime.shape"
   ]
  },
  {
   "cell_type": "code",
   "execution_count": null,
   "id": "robust-thumbnail",
   "metadata": {},
   "outputs": [],
   "source": [
    "stops = pd.read_csv('../dataPreprocessing/data/stations_paths.csv')"
   ]
  },
  {
   "cell_type": "code",
   "execution_count": null,
   "id": "intended-lender",
   "metadata": {},
   "outputs": [],
   "source": [
    "stops[['line_id','line_label']].drop_duplicates()"
   ]
  },
  {
   "cell_type": "code",
   "execution_count": null,
   "id": "stone-passport",
   "metadata": {},
   "outputs": [],
   "source": [
    "correct_lineid = picktime[['sequence_id','line_id']].groupby('sequence_id').first().line_id"
   ]
  },
  {
   "cell_type": "code",
   "execution_count": null,
   "id": "mathematical-capture",
   "metadata": {},
   "outputs": [],
   "source": [
    "picktime.line_id.nunique()"
   ]
  },
  {
   "cell_type": "code",
   "execution_count": null,
   "id": "significant-gospel",
   "metadata": {},
   "outputs": [],
   "source": [
    "n=picktime.groupby('line_id').sequence_id.count().sum()\n",
    "((picktime.groupby('line_id').sequence_id.count()*100)/n).describe()"
   ]
  },
  {
   "cell_type": "code",
   "execution_count": null,
   "id": "polish-pipeline",
   "metadata": {},
   "outputs": [],
   "source": [
    "n=picktime.groupby('line_id').sequence_id.count().sum()\n",
    "mask = (picktime.groupby('line_id').sequence_id.count()*100)/n < 0.1"
   ]
  },
  {
   "cell_type": "code",
   "execution_count": null,
   "id": "minus-spanish",
   "metadata": {},
   "outputs": [],
   "source": [
    "ignored_lineId = picktime.groupby('line_id').sequence_id.count()[mask].index.values\n",
    "ignored_lineId"
   ]
  },
  {
   "cell_type": "code",
   "execution_count": null,
   "id": "necessary-values",
   "metadata": {},
   "outputs": [],
   "source": [
    "picktime = picktime[~picktime.line_id.isin(ignored_lineId)]"
   ]
  },
  {
   "cell_type": "code",
   "execution_count": null,
   "id": "musical-dress",
   "metadata": {},
   "outputs": [],
   "source": [
    "'''\n",
    "labelById = stops[['line_label', 'line_id']].drop_duplicates().groupby('line_label').agg(list).line_id.values\n",
    "\n",
    "line_inverse_id = {}\n",
    "for line_ids in labelById : \n",
    "    if len(line_ids) > 1 :\n",
    "        line_inverse_id[line_ids[0]] = line_ids[1]\n",
    "        line_inverse_id[line_ids[1]] = line_ids[0]\n",
    "\n",
    "mask = (picktime.groupby('line_id').sequence_id.count()*100)/n < 2\n",
    "lineId_to_augment = picktime.groupby('line_id').sequence_id.count()[mask].index.values\n",
    "lineId_to_augment\n",
    "\n",
    "picktime[picktime.line_id == 32].sort_values(['arrival_time','sequence_id']).drop(['arrival_time','departure_time'], axis=1).groupby('sequence_id')\n",
    "\n",
    "for line_id in lineId_to_augment:\n",
    "    try:\n",
    "        print(line_inverse_id[line_id])\n",
    "        \n",
    "    except:\n",
    "        pass\n",
    "'''"
   ]
  },
  {
   "cell_type": "code",
   "execution_count": null,
   "id": "adverse-collapse",
   "metadata": {},
   "outputs": [],
   "source": [
    "#common stops sements\n",
    "mask = stops[['station_id','line_label']].drop_duplicates().groupby('station_id').agg(list).line_label.apply(lambda x : len(x)>1)\n",
    "common_stops = stops[['station_id','line_label']].drop_duplicates().groupby('station_id').agg(list)[mask].index.values\n",
    "common_stops"
   ]
  },
  {
   "cell_type": "code",
   "execution_count": null,
   "id": "controlling-sierra",
   "metadata": {},
   "outputs": [],
   "source": [
    "#there is 91 common seguments.\n",
    "common_stops.shape"
   ]
  },
  {
   "cell_type": "markdown",
   "id": "insured-upgrade",
   "metadata": {},
   "source": [
    "### DATA ETL :"
   ]
  },
  {
   "cell_type": "code",
   "execution_count": null,
   "id": "close-harmony",
   "metadata": {},
   "outputs": [],
   "source": [
    "def orderedSampleWithoutReplacement(seq, k):\n",
    "    if not 0<=k<=len(seq):\n",
    "        raise ValueError('Required that 0 <= sample_size <= population_size')\n",
    "\n",
    "    random_sample = []\n",
    "    numbersPicked = 0\n",
    "    for i,number in enumerate(seq):\n",
    "        prob = (k-numbersPicked)/(len(seq)-i)\n",
    "        if random.random() < prob:\n",
    "            numbersPicked += 1\n",
    "            random_sample.append(number)\n",
    "    return random_sample"
   ]
  },
  {
   "cell_type": "code",
   "execution_count": null,
   "id": "favorite-disney",
   "metadata": {},
   "outputs": [],
   "source": [
    "from sklearn.preprocessing import MinMaxScaler, LabelEncoder\n",
    "import gc\n",
    "import random\n",
    "from time import time\n",
    "import os\n",
    "from tqdm import tqdm\n",
    "filenames = os.listdir('../dataPreprocessing/data/fullpick')[1:]\n",
    "filenames = ['../dataPreprocessing/data/fullpick/'+ filename for filename in filenames]\n",
    "names = [name[:-4] for name in os.listdir('../dataPreprocessing/data/fullpick') ][1:]\n",
    "\n",
    "print('---------------------------ETL------------------------------', end='\\n')\n",
    "print('\\n\\n',end='')\n",
    "\n",
    "data_length_sum      = 0\n",
    "features_records_sum = 0\n",
    "maxlength_exeeded    = 0\n",
    "sequence_fixedSize   = 100\n",
    "#history_track_rate   = 0.2\n",
    "\n",
    "for c, filename in enumerate(filenames):\n",
    "    print('loading chunk ',names[c], end=' ... ')\n",
    "    start = time()\n",
    "    #load chunk\n",
    "    fullpick = pd.read_csv(filename)\n",
    "    print(fullpick.shape)\n",
    "    #fullpick = fullpick.iloc[:1000000]\n",
    "    stop = time()\n",
    "    print('done in {:.2f} second(s)'.format(stop-start))\n",
    "\n",
    "    print('chunk preprocessing', end=' ... ')\n",
    "    #convert str to datetime\n",
    "    start = time()\n",
    "    \n",
    "    #convert datetime object to datetime64\n",
    "    fullpick.datetime = fullpick.datetime.apply(lambda x : datetime.strptime(x, '%Y-%m-%d %H:%M:%S'))\n",
    "\n",
    "    #datetime features :\n",
    "    fullpick['month']   = fullpick.datetime.dt.month\n",
    "    fullpick['weekday'] = fullpick.datetime.dt.weekday\n",
    "    fullpick['hour']    = fullpick.datetime.dt.hour\n",
    "    fullpick['minute']  = fullpick.datetime.dt.minute\n",
    "\n",
    "    #map correct line_id\n",
    "    fullpick['correct_line_id'] = fullpick.sequence_id.map(correct_lineid)   #affect target (True line_id)\n",
    "    #fullpick['correct_line_id'] = fullpick.correct_line_id.map(target_encoder)    #target label encoder\n",
    "\n",
    "    #drop line_ids with less than 0.1% sample in data\n",
    "    fullpick = fullpick[~fullpick.correct_line_id.isin(ignored_lineId)]\n",
    "\n",
    "    #grouping sequences\n",
    "    grouping_dict = {'sequence_id':'first', 'station_id':'first', 'line_id':'first', 'correct_line_id':'first', 'vehicle_type':'first',\n",
    "                     'latitude':list, 'longitude':list, 'direction':list, 'month':list, 'weekday':list, 'hour':list, 'minute':list}\n",
    "    #sort by datetime and group by sequence_id\n",
    "    fullpick = fullpick.set_index('datetime').groupby(['sequence_id','station_id'], as_index=False).agg(grouping_dict).reset_index(drop = True)\n",
    "    stop = time()\n",
    "    print('done in {:.2f} second(s)'.format(stop-start))\n",
    "\n",
    "    print('generating stop steps sequences', end=' ... ')\n",
    "    #generating X_train and y_train time step squences\n",
    "    start = time()\n",
    "    n     = fullpick.shape[0]\n",
    "    features    = []\n",
    "    labels      = []\n",
    "    sequences   = [] \n",
    "    common_stop = []\n",
    "    sequence_timestep    = {}\n",
    "    line_id_sequence_map = {}\n",
    "        \n",
    "    for sequence_id, station_id, line_id, correct_line_id, vehicle_type, latitude, longitude, direction, month, weekday, hour, minute in fullpick.values :\n",
    "        n = len(latitude)\n",
    "        samples = []\n",
    "        for i in range(n):\n",
    "            sample  = np.zeros(9)\n",
    "            sample[0]  = latitude[i]\n",
    "            sample[1]  = longitude[i]\n",
    "            sample[2]  = direction[i]\n",
    "            sample[3]  = month[i]\n",
    "            sample[4]  = weekday[i]\n",
    "            sample[5]  = hour[i]\n",
    "            sample[6]  = minute[i]\n",
    "            sample[7]  = vehicle_type\n",
    "            sample[8]  = line_id\n",
    "            samples.append(sample)\n",
    "        #append features    \n",
    "        if sequence_id in sequence_timestep : \n",
    "            sequence_timestep[sequence_id].append(samples)       \n",
    "        else:\n",
    "            sequence_timestep[sequence_id] = [samples]\n",
    "        #append targets, sequences_id, common stops.\n",
    "        labels.append(np.array(correct_line_id, dtype=np.int))\n",
    "        sequences.append(np.array(sequence_id, dtype=np.int))\n",
    "        if station_id in common_stops : \n",
    "            common_stop.append(np.array(1,dtype=np.int))\n",
    "        else:\n",
    "            common_stop.append(np.array(0,dtype=np.int))\n",
    "        \n",
    "    gc.collect()\n",
    "    #generate time steps seqeunces with 200 timesteps fixed size\n",
    "    for sequence in sequence_timestep.keys() :    #loop on each sequence\n",
    "        history = []         #history keeps 20% of data for each past time step (data is selected randomly)\n",
    "        for i, timestep in enumerate(sequence_timestep[sequence]) :     #loop on each sequence time step\n",
    "            if i != 0 :\n",
    "                sequence_timestep[sequence][i] = history + timestep    #add history list at the start of the current timestep\n",
    "            \n",
    "            #if sequence_timestep is less than 200 steps, add zero padding at the begining of the sequence\n",
    "            if len(sequence_timestep[sequence][i]) < sequence_fixedSize :\n",
    "                nb_zeros = sequence_fixedSize - len(sequence_timestep[sequence][i])\n",
    "                sequence_timestep[sequence][i] = np.zeros((nb_zeros,9)).tolist() + sequence_timestep[sequence][i]\n",
    "            \n",
    "            #if sequence_timestep dims exeeded 200, select 200 last steps\n",
    "            if len(sequence_timestep[sequence][i]) > sequence_fixedSize :\n",
    "                #sequence_timestep[sequence][i] = orderedSampleWithoutReplacement(sequence_timestep[sequence][i], sequence_fixedSize)\n",
    "                sequence_timestep[sequence][i] = sequence_timestep[sequence][i][-sequence_fixedSize:]\n",
    "                maxlength_exeeded += 1\n",
    "     \n",
    "        #add the past steps + current time_step\n",
    "        #n = len(timestep)\n",
    "        #k = round(n*history_track_rate)\n",
    "        history += timestep\n",
    "        #history = history[-sequence_fixedSize:]\n",
    "        k = len(history) \n",
    "        if k > sequence_fixedSize : \n",
    "            k = sequence_fixedSize\n",
    "        history = orderedSampleWithoutReplacement(history, k)\n",
    "        \n",
    "    #convert sequences to numpy arrays\n",
    "    for sequence in sequence_timestep.keys() :\n",
    "        for i in range(len(sequence_timestep[sequence])) :\n",
    "            sequence_timestep[sequence][i] = np.array(sequence_timestep[sequence][i])\n",
    "        sequence_timestep[sequence] = np.array(sequence_timestep[sequence], dtype=np.float32)\n",
    "\n",
    "    #generate X_train numpy array \n",
    "    features = []\n",
    "    for path in sequence_timestep.values():\n",
    "        for sequence in path :\n",
    "            features.append(sequence)\n",
    "\n",
    "    #convert X_train and y_train to numpy arrays\n",
    "    features = np.array(features, dtype=np.float32)\n",
    "    labels = np.array(labels).reshape(-1,1)\n",
    "    sequences = np.array(sequences).reshape(-1,1)\n",
    "    common_stop = np.array(common_stop).reshape(-1,1)\n",
    "\n",
    "    stop = time()\n",
    "    print('done in {:.2f} second(s)'.format(stop-start))\n",
    "\n",
    "    print('extracting preprocessed numpy array data', end=' ... ')\n",
    "    #export data ready to consume by TF models\n",
    "    start = time()\n",
    "    np.save('../dataPreprocessing/data/Fullpick_ETL/features/'+names[c]+'.npy', features)\n",
    "    np.save('../dataPreprocessing/data/Fullpick_ETL/labels/'+names[c]+'.npy', labels)\n",
    "    np.save('../dataPreprocessing/data/Fullpick_ETL/sequences/'+names[c]+'.npy', sequences)\n",
    "    np.save('../dataPreprocessing/data/Fullpick_ETL/commonstops/'+names[c]+'.npy', common_stop)\n",
    "\n",
    "    stop = time()\n",
    "    print('done in {:.2f} second(s)'.format(stop-start))\n",
    "\n",
    "    #sequences and records data stats\n",
    "    tot_recs = 0\n",
    "    for i in range(features.shape[0]):\n",
    "        tot_recs += features[i].shape[0]\n",
    "    features_records_sum += tot_recs\n",
    "    data_length_sum += labels.shape[0]\n",
    "\n",
    "    print('chunk statistics report : ')\n",
    "    print('                          * total records sum = ',tot_recs)\n",
    "    print('                          * data length       = ',labels.shape[0])\n",
    "\n",
    "    #break\n",
    "    #delete temp objects\n",
    "    print('delete temp objects', end=' ... ')\n",
    "    del features\n",
    "    del labels\n",
    "    del samples\n",
    "    del sample\n",
    "    del fullpick\n",
    "    del sequences\n",
    "    del common_stop\n",
    "\n",
    "    gc.collect()\n",
    "    print('done', end='\\n\\n')\n",
    "    \n",
    "    print('------------------------------------------------------------------------', end='\\n\\n')\n",
    "\n",
    "print('Final report : ')\n",
    "print('               * total records sum = ',features_records_sum)\n",
    "print('               * data length       = ',data_length_sum)"
   ]
  },
  {
   "cell_type": "markdown",
   "id": "joint-details",
   "metadata": {},
   "source": [
    "### Extract a stratified (with respect to line_id and common stop segments) sequence sample (20% of data)"
   ]
  },
  {
   "cell_type": "code",
   "execution_count": null,
   "id": "signed-savannah",
   "metadata": {},
   "outputs": [],
   "source": [
    "import os\n",
    "import re\n",
    "\n",
    "features_path = '../dataPreprocessing/data/Fullpick_ETL/features/'\n",
    "labels_path = '../dataPreprocessing/data/Fullpick_ETL/labels/'\n",
    "common_stop_path = '../dataPreprocessing/data/Fullpick_ETL/commonstops/'\n",
    "sequences_path = '../dataPreprocessing/data/Fullpick_ETL/sequences/' \n",
    "filenames = sorted(os.listdir('../dataPreprocessing/data/Fullpick_ETL/features'), key = lambda x : int(re.findall(r'\\d+',x)[0]) )\n",
    "\n",
    "features_names = [ features_path+filename for filename in filenames ]\n",
    "label_names = [ labels_path+filename for filename in filenames ]\n",
    "sequences_filenames = [ sequences_path+filename for filename in filenames ]\n",
    "common_stop_filenames = [ common_stop_path+filename for filename in filenames ]"
   ]
  },
  {
   "cell_type": "code",
   "execution_count": null,
   "id": "animated-monkey",
   "metadata": {},
   "outputs": [],
   "source": [
    "sequences_filenames"
   ]
  },
  {
   "cell_type": "code",
   "execution_count": null,
   "id": "virgin-template",
   "metadata": {},
   "outputs": [],
   "source": [
    "from sklearn.model_selection import train_test_split\n",
    "from imblearn.under_sampling import RandomUnderSampler\n",
    "from tqdm import tqdm\n",
    "\n",
    "rus = RandomUnderSampler()\n",
    "for feature_filename, label_filename, sequences_filename, common_stop_filename in tqdm(zip(features_names, label_names, sequences_filenames, common_stop_filenames)):\n",
    "\n",
    "    #load data\n",
    "    features = np.load(feature_filename, allow_pickle=True)\n",
    "    labels = np.load(label_filename, allow_pickle=False)\n",
    "    sequences = np.load(sequences_filename, allow_pickle=False)\n",
    "    common_stop = np.load(common_stop_filename, allow_pickle=False)\n",
    "\n",
    "    mask =  ~pd.Series(labels.reshape(-1)).isin([20,21]).values\n",
    "    labels = labels[mask]\n",
    "    features = features[mask]\n",
    "    sequences = sequences[mask]\n",
    "    common_stop = common_stop[mask]\n",
    "\n",
    "    if np.unique(common_stop).shape[0] > 1 :\n",
    "        stratify_array = (pd.Series(labels.reshape(-1)).astype(str) + '_' + pd.Series(common_stop.reshape(-1)).astype(str)).values\n",
    "        if 1 in np.unique(stratify_array,return_counts=True)[1] : \n",
    "            stratify_array = labels\n",
    "    else:\n",
    "        stratify_array = labels\n",
    "    #startified data sampling\n",
    "    _, stratified_features, _, stratified_labels = train_test_split(features, labels, stratify=stratify_array, test_size = 0.2, random_state=2021)\n",
    "    _, stratified_common_stops, _, stratified_labels1 = train_test_split(common_stop, labels, stratify=stratify_array, test_size = 0.2, random_state=2021)\n",
    "    _, stratified_sequences, _, stratified_labels2 = train_test_split(sequences, labels, stratify=stratify_array, test_size = 0.2, random_state=2021)\n",
    "\n",
    "    #data under-sampling\n",
    "    #under_sample_features, under_sample_labels = rus.fit_resample(features.reshape(labels.shape[0],-1), labels)\n",
    "    #under_sample_features = under_sample_features.reshape((-1,100,9))\n",
    "    #under_sample_labels = under_sample_labels.reshape((-1,1))\n",
    "    \n",
    "    #save startified samples\n",
    "    np.save(feature_filename.replace('features','startified_sample/features'), stratified_features)\n",
    "    np.save(label_filename.replace('labels','startified_sample/labels'), stratified_labels)\n",
    "    np.save(label_filename.replace('labels','startified_sample/sequences'), stratified_sequences)\n",
    "    np.save(label_filename.replace('labels','startified_sample/commonstops'), stratified_common_stops)"
   ]
  },
  {
   "cell_type": "markdown",
   "id": "liberal-switzerland",
   "metadata": {},
   "source": [
    "### Join all startified samples into one train/test sample"
   ]
  },
  {
   "cell_type": "code",
   "execution_count": 1,
   "id": "textile-longer",
   "metadata": {},
   "outputs": [
    {
     "data": {
      "text/plain": [
       "10"
      ]
     },
     "execution_count": 1,
     "metadata": {},
     "output_type": "execute_result"
    }
   ],
   "source": [
    "5*2"
   ]
  },
  {
   "cell_type": "code",
   "execution_count": 2,
   "id": "alleged-mattress",
   "metadata": {},
   "outputs": [],
   "source": [
    "import os\n",
    "import re\n",
    "\n",
    "features_path = '../dataPreprocessing/data/Fullpick_ETL/startified_sample/features/'\n",
    "labels_path = '../dataPreprocessing/data/Fullpick_ETL/startified_sample/labels/'\n",
    "common_stop_path = '../dataPreprocessing/data/Fullpick_ETL/startified_sample/commonstops/'\n",
    "sequences_path = '../dataPreprocessing/data/Fullpick_ETL/startified_sample/sequences/' \n",
    "\n",
    "filenames = sorted(os.listdir('../dataPreprocessing/data/Fullpick_ETL/startified_sample/features'), key = lambda x : int(re.findall(r'\\d+',x)[0]) )\n",
    "\n",
    "features_names    = [ features_path+filename for filename in filenames    ]\n",
    "label_names       = [ labels_path+filename for filename in filenames      ]\n",
    "common_stop_names = [ common_stop_path+filename for filename in filenames ]\n",
    "sequences_names   = [ sequences_path+filename for filename in filenames   ]"
   ]
  },
  {
   "cell_type": "code",
   "execution_count": 3,
   "id": "awful-melbourne",
   "metadata": {},
   "outputs": [
    {
     "name": "stderr",
     "output_type": "stream",
     "text": [
      "12it [00:24,  2.05s/it]"
     ]
    },
    {
     "name": "stdout",
     "output_type": "stream",
     "text": [
      "sample length :  250812\n"
     ]
    },
    {
     "name": "stderr",
     "output_type": "stream",
     "text": [
      "\n"
     ]
    }
   ],
   "source": [
    "from tqdm import tqdm\n",
    "import numpy as np\n",
    "\n",
    "\n",
    "first  = True\n",
    "for feature_filename, label_filename, common_stop_name, sequences_name in tqdm(zip(features_names, label_names, common_stop_names, sequences_names)):\n",
    "    #load data\n",
    "    if first :\n",
    "        first  = False\n",
    "        data   = np.load(feature_filename, allow_pickle=True)\n",
    "        target = np.load(label_filename, allow_pickle=False)\n",
    "        sequences   = np.load(sequences_name, allow_pickle=False)\n",
    "        commonstops = np.load(common_stop_name, allow_pickle=False)\n",
    "    \n",
    "    else : \n",
    "        data = np.append(data, np.load(feature_filename, allow_pickle=True), axis=0)\n",
    "        target = np.append(target, np.load(label_filename, allow_pickle=False))\n",
    "        sequences   = np.append(sequences, np.load(sequences_name, allow_pickle=False))\n",
    "        commonstops = np.append(commonstops, np.load(common_stop_name, allow_pickle=False))\n",
    "\n",
    "print('sample length : ', len(target))"
   ]
  },
  {
   "cell_type": "code",
   "execution_count": 4,
   "id": "private-hospital",
   "metadata": {},
   "outputs": [
    {
     "data": {
      "text/plain": [
       "(250812, 100, 9)"
      ]
     },
     "execution_count": 4,
     "metadata": {},
     "output_type": "execute_result"
    }
   ],
   "source": [
    "data.shape"
   ]
  },
  {
   "cell_type": "code",
   "execution_count": 5,
   "id": "ongoing-belief",
   "metadata": {},
   "outputs": [
    {
     "name": "stderr",
     "output_type": "stream",
     "text": [
      "100%|████████████████████████████████████████████████████████████████████████| 250812/250812 [02:48<00:00, 1490.01it/s]\n"
     ]
    }
   ],
   "source": [
    "from tqdm import tqdm\n",
    "\n",
    "for i in tqdm(range(data.shape[0])):\n",
    "    zero = 0\n",
    "    for j in range(data.shape[1]):\n",
    "        if data[i][j].sum() == 0 :\n",
    "            zero += 1\n",
    "    if zero > 0:\n",
    "        first_rec = data[i][zero]\n",
    "        data[i][:zero] = np.array([first_rec for i in range(zero)])"
   ]
  },
  {
   "cell_type": "code",
   "execution_count": 6,
   "id": "identified-equipment",
   "metadata": {},
   "outputs": [],
   "source": [
    "#scale data : \n",
    "from sklearn.preprocessing import MinMaxScaler\n",
    "\n",
    "scaler = MinMaxScaler()\n",
    "data = scaler.fit_transform(data.reshape(-1,9)).reshape((-1,100,9))"
   ]
  },
  {
   "cell_type": "code",
   "execution_count": null,
   "id": "incoming-cross",
   "metadata": {},
   "outputs": [],
   "source": [
    "fig, axs = plt.subplots(2,3,figsize=(20,10))\n",
    "sns.set_palette(\"muted\")\n",
    "\n",
    "train_ids = [1,6,8,12,14,16]   #train line ids\n",
    "bus_ids = [4, 18, 22, 23, 28, 30, 50]  #Bus line ids\n",
    "\n",
    "#------------------------------train---------------------------------\n",
    "mask1 = (pd.Series(commonstops) == 0).values\n",
    "mask = pd.Series(target[mask1]).isin(train_ids).values\n",
    "x = data[mask1][mask][:,:,0].reshape(-1)\n",
    "y = data[mask1][mask][:,:,1].reshape(-1)\n",
    "axs[0,0].set_title('Traimway uncommon segments')\n",
    "sns.scatterplot(x,y, ax=axs[0,0], hue=np.repeat(target[mask1][mask],100).reshape((target[mask1][mask].shape[0],100)).reshape(-1))\n",
    "\n",
    "mask1 = (pd.Series(commonstops) == 1).values\n",
    "mask = pd.Series(target[mask1]).isin(train_ids).values\n",
    "x = data[mask1][mask][:,:,0].reshape(-1)\n",
    "y = data[mask1][mask][:,:,1].reshape(-1)\n",
    "axs[0,1].set_title('Traimway common segments')\n",
    "sns.scatterplot(x,y, ax=axs[0,1], hue=np.repeat(target[mask1][mask],100).reshape((target[mask1][mask].shape[0],100)).reshape(-1))\n",
    "\n",
    "mask = pd.Series(target).isin(train_ids).values\n",
    "x = data[mask][:,:,0].reshape(-1)\n",
    "y = data[mask][:,:,1].reshape(-1)\n",
    "axs[0,2].set_title('Traimway common + uncommon segments')\n",
    "sns.scatterplot(x,y, ax=axs[0,2], hue=np.repeat(commonstops[mask],100).reshape((commonstops[mask].shape[0],100)).reshape(-1))\n",
    "\n",
    "#--------------------------------Bus-----------------------------------\n",
    "mask1 = (pd.Series(commonstops) == 0).values\n",
    "mask = pd.Series(target[mask1]).isin(bus_ids).values\n",
    "x = data[mask1][mask][:,:,0].reshape(-1)\n",
    "y = data[mask1][mask][:,:,1].reshape(-1)\n",
    "axs[1,0].set_title('Bus uncommon segments')\n",
    "sns.scatterplot(x,y, ax=axs[1,0], hue=np.repeat(target[mask1][mask],100).reshape((target[mask1][mask].shape[0],100)).reshape(-1))\n",
    "\n",
    "mask1 = (pd.Series(commonstops) == 1).values\n",
    "mask = pd.Series(target[mask1]).isin(bus_ids).values\n",
    "x = data[mask1][mask][:,:,0].reshape(-1)\n",
    "y = data[mask1][mask][:,:,1].reshape(-1)\n",
    "axs[1,1].set_title('Bus common segments')\n",
    "sns.scatterplot(x,y, ax=axs[1,1], hue=np.repeat(target[mask1][mask],100).reshape((target[mask1][mask].shape[0],100)).reshape(-1))\n",
    "\n",
    "mask = pd.Series(target).isin(bus_ids).values\n",
    "x = data[mask][:,:,0].reshape(-1)\n",
    "y = data[mask][:,:,1].reshape(-1)\n",
    "axs[1,2].set_title('Bus common + uncommon segments')\n",
    "sns.scatterplot(x,y, ax=axs[1,2], hue=np.repeat(commonstops[mask],100).reshape((commonstops[mask].shape[0],100)).reshape(-1))\n",
    "\n",
    "plt.show()"
   ]
  },
  {
   "cell_type": "code",
   "execution_count": 11,
   "id": "adjusted-cinema",
   "metadata": {},
   "outputs": [
    {
     "ename": "AttributeError",
     "evalue": "'AxesSubplot' object has no attribute 'flat'",
     "output_type": "error",
     "traceback": [
      "\u001b[1;31m---------------------------------------------------------------------------\u001b[0m",
      "\u001b[1;31mAttributeError\u001b[0m                            Traceback (most recent call last)",
      "\u001b[1;32m<ipython-input-11-e92b6dc51494>\u001b[0m in \u001b[0;36m<module>\u001b[1;34m\u001b[0m\n\u001b[0;32m     13\u001b[0m \u001b[1;33m\u001b[0m\u001b[0m\n\u001b[0;32m     14\u001b[0m \u001b[1;31m# check axes and find which is have legend\u001b[0m\u001b[1;33m\u001b[0m\u001b[1;33m\u001b[0m\u001b[1;33m\u001b[0m\u001b[0m\n\u001b[1;32m---> 15\u001b[1;33m \u001b[0mleg\u001b[0m \u001b[1;33m=\u001b[0m \u001b[0maxs\u001b[0m\u001b[1;33m[\u001b[0m\u001b[1;36m0\u001b[0m\u001b[1;33m]\u001b[0m\u001b[1;33m.\u001b[0m\u001b[0maxes\u001b[0m\u001b[1;33m.\u001b[0m\u001b[0mflat\u001b[0m\u001b[1;33m[\u001b[0m\u001b[1;36m0\u001b[0m\u001b[1;33m]\u001b[0m\u001b[1;33m.\u001b[0m\u001b[0mget_legend\u001b[0m\u001b[1;33m(\u001b[0m\u001b[1;33m)\u001b[0m\u001b[1;33m\u001b[0m\u001b[1;33m\u001b[0m\u001b[0m\n\u001b[0m\u001b[0;32m     16\u001b[0m \u001b[0mnew_labels\u001b[0m \u001b[1;33m=\u001b[0m \u001b[1;33m[\u001b[0m\u001b[1;34m'label 1'\u001b[0m\u001b[1;33m,\u001b[0m \u001b[1;34m'label 2'\u001b[0m\u001b[1;33m]\u001b[0m\u001b[1;33m\u001b[0m\u001b[1;33m\u001b[0m\u001b[0m\n\u001b[0;32m     17\u001b[0m \u001b[1;32mfor\u001b[0m \u001b[0mt\u001b[0m\u001b[1;33m,\u001b[0m \u001b[0ml\u001b[0m \u001b[1;32min\u001b[0m \u001b[0mzip\u001b[0m\u001b[1;33m(\u001b[0m\u001b[0mleg\u001b[0m\u001b[1;33m.\u001b[0m\u001b[0mtexts\u001b[0m\u001b[1;33m,\u001b[0m \u001b[0mnew_labels\u001b[0m\u001b[1;33m)\u001b[0m\u001b[1;33m:\u001b[0m \u001b[0mt\u001b[0m\u001b[1;33m.\u001b[0m\u001b[0mset_text\u001b[0m\u001b[1;33m(\u001b[0m\u001b[0ml\u001b[0m\u001b[1;33m)\u001b[0m\u001b[1;33m\u001b[0m\u001b[1;33m\u001b[0m\u001b[0m\n",
      "\u001b[1;31mAttributeError\u001b[0m: 'AxesSubplot' object has no attribute 'flat'"
     ]
    },
    {
     "data": {
      "image/png": "[encoded data removed]",
      "text/plain": [
       "<Figure size 1440x504 with 2 Axes>"
      ]
     },
     "metadata": {
      "needs_background": "light"
     },
     "output_type": "display_data"
    }
   ],
   "source": [
    "fig, axs = plt.subplots(1,2,figsize=(20,7))\n",
    "sns.set_palette(\"muted\")\n",
    "\n",
    "train_ids = [1,6,8,12,14,16]   #train line ids\n",
    "bus_ids = [4, 18, 22, 23, 28, 30, 50]  #Bus line ids\n",
    "\n",
    "#------------------------------train---------------------------------\n",
    "mask = pd.Series(target).isin(train_ids).values\n",
    "x = data[mask][:,:,0].reshape(-1)\n",
    "y = data[mask][:,:,1].reshape(-1)\n",
    "axs[0].set_title('Traimway common + uncommon segments')\n",
    "sns.scatterplot(x,y, ax=axs[0], hue=np.repeat(commonstops[mask],100).reshape((commonstops[mask].shape[0],100)).reshape(-1))\n",
    "\n",
    "\n",
    "#--------------------------------Bus-----------------------------------\n",
    "mask = pd.Series(target).isin(bus_ids).values\n",
    "x = data[mask][:,:,0].reshape(-1)\n",
    "y = data[mask][:,:,1].reshape(-1)\n",
    "axs[1].set_title('Bus common + uncommon segments')\n",
    "sns.scatterplot(x,y, ax=axs[1], hue=np.repeat(commonstops[mask],100).reshape((commonstops[mask].shape[0],100)).reshape(-1))\n",
    "\n",
    "plt.show()"
   ]
  },
  {
   "cell_type": "code",
   "execution_count": null,
   "id": "french-arthritis",
   "metadata": {},
   "outputs": [],
   "source": [
    "extraction_path = '../dataPreprocessing/data/Fullpick_ETL/startified_sample/merged_sample/'\n",
    "\n",
    "np.save(extraction_path+'features', data)\n",
    "np.save(extraction_path+'labels', target)\n",
    "np.save(extraction_path+'sequences', sequences)\n",
    "np.save(extraction_path+'commonstops', commonstops)"
   ]
  },
  {
   "cell_type": "code",
   "execution_count": null,
   "id": "golden-deviation",
   "metadata": {},
   "outputs": [],
   "source": [
    "len(np.unique(target))"
   ]
  },
  {
   "cell_type": "markdown",
   "id": "front-seven",
   "metadata": {},
   "source": [
    "### Model training and validation"
   ]
  },
  {
   "cell_type": "code",
   "execution_count": null,
   "id": "recorded-straight",
   "metadata": {},
   "outputs": [],
   "source": [
    "data = np.load('../dataPreprocessing/data/Fullpick_ETL/startified_sample/merged_sample/features.npy', allow_pickle=True)\n",
    "target = np.load('../dataPreprocessing/data/Fullpick_ETL/startified_sample/merged_sample/labels.npy')"
   ]
  },
  {
   "cell_type": "code",
   "execution_count": null,
   "id": "sticky-fortune",
   "metadata": {},
   "outputs": [],
   "source": [
    "data.shape"
   ]
  },
  {
   "cell_type": "code",
   "execution_count": null,
   "id": "blind-breach",
   "metadata": {},
   "outputs": [],
   "source": [
    "target.shape"
   ]
  },
  {
   "cell_type": "code",
   "execution_count": null,
   "id": "agricultural-wagner",
   "metadata": {},
   "outputs": [],
   "source": [
    "#model architecture keras API\n",
    "\n",
    "def generate_model(hp=None):\n",
    "    #default hyper parameters\n",
    "    num_stacked_dense = 4\n",
    "    droput_rate       = 0.2\n",
    "    gru_units         = 128\n",
    "    dense_units       = 128\n",
    "    learning_rate     = 0.002\n",
    "    num_stacked_gru   = 2\n",
    "    leakyRelu_alpha   = 0\n",
    "    num_stacked_convolution = 3\n",
    "    num_convolution_kernels = 32\n",
    "    \n",
    "    if hp: #keras tuner hyper parameters\n",
    "        num_stacked_dense = hp.Int('num_stacked_dense', min_value=1 , max_value=4)\n",
    "        num_stacked_gru   = hp.Int('num_stacked_gru', min_value=0 , max_value=2)\n",
    "        leakyRelu_alpha   = hp.Float('leakyRelu_alpha', min_value=0 , max_value=0.3) \n",
    "        droput_rate       = hp.Float('droput_rate', min_value=0.1 , max_value=0.5)\n",
    "        learning_rate     = hp.Float('learning_rate', min_value=0.001, max_value=0.01)\n",
    "        gru_units         = hp.Int('gru_units', min_value=64, max_value=256, step=32)\n",
    "        dense_units       = hp.Int('dense_units', min_value=128, max_value=320, step=32)\n",
    "        num_stacked_convolution = hp.Int('num_stacked_convolution', min_value=0 , max_value=3)\n",
    "        num_convolution_kernels = hp.Int('num_convolution_kernels', min_value=16, max_value=64, step=16)\n",
    "\n",
    "    #----------------------------------------------------Input-layers--------------------------------------------------\n",
    "        \n",
    "    inputs = layers.Input(shape = (200,6)) #input layer\n",
    "\n",
    "    #----------------------------------------------Convolution-layers-Block--------------------------------------------\n",
    "\n",
    "    #CNN + Maxpool block\n",
    "    if num_stacked_convolution > 0 :\n",
    "        x_conv = inputs[:,:,:4]\n",
    "        for i in range(num_stacked_convolution):\n",
    "            if i == 0 :\n",
    "                x_conv = layers.Conv1D(num_convolution_kernels, 3, activation='relu',input_shape=(-1,200,6))(x_conv)\n",
    "            else :\n",
    "                x_conv = layers.Conv1D(num_convolution_kernels, 3, activation='relu')(x_conv)            \n",
    "            x_conv = layers.Conv1D(num_convolution_kernels, 3, activation='relu' )(x_conv)\n",
    "            x_conv = layers.MaxPooling1D(2)(x_conv)\n",
    "        x_conv = layers.Flatten()(x_conv)\n",
    "    \n",
    "        #reduce output size of convoulution block outputs same as the gru outputs\n",
    "        x_conv = layers.Dense(gru_units, activation='linear')(x_conv)\n",
    "        x_conv = layers.BatchNormalization()(x_conv)\n",
    "        x_conv = tf.nn.leaky_relu(x_conv, leakyRelu_alpha)\n",
    "    \n",
    "    #-----------------------------------------------------GRU-layers-Block--------------------------------------------\n",
    "\n",
    "    if num_stacked_gru == 1 :\n",
    "        x = layers.GRU(units=gru_units, activation='tanh' , input_shape=(-1, 200, 6), return_sequences=False )(inputs)\n",
    "    else : \n",
    "        for i in range(num_stacked_gru):\n",
    "            if i == 0 :\n",
    "                x = layers.GRU(units=gru_units, activation='tanh', input_shape=(-1, 200, 6), return_sequences=True )(inputs)\n",
    "            elif i == num_stacked_gru-1 :\n",
    "                x = layers.GRU(units=gru_units, activation='tanh', return_sequences=False )(x)\n",
    "            else :\n",
    "                x = layers.GRU(units=gru_units, activation='tanh', return_sequences=True )(x)\n",
    "\n",
    "    #-------------------------------------------nural-network-architecture-decision-block-----------------------------\n",
    "    \n",
    "    #feed inputs to a deep neural network\n",
    "    #feed gru data to a deep neural network\n",
    "    #feed a convolutional data to a deep neural network\n",
    "    #feed a combination of gru + convolutional data to a deep neural network\n",
    "    if num_stacked_convolution > 0 and num_stacked_gru > 0 :\n",
    "        x_out = layers.concatenate([x_conv,x], axis=1)\n",
    "    elif num_stacked_convolution > 0 and num_stacked_gru == 0 :\n",
    "        x_out = x_conv\n",
    "    elif num_stacked_convolution == 0 and num_stacked_gru > 0 :\n",
    "        x_out = x\n",
    "    else:\n",
    "        x_out = inputs\n",
    "\n",
    "    #-----------------------------------------------------Dense-layers-block------------------------------------------\n",
    "        \n",
    "    for i in range(num_stacked_dense):\n",
    "        x_out = layers.Dense(dense_units, activation='linear')(x_out)\n",
    "        x_out = layers.BatchNormalization()(x_out)\n",
    "        x_out = tf.nn.leaky_relu(x_out, leakyRelu_alpha)\n",
    "        x_out = layers.Dropout(droput_rate)(x_out)\n",
    "\n",
    "    #--------------------------------------------------------output-layer---------------------------------------------\n",
    "\n",
    "    #output layer\n",
    "    out = layers.Dense(43, activation='softmax')(x_out)\n",
    "\n",
    "    #--------------------------------------------------------model-compiler--------------------------------------------\n",
    "\n",
    "    #build model\n",
    "    model = Model(inputs, out)\n",
    "    \n",
    "    optimizer = Adam(lr=learning_rate)\n",
    "    loss = SparseCategoricalCrossentropy(from_logits = True)\n",
    "    metric = SparseCategoricalAccuracy()\n",
    "    model.compile(optimizer=optimizer, loss=loss, metrics=metric)\n",
    "\n",
    "    return model"
   ]
  },
  {
   "cell_type": "code",
   "execution_count": null,
   "id": "powered-savage",
   "metadata": {},
   "outputs": [],
   "source": [
    "model = generate_model()\n",
    "model.summary()"
   ]
  },
  {
   "cell_type": "code",
   "execution_count": null,
   "id": "average-training",
   "metadata": {},
   "outputs": [],
   "source": [
    "from sklearn.model_selection import KFold\n",
    "import gc\n",
    "\n",
    "class CVTuner(kt.engine.tuner.Tuner):\n",
    "    \n",
    "    #run trial override\n",
    "    def run_trial(self, trial, X, y, epochs=1, verbose=True, callbacks=None, batch_size=512, k=5):\n",
    "        \n",
    "        val_losses = []        \n",
    "        \n",
    "        kf = KFold(n_splits=k)\n",
    "        k_iter = 1\n",
    "        for train_idx, val_idx in kf.split(X):            \n",
    "            gc.collect()\n",
    "            print('')\n",
    "            print('------KFold--CrossValidation--iteration--N°{}------'.format(k_iter), end='\\n\\n')\n",
    "            k_iter+=1\n",
    "            #kfold cross-validation split\n",
    "            X_train, X_val = X[train_idx], X[val_idx]\n",
    "            y_train, y_val = y[train_idx], y[val_idx]\n",
    "\n",
    "            #tensorflow data pipeline\n",
    "            train_set, validation_set = self.__tensorflow_dataPipeLine(X_train, y_train, X_val, y_val, batch_size)\n",
    "            \n",
    "            model = self.hypermodel.build(trial.hyperparameters)\n",
    "            hist = model.fit(train_set,\n",
    "                      validation_data=validation_set,\n",
    "                      epochs=epochs,\n",
    "                      verbose = verbose,\n",
    "                      callbacks=callbacks)\n",
    "\n",
    "            val_losses.append(max(hist.history['val_sparse_categorical_accuracy'])) \n",
    "        val_losses = np.asarray(val_losses)\n",
    "        self.oracle.update_trial(trial.trial_id, {'val_sparse_categorical_accuracy':np.mean(val_losses)})\n",
    "        self.save_model(trial.trial_id, model)\n",
    "        gc.collect()\n",
    "        \n",
    "    def __tensorflow_dataPipeLine(self, X_train, y_train, X_val, y_val, batch_size):\n",
    "\n",
    "        dataset = Dataset.from_tensor_slices((X_train, y_train))\n",
    "        dataset = dataset.batch(batch_size)\n",
    "        dataset = dataset.shuffle(1000).repeat(2)\n",
    "        train_set = dataset.prefetch(tf.data.experimental.AUTOTUNE)\n",
    "\n",
    "        dataset = Dataset.from_tensor_slices((X_val, y_val))\n",
    "        dataset = dataset.batch(batch_size)\n",
    "        dataset = dataset.shuffle(1000).repeat(2)\n",
    "        validation_set = dataset.prefetch(tf.data.experimental.AUTOTUNE)\n",
    "        \n",
    "        return train_set, validation_set"
   ]
  },
  {
   "cell_type": "code",
   "execution_count": null,
   "id": "historical-samuel",
   "metadata": {},
   "outputs": [],
   "source": [
    "tuner = CVTuner(\n",
    "        hypermodel=generate_model,\n",
    "        directory = './tuner',\n",
    "        project_name = 'path_perdiction',\n",
    "        overwrite = True,\n",
    "        oracle=kt.oracles.BayesianOptimization(\n",
    "        objective = kt.Objective(\"val_sparse_categorical_accuracy\", direction=\"max\"),\n",
    "        max_trials=20))"
   ]
  },
  {
   "cell_type": "code",
   "execution_count": null,
   "id": "enabling-calculator",
   "metadata": {},
   "outputs": [],
   "source": [
    "tuner.search_space_summary()"
   ]
  },
  {
   "cell_type": "code",
   "execution_count": null,
   "id": "statistical-noise",
   "metadata": {},
   "outputs": [],
   "source": [
    "tuner.search(features, target, epochs=30, k=5, batch_size=64,\n",
    "             callbacks=[EarlyStopping(restore_best_weights=True, patience=3, monitor='val_sparse_categorical_accuracy')])"
   ]
  },
  {
   "cell_type": "code",
   "execution_count": null,
   "id": "chemical-cabin",
   "metadata": {},
   "outputs": [],
   "source": [
    "f = os.listdir('tuner/path_prediction')[0]"
   ]
  },
  {
   "cell_type": "code",
   "execution_count": null,
   "id": "compatible-craps",
   "metadata": {},
   "outputs": [],
   "source": [
    "state_data = open('tuner/path_prediction/'+f+'/trial.json', mode='r')\n",
    "state_data = json.loads(state_data.readline())"
   ]
  },
  {
   "cell_type": "code",
   "execution_count": null,
   "id": "historic-addiction",
   "metadata": {},
   "outputs": [],
   "source": [
    "state_data['metrics']"
   ]
  },
  {
   "cell_type": "code",
   "execution_count": null,
   "id": "superb-curve",
   "metadata": {},
   "outputs": [],
   "source": [
    "import pandas as pd\n",
    "import os\n",
    "import json\n",
    "\n",
    "trials = []\n",
    "keys   = []\n",
    "for filename in os.listdir('tuner/path_prediction') :\n",
    "    try:\n",
    "        state_data = open('tuner/path_prediction/'+filename+'/trial.json', mode='r')\n",
    "        state_data = json.loads(state_data.readline())\n",
    "        state_data['hyperparameters']['values'].update({'weighted f1score':state_data['metrics']['metrics']['val_weighted_f1score']['observations'][0]['value'][0]})\n",
    "        state_data['hyperparameters']['values'].update({'accuracy':state_data['metrics']['metrics']['val_accuracy']['observations'][0]['value'][0]})\n",
    "        state_data['hyperparameters']['values'].update({'weighted f1score common':state_data['metrics']['metrics']['val_weighted_f1score_common']['observations'][0]['value'][0]})\n",
    "        state_data['hyperparameters']['values'].update({'weighted f1score uncommon':state_data['metrics']['metrics']['val_weighted_f1score_uncommon']['observations'][0]['value'][0]})\n",
    "        state_data['hyperparameters']['values'].update({'macro f1score common':state_data['metrics']['metrics']['val_macro_f1score_common']['observations'][0]['value'][0]})\n",
    "        state_data['hyperparameters']['values'].update({'macro f1score uncommon':state_data['metrics']['metrics']['val_macro_f1score_uncommon']['observations'][0]['value'][0]})\n",
    "        state_data['hyperparameters']['values'].update({'stability':state_data['metrics']['metrics']['val_stability']['observations'][0]['value'][0]})\n",
    "\n",
    "        trials.append(state_data['hyperparameters']['values'].values())\n",
    "        keys = state_data['hyperparameters']['values'].keys()\n",
    "        #print(filename)\n",
    "    except : \n",
    "        pass\n",
    "tunerTrials = pd.DataFrame(data=trials, columns=keys).dropna()\n",
    "tunerTrials = tunerTrials.sort_values('weighted f1score', ascending=False).reset_index(drop=True)\n",
    "tunerTrials"
   ]
  },
  {
   "cell_type": "code",
   "execution_count": null,
   "id": "rural-wedding",
   "metadata": {},
   "outputs": [],
   "source": [
    "tunerTrials[['weighted f1score','weighted f1score common','macro f1score common','weighted f1score uncommon','macro f1score uncommon','accuracy','stability']]"
   ]
  },
  {
   "cell_type": "code",
   "execution_count": null,
   "id": "traditional-wilderness",
   "metadata": {},
   "outputs": [],
   "source": [
    "tunerTrials.iloc[0]"
   ]
  },
  {
   "cell_type": "code",
   "execution_count": null,
   "id": "reverse-comparison",
   "metadata": {},
   "outputs": [],
   "source": [
    "model = tuner.get_best_models(num_models=1)[0]\n",
    "model.summary()"
   ]
  },
  {
   "cell_type": "code",
   "execution_count": null,
   "id": "loving-arena",
   "metadata": {},
   "outputs": [],
   "source": [
    "#export model\n",
    "path_model.save_weights('./checkpoint/path_prediction.cpkt')"
   ]
  },
  {
   "cell_type": "markdown",
   "id": "focal-arizona",
   "metadata": {},
   "source": [
    "## Evaluation"
   ]
  },
  {
   "cell_type": "code",
   "execution_count": null,
   "id": "attempted-factor",
   "metadata": {},
   "outputs": [],
   "source": []
  },
  {
   "cell_type": "code",
   "execution_count": null,
   "id": "variable-drive",
   "metadata": {},
   "outputs": [],
   "source": []
  },
  {
   "cell_type": "code",
   "execution_count": null,
   "id": "mineral-winner",
   "metadata": {},
   "outputs": [],
   "source": []
  },
  {
   "cell_type": "code",
   "execution_count": null,
   "id": "comic-enforcement",
   "metadata": {},
   "outputs": [],
   "source": []
  },
  {
   "cell_type": "code",
   "execution_count": null,
   "id": "direct-settlement",
   "metadata": {},
   "outputs": [],
   "source": []
  }
 ],
 "metadata": {
  "kernelspec": {
   "display_name": "Python 3",
   "language": "python",
   "name": "python3"
  },
  "language_info": {
   "codemirror_mode": {
    "name": "ipython",
    "version": 3
   },
   "file_extension": ".py",
   "mimetype": "text/x-python",
   "name": "python",
   "nbconvert_exporter": "python",
   "pygments_lexer": "ipython3",
   "version": "3.8.8"
  }
 },
 "nbformat": 4,
 "nbformat_minor": 5
}
