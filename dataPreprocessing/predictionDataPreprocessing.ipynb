{
 "cells": [
  {
   "cell_type": "code",
   "execution_count": 61,
   "metadata": {},
   "outputs": [],
   "source": [
    "import pandas as pd\n",
    "import matplotlib.pyplot as plt\n",
    "from datetime import datetime\n",
    "import numpy as np\n",
    "import seaborn as sns"
   ]
  },
  {
   "cell_type": "code",
   "execution_count": 62,
   "metadata": {},
   "outputs": [],
   "source": [
    "gps = pd.read_csv('data/gps_clean.csv')\n",
    "stations_paths = pd.read_csv('data/stations_paths.csv')"
   ]
  },
  {
   "cell_type": "code",
   "execution_count": 63,
   "metadata": {},
   "outputs": [
    {
     "data": {
      "text/html": [
       "<div>\n",
       "<style scoped>\n",
       "    .dataframe tbody tr th:only-of-type {\n",
       "        vertical-align: middle;\n",
       "    }\n",
       "\n",
       "    .dataframe tbody tr th {\n",
       "        vertical-align: top;\n",
       "    }\n",
       "\n",
       "    .dataframe thead th {\n",
       "        text-align: right;\n",
       "    }\n",
       "</style>\n",
       "<table border=\"1\" class=\"dataframe\">\n",
       "  <thead>\n",
       "    <tr style=\"text-align: right;\">\n",
       "      <th></th>\n",
       "      <th>TripID</th>\n",
       "      <th>order</th>\n",
       "      <th>vehicule_id</th>\n",
       "      <th>line_id</th>\n",
       "      <th>latitude</th>\n",
       "      <th>longitude</th>\n",
       "      <th>datetime</th>\n",
       "      <th>station_id</th>\n",
       "      <th>TripNumber</th>\n",
       "    </tr>\n",
       "  </thead>\n",
       "  <tbody>\n",
       "    <tr>\n",
       "      <th>0</th>\n",
       "      <td>10022_100</td>\n",
       "      <td>1</td>\n",
       "      <td>100</td>\n",
       "      <td>22</td>\n",
       "      <td>36.803965</td>\n",
       "      <td>10.177996</td>\n",
       "      <td>2020-02-26 09:48:48</td>\n",
       "      <td>246</td>\n",
       "      <td>100</td>\n",
       "    </tr>\n",
       "    <tr>\n",
       "      <th>1</th>\n",
       "      <td>10022_100</td>\n",
       "      <td>2</td>\n",
       "      <td>100</td>\n",
       "      <td>22</td>\n",
       "      <td>36.813489</td>\n",
       "      <td>10.172298</td>\n",
       "      <td>2020-02-26 09:55:59</td>\n",
       "      <td>247</td>\n",
       "      <td>100</td>\n",
       "    </tr>\n",
       "    <tr>\n",
       "      <th>2</th>\n",
       "      <td>10022_100</td>\n",
       "      <td>3</td>\n",
       "      <td>100</td>\n",
       "      <td>22</td>\n",
       "      <td>36.809604</td>\n",
       "      <td>10.161677</td>\n",
       "      <td>2020-02-26 09:58:32</td>\n",
       "      <td>248</td>\n",
       "      <td>100</td>\n",
       "    </tr>\n",
       "    <tr>\n",
       "      <th>3</th>\n",
       "      <td>10022_100</td>\n",
       "      <td>4</td>\n",
       "      <td>100</td>\n",
       "      <td>22</td>\n",
       "      <td>36.802855</td>\n",
       "      <td>10.163589</td>\n",
       "      <td>2020-02-26 10:01:31</td>\n",
       "      <td>119</td>\n",
       "      <td>100</td>\n",
       "    </tr>\n",
       "    <tr>\n",
       "      <th>4</th>\n",
       "      <td>10022_100</td>\n",
       "      <td>5</td>\n",
       "      <td>100</td>\n",
       "      <td>22</td>\n",
       "      <td>36.798912</td>\n",
       "      <td>10.161757</td>\n",
       "      <td>2020-02-26 10:08:34</td>\n",
       "      <td>288</td>\n",
       "      <td>100</td>\n",
       "    </tr>\n",
       "  </tbody>\n",
       "</table>\n",
       "</div>"
      ],
      "text/plain": [
       "      TripID  order  vehicule_id  line_id   latitude  longitude  \\\n",
       "0  10022_100      1          100       22  36.803965  10.177996   \n",
       "1  10022_100      2          100       22  36.813489  10.172298   \n",
       "2  10022_100      3          100       22  36.809604  10.161677   \n",
       "3  10022_100      4          100       22  36.802855  10.163589   \n",
       "4  10022_100      5          100       22  36.798912  10.161757   \n",
       "\n",
       "              datetime  station_id  TripNumber  \n",
       "0  2020-02-26 09:48:48         246         100  \n",
       "1  2020-02-26 09:55:59         247         100  \n",
       "2  2020-02-26 09:58:32         248         100  \n",
       "3  2020-02-26 10:01:31         119         100  \n",
       "4  2020-02-26 10:08:34         288         100  "
      ]
     },
     "execution_count": 63,
     "metadata": {},
     "output_type": "execute_result"
    }
   ],
   "source": [
    "gps.drop(['datetime_diff','distance'], axis=1, inplace=True)\n",
    "gps = gps.groupby(['TripID','order'], as_index=False).last()\n",
    "gps.head()"
   ]
  },
  {
   "cell_type": "code",
   "execution_count": 64,
   "metadata": {},
   "outputs": [
    {
     "name": "stdout",
     "output_type": "stream",
     "text": [
      "<class 'pandas.core.frame.DataFrame'>\n",
      "Int64Index: 1036774 entries, 0 to 1036773\n",
      "Data columns (total 9 columns):\n",
      " #   Column       Non-Null Count    Dtype  \n",
      "---  ------       --------------    -----  \n",
      " 0   TripID       1036774 non-null  object \n",
      " 1   order        1036774 non-null  int64  \n",
      " 2   vehicule_id  1036774 non-null  int64  \n",
      " 3   line_id      1036774 non-null  int64  \n",
      " 4   latitude     1036774 non-null  float64\n",
      " 5   longitude    1036774 non-null  float64\n",
      " 6   datetime     1036774 non-null  object \n",
      " 7   station_id   1036774 non-null  int64  \n",
      " 8   TripNumber   1036774 non-null  int64  \n",
      "dtypes: float64(2), int64(5), object(2)\n",
      "memory usage: 79.1+ MB\n"
     ]
    }
   ],
   "source": [
    "gps.info()"
   ]
  },
  {
   "cell_type": "code",
   "execution_count": 65,
   "metadata": {},
   "outputs": [
    {
     "name": "stdout",
     "output_type": "stream",
     "text": [
      "<class 'pandas.core.frame.DataFrame'>\n",
      "RangeIndex: 709 entries, 0 to 708\n",
      "Data columns (total 12 columns):\n",
      " #   Column         Non-Null Count  Dtype  \n",
      "---  ------         --------------  -----  \n",
      " 0   line_id        709 non-null    int64  \n",
      " 1   station_id     709 non-null    int64  \n",
      " 2   order          709 non-null    int64  \n",
      " 3   english_name   709 non-null    object \n",
      " 4   french_name    709 non-null    object \n",
      " 5   arabic_name    709 non-null    object \n",
      " 6   latitude       709 non-null    float64\n",
      " 7   longitude      709 non-null    float64\n",
      " 8   path_id        709 non-null    int64  \n",
      " 9   line_label     709 non-null    object \n",
      " 10  tag            709 non-null    int64  \n",
      " 11  vehicule_type  709 non-null    int64  \n",
      "dtypes: float64(2), int64(6), object(4)\n",
      "memory usage: 66.6+ KB\n"
     ]
    }
   ],
   "source": [
    "stations_paths.info()"
   ]
  },
  {
   "cell_type": "code",
   "execution_count": 66,
   "metadata": {},
   "outputs": [],
   "source": [
    "gps.drop('TripNumber',axis=1,inplace=True)"
   ]
  },
  {
   "cell_type": "code",
   "execution_count": 67,
   "metadata": {},
   "outputs": [
    {
     "data": {
      "text/html": [
       "<div>\n",
       "<style scoped>\n",
       "    .dataframe tbody tr th:only-of-type {\n",
       "        vertical-align: middle;\n",
       "    }\n",
       "\n",
       "    .dataframe tbody tr th {\n",
       "        vertical-align: top;\n",
       "    }\n",
       "\n",
       "    .dataframe thead th {\n",
       "        text-align: right;\n",
       "    }\n",
       "</style>\n",
       "<table border=\"1\" class=\"dataframe\">\n",
       "  <thead>\n",
       "    <tr style=\"text-align: right;\">\n",
       "      <th></th>\n",
       "      <th>TripID</th>\n",
       "      <th>order</th>\n",
       "      <th>vehicule_id</th>\n",
       "      <th>line_id</th>\n",
       "      <th>latitude</th>\n",
       "      <th>longitude</th>\n",
       "      <th>datetime</th>\n",
       "      <th>station_id</th>\n",
       "    </tr>\n",
       "  </thead>\n",
       "  <tbody>\n",
       "    <tr>\n",
       "      <th>0</th>\n",
       "      <td>10022_100</td>\n",
       "      <td>1</td>\n",
       "      <td>100</td>\n",
       "      <td>22</td>\n",
       "      <td>36.803965</td>\n",
       "      <td>10.177996</td>\n",
       "      <td>2020-02-26 09:48:48</td>\n",
       "      <td>246</td>\n",
       "    </tr>\n",
       "    <tr>\n",
       "      <th>1</th>\n",
       "      <td>10022_100</td>\n",
       "      <td>2</td>\n",
       "      <td>100</td>\n",
       "      <td>22</td>\n",
       "      <td>36.813489</td>\n",
       "      <td>10.172298</td>\n",
       "      <td>2020-02-26 09:55:59</td>\n",
       "      <td>247</td>\n",
       "    </tr>\n",
       "    <tr>\n",
       "      <th>2</th>\n",
       "      <td>10022_100</td>\n",
       "      <td>3</td>\n",
       "      <td>100</td>\n",
       "      <td>22</td>\n",
       "      <td>36.809604</td>\n",
       "      <td>10.161677</td>\n",
       "      <td>2020-02-26 09:58:32</td>\n",
       "      <td>248</td>\n",
       "    </tr>\n",
       "    <tr>\n",
       "      <th>3</th>\n",
       "      <td>10022_100</td>\n",
       "      <td>4</td>\n",
       "      <td>100</td>\n",
       "      <td>22</td>\n",
       "      <td>36.802855</td>\n",
       "      <td>10.163589</td>\n",
       "      <td>2020-02-26 10:01:31</td>\n",
       "      <td>119</td>\n",
       "    </tr>\n",
       "    <tr>\n",
       "      <th>4</th>\n",
       "      <td>10022_100</td>\n",
       "      <td>5</td>\n",
       "      <td>100</td>\n",
       "      <td>22</td>\n",
       "      <td>36.798912</td>\n",
       "      <td>10.161757</td>\n",
       "      <td>2020-02-26 10:08:34</td>\n",
       "      <td>288</td>\n",
       "    </tr>\n",
       "  </tbody>\n",
       "</table>\n",
       "</div>"
      ],
      "text/plain": [
       "      TripID  order  vehicule_id  line_id   latitude  longitude  \\\n",
       "0  10022_100      1          100       22  36.803965  10.177996   \n",
       "1  10022_100      2          100       22  36.813489  10.172298   \n",
       "2  10022_100      3          100       22  36.809604  10.161677   \n",
       "3  10022_100      4          100       22  36.802855  10.163589   \n",
       "4  10022_100      5          100       22  36.798912  10.161757   \n",
       "\n",
       "              datetime  station_id  \n",
       "0  2020-02-26 09:48:48         246  \n",
       "1  2020-02-26 09:55:59         247  \n",
       "2  2020-02-26 09:58:32         248  \n",
       "3  2020-02-26 10:01:31         119  \n",
       "4  2020-02-26 10:08:34         288  "
      ]
     },
     "execution_count": 67,
     "metadata": {},
     "output_type": "execute_result"
    }
   ],
   "source": [
    "gps.head()"
   ]
  },
  {
   "cell_type": "code",
   "execution_count": 68,
   "metadata": {},
   "outputs": [
    {
     "data": {
      "text/html": [
       "<div>\n",
       "<style scoped>\n",
       "    .dataframe tbody tr th:only-of-type {\n",
       "        vertical-align: middle;\n",
       "    }\n",
       "\n",
       "    .dataframe tbody tr th {\n",
       "        vertical-align: top;\n",
       "    }\n",
       "\n",
       "    .dataframe thead th {\n",
       "        text-align: right;\n",
       "    }\n",
       "</style>\n",
       "<table border=\"1\" class=\"dataframe\">\n",
       "  <thead>\n",
       "    <tr style=\"text-align: right;\">\n",
       "      <th></th>\n",
       "      <th>line_id</th>\n",
       "      <th>station_id</th>\n",
       "      <th>order</th>\n",
       "      <th>english_name</th>\n",
       "      <th>french_name</th>\n",
       "      <th>arabic_name</th>\n",
       "      <th>latitude</th>\n",
       "      <th>longitude</th>\n",
       "      <th>path_id</th>\n",
       "      <th>line_label</th>\n",
       "      <th>tag</th>\n",
       "      <th>vehicule_type</th>\n",
       "    </tr>\n",
       "  </thead>\n",
       "  <tbody>\n",
       "    <tr>\n",
       "      <th>0</th>\n",
       "      <td>1</td>\n",
       "      <td>161</td>\n",
       "      <td>1</td>\n",
       "      <td>CITE EL INTILAKA</td>\n",
       "      <td>CITE EL INTILAKA</td>\n",
       "      <td>حي الإنطلاقة</td>\n",
       "      <td>36.838918</td>\n",
       "      <td>10.117072</td>\n",
       "      <td>8</td>\n",
       "      <td>5</td>\n",
       "      <td>1</td>\n",
       "      <td>2</td>\n",
       "    </tr>\n",
       "    <tr>\n",
       "      <th>1</th>\n",
       "      <td>1</td>\n",
       "      <td>160</td>\n",
       "      <td>2</td>\n",
       "      <td>ETTADHAMEN</td>\n",
       "      <td>ETTADHAMEN</td>\n",
       "      <td>التضامن</td>\n",
       "      <td>36.835840</td>\n",
       "      <td>10.117590</td>\n",
       "      <td>8</td>\n",
       "      <td>5</td>\n",
       "      <td>1</td>\n",
       "      <td>2</td>\n",
       "    </tr>\n",
       "    <tr>\n",
       "      <th>2</th>\n",
       "      <td>1</td>\n",
       "      <td>105</td>\n",
       "      <td>3</td>\n",
       "      <td>OMRANE SUPÉRIEUR</td>\n",
       "      <td>OMRANE SUPÉRIEUR</td>\n",
       "      <td>العمران الأعلى</td>\n",
       "      <td>36.830582</td>\n",
       "      <td>10.124005</td>\n",
       "      <td>8</td>\n",
       "      <td>5</td>\n",
       "      <td>1</td>\n",
       "      <td>2</td>\n",
       "    </tr>\n",
       "    <tr>\n",
       "      <th>3</th>\n",
       "      <td>1</td>\n",
       "      <td>159</td>\n",
       "      <td>4</td>\n",
       "      <td>ETTAHRIR</td>\n",
       "      <td>ETTAHRIR</td>\n",
       "      <td>التحرير</td>\n",
       "      <td>36.829180</td>\n",
       "      <td>10.128620</td>\n",
       "      <td>8</td>\n",
       "      <td>5</td>\n",
       "      <td>1</td>\n",
       "      <td>2</td>\n",
       "    </tr>\n",
       "    <tr>\n",
       "      <th>4</th>\n",
       "      <td>1</td>\n",
       "      <td>158</td>\n",
       "      <td>5</td>\n",
       "      <td>LES JASMINS</td>\n",
       "      <td>LES JASMINS</td>\n",
       "      <td>الياسمين</td>\n",
       "      <td>36.825880</td>\n",
       "      <td>10.134540</td>\n",
       "      <td>8</td>\n",
       "      <td>5</td>\n",
       "      <td>1</td>\n",
       "      <td>2</td>\n",
       "    </tr>\n",
       "  </tbody>\n",
       "</table>\n",
       "</div>"
      ],
      "text/plain": [
       "   line_id  station_id  order      english_name       french_name  \\\n",
       "0        1         161      1  CITE EL INTILAKA  CITE EL INTILAKA   \n",
       "1        1         160      2        ETTADHAMEN        ETTADHAMEN   \n",
       "2        1         105      3  OMRANE SUPÉRIEUR  OMRANE SUPÉRIEUR   \n",
       "3        1         159      4          ETTAHRIR          ETTAHRIR   \n",
       "4        1         158      5       LES JASMINS       LES JASMINS   \n",
       "\n",
       "      arabic_name   latitude  longitude  path_id line_label  tag  \\\n",
       "0    حي الإنطلاقة  36.838918  10.117072        8          5    1   \n",
       "1         التضامن  36.835840  10.117590        8          5    1   \n",
       "2  العمران الأعلى  36.830582  10.124005        8          5    1   \n",
       "3         التحرير  36.829180  10.128620        8          5    1   \n",
       "4        الياسمين  36.825880  10.134540        8          5    1   \n",
       "\n",
       "   vehicule_type  \n",
       "0              2  \n",
       "1              2  \n",
       "2              2  \n",
       "3              2  \n",
       "4              2  "
      ]
     },
     "execution_count": 68,
     "metadata": {},
     "output_type": "execute_result"
    }
   ],
   "source": [
    "stations_paths.head()"
   ]
  },
  {
   "cell_type": "code",
   "execution_count": 69,
   "metadata": {},
   "outputs": [],
   "source": [
    "mask = (gps.groupby('line_id').count().TripID > 500).values\n",
    "selected_lines = (gps.groupby('line_id').count().TripID > 500).index[mask]"
   ]
  },
  {
   "cell_type": "code",
   "execution_count": 70,
   "metadata": {},
   "outputs": [],
   "source": [
    "stations_paths = stations_paths[stations_paths.line_id.isin(selected_lines)]"
   ]
  },
  {
   "cell_type": "markdown",
   "metadata": {},
   "source": [
    "## Filter data without missing station records"
   ]
  },
  {
   "cell_type": "code",
   "execution_count": 71,
   "metadata": {},
   "outputs": [],
   "source": [
    "lineid_nbstations = stations_paths.groupby('line_id').station_id.count().to_dict()"
   ]
  },
  {
   "cell_type": "code",
   "execution_count": 72,
   "metadata": {},
   "outputs": [],
   "source": [
    "percentage = gps.groupby(['TripID','line_id']).station_id.count()/gps.groupby(['TripID','line_id']).station_id.count().map(lineid_nbstations)"
   ]
  },
  {
   "cell_type": "code",
   "execution_count": 73,
   "metadata": {},
   "outputs": [],
   "source": [
    "selectedTripID = []\n",
    "# select trips that matchs at least 60% of the correct path stations to get rid of wrong line_id trips\n",
    "for x in percentage[percentage.apply(lambda x : True if x >= 0 else False)].index:\n",
    "    selectedTripID.append(x[0])"
   ]
  },
  {
   "cell_type": "code",
   "execution_count": 74,
   "metadata": {},
   "outputs": [],
   "source": [
    "data = gps[gps.TripID.isin(selectedTripID)].merge(stations_paths[['path_id','line_label','tag','vehicule_type','line_id']].groupby('line_id').first(), on = 'line_id' )"
   ]
  },
  {
   "cell_type": "code",
   "execution_count": 75,
   "metadata": {},
   "outputs": [
    {
     "data": {
      "text/html": [
       "<div>\n",
       "<style scoped>\n",
       "    .dataframe tbody tr th:only-of-type {\n",
       "        vertical-align: middle;\n",
       "    }\n",
       "\n",
       "    .dataframe tbody tr th {\n",
       "        vertical-align: top;\n",
       "    }\n",
       "\n",
       "    .dataframe thead th {\n",
       "        text-align: right;\n",
       "    }\n",
       "</style>\n",
       "<table border=\"1\" class=\"dataframe\">\n",
       "  <thead>\n",
       "    <tr style=\"text-align: right;\">\n",
       "      <th></th>\n",
       "      <th>TripID</th>\n",
       "      <th>order</th>\n",
       "      <th>vehicule_id</th>\n",
       "      <th>line_id</th>\n",
       "      <th>latitude</th>\n",
       "      <th>longitude</th>\n",
       "      <th>datetime</th>\n",
       "      <th>station_id</th>\n",
       "      <th>path_id</th>\n",
       "      <th>line_label</th>\n",
       "      <th>tag</th>\n",
       "      <th>vehicule_type</th>\n",
       "    </tr>\n",
       "  </thead>\n",
       "  <tbody>\n",
       "    <tr>\n",
       "      <th>0</th>\n",
       "      <td>10022_100</td>\n",
       "      <td>1</td>\n",
       "      <td>100</td>\n",
       "      <td>22</td>\n",
       "      <td>36.803965</td>\n",
       "      <td>10.177996</td>\n",
       "      <td>2020-02-26 09:48:48</td>\n",
       "      <td>246</td>\n",
       "      <td>16</td>\n",
       "      <td>32</td>\n",
       "      <td>0</td>\n",
       "      <td>3</td>\n",
       "    </tr>\n",
       "    <tr>\n",
       "      <th>1</th>\n",
       "      <td>10022_100</td>\n",
       "      <td>2</td>\n",
       "      <td>100</td>\n",
       "      <td>22</td>\n",
       "      <td>36.813489</td>\n",
       "      <td>10.172298</td>\n",
       "      <td>2020-02-26 09:55:59</td>\n",
       "      <td>247</td>\n",
       "      <td>16</td>\n",
       "      <td>32</td>\n",
       "      <td>0</td>\n",
       "      <td>3</td>\n",
       "    </tr>\n",
       "    <tr>\n",
       "      <th>2</th>\n",
       "      <td>10022_100</td>\n",
       "      <td>3</td>\n",
       "      <td>100</td>\n",
       "      <td>22</td>\n",
       "      <td>36.809604</td>\n",
       "      <td>10.161677</td>\n",
       "      <td>2020-02-26 09:58:32</td>\n",
       "      <td>248</td>\n",
       "      <td>16</td>\n",
       "      <td>32</td>\n",
       "      <td>0</td>\n",
       "      <td>3</td>\n",
       "    </tr>\n",
       "    <tr>\n",
       "      <th>3</th>\n",
       "      <td>10022_100</td>\n",
       "      <td>4</td>\n",
       "      <td>100</td>\n",
       "      <td>22</td>\n",
       "      <td>36.802855</td>\n",
       "      <td>10.163589</td>\n",
       "      <td>2020-02-26 10:01:31</td>\n",
       "      <td>119</td>\n",
       "      <td>16</td>\n",
       "      <td>32</td>\n",
       "      <td>0</td>\n",
       "      <td>3</td>\n",
       "    </tr>\n",
       "    <tr>\n",
       "      <th>4</th>\n",
       "      <td>10022_100</td>\n",
       "      <td>5</td>\n",
       "      <td>100</td>\n",
       "      <td>22</td>\n",
       "      <td>36.798912</td>\n",
       "      <td>10.161757</td>\n",
       "      <td>2020-02-26 10:08:34</td>\n",
       "      <td>288</td>\n",
       "      <td>16</td>\n",
       "      <td>32</td>\n",
       "      <td>0</td>\n",
       "      <td>3</td>\n",
       "    </tr>\n",
       "  </tbody>\n",
       "</table>\n",
       "</div>"
      ],
      "text/plain": [
       "      TripID  order  vehicule_id  line_id   latitude  longitude  \\\n",
       "0  10022_100      1          100       22  36.803965  10.177996   \n",
       "1  10022_100      2          100       22  36.813489  10.172298   \n",
       "2  10022_100      3          100       22  36.809604  10.161677   \n",
       "3  10022_100      4          100       22  36.802855  10.163589   \n",
       "4  10022_100      5          100       22  36.798912  10.161757   \n",
       "\n",
       "              datetime  station_id  path_id line_label  tag  vehicule_type  \n",
       "0  2020-02-26 09:48:48         246       16         32    0              3  \n",
       "1  2020-02-26 09:55:59         247       16         32    0              3  \n",
       "2  2020-02-26 09:58:32         248       16         32    0              3  \n",
       "3  2020-02-26 10:01:31         119       16         32    0              3  \n",
       "4  2020-02-26 10:08:34         288       16         32    0              3  "
      ]
     },
     "execution_count": 75,
     "metadata": {},
     "output_type": "execute_result"
    }
   ],
   "source": [
    "data.head()"
   ]
  },
  {
   "cell_type": "code",
   "execution_count": 76,
   "metadata": {},
   "outputs": [
    {
     "data": {
      "text/plain": [
       "(1017715, 12)"
      ]
     },
     "execution_count": 76,
     "metadata": {},
     "output_type": "execute_result"
    }
   ],
   "source": [
    "data.shape"
   ]
  },
  {
   "cell_type": "code",
   "execution_count": 77,
   "metadata": {},
   "outputs": [
    {
     "data": {
      "image/png": "[encoded data removed]",
      "text/plain": [
       "<Figure size 1080x360 with 1 Axes>"
      ]
     },
     "metadata": {
      "needs_background": "light"
     },
     "output_type": "display_data"
    }
   ],
   "source": [
    "plt.figure(figsize=(15,5))\n",
    "data.groupby('line_label').TripID.count().plot(kind = 'bar')\n",
    "plt.plot(np.arange(31), np.ones(31)*3000, 'r--')\n",
    "plt.show()"
   ]
  },
  {
   "cell_type": "markdown",
   "metadata": {},
   "source": [
    "### Import weather Data"
   ]
  },
  {
   "cell_type": "code",
   "execution_count": 78,
   "metadata": {},
   "outputs": [],
   "source": [
    "weather = pd.read_csv('../weather/weatherTunisByHour.csv')"
   ]
  },
  {
   "cell_type": "code",
   "execution_count": 79,
   "metadata": {},
   "outputs": [
    {
     "name": "stdout",
     "output_type": "stream",
     "text": [
      "<class 'pandas.core.frame.DataFrame'>\n",
      "RangeIndex: 8671 entries, 0 to 8670\n",
      "Data columns (total 16 columns):\n",
      " #   Column               Non-Null Count  Dtype  \n",
      "---  ------               --------------  -----  \n",
      " 0   Name                 8671 non-null   object \n",
      " 1   Date time            8671 non-null   object \n",
      " 2   Maximum Temperature  8670 non-null   float64\n",
      " 3   Minimum Temperature  8670 non-null   float64\n",
      " 4   Temperature          8670 non-null   float64\n",
      " 5   Wind Chill           566 non-null    float64\n",
      " 6   Heat Index           1213 non-null   float64\n",
      " 7   Precipitation        8671 non-null   float64\n",
      " 8   Snow Depth           5663 non-null   float64\n",
      " 9   Wind Speed           8653 non-null   float64\n",
      " 10  Wind Gust            1983 non-null   float64\n",
      " 11  Visibility           8650 non-null   float64\n",
      " 12  Cloud Cover          8667 non-null   float64\n",
      " 13  Relative Humidity    8670 non-null   float64\n",
      " 14  Weather Type         272 non-null    object \n",
      " 15  Conditions           8670 non-null   object \n",
      "dtypes: float64(12), object(4)\n",
      "memory usage: 1.1+ MB\n"
     ]
    }
   ],
   "source": [
    "weather.info()"
   ]
  },
  {
   "cell_type": "code",
   "execution_count": 80,
   "metadata": {},
   "outputs": [
    {
     "data": {
      "text/plain": [
       "Name                    0.000000\n",
       "Date time               0.000000\n",
       "Maximum Temperature     0.011533\n",
       "Minimum Temperature     0.011533\n",
       "Temperature             0.011533\n",
       "Wind Chill             93.472495\n",
       "Heat Index             86.010841\n",
       "Precipitation           0.000000\n",
       "Snow Depth             34.690347\n",
       "Wind Speed              0.207589\n",
       "Wind Gust              77.130665\n",
       "Visibility              0.242187\n",
       "Cloud Cover             0.046131\n",
       "Relative Humidity       0.011533\n",
       "Weather Type           96.863107\n",
       "Conditions              0.011533\n",
       "dtype: float64"
      ]
     },
     "execution_count": 80,
     "metadata": {},
     "output_type": "execute_result"
    }
   ],
   "source": [
    "weather.isnull().sum()*100/weather.shape[0]"
   ]
  },
  {
   "cell_type": "code",
   "execution_count": 81,
   "metadata": {},
   "outputs": [
    {
     "data": {
      "text/html": [
       "<div>\n",
       "<style scoped>\n",
       "    .dataframe tbody tr th:only-of-type {\n",
       "        vertical-align: middle;\n",
       "    }\n",
       "\n",
       "    .dataframe tbody tr th {\n",
       "        vertical-align: top;\n",
       "    }\n",
       "\n",
       "    .dataframe thead th {\n",
       "        text-align: right;\n",
       "    }\n",
       "</style>\n",
       "<table border=\"1\" class=\"dataframe\">\n",
       "  <thead>\n",
       "    <tr style=\"text-align: right;\">\n",
       "      <th></th>\n",
       "      <th>Date time</th>\n",
       "      <th>Temperature</th>\n",
       "      <th>Precipitation</th>\n",
       "      <th>Wind Speed</th>\n",
       "      <th>Visibility</th>\n",
       "      <th>Cloud Cover</th>\n",
       "      <th>Relative Humidity</th>\n",
       "      <th>Conditions</th>\n",
       "    </tr>\n",
       "  </thead>\n",
       "  <tbody>\n",
       "    <tr>\n",
       "      <th>0</th>\n",
       "      <td>01/01/2020 00:00:00</td>\n",
       "      <td>8.0</td>\n",
       "      <td>0.0</td>\n",
       "      <td>5.4</td>\n",
       "      <td>10.0</td>\n",
       "      <td>36.1</td>\n",
       "      <td>70.72</td>\n",
       "      <td>Partially cloudy</td>\n",
       "    </tr>\n",
       "    <tr>\n",
       "      <th>1</th>\n",
       "      <td>01/01/2020 01:00:00</td>\n",
       "      <td>8.0</td>\n",
       "      <td>0.4</td>\n",
       "      <td>7.6</td>\n",
       "      <td>10.0</td>\n",
       "      <td>26.9</td>\n",
       "      <td>70.93</td>\n",
       "      <td>Rain, Partially cloudy</td>\n",
       "    </tr>\n",
       "    <tr>\n",
       "      <th>2</th>\n",
       "      <td>01/01/2020 02:00:00</td>\n",
       "      <td>7.0</td>\n",
       "      <td>0.0</td>\n",
       "      <td>9.3</td>\n",
       "      <td>10.0</td>\n",
       "      <td>27.3</td>\n",
       "      <td>75.75</td>\n",
       "      <td>Partially cloudy</td>\n",
       "    </tr>\n",
       "    <tr>\n",
       "      <th>3</th>\n",
       "      <td>01/01/2020 03:00:00</td>\n",
       "      <td>7.0</td>\n",
       "      <td>0.0</td>\n",
       "      <td>11.1</td>\n",
       "      <td>10.0</td>\n",
       "      <td>27.3</td>\n",
       "      <td>75.75</td>\n",
       "      <td>Partially cloudy</td>\n",
       "    </tr>\n",
       "    <tr>\n",
       "      <th>4</th>\n",
       "      <td>01/01/2020 04:00:00</td>\n",
       "      <td>8.0</td>\n",
       "      <td>0.0</td>\n",
       "      <td>11.1</td>\n",
       "      <td>10.0</td>\n",
       "      <td>49.4</td>\n",
       "      <td>76.06</td>\n",
       "      <td>Partially cloudy</td>\n",
       "    </tr>\n",
       "  </tbody>\n",
       "</table>\n",
       "</div>"
      ],
      "text/plain": [
       "             Date time  Temperature  Precipitation  Wind Speed  Visibility  \\\n",
       "0  01/01/2020 00:00:00          8.0            0.0         5.4        10.0   \n",
       "1  01/01/2020 01:00:00          8.0            0.4         7.6        10.0   \n",
       "2  01/01/2020 02:00:00          7.0            0.0         9.3        10.0   \n",
       "3  01/01/2020 03:00:00          7.0            0.0        11.1        10.0   \n",
       "4  01/01/2020 04:00:00          8.0            0.0        11.1        10.0   \n",
       "\n",
       "   Cloud Cover  Relative Humidity              Conditions  \n",
       "0         36.1              70.72        Partially cloudy  \n",
       "1         26.9              70.93  Rain, Partially cloudy  \n",
       "2         27.3              75.75        Partially cloudy  \n",
       "3         27.3              75.75        Partially cloudy  \n",
       "4         49.4              76.06        Partially cloudy  "
      ]
     },
     "execution_count": 81,
     "metadata": {},
     "output_type": "execute_result"
    }
   ],
   "source": [
    "#drop\n",
    "weather.drop(['Weather Type', 'Wind Gust', 'Snow Depth', 'Heat Index', 'Name', 'Wind Chill', 'Maximum Temperature', 'Minimum Temperature'], axis=1, inplace=True)\n",
    "weather.head()"
   ]
  },
  {
   "cell_type": "code",
   "execution_count": 82,
   "metadata": {},
   "outputs": [],
   "source": [
    "#transform to date time\n",
    "weather['Date time'] = weather['Date time'].apply(lambda x : datetime.strptime(x, '%m/%d/%Y %H:%M:%S'))"
   ]
  },
  {
   "cell_type": "code",
   "execution_count": 83,
   "metadata": {},
   "outputs": [
    {
     "data": {
      "text/html": [
       "<div>\n",
       "<style scoped>\n",
       "    .dataframe tbody tr th:only-of-type {\n",
       "        vertical-align: middle;\n",
       "    }\n",
       "\n",
       "    .dataframe tbody tr th {\n",
       "        vertical-align: top;\n",
       "    }\n",
       "\n",
       "    .dataframe thead th {\n",
       "        text-align: right;\n",
       "    }\n",
       "</style>\n",
       "<table border=\"1\" class=\"dataframe\">\n",
       "  <thead>\n",
       "    <tr style=\"text-align: right;\">\n",
       "      <th></th>\n",
       "      <th>Date time</th>\n",
       "      <th>Temperature</th>\n",
       "      <th>Precipitation</th>\n",
       "      <th>Wind Speed</th>\n",
       "      <th>Visibility</th>\n",
       "      <th>Cloud Cover</th>\n",
       "      <th>Relative Humidity</th>\n",
       "      <th>Conditions</th>\n",
       "    </tr>\n",
       "  </thead>\n",
       "  <tbody>\n",
       "    <tr>\n",
       "      <th>0</th>\n",
       "      <td>2020-01-01 00:00:00</td>\n",
       "      <td>8.0</td>\n",
       "      <td>0.0</td>\n",
       "      <td>5.4</td>\n",
       "      <td>10.0</td>\n",
       "      <td>36.1</td>\n",
       "      <td>70.72</td>\n",
       "      <td>Partially cloudy</td>\n",
       "    </tr>\n",
       "    <tr>\n",
       "      <th>1</th>\n",
       "      <td>2020-01-01 01:00:00</td>\n",
       "      <td>8.0</td>\n",
       "      <td>0.4</td>\n",
       "      <td>7.6</td>\n",
       "      <td>10.0</td>\n",
       "      <td>26.9</td>\n",
       "      <td>70.93</td>\n",
       "      <td>Rain, Partially cloudy</td>\n",
       "    </tr>\n",
       "    <tr>\n",
       "      <th>2</th>\n",
       "      <td>2020-01-01 02:00:00</td>\n",
       "      <td>7.0</td>\n",
       "      <td>0.0</td>\n",
       "      <td>9.3</td>\n",
       "      <td>10.0</td>\n",
       "      <td>27.3</td>\n",
       "      <td>75.75</td>\n",
       "      <td>Partially cloudy</td>\n",
       "    </tr>\n",
       "    <tr>\n",
       "      <th>3</th>\n",
       "      <td>2020-01-01 03:00:00</td>\n",
       "      <td>7.0</td>\n",
       "      <td>0.0</td>\n",
       "      <td>11.1</td>\n",
       "      <td>10.0</td>\n",
       "      <td>27.3</td>\n",
       "      <td>75.75</td>\n",
       "      <td>Partially cloudy</td>\n",
       "    </tr>\n",
       "    <tr>\n",
       "      <th>4</th>\n",
       "      <td>2020-01-01 04:00:00</td>\n",
       "      <td>8.0</td>\n",
       "      <td>0.0</td>\n",
       "      <td>11.1</td>\n",
       "      <td>10.0</td>\n",
       "      <td>49.4</td>\n",
       "      <td>76.06</td>\n",
       "      <td>Partially cloudy</td>\n",
       "    </tr>\n",
       "  </tbody>\n",
       "</table>\n",
       "</div>"
      ],
      "text/plain": [
       "            Date time  Temperature  Precipitation  Wind Speed  Visibility  \\\n",
       "0 2020-01-01 00:00:00          8.0            0.0         5.4        10.0   \n",
       "1 2020-01-01 01:00:00          8.0            0.4         7.6        10.0   \n",
       "2 2020-01-01 02:00:00          7.0            0.0         9.3        10.0   \n",
       "3 2020-01-01 03:00:00          7.0            0.0        11.1        10.0   \n",
       "4 2020-01-01 04:00:00          8.0            0.0        11.1        10.0   \n",
       "\n",
       "   Cloud Cover  Relative Humidity              Conditions  \n",
       "0         36.1              70.72        Partially cloudy  \n",
       "1         26.9              70.93  Rain, Partially cloudy  \n",
       "2         27.3              75.75        Partially cloudy  \n",
       "3         27.3              75.75        Partially cloudy  \n",
       "4         49.4              76.06        Partially cloudy  "
      ]
     },
     "execution_count": 83,
     "metadata": {},
     "output_type": "execute_result"
    }
   ],
   "source": [
    "weather.head()"
   ]
  },
  {
   "cell_type": "code",
   "execution_count": 84,
   "metadata": {},
   "outputs": [],
   "source": [
    "weather.Conditions.fillna('nan', inplace=True)"
   ]
  },
  {
   "cell_type": "code",
   "execution_count": 85,
   "metadata": {},
   "outputs": [],
   "source": [
    "from sklearn.preprocessing import LabelEncoder\n",
    "\n",
    "encoder = LabelEncoder()\n",
    "weather.Conditions = encoder.fit_transform(weather.Conditions)"
   ]
  },
  {
   "cell_type": "code",
   "execution_count": 86,
   "metadata": {},
   "outputs": [],
   "source": [
    "data['datetime'] = data['datetime'].apply(lambda x : datetime.strptime(x, '%Y-%m-%d %H:%M:%S'))\n",
    "data['datetime_diff'] = data.groupby(['TripID']).datetime.diff().shift(-1).dt.total_seconds()"
   ]
  },
  {
   "cell_type": "code",
   "execution_count": 87,
   "metadata": {},
   "outputs": [],
   "source": [
    "#date features\n",
    "data['hour']  = data['datetime'].dt.hour\n",
    "data['quarter'] = data['datetime'].dt.quarter\n",
    "data['weekday'] = data['datetime'].dt.weekday\n",
    "#weekday or weekend\n",
    "data['service_class'] = data['datetime'].dt.weekday.apply(lambda x : 1 if x in [5,6] else 0)"
   ]
  },
  {
   "cell_type": "code",
   "execution_count": 88,
   "metadata": {},
   "outputs": [],
   "source": [
    "weather = weather.rename({'Date time': 'datetime'}, axis = 1)"
   ]
  },
  {
   "cell_type": "code",
   "execution_count": 89,
   "metadata": {},
   "outputs": [],
   "source": [
    "weather['datetime'] = weather['datetime'].astype(str).apply(lambda x : x[:-6])\n",
    "data['datetime'] = data['datetime'].astype(str).apply(lambda x : x[:-6])"
   ]
  },
  {
   "cell_type": "code",
   "execution_count": 90,
   "metadata": {},
   "outputs": [],
   "source": [
    "weather.reset_index(drop = True)\n",
    "data.reset_index(drop = True);"
   ]
  },
  {
   "cell_type": "code",
   "execution_count": 91,
   "metadata": {},
   "outputs": [],
   "source": [
    "data = data.merge(weather, on ='datetime', how='left').drop_duplicates()"
   ]
  },
  {
   "cell_type": "code",
   "execution_count": 95,
   "metadata": {},
   "outputs": [],
   "source": [
    "#add feature Distance Traveled and distance diff\n",
    "#cummulative distance travelled by the bus to reach the bus stop\n",
    "data = data.sort_values(['TripID','datetime'])\n",
    "data['prev_latitude']  = data.groupby('TripID')['latitude'].shift(1)\n",
    "data['prev_longitude'] = data.groupby('TripID')['longitude'].shift(1)"
   ]
  },
  {
   "cell_type": "code",
   "execution_count": 96,
   "metadata": {},
   "outputs": [],
   "source": [
    "def haversine_distance(*x):\n",
    "    if np.isnan(x[2]) or np.isnan(x[3]):\n",
    "        return 0\n",
    "    R = 6378137\n",
    "    #convert to raduis\n",
    "    lat1  = x[0] * np.pi/180\n",
    "    long1 = x[1] * np.pi/180\n",
    "    lat2  = x[2] * np.pi/180\n",
    "    long2 = x[3] * np.pi/180\n",
    "    #calculate haversine distance\n",
    "    delta_longitude = long1 - long2\n",
    "    delta_latitude = lat1 - lat2\n",
    "    a = (np.sin(delta_latitude/2)**2) + np.cos(lat1)*np.cos(lat2)*(np.sin(delta_longitude/2)**2)\n",
    "    c = 2*np.arctan2(np.sqrt(a),np.sqrt(1-a))\n",
    "    distance = R*c\n",
    "    return int(distance)"
   ]
  },
  {
   "cell_type": "code",
   "execution_count": 97,
   "metadata": {},
   "outputs": [],
   "source": [
    "data['distance_diff'] = data[['latitude','longitude','prev_latitude','prev_longitude']].apply(lambda x : haversine_distance(*x), axis=1)"
   ]
  },
  {
   "cell_type": "code",
   "execution_count": 98,
   "metadata": {},
   "outputs": [],
   "source": [
    "data.drop(['latitude','longitude','prev_latitude','prev_longitude'], axis=1, inplace=True)"
   ]
  },
  {
   "cell_type": "code",
   "execution_count": 99,
   "metadata": {},
   "outputs": [],
   "source": [
    "data['distance_traveled'] = data.groupby('TripID').distance_diff.cumsum()"
   ]
  },
  {
   "cell_type": "code",
   "execution_count": 102,
   "metadata": {},
   "outputs": [
    {
     "name": "stdout",
     "output_type": "stream",
     "text": [
      "<class 'pandas.core.frame.DataFrame'>\n",
      "Int64Index: 1017715 entries, 0 to 1062354\n",
      "Data columns (total 24 columns):\n",
      " #   Column             Non-Null Count    Dtype  \n",
      "---  ------             --------------    -----  \n",
      " 0   TripID             1017715 non-null  object \n",
      " 1   order              1017715 non-null  int64  \n",
      " 2   vehicule_id        1017715 non-null  int64  \n",
      " 3   line_id            1017715 non-null  int64  \n",
      " 4   datetime           1017715 non-null  object \n",
      " 5   station_id         1017715 non-null  int64  \n",
      " 6   path_id            1017715 non-null  int64  \n",
      " 7   line_label         1017715 non-null  object \n",
      " 8   tag                1017715 non-null  int64  \n",
      " 9   vehicule_type      1017715 non-null  int64  \n",
      " 10  datetime_diff      907768 non-null   float64\n",
      " 11  hour               1017715 non-null  int64  \n",
      " 12  quarter            1017715 non-null  int64  \n",
      " 13  weekday            1017715 non-null  int64  \n",
      " 14  service_class      1017715 non-null  int64  \n",
      " 15  Temperature        883615 non-null   float64\n",
      " 16  Precipitation      883818 non-null   float64\n",
      " 17  Wind Speed         883615 non-null   float64\n",
      " 18  Visibility         883250 non-null   float64\n",
      " 19  Cloud Cover        883458 non-null   float64\n",
      " 20  Relative Humidity  883615 non-null   float64\n",
      " 21  Conditions         883818 non-null   float64\n",
      " 22  distance_diff      1017715 non-null  int64  \n",
      " 23  distance_traveled  1017715 non-null  int64  \n",
      "dtypes: float64(8), int64(13), object(3)\n",
      "memory usage: 194.1+ MB\n"
     ]
    }
   ],
   "source": [
    "data.info()"
   ]
  },
  {
   "cell_type": "code",
   "execution_count": 103,
   "metadata": {},
   "outputs": [],
   "source": [
    "data = data.sort_values(['TripID','datetime'])"
   ]
  },
  {
   "cell_type": "code",
   "execution_count": 104,
   "metadata": {},
   "outputs": [],
   "source": [
    "data.to_csv('data/data.csv', index = False)"
   ]
  },
  {
   "cell_type": "code",
   "execution_count": 132,
   "metadata": {},
   "outputs": [],
   "source": [
    "selected_features = ['TripID','datetime','order','path_id','line_id','vehicule_type','datetime_diff','hour','quarter','weekday','distance_traveled','Temperature','Visibility','Relative Humidity','Wind Speed','Precipitation','Conditions']"
   ]
  },
  {
   "cell_type": "code",
   "execution_count": 133,
   "metadata": {},
   "outputs": [
    {
     "data": {
      "text/plain": [
       "(1017715, 17)"
      ]
     },
     "execution_count": 133,
     "metadata": {},
     "output_type": "execute_result"
    }
   ],
   "source": [
    "data = data[selected_features]\n",
    "data.shape"
   ]
  }
 ],
 "metadata": {
  "kernelspec": {
   "display_name": "Python 3",
   "language": "python",
   "name": "python3"
  },
  "language_info": {
   "codemirror_mode": {
    "name": "ipython",
    "version": 3
   },
   "file_extension": ".py",
   "mimetype": "text/x-python",
   "name": "python",
   "nbconvert_exporter": "python",
   "pygments_lexer": "ipython3",
   "version": "3.8.0"
  }
 },
 "nbformat": 4,
 "nbformat_minor": 4
}
