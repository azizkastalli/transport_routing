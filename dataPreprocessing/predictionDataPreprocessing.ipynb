{
 "cells": [
  {
   "cell_type": "code",
   "execution_count": 1,
   "metadata": {},
   "outputs": [],
   "source": [
    "import pandas as pd\n",
    "import matplotlib.pyplot as plt\n",
    "from datetime import datetime\n",
    "import numpy as np\n",
    "import seaborn as sns"
   ]
  },
  {
   "cell_type": "code",
   "execution_count": 2,
   "metadata": {},
   "outputs": [
    {
     "name": "stderr",
     "output_type": "stream",
     "text": [
      "C:\\Users\\aziz\\anaconda3\\lib\\site-packages\\IPython\\core\\interactiveshell.py:3165: DtypeWarning: Columns (9) have mixed types.Specify dtype option on import or set low_memory=False.\n",
      "  has_raised = await self.run_ast_nodes(code_ast.body, cell_name,\n"
     ]
    }
   ],
   "source": [
    "data = pd.read_csv('data/gps_clean.csv')\n",
    "stations_paths = pd.read_csv('data/stations_paths.csv')"
   ]
  },
  {
   "cell_type": "code",
   "execution_count": 3,
   "metadata": {},
   "outputs": [
    {
     "name": "stdout",
     "output_type": "stream",
     "text": [
      "<class 'pandas.core.frame.DataFrame'>\n",
      "RangeIndex: 1899557 entries, 0 to 1899556\n",
      "Data columns (total 12 columns):\n",
      " #   Column          Dtype  \n",
      "---  ------          -----  \n",
      " 0   vehicle_id      int64  \n",
      " 1   line_id         int64  \n",
      " 2   arrival_time    object \n",
      " 3   departure_time  object \n",
      " 4   station_id      int64  \n",
      " 5   vehicle_type    float64\n",
      " 6   stop_time       float64\n",
      " 7   sequence_id     object \n",
      " 8   order           int64  \n",
      " 9   line_label      object \n",
      " 10  travel_time     float64\n",
      " 11  outlier         int64  \n",
      "dtypes: float64(3), int64(5), object(4)\n",
      "memory usage: 173.9+ MB\n"
     ]
    }
   ],
   "source": [
    "data.info()"
   ]
  },
  {
   "cell_type": "code",
   "execution_count": 4,
   "metadata": {},
   "outputs": [
    {
     "name": "stdout",
     "output_type": "stream",
     "text": [
      "<class 'pandas.core.frame.DataFrame'>\n",
      "RangeIndex: 700 entries, 0 to 699\n",
      "Data columns (total 12 columns):\n",
      " #   Column        Non-Null Count  Dtype  \n",
      "---  ------        --------------  -----  \n",
      " 0   latitude      700 non-null    float64\n",
      " 1   longitude     700 non-null    float64\n",
      " 2   station_id    700 non-null    int64  \n",
      " 3   line_id       700 non-null    int64  \n",
      " 4   order         700 non-null    int64  \n",
      " 5   english_name  700 non-null    object \n",
      " 6   french_name   700 non-null    object \n",
      " 7   arabic_name   700 non-null    object \n",
      " 8   path_id       700 non-null    int64  \n",
      " 9   line_label    700 non-null    object \n",
      " 10  tag           700 non-null    int64  \n",
      " 11  vehicle_type  700 non-null    int64  \n",
      "dtypes: float64(2), int64(6), object(4)\n",
      "memory usage: 65.8+ KB\n"
     ]
    }
   ],
   "source": [
    "stations_paths.info()"
   ]
  },
  {
   "cell_type": "code",
   "execution_count": null,
   "metadata": {},
   "outputs": [],
   "source": []
  },
  {
   "cell_type": "code",
   "execution_count": 5,
   "metadata": {},
   "outputs": [
    {
     "data": {
      "text/html": [
       "<div>\n",
       "<style scoped>\n",
       "    .dataframe tbody tr th:only-of-type {\n",
       "        vertical-align: middle;\n",
       "    }\n",
       "\n",
       "    .dataframe tbody tr th {\n",
       "        vertical-align: top;\n",
       "    }\n",
       "\n",
       "    .dataframe thead th {\n",
       "        text-align: right;\n",
       "    }\n",
       "</style>\n",
       "<table border=\"1\" class=\"dataframe\">\n",
       "  <thead>\n",
       "    <tr style=\"text-align: right;\">\n",
       "      <th></th>\n",
       "      <th>vehicle_id</th>\n",
       "      <th>line_id</th>\n",
       "      <th>arrival_time</th>\n",
       "      <th>departure_time</th>\n",
       "      <th>station_id</th>\n",
       "      <th>vehicle_type</th>\n",
       "      <th>stop_time</th>\n",
       "      <th>sequence_id</th>\n",
       "      <th>order</th>\n",
       "      <th>line_label</th>\n",
       "      <th>travel_time</th>\n",
       "      <th>outlier</th>\n",
       "    </tr>\n",
       "  </thead>\n",
       "  <tbody>\n",
       "  </tbody>\n",
       "</table>\n",
       "</div>"
      ],
      "text/plain": [
       "Empty DataFrame\n",
       "Columns: [vehicle_id, line_id, arrival_time, departure_time, station_id, vehicle_type, stop_time, sequence_id, order, line_label, travel_time, outlier]\n",
       "Index: []"
      ]
     },
     "execution_count": 5,
     "metadata": {},
     "output_type": "execute_result"
    }
   ],
   "source": [
    "data.query('sequence_id == \"105_2235\"')"
   ]
  },
  {
   "cell_type": "code",
   "execution_count": 6,
   "metadata": {},
   "outputs": [],
   "source": [
    "data.rename({'sequence_id':'TripID'}, axis=1, inplace=True)"
   ]
  },
  {
   "cell_type": "code",
   "execution_count": 7,
   "metadata": {},
   "outputs": [
    {
     "data": {
      "text/html": [
       "<div>\n",
       "<style scoped>\n",
       "    .dataframe tbody tr th:only-of-type {\n",
       "        vertical-align: middle;\n",
       "    }\n",
       "\n",
       "    .dataframe tbody tr th {\n",
       "        vertical-align: top;\n",
       "    }\n",
       "\n",
       "    .dataframe thead th {\n",
       "        text-align: right;\n",
       "    }\n",
       "</style>\n",
       "<table border=\"1\" class=\"dataframe\">\n",
       "  <thead>\n",
       "    <tr style=\"text-align: right;\">\n",
       "      <th></th>\n",
       "      <th>vehicle_id</th>\n",
       "      <th>line_id</th>\n",
       "      <th>arrival_time</th>\n",
       "      <th>departure_time</th>\n",
       "      <th>station_id</th>\n",
       "      <th>vehicle_type</th>\n",
       "      <th>stop_time</th>\n",
       "      <th>TripID</th>\n",
       "      <th>order</th>\n",
       "      <th>line_label</th>\n",
       "      <th>travel_time</th>\n",
       "      <th>outlier</th>\n",
       "    </tr>\n",
       "  </thead>\n",
       "  <tbody>\n",
       "    <tr>\n",
       "      <th>0</th>\n",
       "      <td>41</td>\n",
       "      <td>3</td>\n",
       "      <td>2020-02-17 14:37:51</td>\n",
       "      <td>2020-02-17 14:38:13</td>\n",
       "      <td>10</td>\n",
       "      <td>2.0</td>\n",
       "      <td>22.0</td>\n",
       "      <td>41.0_0</td>\n",
       "      <td>5</td>\n",
       "      <td>5</td>\n",
       "      <td>148.0</td>\n",
       "      <td>0</td>\n",
       "    </tr>\n",
       "    <tr>\n",
       "      <th>1</th>\n",
       "      <td>41</td>\n",
       "      <td>3</td>\n",
       "      <td>2020-02-17 14:40:19</td>\n",
       "      <td>2020-02-17 14:40:32</td>\n",
       "      <td>9</td>\n",
       "      <td>2.0</td>\n",
       "      <td>13.0</td>\n",
       "      <td>41.0_0</td>\n",
       "      <td>6</td>\n",
       "      <td>5</td>\n",
       "      <td>149.0</td>\n",
       "      <td>0</td>\n",
       "    </tr>\n",
       "    <tr>\n",
       "      <th>2</th>\n",
       "      <td>41</td>\n",
       "      <td>3</td>\n",
       "      <td>2020-02-17 14:42:48</td>\n",
       "      <td>2020-02-17 14:42:48</td>\n",
       "      <td>8</td>\n",
       "      <td>2.0</td>\n",
       "      <td>0.0</td>\n",
       "      <td>41.0_0</td>\n",
       "      <td>7</td>\n",
       "      <td>5</td>\n",
       "      <td>129.0</td>\n",
       "      <td>0</td>\n",
       "    </tr>\n",
       "    <tr>\n",
       "      <th>3</th>\n",
       "      <td>41</td>\n",
       "      <td>3</td>\n",
       "      <td>2020-02-17 14:44:57</td>\n",
       "      <td>2020-02-17 14:45:02</td>\n",
       "      <td>7</td>\n",
       "      <td>2.0</td>\n",
       "      <td>5.0</td>\n",
       "      <td>41.0_0</td>\n",
       "      <td>8</td>\n",
       "      <td>5</td>\n",
       "      <td>79.0</td>\n",
       "      <td>0</td>\n",
       "    </tr>\n",
       "    <tr>\n",
       "      <th>4</th>\n",
       "      <td>41</td>\n",
       "      <td>3</td>\n",
       "      <td>2020-02-17 14:46:16</td>\n",
       "      <td>2020-02-17 14:46:34</td>\n",
       "      <td>6</td>\n",
       "      <td>2.0</td>\n",
       "      <td>18.0</td>\n",
       "      <td>41.0_0</td>\n",
       "      <td>9</td>\n",
       "      <td>5</td>\n",
       "      <td>137.0</td>\n",
       "      <td>0</td>\n",
       "    </tr>\n",
       "  </tbody>\n",
       "</table>\n",
       "</div>"
      ],
      "text/plain": [
       "   vehicle_id  line_id         arrival_time       departure_time  station_id  \\\n",
       "0          41        3  2020-02-17 14:37:51  2020-02-17 14:38:13          10   \n",
       "1          41        3  2020-02-17 14:40:19  2020-02-17 14:40:32           9   \n",
       "2          41        3  2020-02-17 14:42:48  2020-02-17 14:42:48           8   \n",
       "3          41        3  2020-02-17 14:44:57  2020-02-17 14:45:02           7   \n",
       "4          41        3  2020-02-17 14:46:16  2020-02-17 14:46:34           6   \n",
       "\n",
       "   vehicle_type  stop_time  TripID  order line_label  travel_time  outlier  \n",
       "0           2.0       22.0  41.0_0      5          5        148.0        0  \n",
       "1           2.0       13.0  41.0_0      6          5        149.0        0  \n",
       "2           2.0        0.0  41.0_0      7          5        129.0        0  \n",
       "3           2.0        5.0  41.0_0      8          5         79.0        0  \n",
       "4           2.0       18.0  41.0_0      9          5        137.0        0  "
      ]
     },
     "execution_count": 7,
     "metadata": {},
     "output_type": "execute_result"
    }
   ],
   "source": [
    "data.head()"
   ]
  },
  {
   "cell_type": "code",
   "execution_count": 8,
   "metadata": {},
   "outputs": [
    {
     "data": {
      "text/html": [
       "<div>\n",
       "<style scoped>\n",
       "    .dataframe tbody tr th:only-of-type {\n",
       "        vertical-align: middle;\n",
       "    }\n",
       "\n",
       "    .dataframe tbody tr th {\n",
       "        vertical-align: top;\n",
       "    }\n",
       "\n",
       "    .dataframe thead th {\n",
       "        text-align: right;\n",
       "    }\n",
       "</style>\n",
       "<table border=\"1\" class=\"dataframe\">\n",
       "  <thead>\n",
       "    <tr style=\"text-align: right;\">\n",
       "      <th></th>\n",
       "      <th>latitude</th>\n",
       "      <th>longitude</th>\n",
       "      <th>station_id</th>\n",
       "      <th>line_id</th>\n",
       "      <th>order</th>\n",
       "      <th>english_name</th>\n",
       "      <th>french_name</th>\n",
       "      <th>arabic_name</th>\n",
       "      <th>path_id</th>\n",
       "      <th>line_label</th>\n",
       "      <th>tag</th>\n",
       "      <th>vehicle_type</th>\n",
       "    </tr>\n",
       "  </thead>\n",
       "  <tbody>\n",
       "    <tr>\n",
       "      <th>0</th>\n",
       "      <td>36.838918</td>\n",
       "      <td>10.117072</td>\n",
       "      <td>1</td>\n",
       "      <td>1</td>\n",
       "      <td>1</td>\n",
       "      <td>CITE EL INTILAKA</td>\n",
       "      <td>CITE EL INTILAKA</td>\n",
       "      <td>حي الإنطلاقة</td>\n",
       "      <td>8</td>\n",
       "      <td>5</td>\n",
       "      <td>1</td>\n",
       "      <td>2</td>\n",
       "    </tr>\n",
       "    <tr>\n",
       "      <th>1</th>\n",
       "      <td>36.835840</td>\n",
       "      <td>10.117590</td>\n",
       "      <td>2</td>\n",
       "      <td>1</td>\n",
       "      <td>2</td>\n",
       "      <td>ETTADHAMEN</td>\n",
       "      <td>ETTADHAMEN</td>\n",
       "      <td>التضامن</td>\n",
       "      <td>8</td>\n",
       "      <td>5</td>\n",
       "      <td>1</td>\n",
       "      <td>2</td>\n",
       "    </tr>\n",
       "    <tr>\n",
       "      <th>2</th>\n",
       "      <td>36.830582</td>\n",
       "      <td>10.124005</td>\n",
       "      <td>3</td>\n",
       "      <td>1</td>\n",
       "      <td>3</td>\n",
       "      <td>OMRANE SUPÉRIEUR</td>\n",
       "      <td>OMRANE SUPÉRIEUR</td>\n",
       "      <td>العمران الأعلى</td>\n",
       "      <td>8</td>\n",
       "      <td>5</td>\n",
       "      <td>1</td>\n",
       "      <td>2</td>\n",
       "    </tr>\n",
       "    <tr>\n",
       "      <th>3</th>\n",
       "      <td>36.829180</td>\n",
       "      <td>10.128620</td>\n",
       "      <td>4</td>\n",
       "      <td>1</td>\n",
       "      <td>4</td>\n",
       "      <td>ETTAHRIR</td>\n",
       "      <td>ETTAHRIR</td>\n",
       "      <td>التحرير</td>\n",
       "      <td>8</td>\n",
       "      <td>5</td>\n",
       "      <td>1</td>\n",
       "      <td>2</td>\n",
       "    </tr>\n",
       "    <tr>\n",
       "      <th>4</th>\n",
       "      <td>36.825880</td>\n",
       "      <td>10.134540</td>\n",
       "      <td>5</td>\n",
       "      <td>1</td>\n",
       "      <td>5</td>\n",
       "      <td>LES JASMINS</td>\n",
       "      <td>LES JASMINS</td>\n",
       "      <td>الياسمين</td>\n",
       "      <td>8</td>\n",
       "      <td>5</td>\n",
       "      <td>1</td>\n",
       "      <td>2</td>\n",
       "    </tr>\n",
       "  </tbody>\n",
       "</table>\n",
       "</div>"
      ],
      "text/plain": [
       "    latitude  longitude  station_id  line_id  order      english_name  \\\n",
       "0  36.838918  10.117072           1        1      1  CITE EL INTILAKA   \n",
       "1  36.835840  10.117590           2        1      2        ETTADHAMEN   \n",
       "2  36.830582  10.124005           3        1      3  OMRANE SUPÉRIEUR   \n",
       "3  36.829180  10.128620           4        1      4          ETTAHRIR   \n",
       "4  36.825880  10.134540           5        1      5       LES JASMINS   \n",
       "\n",
       "        french_name     arabic_name  path_id line_label  tag  vehicle_type  \n",
       "0  CITE EL INTILAKA    حي الإنطلاقة        8          5    1             2  \n",
       "1        ETTADHAMEN         التضامن        8          5    1             2  \n",
       "2  OMRANE SUPÉRIEUR  العمران الأعلى        8          5    1             2  \n",
       "3          ETTAHRIR         التحرير        8          5    1             2  \n",
       "4       LES JASMINS        الياسمين        8          5    1             2  "
      ]
     },
     "execution_count": 8,
     "metadata": {},
     "output_type": "execute_result"
    }
   ],
   "source": [
    "stations_paths.head()"
   ]
  },
  {
   "cell_type": "code",
   "execution_count": 9,
   "metadata": {},
   "outputs": [
    {
     "data": {
      "text/plain": [
       "29"
      ]
     },
     "execution_count": 9,
     "metadata": {},
     "output_type": "execute_result"
    }
   ],
   "source": [
    "data.line_label.nunique()"
   ]
  },
  {
   "cell_type": "code",
   "execution_count": 10,
   "metadata": {},
   "outputs": [
    {
     "data": {
      "image/png": "[encoded data removed]",
      "text/plain": [
       "<Figure size 1080x360 with 1 Axes>"
      ]
     },
     "metadata": {
      "needs_background": "light"
     },
     "output_type": "display_data"
    }
   ],
   "source": [
    "plt.figure(figsize=(15,5))\n",
    "data.groupby('line_label').TripID.count().plot(kind = 'bar')\n",
    "plt.plot(np.arange(29), np.ones(29)*3000, 'r--')\n",
    "plt.show()"
   ]
  },
  {
   "cell_type": "markdown",
   "metadata": {},
   "source": [
    "### Import weather Data"
   ]
  },
  {
   "cell_type": "code",
   "execution_count": 11,
   "metadata": {},
   "outputs": [],
   "source": [
    "weather = pd.read_csv('../weather/weatherTunisByHour.csv')"
   ]
  },
  {
   "cell_type": "code",
   "execution_count": 12,
   "metadata": {},
   "outputs": [
    {
     "name": "stdout",
     "output_type": "stream",
     "text": [
      "<class 'pandas.core.frame.DataFrame'>\n",
      "RangeIndex: 6328 entries, 0 to 6327\n",
      "Data columns (total 8 columns):\n",
      " #   Column             Non-Null Count  Dtype  \n",
      "---  ------             --------------  -----  \n",
      " 0   datetime           6328 non-null   object \n",
      " 1   Temperature        5316 non-null   float64\n",
      " 2   Precipitation      5317 non-null   float64\n",
      " 3   Wind Speed         5316 non-null   float64\n",
      " 4   Visibility         5304 non-null   float64\n",
      " 5   Cloud Cover        5314 non-null   float64\n",
      " 6   Relative Humidity  5316 non-null   float64\n",
      " 7   Conditions         5317 non-null   float64\n",
      "dtypes: float64(7), object(1)\n",
      "memory usage: 395.6+ KB\n"
     ]
    }
   ],
   "source": [
    "weather.info()"
   ]
  },
  {
   "cell_type": "code",
   "execution_count": 13,
   "metadata": {},
   "outputs": [
    {
     "data": {
      "text/html": [
       "<div>\n",
       "<style scoped>\n",
       "    .dataframe tbody tr th:only-of-type {\n",
       "        vertical-align: middle;\n",
       "    }\n",
       "\n",
       "    .dataframe tbody tr th {\n",
       "        vertical-align: top;\n",
       "    }\n",
       "\n",
       "    .dataframe thead th {\n",
       "        text-align: right;\n",
       "    }\n",
       "</style>\n",
       "<table border=\"1\" class=\"dataframe\">\n",
       "  <thead>\n",
       "    <tr style=\"text-align: right;\">\n",
       "      <th></th>\n",
       "      <th>datetime</th>\n",
       "      <th>Temperature</th>\n",
       "      <th>Precipitation</th>\n",
       "      <th>Wind Speed</th>\n",
       "      <th>Visibility</th>\n",
       "      <th>Cloud Cover</th>\n",
       "      <th>Relative Humidity</th>\n",
       "      <th>Conditions</th>\n",
       "    </tr>\n",
       "  </thead>\n",
       "  <tbody>\n",
       "    <tr>\n",
       "      <th>0</th>\n",
       "      <td>2020-02-17 14</td>\n",
       "      <td>19.0</td>\n",
       "      <td>0.0</td>\n",
       "      <td>9.4</td>\n",
       "      <td>10.0</td>\n",
       "      <td>27.2</td>\n",
       "      <td>42.59</td>\n",
       "      <td>2.0</td>\n",
       "    </tr>\n",
       "    <tr>\n",
       "      <th>1</th>\n",
       "      <td>2020-02-17 15</td>\n",
       "      <td>19.0</td>\n",
       "      <td>0.0</td>\n",
       "      <td>7.6</td>\n",
       "      <td>10.0</td>\n",
       "      <td>27.2</td>\n",
       "      <td>39.70</td>\n",
       "      <td>2.0</td>\n",
       "    </tr>\n",
       "    <tr>\n",
       "      <th>2</th>\n",
       "      <td>2020-02-17 16</td>\n",
       "      <td>18.0</td>\n",
       "      <td>0.0</td>\n",
       "      <td>11.1</td>\n",
       "      <td>10.0</td>\n",
       "      <td>26.9</td>\n",
       "      <td>45.27</td>\n",
       "      <td>2.0</td>\n",
       "    </tr>\n",
       "    <tr>\n",
       "      <th>3</th>\n",
       "      <td>2020-02-17 17</td>\n",
       "      <td>18.0</td>\n",
       "      <td>0.0</td>\n",
       "      <td>12.9</td>\n",
       "      <td>10.0</td>\n",
       "      <td>27.0</td>\n",
       "      <td>48.39</td>\n",
       "      <td>2.0</td>\n",
       "    </tr>\n",
       "    <tr>\n",
       "      <th>4</th>\n",
       "      <td>2020-02-17 18</td>\n",
       "      <td>16.0</td>\n",
       "      <td>0.0</td>\n",
       "      <td>11.2</td>\n",
       "      <td>10.0</td>\n",
       "      <td>27.0</td>\n",
       "      <td>51.52</td>\n",
       "      <td>2.0</td>\n",
       "    </tr>\n",
       "  </tbody>\n",
       "</table>\n",
       "</div>"
      ],
      "text/plain": [
       "        datetime  Temperature  Precipitation  Wind Speed  Visibility  \\\n",
       "0  2020-02-17 14         19.0            0.0         9.4        10.0   \n",
       "1  2020-02-17 15         19.0            0.0         7.6        10.0   \n",
       "2  2020-02-17 16         18.0            0.0        11.1        10.0   \n",
       "3  2020-02-17 17         18.0            0.0        12.9        10.0   \n",
       "4  2020-02-17 18         16.0            0.0        11.2        10.0   \n",
       "\n",
       "   Cloud Cover  Relative Humidity  Conditions  \n",
       "0         27.2              42.59         2.0  \n",
       "1         27.2              39.70         2.0  \n",
       "2         26.9              45.27         2.0  \n",
       "3         27.0              48.39         2.0  \n",
       "4         27.0              51.52         2.0  "
      ]
     },
     "execution_count": 13,
     "metadata": {},
     "output_type": "execute_result"
    }
   ],
   "source": [
    "weather.head()"
   ]
  },
  {
   "cell_type": "code",
   "execution_count": 14,
   "metadata": {},
   "outputs": [],
   "source": [
    "#transform to date time\n",
    "weather['datetime'] = weather['datetime'].apply(lambda x : datetime.strptime(x, '%Y-%m-%d %H'))"
   ]
  },
  {
   "cell_type": "code",
   "execution_count": 15,
   "metadata": {},
   "outputs": [
    {
     "data": {
      "text/html": [
       "<div>\n",
       "<style scoped>\n",
       "    .dataframe tbody tr th:only-of-type {\n",
       "        vertical-align: middle;\n",
       "    }\n",
       "\n",
       "    .dataframe tbody tr th {\n",
       "        vertical-align: top;\n",
       "    }\n",
       "\n",
       "    .dataframe thead th {\n",
       "        text-align: right;\n",
       "    }\n",
       "</style>\n",
       "<table border=\"1\" class=\"dataframe\">\n",
       "  <thead>\n",
       "    <tr style=\"text-align: right;\">\n",
       "      <th></th>\n",
       "      <th>datetime</th>\n",
       "      <th>Temperature</th>\n",
       "      <th>Precipitation</th>\n",
       "      <th>Wind Speed</th>\n",
       "      <th>Visibility</th>\n",
       "      <th>Cloud Cover</th>\n",
       "      <th>Relative Humidity</th>\n",
       "      <th>Conditions</th>\n",
       "    </tr>\n",
       "  </thead>\n",
       "  <tbody>\n",
       "    <tr>\n",
       "      <th>0</th>\n",
       "      <td>2020-02-17 14:00:00</td>\n",
       "      <td>19.0</td>\n",
       "      <td>0.0</td>\n",
       "      <td>9.4</td>\n",
       "      <td>10.0</td>\n",
       "      <td>27.2</td>\n",
       "      <td>42.59</td>\n",
       "      <td>2.0</td>\n",
       "    </tr>\n",
       "    <tr>\n",
       "      <th>1</th>\n",
       "      <td>2020-02-17 15:00:00</td>\n",
       "      <td>19.0</td>\n",
       "      <td>0.0</td>\n",
       "      <td>7.6</td>\n",
       "      <td>10.0</td>\n",
       "      <td>27.2</td>\n",
       "      <td>39.70</td>\n",
       "      <td>2.0</td>\n",
       "    </tr>\n",
       "    <tr>\n",
       "      <th>2</th>\n",
       "      <td>2020-02-17 16:00:00</td>\n",
       "      <td>18.0</td>\n",
       "      <td>0.0</td>\n",
       "      <td>11.1</td>\n",
       "      <td>10.0</td>\n",
       "      <td>26.9</td>\n",
       "      <td>45.27</td>\n",
       "      <td>2.0</td>\n",
       "    </tr>\n",
       "    <tr>\n",
       "      <th>3</th>\n",
       "      <td>2020-02-17 17:00:00</td>\n",
       "      <td>18.0</td>\n",
       "      <td>0.0</td>\n",
       "      <td>12.9</td>\n",
       "      <td>10.0</td>\n",
       "      <td>27.0</td>\n",
       "      <td>48.39</td>\n",
       "      <td>2.0</td>\n",
       "    </tr>\n",
       "    <tr>\n",
       "      <th>4</th>\n",
       "      <td>2020-02-17 18:00:00</td>\n",
       "      <td>16.0</td>\n",
       "      <td>0.0</td>\n",
       "      <td>11.2</td>\n",
       "      <td>10.0</td>\n",
       "      <td>27.0</td>\n",
       "      <td>51.52</td>\n",
       "      <td>2.0</td>\n",
       "    </tr>\n",
       "  </tbody>\n",
       "</table>\n",
       "</div>"
      ],
      "text/plain": [
       "             datetime  Temperature  Precipitation  Wind Speed  Visibility  \\\n",
       "0 2020-02-17 14:00:00         19.0            0.0         9.4        10.0   \n",
       "1 2020-02-17 15:00:00         19.0            0.0         7.6        10.0   \n",
       "2 2020-02-17 16:00:00         18.0            0.0        11.1        10.0   \n",
       "3 2020-02-17 17:00:00         18.0            0.0        12.9        10.0   \n",
       "4 2020-02-17 18:00:00         16.0            0.0        11.2        10.0   \n",
       "\n",
       "   Cloud Cover  Relative Humidity  Conditions  \n",
       "0         27.2              42.59         2.0  \n",
       "1         27.2              39.70         2.0  \n",
       "2         26.9              45.27         2.0  \n",
       "3         27.0              48.39         2.0  \n",
       "4         27.0              51.52         2.0  "
      ]
     },
     "execution_count": 15,
     "metadata": {},
     "output_type": "execute_result"
    }
   ],
   "source": [
    "weather.head()"
   ]
  },
  {
   "cell_type": "code",
   "execution_count": 16,
   "metadata": {},
   "outputs": [],
   "source": [
    "weather.Conditions.fillna(-1, inplace=True)\n",
    "weather.Conditions = weather.Conditions.astype(int)"
   ]
  },
  {
   "cell_type": "code",
   "execution_count": 17,
   "metadata": {},
   "outputs": [],
   "source": [
    "data['arrival_time'] = data['arrival_time'].apply(lambda x : datetime.strptime(x, '%Y-%m-%d %H:%M:%S'))\n",
    "data['departure_time'] = data['departure_time'].apply(lambda x : datetime.strptime(x, '%Y-%m-%d %H:%M:%S'))"
   ]
  },
  {
   "cell_type": "code",
   "execution_count": 18,
   "metadata": {},
   "outputs": [],
   "source": [
    "#date features\n",
    "data['hour']  = data['arrival_time'].dt.hour\n",
    "data['quarter'] = data['arrival_time'].dt.quarter\n",
    "data['weekday'] = data['arrival_time'].dt.weekday\n",
    "#weekday or weekend\n",
    "data['service_class'] = data['arrival_time'].dt.weekday.apply(lambda x : 1 if x in [5,6] else 0)"
   ]
  },
  {
   "cell_type": "code",
   "execution_count": 19,
   "metadata": {},
   "outputs": [],
   "source": [
    "weather['datetime'] = weather['datetime'].astype(str).apply(lambda x : x[:-6])\n",
    "data['datetime']    = data['arrival_time'].astype(str).apply(lambda x : x[:-6])"
   ]
  },
  {
   "cell_type": "code",
   "execution_count": 20,
   "metadata": {},
   "outputs": [],
   "source": [
    "weather.reset_index(drop = True)\n",
    "data.reset_index(drop = True);"
   ]
  },
  {
   "cell_type": "code",
   "execution_count": 21,
   "metadata": {},
   "outputs": [],
   "source": [
    "data = data.merge(weather, on ='datetime', how='left').drop_duplicates()"
   ]
  },
  {
   "cell_type": "code",
   "execution_count": 22,
   "metadata": {},
   "outputs": [
    {
     "name": "stdout",
     "output_type": "stream",
     "text": [
      "<class 'pandas.core.frame.DataFrame'>\n",
      "Int64Index: 1899557 entries, 0 to 1899556\n",
      "Data columns (total 24 columns):\n",
      " #   Column             Dtype         \n",
      "---  ------             -----         \n",
      " 0   vehicle_id         int64         \n",
      " 1   line_id            int64         \n",
      " 2   arrival_time       datetime64[ns]\n",
      " 3   departure_time     datetime64[ns]\n",
      " 4   station_id         int64         \n",
      " 5   vehicle_type       float64       \n",
      " 6   stop_time          float64       \n",
      " 7   TripID             object        \n",
      " 8   order              int64         \n",
      " 9   line_label         object        \n",
      " 10  travel_time        float64       \n",
      " 11  outlier            int64         \n",
      " 12  hour               int64         \n",
      " 13  quarter            int64         \n",
      " 14  weekday            int64         \n",
      " 15  service_class      int64         \n",
      " 16  datetime           object        \n",
      " 17  Temperature        float64       \n",
      " 18  Precipitation      float64       \n",
      " 19  Wind Speed         float64       \n",
      " 20  Visibility         float64       \n",
      " 21  Cloud Cover        float64       \n",
      " 22  Relative Humidity  float64       \n",
      " 23  Conditions         float64       \n",
      "dtypes: datetime64[ns](2), float64(10), int64(9), object(3)\n",
      "memory usage: 362.3+ MB\n"
     ]
    }
   ],
   "source": [
    "data.info()"
   ]
  },
  {
   "cell_type": "code",
   "execution_count": 23,
   "metadata": {},
   "outputs": [],
   "source": [
    "stations_paths = pd.read_csv('data/stations_paths.csv')"
   ]
  },
  {
   "cell_type": "code",
   "execution_count": 24,
   "metadata": {},
   "outputs": [],
   "source": [
    "data = data.merge(stations_paths[['station_id', 'latitude', 'longitude']].drop_duplicates(), on='station_id')"
   ]
  },
  {
   "cell_type": "code",
   "execution_count": 25,
   "metadata": {},
   "outputs": [],
   "source": [
    "#add feature Distance Traveled and distance diff\n",
    "#cummulative distance travelled by the bus to reach the bus stop\n",
    "data = data.sort_values(['TripID','arrival_time'])\n",
    "data['prev_latitude']  = data.groupby('TripID')['latitude'].shift(1)\n",
    "data['prev_longitude'] = data.groupby('TripID')['longitude'].shift(1)"
   ]
  },
  {
   "cell_type": "code",
   "execution_count": 26,
   "metadata": {},
   "outputs": [],
   "source": [
    "def haversine_distance(*x):\n",
    "    if np.isnan(x[2]) or np.isnan(x[3]):\n",
    "        return 0\n",
    "    R = 6378137\n",
    "    #convert to raduis\n",
    "    lat1  = x[0] * np.pi/180\n",
    "    long1 = x[1] * np.pi/180\n",
    "    lat2  = x[2] * np.pi/180\n",
    "    long2 = x[3] * np.pi/180\n",
    "    #calculate haversine distance\n",
    "    delta_longitude = long1 - long2\n",
    "    delta_latitude = lat1 - lat2\n",
    "    a = (np.sin(delta_latitude/2)**2) + np.cos(lat1)*np.cos(lat2)*(np.sin(delta_longitude/2)**2)\n",
    "    c = 2*np.arctan2(np.sqrt(a),np.sqrt(1-a))\n",
    "    distance = R*c\n",
    "    return int(distance)"
   ]
  },
  {
   "cell_type": "code",
   "execution_count": 27,
   "metadata": {},
   "outputs": [],
   "source": [
    "data['distance_diff'] = data[['latitude','longitude','prev_latitude','prev_longitude']].apply(lambda x : haversine_distance(*x), axis=1)"
   ]
  },
  {
   "cell_type": "code",
   "execution_count": 28,
   "metadata": {},
   "outputs": [],
   "source": [
    "data.drop(['latitude','longitude','prev_latitude','prev_longitude'], axis=1, inplace=True)"
   ]
  },
  {
   "cell_type": "code",
   "execution_count": 29,
   "metadata": {},
   "outputs": [],
   "source": [
    "data['distance_traveled'] = data.groupby('TripID').distance_diff.cumsum()"
   ]
  },
  {
   "cell_type": "code",
   "execution_count": 30,
   "metadata": {},
   "outputs": [
    {
     "name": "stdout",
     "output_type": "stream",
     "text": [
      "<class 'pandas.core.frame.DataFrame'>\n",
      "Int64Index: 1899557 entries, 1551387 to 1743853\n",
      "Data columns (total 26 columns):\n",
      " #   Column             Dtype         \n",
      "---  ------             -----         \n",
      " 0   vehicle_id         int64         \n",
      " 1   line_id            int64         \n",
      " 2   arrival_time       datetime64[ns]\n",
      " 3   departure_time     datetime64[ns]\n",
      " 4   station_id         int64         \n",
      " 5   vehicle_type       float64       \n",
      " 6   stop_time          float64       \n",
      " 7   TripID             object        \n",
      " 8   order              int64         \n",
      " 9   line_label         object        \n",
      " 10  travel_time        float64       \n",
      " 11  outlier            int64         \n",
      " 12  hour               int64         \n",
      " 13  quarter            int64         \n",
      " 14  weekday            int64         \n",
      " 15  service_class      int64         \n",
      " 16  datetime           object        \n",
      " 17  Temperature        float64       \n",
      " 18  Precipitation      float64       \n",
      " 19  Wind Speed         float64       \n",
      " 20  Visibility         float64       \n",
      " 21  Cloud Cover        float64       \n",
      " 22  Relative Humidity  float64       \n",
      " 23  Conditions         float64       \n",
      " 24  distance_diff      int64         \n",
      " 25  distance_traveled  int64         \n",
      "dtypes: datetime64[ns](2), float64(10), int64(11), object(3)\n",
      "memory usage: 391.3+ MB\n"
     ]
    }
   ],
   "source": [
    "data.info()"
   ]
  },
  {
   "cell_type": "code",
   "execution_count": 31,
   "metadata": {},
   "outputs": [],
   "source": [
    "data = data.sort_values(['TripID','arrival_time'])"
   ]
  },
  {
   "cell_type": "code",
   "execution_count": 32,
   "metadata": {},
   "outputs": [
    {
     "data": {
      "text/plain": [
       "(1899557, 26)"
      ]
     },
     "execution_count": 32,
     "metadata": {},
     "output_type": "execute_result"
    }
   ],
   "source": [
    "data.shape"
   ]
  },
  {
   "cell_type": "code",
   "execution_count": 33,
   "metadata": {},
   "outputs": [],
   "source": [
    "data.to_csv('data/data.csv', index = False)"
   ]
  }
 ],
 "metadata": {
  "kernelspec": {
   "display_name": "Python 3",
   "language": "python",
   "name": "python3"
  },
  "language_info": {
   "codemirror_mode": {
    "name": "ipython",
    "version": 3
   },
   "file_extension": ".py",
   "mimetype": "text/x-python",
   "name": "python",
   "nbconvert_exporter": "python",
   "pygments_lexer": "ipython3",
   "version": "3.8.8"
  }
 },
 "nbformat": 4,
 "nbformat_minor": 4
}
