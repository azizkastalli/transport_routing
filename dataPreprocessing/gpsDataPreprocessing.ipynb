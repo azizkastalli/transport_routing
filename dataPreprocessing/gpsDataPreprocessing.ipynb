{
 "cells": [
  {
   "cell_type": "code",
   "execution_count": 1,
   "metadata": {},
   "outputs": [],
   "source": [
    "import pandas as pd\n",
    "import seaborn as sns\n",
    "import matplotlib.pyplot as plt\n",
    "from datetime import datetime\n",
    "import numpy as np\n",
    "from tqdm import tqdm"
   ]
  },
  {
   "cell_type": "markdown",
   "metadata": {},
   "source": [
    "## I) Data Preprocessing"
   ]
  },
  {
   "cell_type": "code",
   "execution_count": 2,
   "metadata": {},
   "outputs": [],
   "source": [
    "#prob\n",
    "paths = pd.read_csv('../database/paths.sql',error_bad_lines=False,  sep='\\t', names = ['line_id', 'path_id', 'english_name', 'french_name', 'arabic_name', 'tag'])"
   ]
  },
  {
   "cell_type": "code",
   "execution_count": 3,
   "metadata": {},
   "outputs": [],
   "source": [
    "#preprocessing\n",
    "paths.iloc[8,-1] = '0'\n",
    "ch = paths.iloc[25,-1]\n",
    "paths.iloc[25,-2] = (paths.iloc[25,-2] + ch).replace('//','')\n",
    "paths.iloc[25,-1] = 1"
   ]
  },
  {
   "cell_type": "code",
   "execution_count": 4,
   "metadata": {},
   "outputs": [],
   "source": [
    "paths.tag = paths.tag.astype(int)"
   ]
  },
  {
   "cell_type": "code",
   "execution_count": 5,
   "metadata": {},
   "outputs": [
    {
     "data": {
      "text/html": [
       "<div>\n",
       "<style scoped>\n",
       "    .dataframe tbody tr th:only-of-type {\n",
       "        vertical-align: middle;\n",
       "    }\n",
       "\n",
       "    .dataframe tbody tr th {\n",
       "        vertical-align: top;\n",
       "    }\n",
       "\n",
       "    .dataframe thead th {\n",
       "        text-align: right;\n",
       "    }\n",
       "</style>\n",
       "<table border=\"1\" class=\"dataframe\">\n",
       "  <thead>\n",
       "    <tr style=\"text-align: right;\">\n",
       "      <th></th>\n",
       "      <th>line_id</th>\n",
       "      <th>path_id</th>\n",
       "      <th>english_name</th>\n",
       "      <th>french_name</th>\n",
       "      <th>arabic_name</th>\n",
       "      <th>tag</th>\n",
       "    </tr>\n",
       "  </thead>\n",
       "  <tbody>\n",
       "    <tr>\n",
       "      <th>0</th>\n",
       "      <td>1</td>\n",
       "      <td>8</td>\n",
       "      <td>Intilaka vers  Barcelona</td>\n",
       "      <td>Intilaka vers  Barcelone</td>\n",
       "      <td>الإنطلاقة في إتجاه برشلونة</td>\n",
       "      <td>1</td>\n",
       "    </tr>\n",
       "    <tr>\n",
       "      <th>1</th>\n",
       "      <td>3</td>\n",
       "      <td>8</td>\n",
       "      <td>Barcelone to Intilaka</td>\n",
       "      <td>Barcelona vers Intilaka</td>\n",
       "      <td>برشلونة في إتجاه الإنطلاقة</td>\n",
       "      <td>0</td>\n",
       "    </tr>\n",
       "    <tr>\n",
       "      <th>2</th>\n",
       "      <td>4</td>\n",
       "      <td>4</td>\n",
       "      <td>Tunis Marine to Campus Manouba</td>\n",
       "      <td>Tunis Marine vers Campus Manouba</td>\n",
       "      <td>تونس البحرية في إتجاه المركب الجامعي بمنوبة</td>\n",
       "      <td>0</td>\n",
       "    </tr>\n",
       "    <tr>\n",
       "      <th>3</th>\n",
       "      <td>5</td>\n",
       "      <td>4</td>\n",
       "      <td>Campus Manouba toTunis Marine</td>\n",
       "      <td>Campus Manouba vers Tunis Marine</td>\n",
       "      <td>المركب الجامعي بمنوبة  في إتجاه تونس البحرية</td>\n",
       "      <td>1</td>\n",
       "    </tr>\n",
       "    <tr>\n",
       "      <th>4</th>\n",
       "      <td>6</td>\n",
       "      <td>2</td>\n",
       "      <td>Republique to Ariana</td>\n",
       "      <td>Republique vers Ariana</td>\n",
       "      <td>الجمهورية في إتجاه أريانة</td>\n",
       "      <td>0</td>\n",
       "    </tr>\n",
       "  </tbody>\n",
       "</table>\n",
       "</div>"
      ],
      "text/plain": [
       "   line_id  path_id                    english_name  \\\n",
       "0        1        8        Intilaka vers  Barcelona   \n",
       "1        3        8           Barcelone to Intilaka   \n",
       "2        4        4  Tunis Marine to Campus Manouba   \n",
       "3        5        4   Campus Manouba toTunis Marine   \n",
       "4        6        2            Republique to Ariana   \n",
       "\n",
       "                        french_name  \\\n",
       "0          Intilaka vers  Barcelone   \n",
       "1           Barcelona vers Intilaka   \n",
       "2  Tunis Marine vers Campus Manouba   \n",
       "3  Campus Manouba vers Tunis Marine   \n",
       "4            Republique vers Ariana   \n",
       "\n",
       "                                    arabic_name  tag  \n",
       "0                    الإنطلاقة في إتجاه برشلونة    1  \n",
       "1                    برشلونة في إتجاه الإنطلاقة    0  \n",
       "2   تونس البحرية في إتجاه المركب الجامعي بمنوبة    0  \n",
       "3  المركب الجامعي بمنوبة  في إتجاه تونس البحرية    1  \n",
       "4                     الجمهورية في إتجاه أريانة    0  "
      ]
     },
     "execution_count": 5,
     "metadata": {},
     "output_type": "execute_result"
    }
   ],
   "source": [
    "paths.head()"
   ]
  },
  {
   "cell_type": "code",
   "execution_count": 6,
   "metadata": {},
   "outputs": [
    {
     "data": {
      "text/html": [
       "<div>\n",
       "<style scoped>\n",
       "    .dataframe tbody tr th:only-of-type {\n",
       "        vertical-align: middle;\n",
       "    }\n",
       "\n",
       "    .dataframe tbody tr th {\n",
       "        vertical-align: top;\n",
       "    }\n",
       "\n",
       "    .dataframe thead th {\n",
       "        text-align: right;\n",
       "    }\n",
       "</style>\n",
       "<table border=\"1\" class=\"dataframe\">\n",
       "  <thead>\n",
       "    <tr style=\"text-align: right;\">\n",
       "      <th></th>\n",
       "      <th>station_id</th>\n",
       "      <th>english_name</th>\n",
       "      <th>french_name</th>\n",
       "      <th>arabic_name</th>\n",
       "      <th>latitude</th>\n",
       "      <th>longitude</th>\n",
       "    </tr>\n",
       "  </thead>\n",
       "  <tbody>\n",
       "    <tr>\n",
       "      <th>0</th>\n",
       "      <td>15</td>\n",
       "      <td>TUNIS MARINE</td>\n",
       "      <td>TUNIS MARINE</td>\n",
       "      <td>تونس البحرية</td>\n",
       "      <td>36.800174</td>\n",
       "      <td>10.190487</td>\n",
       "    </tr>\n",
       "    <tr>\n",
       "      <th>1</th>\n",
       "      <td>16</td>\n",
       "      <td>STREET OF TURKISH</td>\n",
       "      <td>RUE DE LA TURQUIE</td>\n",
       "      <td>نهج تركيا</td>\n",
       "      <td>36.799103</td>\n",
       "      <td>10.186369</td>\n",
       "    </tr>\n",
       "    <tr>\n",
       "      <th>2</th>\n",
       "      <td>20</td>\n",
       "      <td>MONCEF BEY</td>\n",
       "      <td>MONCEF BEY</td>\n",
       "      <td>المنصف باي</td>\n",
       "      <td>36.792631</td>\n",
       "      <td>10.185839</td>\n",
       "    </tr>\n",
       "    <tr>\n",
       "      <th>3</th>\n",
       "      <td>21</td>\n",
       "      <td>HOPSPITAL MILITARY</td>\n",
       "      <td>HOPITAL MILITAIRE</td>\n",
       "      <td>المستشفى العسكري</td>\n",
       "      <td>36.785595</td>\n",
       "      <td>10.179933</td>\n",
       "    </tr>\n",
       "    <tr>\n",
       "      <th>4</th>\n",
       "      <td>22</td>\n",
       "      <td>HOPITAL HABIB THAMEUR</td>\n",
       "      <td>HOPITAL HABIB THAMEUR</td>\n",
       "      <td>مستشفى الحبيب ثامر</td>\n",
       "      <td>36.784376</td>\n",
       "      <td>10.175823</td>\n",
       "    </tr>\n",
       "  </tbody>\n",
       "</table>\n",
       "</div>"
      ],
      "text/plain": [
       "   station_id           english_name            french_name  \\\n",
       "0          15           TUNIS MARINE           TUNIS MARINE   \n",
       "1          16      STREET OF TURKISH      RUE DE LA TURQUIE   \n",
       "2          20             MONCEF BEY             MONCEF BEY   \n",
       "3          21     HOPSPITAL MILITARY      HOPITAL MILITAIRE   \n",
       "4          22  HOPITAL HABIB THAMEUR  HOPITAL HABIB THAMEUR   \n",
       "\n",
       "          arabic_name   latitude  longitude  \n",
       "0        تونس البحرية  36.800174  10.190487  \n",
       "1           نهج تركيا  36.799103  10.186369  \n",
       "2          المنصف باي  36.792631  10.185839  \n",
       "3    المستشفى العسكري  36.785595  10.179933  \n",
       "4  مستشفى الحبيب ثامر  36.784376  10.175823  "
      ]
     },
     "execution_count": 6,
     "metadata": {},
     "output_type": "execute_result"
    }
   ],
   "source": [
    "stops = pd.read_csv('../database/stops.sql', error_bad_lines=False,  sep='\\t', names = ['english_name', 'french_name', 'arabic_name', 'latitude', 'longitude'])\n",
    "stops = stops.reset_index().rename({'index':'station_id'},axis=1)\n",
    "stops.head()"
   ]
  },
  {
   "cell_type": "code",
   "execution_count": 7,
   "metadata": {},
   "outputs": [
    {
     "data": {
      "text/html": [
       "<div>\n",
       "<style scoped>\n",
       "    .dataframe tbody tr th:only-of-type {\n",
       "        vertical-align: middle;\n",
       "    }\n",
       "\n",
       "    .dataframe tbody tr th {\n",
       "        vertical-align: top;\n",
       "    }\n",
       "\n",
       "    .dataframe thead th {\n",
       "        text-align: right;\n",
       "    }\n",
       "</style>\n",
       "<table border=\"1\" class=\"dataframe\">\n",
       "  <thead>\n",
       "    <tr style=\"text-align: right;\">\n",
       "      <th></th>\n",
       "      <th>line_id</th>\n",
       "      <th>station_id</th>\n",
       "      <th>order</th>\n",
       "    </tr>\n",
       "  </thead>\n",
       "  <tbody>\n",
       "    <tr>\n",
       "      <th>0</th>\n",
       "      <td>1</td>\n",
       "      <td>1</td>\n",
       "      <td>1</td>\n",
       "    </tr>\n",
       "    <tr>\n",
       "      <th>1</th>\n",
       "      <td>1</td>\n",
       "      <td>2</td>\n",
       "      <td>2</td>\n",
       "    </tr>\n",
       "    <tr>\n",
       "      <th>2</th>\n",
       "      <td>1</td>\n",
       "      <td>3</td>\n",
       "      <td>3</td>\n",
       "    </tr>\n",
       "    <tr>\n",
       "      <th>3</th>\n",
       "      <td>1</td>\n",
       "      <td>4</td>\n",
       "      <td>4</td>\n",
       "    </tr>\n",
       "    <tr>\n",
       "      <th>4</th>\n",
       "      <td>1</td>\n",
       "      <td>5</td>\n",
       "      <td>5</td>\n",
       "    </tr>\n",
       "  </tbody>\n",
       "</table>\n",
       "</div>"
      ],
      "text/plain": [
       "   line_id  station_id  order\n",
       "0        1           1      1\n",
       "1        1           2      2\n",
       "2        1           3      3\n",
       "3        1           4      4\n",
       "4        1           5      5"
      ]
     },
     "execution_count": 7,
     "metadata": {},
     "output_type": "execute_result"
    }
   ],
   "source": [
    "path_stop = pd.read_csv('../database/path_stop.sql', sep='\\t', names = ['id', 'line_id', 'station_id', 'order']).drop('id',axis=1)\n",
    "path_stop.head()"
   ]
  },
  {
   "cell_type": "code",
   "execution_count": 8,
   "metadata": {},
   "outputs": [
    {
     "data": {
      "text/html": [
       "<div>\n",
       "<style scoped>\n",
       "    .dataframe tbody tr th:only-of-type {\n",
       "        vertical-align: middle;\n",
       "    }\n",
       "\n",
       "    .dataframe tbody tr th {\n",
       "        vertical-align: top;\n",
       "    }\n",
       "\n",
       "    .dataframe thead th {\n",
       "        text-align: right;\n",
       "    }\n",
       "</style>\n",
       "<table border=\"1\" class=\"dataframe\">\n",
       "  <thead>\n",
       "    <tr style=\"text-align: right;\">\n",
       "      <th></th>\n",
       "      <th>path_id</th>\n",
       "      <th>line_label</th>\n",
       "    </tr>\n",
       "  </thead>\n",
       "  <tbody>\n",
       "    <tr>\n",
       "      <th>0</th>\n",
       "      <td>4</td>\n",
       "      <td>104</td>\n",
       "    </tr>\n",
       "    <tr>\n",
       "      <th>1</th>\n",
       "      <td>6</td>\n",
       "      <td>Empty Line</td>\n",
       "    </tr>\n",
       "    <tr>\n",
       "      <th>2</th>\n",
       "      <td>7</td>\n",
       "      <td>6</td>\n",
       "    </tr>\n",
       "    <tr>\n",
       "      <th>3</th>\n",
       "      <td>8</td>\n",
       "      <td>5</td>\n",
       "    </tr>\n",
       "    <tr>\n",
       "      <th>4</th>\n",
       "      <td>9</td>\n",
       "      <td>3</td>\n",
       "    </tr>\n",
       "  </tbody>\n",
       "</table>\n",
       "</div>"
      ],
      "text/plain": [
       "   path_id  line_label\n",
       "0        4         104\n",
       "1        6  Empty Line\n",
       "2        7           6\n",
       "3        8           5\n",
       "4        9           3"
      ]
     },
     "execution_count": 8,
     "metadata": {},
     "output_type": "execute_result"
    }
   ],
   "source": [
    "lines = pd.read_csv('../database/lines.sql', sep='\\t').drop(['2.2','2.3'],axis = 1).rename({'2':'path_id','2.1':'line_label'},axis=1)\n",
    "lines.head()"
   ]
  },
  {
   "cell_type": "markdown",
   "metadata": {},
   "source": [
    "### 1) Generate station paths : merge path_stop with stops"
   ]
  },
  {
   "cell_type": "code",
   "execution_count": 9,
   "metadata": {},
   "outputs": [
    {
     "data": {
      "text/html": [
       "<div>\n",
       "<style scoped>\n",
       "    .dataframe tbody tr th:only-of-type {\n",
       "        vertical-align: middle;\n",
       "    }\n",
       "\n",
       "    .dataframe tbody tr th {\n",
       "        vertical-align: top;\n",
       "    }\n",
       "\n",
       "    .dataframe thead th {\n",
       "        text-align: right;\n",
       "    }\n",
       "</style>\n",
       "<table border=\"1\" class=\"dataframe\">\n",
       "  <thead>\n",
       "    <tr style=\"text-align: right;\">\n",
       "      <th></th>\n",
       "      <th>line_id</th>\n",
       "      <th>station_id</th>\n",
       "      <th>order</th>\n",
       "      <th>english_name</th>\n",
       "      <th>french_name</th>\n",
       "      <th>arabic_name</th>\n",
       "      <th>latitude</th>\n",
       "      <th>longitude</th>\n",
       "    </tr>\n",
       "  </thead>\n",
       "  <tbody>\n",
       "    <tr>\n",
       "      <th>268</th>\n",
       "      <td>1</td>\n",
       "      <td>161</td>\n",
       "      <td>1</td>\n",
       "      <td>CITE EL INTILAKA</td>\n",
       "      <td>CITE EL INTILAKA</td>\n",
       "      <td>حي الإنطلاقة</td>\n",
       "      <td>36.838918</td>\n",
       "      <td>10.117072</td>\n",
       "    </tr>\n",
       "    <tr>\n",
       "      <th>266</th>\n",
       "      <td>1</td>\n",
       "      <td>160</td>\n",
       "      <td>2</td>\n",
       "      <td>ETTADHAMEN</td>\n",
       "      <td>ETTADHAMEN</td>\n",
       "      <td>التضامن</td>\n",
       "      <td>36.835840</td>\n",
       "      <td>10.117590</td>\n",
       "    </tr>\n",
       "    <tr>\n",
       "      <th>455</th>\n",
       "      <td>1</td>\n",
       "      <td>105</td>\n",
       "      <td>3</td>\n",
       "      <td>OMRANE SUPÉRIEUR</td>\n",
       "      <td>OMRANE SUPÉRIEUR</td>\n",
       "      <td>العمران الأعلى</td>\n",
       "      <td>36.830582</td>\n",
       "      <td>10.124005</td>\n",
       "    </tr>\n",
       "    <tr>\n",
       "      <th>264</th>\n",
       "      <td>1</td>\n",
       "      <td>159</td>\n",
       "      <td>4</td>\n",
       "      <td>ETTAHRIR</td>\n",
       "      <td>ETTAHRIR</td>\n",
       "      <td>التحرير</td>\n",
       "      <td>36.829180</td>\n",
       "      <td>10.128620</td>\n",
       "    </tr>\n",
       "    <tr>\n",
       "      <th>260</th>\n",
       "      <td>1</td>\n",
       "      <td>158</td>\n",
       "      <td>5</td>\n",
       "      <td>LES JASMINS</td>\n",
       "      <td>LES JASMINS</td>\n",
       "      <td>الياسمين</td>\n",
       "      <td>36.825880</td>\n",
       "      <td>10.134540</td>\n",
       "    </tr>\n",
       "  </tbody>\n",
       "</table>\n",
       "</div>"
      ],
      "text/plain": [
       "     line_id  station_id  order      english_name       french_name  \\\n",
       "268        1         161      1  CITE EL INTILAKA  CITE EL INTILAKA   \n",
       "266        1         160      2        ETTADHAMEN        ETTADHAMEN   \n",
       "455        1         105      3  OMRANE SUPÉRIEUR  OMRANE SUPÉRIEUR   \n",
       "264        1         159      4          ETTAHRIR          ETTAHRIR   \n",
       "260        1         158      5       LES JASMINS       LES JASMINS   \n",
       "\n",
       "        arabic_name   latitude  longitude  \n",
       "268    حي الإنطلاقة  36.838918  10.117072  \n",
       "266         التضامن  36.835840  10.117590  \n",
       "455  العمران الأعلى  36.830582  10.124005  \n",
       "264         التحرير  36.829180  10.128620  \n",
       "260        الياسمين  36.825880  10.134540  "
      ]
     },
     "execution_count": 9,
     "metadata": {},
     "output_type": "execute_result"
    }
   ],
   "source": [
    "station_paths = path_stop.merge(stops, on='station_id').sort_values(['line_id','order'])\n",
    "station_paths.head()"
   ]
  },
  {
   "cell_type": "code",
   "execution_count": 10,
   "metadata": {},
   "outputs": [
    {
     "data": {
      "text/plain": [
       "line_id         0\n",
       "station_id      0\n",
       "order           0\n",
       "english_name    0\n",
       "french_name     0\n",
       "arabic_name     0\n",
       "latitude        3\n",
       "longitude       0\n",
       "dtype: int64"
      ]
     },
     "execution_count": 10,
     "metadata": {},
     "output_type": "execute_result"
    }
   ],
   "source": [
    "station_paths.isnull().sum()"
   ]
  },
  {
   "cell_type": "code",
   "execution_count": 11,
   "metadata": {},
   "outputs": [],
   "source": [
    "#fix foyer bardo 2 station coordinates\n",
    "station_paths.iloc[301,-2] = 36.818324\n",
    "station_paths.iloc[301,-1] = 10.141400\n",
    "\n",
    "#fix stade ibn kholdoun station coordiantes\n",
    "station_paths.iloc[286,-2] = 36.833022\n",
    "station_paths.iloc[286,-1] = 10.136255\n",
    "\n",
    "#fix mosque ibn kholdoun station coordinates\n",
    "station_paths.iloc[284,-2] = 36.829171\n",
    "station_paths.iloc[284,-1] = 10.135974"
   ]
  },
  {
   "cell_type": "code",
   "execution_count": 12,
   "metadata": {},
   "outputs": [
    {
     "data": {
      "text/plain": [
       "line_id         0\n",
       "station_id      0\n",
       "order           0\n",
       "english_name    0\n",
       "french_name     0\n",
       "arabic_name     0\n",
       "latitude        0\n",
       "longitude       0\n",
       "dtype: int64"
      ]
     },
     "execution_count": 12,
     "metadata": {},
     "output_type": "execute_result"
    }
   ],
   "source": [
    "station_paths.isnull().sum()"
   ]
  },
  {
   "cell_type": "code",
   "execution_count": 13,
   "metadata": {},
   "outputs": [
    {
     "data": {
      "text/html": [
       "<div>\n",
       "<style scoped>\n",
       "    .dataframe tbody tr th:only-of-type {\n",
       "        vertical-align: middle;\n",
       "    }\n",
       "\n",
       "    .dataframe tbody tr th {\n",
       "        vertical-align: top;\n",
       "    }\n",
       "\n",
       "    .dataframe thead th {\n",
       "        text-align: right;\n",
       "    }\n",
       "</style>\n",
       "<table border=\"1\" class=\"dataframe\">\n",
       "  <thead>\n",
       "    <tr style=\"text-align: right;\">\n",
       "      <th></th>\n",
       "      <th>line_id</th>\n",
       "      <th>station_id</th>\n",
       "      <th>order</th>\n",
       "      <th>english_name</th>\n",
       "      <th>french_name</th>\n",
       "      <th>arabic_name</th>\n",
       "      <th>latitude</th>\n",
       "      <th>longitude</th>\n",
       "    </tr>\n",
       "  </thead>\n",
       "  <tbody>\n",
       "    <tr>\n",
       "      <th>268</th>\n",
       "      <td>1</td>\n",
       "      <td>161</td>\n",
       "      <td>1</td>\n",
       "      <td>CITE EL INTILAKA</td>\n",
       "      <td>CITE EL INTILAKA</td>\n",
       "      <td>حي الإنطلاقة</td>\n",
       "      <td>36.838918</td>\n",
       "      <td>10.117072</td>\n",
       "    </tr>\n",
       "    <tr>\n",
       "      <th>266</th>\n",
       "      <td>1</td>\n",
       "      <td>160</td>\n",
       "      <td>2</td>\n",
       "      <td>ETTADHAMEN</td>\n",
       "      <td>ETTADHAMEN</td>\n",
       "      <td>التضامن</td>\n",
       "      <td>36.835840</td>\n",
       "      <td>10.117590</td>\n",
       "    </tr>\n",
       "    <tr>\n",
       "      <th>455</th>\n",
       "      <td>1</td>\n",
       "      <td>105</td>\n",
       "      <td>3</td>\n",
       "      <td>OMRANE SUPÉRIEUR</td>\n",
       "      <td>OMRANE SUPÉRIEUR</td>\n",
       "      <td>العمران الأعلى</td>\n",
       "      <td>36.830582</td>\n",
       "      <td>10.124005</td>\n",
       "    </tr>\n",
       "    <tr>\n",
       "      <th>264</th>\n",
       "      <td>1</td>\n",
       "      <td>159</td>\n",
       "      <td>4</td>\n",
       "      <td>ETTAHRIR</td>\n",
       "      <td>ETTAHRIR</td>\n",
       "      <td>التحرير</td>\n",
       "      <td>36.829180</td>\n",
       "      <td>10.128620</td>\n",
       "    </tr>\n",
       "    <tr>\n",
       "      <th>260</th>\n",
       "      <td>1</td>\n",
       "      <td>158</td>\n",
       "      <td>5</td>\n",
       "      <td>LES JASMINS</td>\n",
       "      <td>LES JASMINS</td>\n",
       "      <td>الياسمين</td>\n",
       "      <td>36.825880</td>\n",
       "      <td>10.134540</td>\n",
       "    </tr>\n",
       "  </tbody>\n",
       "</table>\n",
       "</div>"
      ],
      "text/plain": [
       "     line_id  station_id  order      english_name       french_name  \\\n",
       "268        1         161      1  CITE EL INTILAKA  CITE EL INTILAKA   \n",
       "266        1         160      2        ETTADHAMEN        ETTADHAMEN   \n",
       "455        1         105      3  OMRANE SUPÉRIEUR  OMRANE SUPÉRIEUR   \n",
       "264        1         159      4          ETTAHRIR          ETTAHRIR   \n",
       "260        1         158      5       LES JASMINS       LES JASMINS   \n",
       "\n",
       "        arabic_name   latitude  longitude  \n",
       "268    حي الإنطلاقة  36.838918  10.117072  \n",
       "266         التضامن  36.835840  10.117590  \n",
       "455  العمران الأعلى  36.830582  10.124005  \n",
       "264         التحرير  36.829180  10.128620  \n",
       "260        الياسمين  36.825880  10.134540  "
      ]
     },
     "execution_count": 13,
     "metadata": {},
     "output_type": "execute_result"
    }
   ],
   "source": [
    "station_paths.head()"
   ]
  },
  {
   "cell_type": "markdown",
   "metadata": {},
   "source": [
    "### 2) Genetrate line_paths : merge lines with paths"
   ]
  },
  {
   "cell_type": "code",
   "execution_count": 14,
   "metadata": {},
   "outputs": [],
   "source": [
    "lines = lines.append({'path_id':2,'line_label':'2'},ignore_index=True)"
   ]
  },
  {
   "cell_type": "code",
   "execution_count": 16,
   "metadata": {},
   "outputs": [
    {
     "data": {
      "text/html": [
       "<div>\n",
       "<style scoped>\n",
       "    .dataframe tbody tr th:only-of-type {\n",
       "        vertical-align: middle;\n",
       "    }\n",
       "\n",
       "    .dataframe tbody tr th {\n",
       "        vertical-align: top;\n",
       "    }\n",
       "\n",
       "    .dataframe thead th {\n",
       "        text-align: right;\n",
       "    }\n",
       "</style>\n",
       "<table border=\"1\" class=\"dataframe\">\n",
       "  <thead>\n",
       "    <tr style=\"text-align: right;\">\n",
       "      <th></th>\n",
       "      <th>line_id</th>\n",
       "      <th>path_id</th>\n",
       "      <th>english_name</th>\n",
       "      <th>french_name</th>\n",
       "      <th>arabic_name</th>\n",
       "      <th>tag</th>\n",
       "      <th>line_label</th>\n",
       "    </tr>\n",
       "  </thead>\n",
       "  <tbody>\n",
       "    <tr>\n",
       "      <th>0</th>\n",
       "      <td>1</td>\n",
       "      <td>8</td>\n",
       "      <td>Intilaka vers  Barcelona</td>\n",
       "      <td>Intilaka vers  Barcelone</td>\n",
       "      <td>الإنطلاقة في إتجاه برشلونة</td>\n",
       "      <td>1</td>\n",
       "      <td>5</td>\n",
       "    </tr>\n",
       "    <tr>\n",
       "      <th>1</th>\n",
       "      <td>3</td>\n",
       "      <td>8</td>\n",
       "      <td>Barcelone to Intilaka</td>\n",
       "      <td>Barcelona vers Intilaka</td>\n",
       "      <td>برشلونة في إتجاه الإنطلاقة</td>\n",
       "      <td>0</td>\n",
       "      <td>5</td>\n",
       "    </tr>\n",
       "    <tr>\n",
       "      <th>2</th>\n",
       "      <td>4</td>\n",
       "      <td>4</td>\n",
       "      <td>Tunis Marine to Campus Manouba</td>\n",
       "      <td>Tunis Marine vers Campus Manouba</td>\n",
       "      <td>تونس البحرية في إتجاه المركب الجامعي بمنوبة</td>\n",
       "      <td>0</td>\n",
       "      <td>104</td>\n",
       "    </tr>\n",
       "    <tr>\n",
       "      <th>3</th>\n",
       "      <td>5</td>\n",
       "      <td>4</td>\n",
       "      <td>Campus Manouba toTunis Marine</td>\n",
       "      <td>Campus Manouba vers Tunis Marine</td>\n",
       "      <td>المركب الجامعي بمنوبة  في إتجاه تونس البحرية</td>\n",
       "      <td>1</td>\n",
       "      <td>104</td>\n",
       "    </tr>\n",
       "    <tr>\n",
       "      <th>4</th>\n",
       "      <td>6</td>\n",
       "      <td>2</td>\n",
       "      <td>Republique to Ariana</td>\n",
       "      <td>Republique vers Ariana</td>\n",
       "      <td>الجمهورية في إتجاه أريانة</td>\n",
       "      <td>0</td>\n",
       "      <td>2</td>\n",
       "    </tr>\n",
       "  </tbody>\n",
       "</table>\n",
       "</div>"
      ],
      "text/plain": [
       "   line_id  path_id                    english_name  \\\n",
       "0        1        8        Intilaka vers  Barcelona   \n",
       "1        3        8           Barcelone to Intilaka   \n",
       "2        4        4  Tunis Marine to Campus Manouba   \n",
       "3        5        4   Campus Manouba toTunis Marine   \n",
       "4        6        2            Republique to Ariana   \n",
       "\n",
       "                        french_name  \\\n",
       "0          Intilaka vers  Barcelone   \n",
       "1           Barcelona vers Intilaka   \n",
       "2  Tunis Marine vers Campus Manouba   \n",
       "3  Campus Manouba vers Tunis Marine   \n",
       "4            Republique vers Ariana   \n",
       "\n",
       "                                    arabic_name  tag line_label  \n",
       "0                    الإنطلاقة في إتجاه برشلونة    1          5  \n",
       "1                    برشلونة في إتجاه الإنطلاقة    0          5  \n",
       "2   تونس البحرية في إتجاه المركب الجامعي بمنوبة    0        104  \n",
       "3  المركب الجامعي بمنوبة  في إتجاه تونس البحرية    1        104  \n",
       "4                     الجمهورية في إتجاه أريانة    0          2  "
      ]
     },
     "execution_count": 16,
     "metadata": {},
     "output_type": "execute_result"
    }
   ],
   "source": [
    "line_paths = paths.merge(lines,on='path_id')\n",
    "line_paths.to_csv('data/line_paths.csv', index=False)\n",
    "line_paths.head()"
   ]
  },
  {
   "cell_type": "markdown",
   "metadata": {},
   "source": [
    "### 3) Final station paths merging and preprocessing"
   ]
  },
  {
   "cell_type": "code",
   "execution_count": 17,
   "metadata": {},
   "outputs": [],
   "source": [
    "station_paths = station_paths.merge(line_paths[['line_id','path_id','line_label','tag']], on = 'line_id')"
   ]
  },
  {
   "cell_type": "code",
   "execution_count": 18,
   "metadata": {},
   "outputs": [],
   "source": [
    "def vehicle(x):\n",
    "    if x == 'TGM' : \n",
    "        # 1 for TGM\n",
    "        return 1\n",
    "    elif x in ['1','2','3','4','5','6'] :\n",
    "        #2 for Metro\n",
    "        return 2\n",
    "    else:\n",
    "        #3 for Bus\n",
    "        return 3"
   ]
  },
  {
   "cell_type": "code",
   "execution_count": 19,
   "metadata": {},
   "outputs": [
    {
     "data": {
      "text/html": [
       "<div>\n",
       "<style scoped>\n",
       "    .dataframe tbody tr th:only-of-type {\n",
       "        vertical-align: middle;\n",
       "    }\n",
       "\n",
       "    .dataframe tbody tr th {\n",
       "        vertical-align: top;\n",
       "    }\n",
       "\n",
       "    .dataframe thead th {\n",
       "        text-align: right;\n",
       "    }\n",
       "</style>\n",
       "<table border=\"1\" class=\"dataframe\">\n",
       "  <thead>\n",
       "    <tr style=\"text-align: right;\">\n",
       "      <th></th>\n",
       "      <th>line_id</th>\n",
       "      <th>station_id</th>\n",
       "      <th>order</th>\n",
       "      <th>english_name</th>\n",
       "      <th>french_name</th>\n",
       "      <th>arabic_name</th>\n",
       "      <th>latitude</th>\n",
       "      <th>longitude</th>\n",
       "      <th>path_id</th>\n",
       "      <th>line_label</th>\n",
       "      <th>tag</th>\n",
       "      <th>vehicle_type</th>\n",
       "    </tr>\n",
       "  </thead>\n",
       "  <tbody>\n",
       "    <tr>\n",
       "      <th>0</th>\n",
       "      <td>1</td>\n",
       "      <td>161</td>\n",
       "      <td>1</td>\n",
       "      <td>CITE EL INTILAKA</td>\n",
       "      <td>CITE EL INTILAKA</td>\n",
       "      <td>حي الإنطلاقة</td>\n",
       "      <td>36.838918</td>\n",
       "      <td>10.117072</td>\n",
       "      <td>8</td>\n",
       "      <td>5</td>\n",
       "      <td>1</td>\n",
       "      <td>2</td>\n",
       "    </tr>\n",
       "    <tr>\n",
       "      <th>1</th>\n",
       "      <td>1</td>\n",
       "      <td>160</td>\n",
       "      <td>2</td>\n",
       "      <td>ETTADHAMEN</td>\n",
       "      <td>ETTADHAMEN</td>\n",
       "      <td>التضامن</td>\n",
       "      <td>36.835840</td>\n",
       "      <td>10.117590</td>\n",
       "      <td>8</td>\n",
       "      <td>5</td>\n",
       "      <td>1</td>\n",
       "      <td>2</td>\n",
       "    </tr>\n",
       "    <tr>\n",
       "      <th>2</th>\n",
       "      <td>1</td>\n",
       "      <td>105</td>\n",
       "      <td>3</td>\n",
       "      <td>OMRANE SUPÉRIEUR</td>\n",
       "      <td>OMRANE SUPÉRIEUR</td>\n",
       "      <td>العمران الأعلى</td>\n",
       "      <td>36.830582</td>\n",
       "      <td>10.124005</td>\n",
       "      <td>8</td>\n",
       "      <td>5</td>\n",
       "      <td>1</td>\n",
       "      <td>2</td>\n",
       "    </tr>\n",
       "    <tr>\n",
       "      <th>3</th>\n",
       "      <td>1</td>\n",
       "      <td>159</td>\n",
       "      <td>4</td>\n",
       "      <td>ETTAHRIR</td>\n",
       "      <td>ETTAHRIR</td>\n",
       "      <td>التحرير</td>\n",
       "      <td>36.829180</td>\n",
       "      <td>10.128620</td>\n",
       "      <td>8</td>\n",
       "      <td>5</td>\n",
       "      <td>1</td>\n",
       "      <td>2</td>\n",
       "    </tr>\n",
       "    <tr>\n",
       "      <th>4</th>\n",
       "      <td>1</td>\n",
       "      <td>158</td>\n",
       "      <td>5</td>\n",
       "      <td>LES JASMINS</td>\n",
       "      <td>LES JASMINS</td>\n",
       "      <td>الياسمين</td>\n",
       "      <td>36.825880</td>\n",
       "      <td>10.134540</td>\n",
       "      <td>8</td>\n",
       "      <td>5</td>\n",
       "      <td>1</td>\n",
       "      <td>2</td>\n",
       "    </tr>\n",
       "  </tbody>\n",
       "</table>\n",
       "</div>"
      ],
      "text/plain": [
       "   line_id  station_id  order      english_name       french_name  \\\n",
       "0        1         161      1  CITE EL INTILAKA  CITE EL INTILAKA   \n",
       "1        1         160      2        ETTADHAMEN        ETTADHAMEN   \n",
       "2        1         105      3  OMRANE SUPÉRIEUR  OMRANE SUPÉRIEUR   \n",
       "3        1         159      4          ETTAHRIR          ETTAHRIR   \n",
       "4        1         158      5       LES JASMINS       LES JASMINS   \n",
       "\n",
       "      arabic_name   latitude  longitude  path_id line_label  tag  vehicle_type  \n",
       "0    حي الإنطلاقة  36.838918  10.117072        8          5    1             2  \n",
       "1         التضامن  36.835840  10.117590        8          5    1             2  \n",
       "2  العمران الأعلى  36.830582  10.124005        8          5    1             2  \n",
       "3         التحرير  36.829180  10.128620        8          5    1             2  \n",
       "4        الياسمين  36.825880  10.134540        8          5    1             2  "
      ]
     },
     "execution_count": 19,
     "metadata": {},
     "output_type": "execute_result"
    }
   ],
   "source": [
    "station_paths['vehicle_type'] = station_paths.line_label.apply(vehicle)\n",
    "station_paths.head()"
   ]
  },
  {
   "cell_type": "code",
   "execution_count": 20,
   "metadata": {},
   "outputs": [
    {
     "data": {
      "text/plain": [
       "<AxesSubplot:>"
      ]
     },
     "execution_count": 20,
     "metadata": {},
     "output_type": "execute_result"
    },
    {
     "data": {
      "image/png": "[encoded data removed]",
      "text/plain": [
       "<Figure size 432x288 with 1 Axes>"
      ]
     },
     "metadata": {
      "needs_background": "light"
     },
     "output_type": "display_data"
    }
   ],
   "source": [
    "station_paths.latitude.plot(kind='box')"
   ]
  },
  {
   "cell_type": "code",
   "execution_count": 21,
   "metadata": {},
   "outputs": [
    {
     "data": {
      "text/plain": [
       "<AxesSubplot:>"
      ]
     },
     "execution_count": 21,
     "metadata": {},
     "output_type": "execute_result"
    },
    {
     "data": {
      "image/png": "[encoded data removed]",
      "text/plain": [
       "<Figure size 432x288 with 1 Axes>"
      ]
     },
     "metadata": {
      "needs_background": "light"
     },
     "output_type": "display_data"
    }
   ],
   "source": [
    "station_paths.longitude.plot(kind='box')"
   ]
  },
  {
   "cell_type": "code",
   "execution_count": 22,
   "metadata": {},
   "outputs": [],
   "source": [
    "#stop correction\n",
    "station_paths.loc[343,'arabic_name'] = '20 مارس'\n",
    "station_paths.loc[343,'latitude'] = 36.807718\n",
    "station_paths.loc[343,'longitude'] = 10.139172"
   ]
  },
  {
   "cell_type": "code",
   "execution_count": 23,
   "metadata": {},
   "outputs": [],
   "source": [
    "#assing a unique id for each station\n",
    "\n",
    "unique_coords = station_paths[['latitude', 'longitude']].drop_duplicates().reset_index(drop=True)\n",
    "\n",
    "n = unique_coords.shape[0]\n",
    "unique_station_id = np.arange(1,n+1)\n",
    "\n",
    "unique_coords['station_id'] = unique_station_id\n",
    "\n",
    "station_paths.drop('station_id', axis=1, inplace=True)\n",
    "\n",
    "station_paths = unique_coords.merge(station_paths, on = ['latitude', 'longitude'])\n",
    "station_paths = station_paths.sort_values(['line_id','order'])"
   ]
  },
  {
   "cell_type": "code",
   "execution_count": 24,
   "metadata": {},
   "outputs": [],
   "source": [
    "station_paths = station_paths[~station_paths[['line_id','station_id']].duplicated()]"
   ]
  },
  {
   "cell_type": "code",
   "execution_count": 25,
   "metadata": {},
   "outputs": [
    {
     "data": {
      "text/plain": [
       "array([False])"
      ]
     },
     "execution_count": 25,
     "metadata": {},
     "output_type": "execute_result"
    }
   ],
   "source": [
    "station_paths[['line_id','station_id']].duplicated().unique()"
   ]
  },
  {
   "cell_type": "code",
   "execution_count": 26,
   "metadata": {},
   "outputs": [],
   "source": [
    "#correct order\n",
    "station_paths['order'] = station_paths.groupby('line_id').order.cumcount() + 1"
   ]
  },
  {
   "cell_type": "markdown",
   "metadata": {},
   "source": [
    "### correct duplicated stops labels with same coordinates : "
   ]
  },
  {
   "cell_type": "code",
   "execution_count": 27,
   "metadata": {},
   "outputs": [],
   "source": [
    "station_paths_unique = station_paths[['french_name','english_name','arabic_name','station_id']].drop_duplicates()"
   ]
  },
  {
   "cell_type": "code",
   "execution_count": 28,
   "metadata": {},
   "outputs": [],
   "source": [
    "mask = station_paths_unique.station_id.duplicated()"
   ]
  },
  {
   "cell_type": "code",
   "execution_count": 29,
   "metadata": {},
   "outputs": [
    {
     "data": {
      "text/plain": [
       "array([ 35,  28,  23, 138, 137, 161])"
      ]
     },
     "execution_count": 29,
     "metadata": {},
     "output_type": "execute_result"
    }
   ],
   "source": [
    "duplicated_stations = station_paths_unique[mask].station_id.values\n",
    "duplicated_stations"
   ]
  },
  {
   "cell_type": "code",
   "execution_count": 30,
   "metadata": {},
   "outputs": [],
   "source": [
    "replace_english = dict((key,value) \\\n",
    "                  for key, value in \\\n",
    "                  zip(station_paths_unique[station_paths_unique.station_id.isin(duplicated_stations)].groupby('station_id').english_name.last().values,\\\n",
    "                      station_paths_unique[station_paths_unique.station_id.isin(duplicated_stations)].groupby('station_id').english_name.first().values) )"
   ]
  },
  {
   "cell_type": "code",
   "execution_count": 31,
   "metadata": {},
   "outputs": [],
   "source": [
    "replace_french = dict((key,value) \\\n",
    "                 for key, value in \\\n",
    "                 zip(station_paths_unique[station_paths_unique.station_id.isin(duplicated_stations)].groupby('station_id').french_name.last().values,\\\n",
    "                     station_paths_unique[station_paths_unique.station_id.isin(duplicated_stations)].groupby('station_id').french_name.first().values) )"
   ]
  },
  {
   "cell_type": "code",
   "execution_count": 32,
   "metadata": {},
   "outputs": [],
   "source": [
    "replace_arabic = dict((key,value) \\\n",
    "                 for key, value in \\\n",
    "                 zip(station_paths_unique[station_paths_unique.station_id.isin(duplicated_stations)].groupby('station_id').arabic_name.last().values,\\\n",
    "                     station_paths_unique[station_paths_unique.station_id.isin(duplicated_stations)].groupby('station_id').arabic_name.first().values) )"
   ]
  },
  {
   "cell_type": "code",
   "execution_count": 33,
   "metadata": {},
   "outputs": [
    {
     "data": {
      "text/plain": [
       "{'DARGHOUTH PACHA STREET': 'UNIVERSITÉ IBN CHARAF',\n",
       " 'CHEBBI': 'CHEBBI',\n",
       " 'GOUVERNORAT MANOUBA': 'GOVERNORATE MANOUBA',\n",
       " 'HABIB BOUGATFA AVENUE - FOYER BARDO 2': 'FOYER BARDO 2',\n",
       " 'RAS TABIA - TRAINING CENTER': 'CENTER DE FORMATION RAS TABIA',\n",
       " 'Thamer Garden': 'HABIB THAMEUR'}"
      ]
     },
     "execution_count": 33,
     "metadata": {},
     "output_type": "execute_result"
    }
   ],
   "source": [
    "replace_english"
   ]
  },
  {
   "cell_type": "code",
   "execution_count": 34,
   "metadata": {},
   "outputs": [
    {
     "data": {
      "text/plain": [
       "{'RUE DARGHOUTH PACHA': 'UNIVERSITÉ IBN CHARAF',\n",
       " 'CHEBBI': 'CHEBBI',\n",
       " 'GOUVERNORAT MANOUBA': 'GOUVERNORAT MANOUBA',\n",
       " 'AVENUE HABIB BOUGATFA - FOYER BARDO 2': 'FOYER BARDO 2',\n",
       " 'RAS TABIA - CENTRE DE FORMATION': 'CENTER DE FORMATION RAS TABIA',\n",
       " 'Jardin Thamer': 'HABIB THAMEUR'}"
      ]
     },
     "execution_count": 34,
     "metadata": {},
     "output_type": "execute_result"
    }
   ],
   "source": [
    "replace_french"
   ]
  },
  {
   "cell_type": "code",
   "execution_count": 35,
   "metadata": {},
   "outputs": [
    {
     "data": {
      "text/plain": [
       "{'نهج درغوث باشا': 'جامعة ابن شرف',\n",
       " 'الشابي': 'الشابى',\n",
       " 'ولاية منوبة': 'ولاية منوبة',\n",
       " 'شارع الحبيب بوقطفة - مبيت باردو 2': 'مبيت باردو 2',\n",
       " 'راس طابية - مركز التكوين': 'مركز التكوين رأس الطابية',\n",
       " 'حديقة ثامر': 'الحبيب ثامر'}"
      ]
     },
     "execution_count": 35,
     "metadata": {},
     "output_type": "execute_result"
    }
   ],
   "source": [
    "replace_arabic"
   ]
  },
  {
   "cell_type": "code",
   "execution_count": 36,
   "metadata": {},
   "outputs": [],
   "source": [
    "#replace duplicated stops labels with same coordinates\n",
    "station_paths.english_name = station_paths.english_name.replace(replace_english)\n",
    "station_paths.french_name = station_paths.french_name.replace(replace_french)\n",
    "station_paths.arabic_name = station_paths.arabic_name.replace(replace_arabic)"
   ]
  },
  {
   "cell_type": "code",
   "execution_count": 37,
   "metadata": {},
   "outputs": [
    {
     "name": "stdout",
     "output_type": "stream",
     "text": [
      "no duplicated stops labels !\n"
     ]
    }
   ],
   "source": [
    "#verification\n",
    "station_paths_unique = station_paths[['french_name','english_name','arabic_name','station_id']].drop_duplicates()\n",
    "mask = station_paths_unique.station_id.duplicated()\n",
    "duplicated_stations = station_paths_unique[mask].station_id.values\n",
    "print('no duplicated stops labels !') if len(duplicated_stations) == 0 else print('there are still some duplicated labels')"
   ]
  },
  {
   "cell_type": "markdown",
   "metadata": {},
   "source": [
    "### data checkpoint"
   ]
  },
  {
   "cell_type": "code",
   "execution_count": 38,
   "metadata": {},
   "outputs": [],
   "source": [
    "station_paths.to_csv('data/stations_paths.csv',index=False)"
   ]
  },
  {
   "cell_type": "code",
   "execution_count": 39,
   "metadata": {},
   "outputs": [],
   "source": [
    "paths.to_csv('data/paths.csv', index = False)"
   ]
  },
  {
   "cell_type": "code",
   "execution_count": 40,
   "metadata": {},
   "outputs": [
    {
     "data": {
      "text/plain": [
       "(700, 12)"
      ]
     },
     "execution_count": 40,
     "metadata": {},
     "output_type": "execute_result"
    }
   ],
   "source": [
    "station_paths.shape"
   ]
  },
  {
   "cell_type": "code",
   "execution_count": 41,
   "metadata": {},
   "outputs": [
    {
     "data": {
      "text/plain": [
       "(45, 6)"
      ]
     },
     "execution_count": 41,
     "metadata": {},
     "output_type": "execute_result"
    }
   ],
   "source": [
    "paths.shape"
   ]
  },
  {
   "cell_type": "markdown",
   "metadata": {},
   "source": [
    "## II) Pick Time Algorithm"
   ]
  },
  {
   "cell_type": "code",
   "execution_count": 42,
   "metadata": {},
   "outputs": [],
   "source": [
    "#load checkpoint\n",
    "station_paths = pd.read_csv('data/stations_paths.csv')\n",
    "paths = pd.read_csv('data/paths.csv')"
   ]
  },
  {
   "cell_type": "markdown",
   "metadata": {},
   "source": [
    "### 1) Haversine formula"
   ]
  },
  {
   "cell_type": "code",
   "execution_count": 43,
   "metadata": {},
   "outputs": [],
   "source": [
    "def haversine_distance(x,y):\n",
    "    R = 6378137 #in meter\n",
    "\n",
    "    #convert to raduis\n",
    "    lat1  = x[0] * np.pi/180\n",
    "    long1 = x[1] * np.pi/180\n",
    "    lat2  = y[0] * np.pi/180\n",
    "    long2 = y[1] * np.pi/180\n",
    "    \n",
    "    #calculate haversine distance\n",
    "    delta_longitude = long1 - long2\n",
    "    delta_latitude = lat1 - lat2\n",
    "    a = (np.sin(delta_latitude/2)**2) + np.cos(lat1)*np.cos(lat2)*(np.sin(delta_longitude/2)**2)\n",
    "    c = 2*np.arctan2(np.sqrt(a),np.sqrt(1-a))\n",
    "    distance = R*c\n",
    "    \n",
    "    return distance"
   ]
  },
  {
   "cell_type": "markdown",
   "metadata": {},
   "source": [
    "### 2) Stops Clustering ( inductive unsupervised learning )"
   ]
  },
  {
   "cell_type": "code",
   "execution_count": 44,
   "metadata": {},
   "outputs": [],
   "source": [
    "from sklearn.cluster import AgglomerativeClustering\n",
    "from sklearn.metrics import pairwise_distances\n",
    "from sklearn.neighbors import KNeighborsClassifier\n",
    "from sklearn.metrics import accuracy_score\n",
    "from sklearn.ensemble import RandomForestClassifier\n",
    "from sklearn.datasets import make_blobs"
   ]
  },
  {
   "cell_type": "code",
   "execution_count": 45,
   "metadata": {},
   "outputs": [],
   "source": [
    "line_vehicletype = dict((key,value['line_id']) \\\n",
    "                        for key, value in station_paths[['line_id','vehicle_type']].drop_duplicates().groupby('vehicle_type').agg(list).T.to_dict().items())"
   ]
  },
  {
   "cell_type": "code",
   "execution_count": 46,
   "metadata": {},
   "outputs": [],
   "source": [
    "def affinity(x):    \n",
    "    return pairwise_distances(x, metric=haversine_distance)"
   ]
  },
  {
   "cell_type": "code",
   "execution_count": 47,
   "metadata": {},
   "outputs": [],
   "source": [
    "model=AgglomerativeClustering(n_clusters=None, distance_threshold=1000, affinity=affinity, linkage='average')\n",
    "model.fit(station_paths[['latitude','longitude']].values) \n",
    "station_paths['station_cluster'] = model.labels_"
   ]
  },
  {
   "cell_type": "code",
   "execution_count": 48,
   "metadata": {},
   "outputs": [
    {
     "data": {
      "text/plain": [
       "48"
      ]
     },
     "execution_count": 48,
     "metadata": {},
     "output_type": "execute_result"
    }
   ],
   "source": [
    "len(np.unique(model.labels_))"
   ]
  },
  {
   "cell_type": "code",
   "execution_count": 49,
   "metadata": {},
   "outputs": [
    {
     "data": {
      "text/plain": [
       "KNeighborsClassifier(n_neighbors=1)"
      ]
     },
     "execution_count": 49,
     "metadata": {},
     "output_type": "execute_result"
    }
   ],
   "source": [
    "knn = KNeighborsClassifier(n_neighbors=1)\n",
    "knn.fit(station_paths[['latitude','longitude']], station_paths.station_cluster)"
   ]
  },
  {
   "cell_type": "code",
   "execution_count": 50,
   "metadata": {},
   "outputs": [],
   "source": [
    "centers = station_paths[['latitude','longitude','station_cluster']].groupby('station_cluster').mean().values\n",
    "std = np.ones(centers.shape)*0.001\n",
    "centroids = station_paths[['latitude','longitude','station_cluster']].groupby('station_cluster', as_index=False).mean()"
   ]
  },
  {
   "cell_type": "code",
   "execution_count": 51,
   "metadata": {},
   "outputs": [],
   "source": [
    "#test data simulation :\n",
    "\n",
    "X,_ = make_blobs(n_samples=10000,\n",
    "                  cluster_std= std,\n",
    "                  centers=centers,\n",
    "                  random_state=2021)\n",
    "\n",
    "y = []\n",
    "for simulation in X:\n",
    "    for coords in centroids.values : \n",
    "        distance = haversine_distance(simulation, coords[1:])\n",
    "        if distance < 1000 : \n",
    "            y.append(coords[0])\n",
    "            break"
   ]
  },
  {
   "cell_type": "code",
   "execution_count": 52,
   "metadata": {},
   "outputs": [
    {
     "name": "stdout",
     "output_type": "stream",
     "text": [
      "0.8737\n"
     ]
    }
   ],
   "source": [
    "y_pred = knn.predict(X)\n",
    "print(accuracy_score(y, y_pred))"
   ]
  },
  {
   "cell_type": "code",
   "execution_count": 53,
   "metadata": {},
   "outputs": [],
   "source": [
    "def extract_vehicletype(line):\n",
    "    if line in line_vehicletype[1]:\n",
    "        return 1\n",
    "    elif line in line_vehicletype[2]:\n",
    "        return 2\n",
    "    else:\n",
    "        return 3"
   ]
  },
  {
   "cell_type": "code",
   "execution_count": 54,
   "metadata": {},
   "outputs": [],
   "source": [
    "grouped_vehicle_cluster_stations = station_paths[['vehicle_type','station_cluster','station_id','latitude','longitude']]\\\n",
    "                                    .groupby(['vehicle_type','station_cluster'], as_index=False)\\\n",
    "                                    .agg(list)\n",
    "\n",
    "vehicle_cluster_stations_dict = {}\n",
    "\n",
    "for vehicle_type, station_cluster, station_id, latitude, longitude in  grouped_vehicle_cluster_stations.values :\n",
    "    \n",
    "    listOfgroups = []\n",
    "    for st, lat, long in zip(station_id, latitude, longitude) :\n",
    "        listOfgroups.append([st, lat, long])\n",
    "    \n",
    "    vehicle_cluster_stations_dict[(vehicle_type, station_cluster)] = listOfgroups"
   ]
  },
  {
   "cell_type": "code",
   "execution_count": 55,
   "metadata": {},
   "outputs": [],
   "source": [
    "terminals = station_paths.sort_values(['line_id','order']).groupby('line_id').station_id.last().values"
   ]
  },
  {
   "cell_type": "markdown",
   "metadata": {},
   "source": [
    "### 3) GPS records picking algorithm"
   ]
  },
  {
   "cell_type": "code",
   "execution_count": 57,
   "metadata": {},
   "outputs": [
    {
     "name": "stdin",
     "output_type": "stream",
     "text": [
      "please set the size of a chunk:\n",
      " 10000000\n",
      "please set the number of chunks to skip, set 0 if no chunks are skipped:\n",
      " 0\n"
     ]
    },
    {
     "name": "stdout",
     "output_type": "stream",
     "text": [
      "\n",
      "\n",
      "- - - - - - - - - PICK - TIME - ALGORITHM - - - - - - - - -\n",
      "Loading data chunk N°:  1  ... done\n",
      "GPS data preprocessing ... done\n",
      "Vehicle types affectation ... done\n",
      "Station clusters prediction ... done\n"
     ]
    },
    {
     "name": "stderr",
     "output_type": "stream",
     "text": [
      "stops time picking : 100%|██████████| 9946929/9946929 [22:09<00:00, 7482.42it/s] \n"
     ]
    },
    {
     "name": "stdout",
     "output_type": "stream",
     "text": [
      "Extracted records :  206299\n",
      "data checkpoint ... done\n",
      "- - - - - - - - - - - - - - - - - - - - - - - - - - - - - - - - -\n",
      "Loading data chunk N°:  2  ... done\n",
      "GPS data preprocessing ... done\n",
      "Vehicle types affectation ... done\n",
      "Station clusters prediction ... done\n"
     ]
    },
    {
     "name": "stderr",
     "output_type": "stream",
     "text": [
      "stops time picking : 100%|██████████| 9956003/9956003 [23:37<00:00, 7022.88it/s] \n"
     ]
    },
    {
     "name": "stdout",
     "output_type": "stream",
     "text": [
      "Extracted records :  227322\n",
      "data checkpoint ... done\n",
      "- - - - - - - - - - - - - - - - - - - - - - - - - - - - - - - - -\n",
      "Loading data chunk N°:  3  ... done\n",
      "GPS data preprocessing ... done\n",
      "Vehicle types affectation ... done\n",
      "Station clusters prediction ... done\n"
     ]
    },
    {
     "name": "stderr",
     "output_type": "stream",
     "text": [
      "stops time picking : 100%|██████████| 9952930/9952930 [23:44<00:00, 6987.25it/s] \n"
     ]
    },
    {
     "name": "stdout",
     "output_type": "stream",
     "text": [
      "Extracted records :  240287\n",
      "data checkpoint ... done\n",
      "- - - - - - - - - - - - - - - - - - - - - - - - - - - - - - - - -\n",
      "Loading data chunk N°:  4  ... done\n",
      "GPS data preprocessing ... done\n",
      "Vehicle types affectation ... done\n",
      "Station clusters prediction ... done\n"
     ]
    },
    {
     "name": "stderr",
     "output_type": "stream",
     "text": [
      "stops time picking : 100%|██████████| 9950096/9950096 [23:45<00:00, 6978.53it/s] \n"
     ]
    },
    {
     "name": "stdout",
     "output_type": "stream",
     "text": [
      "Extracted records :  221490\n",
      "data checkpoint ... done\n",
      "- - - - - - - - - - - - - - - - - - - - - - - - - - - - - - - - -\n",
      "Loading data chunk N°:  5  ... done\n",
      "GPS data preprocessing ... done\n",
      "Vehicle types affectation ... done\n",
      "Station clusters prediction ... done\n"
     ]
    },
    {
     "name": "stderr",
     "output_type": "stream",
     "text": [
      "stops time picking : 100%|██████████| 9959729/9959729 [26:05<00:00, 6360.45it/s]  \n"
     ]
    },
    {
     "name": "stdout",
     "output_type": "stream",
     "text": [
      "Extracted records :  215722\n",
      "data checkpoint ... done\n",
      "- - - - - - - - - - - - - - - - - - - - - - - - - - - - - - - - -\n",
      "Loading data chunk N°:  6  ... done\n",
      "GPS data preprocessing ... done\n",
      "Vehicle types affectation ... done\n",
      "Station clusters prediction ... done\n"
     ]
    },
    {
     "name": "stderr",
     "output_type": "stream",
     "text": [
      "stops time picking : 100%|██████████| 9942610/9942610 [29:22<00:00, 5640.15it/s] \n"
     ]
    },
    {
     "name": "stdout",
     "output_type": "stream",
     "text": [
      "Extracted records :  228231\n",
      "data checkpoint ... done\n",
      "- - - - - - - - - - - - - - - - - - - - - - - - - - - - - - - - -\n",
      "Loading data chunk N°:  7  ... done\n",
      "GPS data preprocessing ... done\n",
      "Vehicle types affectation ... done\n",
      "Station clusters prediction ... done\n"
     ]
    },
    {
     "name": "stderr",
     "output_type": "stream",
     "text": [
      "stops time picking : 100%|██████████| 9953251/9953251 [30:10<00:00, 5496.80it/s]  \n"
     ]
    },
    {
     "name": "stdout",
     "output_type": "stream",
     "text": [
      "Extracted records :  230363\n",
      "data checkpoint ... done\n",
      "- - - - - - - - - - - - - - - - - - - - - - - - - - - - - - - - -\n",
      "Loading data chunk N°:  8  ... done\n",
      "GPS data preprocessing ... done\n",
      "Vehicle types affectation ... done\n",
      "Station clusters prediction ... done\n"
     ]
    },
    {
     "name": "stderr",
     "output_type": "stream",
     "text": [
      "stops time picking : 100%|██████████| 9946431/9946431 [22:33<00:00, 7349.16it/s] \n"
     ]
    },
    {
     "name": "stdout",
     "output_type": "stream",
     "text": [
      "Extracted records :  228000\n",
      "data checkpoint ... done\n",
      "- - - - - - - - - - - - - - - - - - - - - - - - - - - - - - - - -\n",
      "Loading data chunk N°:  9  ... done\n",
      "GPS data preprocessing ... done\n",
      "Vehicle types affectation ... done\n",
      "Station clusters prediction ... done\n"
     ]
    },
    {
     "name": "stderr",
     "output_type": "stream",
     "text": [
      "stops time picking : 100%|██████████| 9925856/9925856 [21:32<00:00, 7679.23it/s] \n"
     ]
    },
    {
     "name": "stdout",
     "output_type": "stream",
     "text": [
      "Extracted records :  224805\n",
      "data checkpoint ... done\n",
      "- - - - - - - - - - - - - - - - - - - - - - - - - - - - - - - - -\n",
      "Loading data chunk N°:  10  ... done\n",
      "GPS data preprocessing ... done\n",
      "Vehicle types affectation ... done\n",
      "Station clusters prediction ... done\n"
     ]
    },
    {
     "name": "stderr",
     "output_type": "stream",
     "text": [
      "stops time picking : 100%|██████████| 9943899/9943899 [20:42<00:00, 7999.93it/s] \n"
     ]
    },
    {
     "name": "stdout",
     "output_type": "stream",
     "text": [
      "Extracted records :  223178\n",
      "data checkpoint ... done\n",
      "- - - - - - - - - - - - - - - - - - - - - - - - - - - - - - - - -\n",
      "Loading data chunk N°:  11  ... done\n",
      "GPS data preprocessing ... done\n",
      "Vehicle types affectation ... done\n",
      "Station clusters prediction ... done\n"
     ]
    },
    {
     "name": "stderr",
     "output_type": "stream",
     "text": [
      "stops time picking : 100%|██████████| 9933843/9933843 [31:23<00:00, 5273.04it/s]  \n"
     ]
    },
    {
     "name": "stdout",
     "output_type": "stream",
     "text": [
      "Extracted records :  228463\n",
      "data checkpoint ... done\n",
      "- - - - - - - - - - - - - - - - - - - - - - - - - - - - - - - - -\n",
      "Loading data chunk N°:  12  ... done\n",
      "GPS data preprocessing ... done\n",
      "Vehicle types affectation ... done\n",
      "Station clusters prediction ... done\n"
     ]
    },
    {
     "name": "stderr",
     "output_type": "stream",
     "text": [
      "stops time picking : 100%|██████████| 6812206/6812206 [16:20<00:00, 6947.17it/s] \n"
     ]
    },
    {
     "name": "stdout",
     "output_type": "stream",
     "text": [
      "Extracted records :  127615\n",
      "data checkpoint ... done\n",
      "- - - - - - - - - - - - - - - - - - - - - - - - - - - - - - - - -\n",
      "Loading data chunk N°:  13  ... "
     ]
    }
   ],
   "source": [
    "import gc\n",
    "\n",
    "# a register that tracks last records for each couple of (vehicle_id,station_id)\n",
    "# (vehicle_id, station_id)  : [min_distance, time ,full gps_record]\n",
    "\n",
    "#algorithm details :\n",
    "# let's call each couple of (vehicle_id, station_id) a cell\n",
    "# if a vehicle is not in a range of 100 meters from a station, the cell is not active (via flag dictionary) and do not record any data from gps\n",
    "# once a vehicle is in a range of 100 meters, the cell is activated and will register records as long as they are closer to the station\n",
    "# if the vehicle get's out of the 100 meters range from a station for the first time, we extract the last closet record to the station and the cell will be \n",
    "# desactivated once again.\n",
    "# or if the vehicle is in the range of 100 meters but there was more than 20 minutes from the last record, in this case maybe the vehicle got out \n",
    "# of the range and didn't send any record until it got once again in the range of 100 meters from the station\n",
    "# in this case we extract the last record\n",
    "# if the vehicle didn't get out of the station range for more than 20 minutes, then we will extract many records for the same staion, this won't be a problem\n",
    "# because we can exclude these records later when we perform some preprocessing to get sequences of successive stations records.\n",
    "\n",
    "#station[1] : station_id\n",
    "#record[0] : vehicle_id from gps records\n",
    "#record[-1] : datetime from gps records\n",
    "\n",
    "size_chunk = int(input('please set the size of a chunk:\\n'))\n",
    "skip = int(input('please set the number of chunks to skip, set 0 if no chunks are skipped:\\n')) \n",
    "\n",
    "names = ['index', 'vehicle_id', 'vehicle_type', 'line_id', 'latitude', 'longitude', 'unkn_1', 'unkn_2', 'unkn_3', 'direction', 'unkn_4', 'unkn_5', 'datetime', 'last_modified']\n",
    "full_gps = pd.read_csv('../database/gps.sql', chunksize=size_chunk, sep='\\t', names=names)\n",
    "\n",
    "register = {}\n",
    "flag = {}\n",
    "#list of extracted gps records\n",
    "chunk = 1\n",
    "distance_range = 150 # range where we start picking the gps records (in meters)\n",
    "\n",
    "print('\\n')\n",
    "print('- - - - - - - - - PICK - TIME - ALGORITHM - - - - - - - - -')\n",
    "\n",
    "\n",
    "print('Loading data chunk N°: ', chunk, ' ...', end=' ')\n",
    "for gps in full_gps :\n",
    "    \n",
    "    if chunk < skip+1 :\n",
    "        print('skip chunk')\n",
    "        chunk += 1\n",
    "        print('Loading data chunk N°: ', chunk, ' ...', end=' ')\n",
    "        continue\n",
    "    \n",
    "    extracted_records = []\n",
    "    print('done')\n",
    "    \n",
    "    \n",
    "    #drop features\n",
    "    print('GPS data preprocessing ...', end=' ')\n",
    "    gps.drop(['index', 'vehicle_type', 'last_modified', 'unkn_1', 'unkn_2', 'unkn_3', 'unkn_4', 'unkn_5', 'direction'], axis=1, inplace=True)\n",
    "    gps.datetime = gps.datetime.apply(lambda x : datetime.strptime(x, '%Y-%m-%d %H:%M:%S'))\n",
    "    print('done')\n",
    "\n",
    "    #sorting by vehicle_id, datetime and vehicle is critical to the pick algorithm\n",
    "    gps = gps.sort_values(['datetime', 'vehicle_id', 'line_id'])\n",
    "    gps = gps.drop_duplicates()\n",
    "    #break\n",
    "    print('Vehicle types affectation ...', end=' ')\n",
    "    #vehicle types\n",
    "    vehicle_types = gps.line_id.apply(extract_vehicletype).values\n",
    "    print('done')\n",
    "\n",
    "    print('Station clusters prediction ...', end=' ')\n",
    "    #records station clusters predictions\n",
    "    station_clusters = knn.predict(gps[['latitude','longitude']])\n",
    "    print('done')\n",
    "    \n",
    "    i = -1  #reset counter\n",
    "    for record in tqdm(gps.values, position=0, leave=True, desc='stops time picking : ') :\n",
    "        i += 1 #increment stations cluster prediction and vehicle types counter for each record\n",
    "\n",
    "        if not (vehicle_types[i],station_clusters[i]) in vehicle_cluster_stations_dict:\n",
    "            continue\n",
    "        \n",
    "        for station, latitude, longitude in vehicle_cluster_stations_dict[(vehicle_types[i],station_clusters[i])] : \n",
    "            \n",
    "            distance =  haversine_distance([record[2],record[3]],[latitude,longitude])  #calculate distance      \n",
    "            if (distance < distance_range): \n",
    "                flag[(record[0],station)] = 1\n",
    "                if (record[0],station) in register:\n",
    "                    if distance < register[(record[0],station)][0] : #if a closer record to the stop occurs in less than 10 minutes, update the closet distance and record.\n",
    "                        closet_record_datetime = register[(record[0],station)][-2][-1]  #calculate this time difference in minutes between the current record and the last closet record to the stop\n",
    "                        delta_time = (closet_record_datetime-record[-1]).total_seconds()/60\n",
    "                        if delta_time < 10 :\n",
    "                            register[(record[0],station)] = [distance, record[[0,1,4]], None] #update dmin in register for a specific vehicle and stop ids\n",
    "                        else :\n",
    "                            register[(record[0],station)][-1] = record[-1] #add departure time when a closer distance occurs with 10mn+ difference from the last one\n",
    "                    register[(record[0],station)][-1] = record[-1] #add departure time, this will be the last time record before the vehicle got out of the 150m range\n",
    "                else:\n",
    "                    register[(record[0],station)] = [distance,record[[0,1,4]], None]   #add the vehicle_id, station_id couple to the register\n",
    "\n",
    "            elif (record[0],station) in register : \n",
    "                #reset cell and pick last registred record\n",
    "                if flag[(record[0],station)] == 1 :\n",
    "                    flag[(record[0],station)] = 0\n",
    "                    rec = np.concatenate([register[(record[0],station)][-2], [register[(record[0],station)][-1]],[station]])\n",
    "                    extracted_records.append(rec)       #pick the last registred record\n",
    "                    register[(record[0],station)][0] = np.inf   #reset the cell (vehicle_id,station_id)           \n",
    "\n",
    "    print('Extracted records : ', len(extracted_records))\n",
    "    \n",
    "    #checkpoint\n",
    "    print('data checkpoint ...', end=' ')\n",
    "    cols = ['vehicle_id', 'line_id', 'arrival_time', 'departure_time', 'station_id']\n",
    "    extracted_records = pd.DataFrame(data=extracted_records, columns=cols)\n",
    "    extracted_records['vehicle_type'] = extracted_records.line_id.apply(extract_vehicletype)\n",
    "    extracted_records = extracted_records.sort_values(['vehicle_id','arrival_time']).reset_index(drop=True)\n",
    "    extracted_records.to_csv('./data/picktime/picktime_chunk{}.csv'.format(chunk), index = False)\n",
    "    \n",
    "    print('done')\n",
    "    print('- - - - - - - - - - - - - - - - - - - - - - - - - - - - - - - - -')\n",
    "    chunk += 1\n",
    "    print('Loading data chunk N°: ',chunk,' ...', end = ' ')\n",
    "    del extracted_records\n",
    "    gc.collect()"
   ]
  },
  {
   "cell_type": "markdown",
   "metadata": {},
   "source": [
    "## III) Correct and check GPS records"
   ]
  },
  {
   "cell_type": "code",
   "execution_count": 58,
   "metadata": {},
   "outputs": [
    {
     "name": "stdout",
     "output_type": "stream",
     "text": [
      "<class 'pandas.core.frame.DataFrame'>\n",
      "RangeIndex: 700 entries, 0 to 699\n",
      "Data columns (total 12 columns):\n",
      " #   Column        Non-Null Count  Dtype  \n",
      "---  ------        --------------  -----  \n",
      " 0   latitude      700 non-null    float64\n",
      " 1   longitude     700 non-null    float64\n",
      " 2   station_id    700 non-null    int64  \n",
      " 3   line_id       700 non-null    int64  \n",
      " 4   order         700 non-null    int64  \n",
      " 5   english_name  700 non-null    object \n",
      " 6   french_name   700 non-null    object \n",
      " 7   arabic_name   700 non-null    object \n",
      " 8   path_id       700 non-null    int64  \n",
      " 9   line_label    700 non-null    object \n",
      " 10  tag           700 non-null    int64  \n",
      " 11  vehicle_type  700 non-null    int64  \n",
      "dtypes: float64(2), int64(6), object(4)\n",
      "memory usage: 65.8+ KB\n"
     ]
    }
   ],
   "source": [
    "station_paths = pd.read_csv('data/stations_paths.csv')\n",
    "station_paths.info()"
   ]
  },
  {
   "cell_type": "code",
   "execution_count": 59,
   "metadata": {},
   "outputs": [],
   "source": [
    "#join all chunks\n",
    "cols = ['vehicle_id', 'line_id', 'arrival_time', 'departure_time', 'station_id']\n",
    "data_records = pd.DataFrame(columns=cols)\n",
    "    \n",
    "for i in range(1,13):\n",
    "    data_records = data_records.append(pd.read_csv('data/picktime/picktime_chunk{}.csv'.format(i)), ignore_index=True)\n",
    "\n",
    "data_records.to_csv('data/picktime/picktime.csv')"
   ]
  },
  {
   "cell_type": "code",
   "execution_count": 60,
   "metadata": {},
   "outputs": [
    {
     "name": "stdout",
     "output_type": "stream",
     "text": [
      "<class 'pandas.core.frame.DataFrame'>\n",
      "RangeIndex: 2601775 entries, 0 to 2601774\n",
      "Data columns (total 7 columns):\n",
      " #   Column          Dtype  \n",
      "---  ------          -----  \n",
      " 0   Unnamed: 0      int64  \n",
      " 1   vehicle_id      int64  \n",
      " 2   line_id         int64  \n",
      " 3   arrival_time    object \n",
      " 4   departure_time  object \n",
      " 5   station_id      int64  \n",
      " 6   vehicle_type    float64\n",
      "dtypes: float64(1), int64(4), object(2)\n",
      "memory usage: 138.9+ MB\n"
     ]
    }
   ],
   "source": [
    "data_records = pd.read_csv('data/picktime/picktime.csv')\n",
    "data_records.info()"
   ]
  },
  {
   "cell_type": "code",
   "execution_count": 61,
   "metadata": {},
   "outputs": [],
   "source": [
    "data_records = data_records.dropna()"
   ]
  },
  {
   "cell_type": "code",
   "execution_count": 62,
   "metadata": {},
   "outputs": [
    {
     "data": {
      "text/plain": [
       "(2601760, 7)"
      ]
     },
     "execution_count": 62,
     "metadata": {},
     "output_type": "execute_result"
    }
   ],
   "source": [
    "data_records.arrival_time = data_records.arrival_time.apply(lambda x : datetime.strptime(x, '%Y-%m-%d %H:%M:%S'))\n",
    "data_records.departure_time = data_records.departure_time.apply(lambda x : datetime.strptime(x, '%Y-%m-%d %H:%M:%S'))\n",
    "data_records = data_records.sort_values(['vehicle_id','arrival_time'])\n",
    "data_records.reset_index(drop=True, inplace=True)\n",
    "data_records.shape"
   ]
  },
  {
   "cell_type": "code",
   "execution_count": 63,
   "metadata": {},
   "outputs": [
    {
     "data": {
      "text/plain": [
       "0"
      ]
     },
     "execution_count": 63,
     "metadata": {},
     "output_type": "execute_result"
    }
   ],
   "source": [
    "((data_records.departure_time - data_records.arrival_time).dt.total_seconds()<0).sum()\n",
    "# 0 means all departure times are set after the arrivl time"
   ]
  },
  {
   "cell_type": "code",
   "execution_count": 64,
   "metadata": {},
   "outputs": [],
   "source": [
    "data_records['stop_time'] = (data_records.departure_time - data_records.arrival_time).dt.total_seconds()"
   ]
  },
  {
   "cell_type": "markdown",
   "metadata": {},
   "source": [
    "## Correct path algorithm"
   ]
  },
  {
   "cell_type": "code",
   "execution_count": 65,
   "metadata": {},
   "outputs": [],
   "source": [
    "first = station_paths[['line_id','station_id','line_label','order']].sort_values(['line_id','order']).groupby('line_id').station_id.first().to_dict()\n",
    "last = station_paths[['line_id','station_id','line_label','order']].sort_values(['line_id','order']).groupby('line_id').station_id.last().to_dict()\n",
    "all_terminals = set(list(first.values()) + list(last.values()))\n",
    "terminalsByLine = dict( (key,[value]) for key, value in first.items())\n",
    "for key, value in last.items():\n",
    "    terminalsByLine[key].append(value)"
   ]
  },
  {
   "cell_type": "code",
   "execution_count": 66,
   "metadata": {},
   "outputs": [],
   "source": [
    "staion_id_line = dict( (key,value['station_id']) for key, value in station_paths[['vehicle_type','line_id','station_id']].groupby(['vehicle_type','line_id']).agg(list).T.to_dict().items())\n",
    "stations_coords = dict( (int(key), [v1,v2]) for key, v1, v2 in station_paths[['station_id','latitude','longitude']].drop_duplicates().values)"
   ]
  },
  {
   "cell_type": "code",
   "execution_count": 67,
   "metadata": {},
   "outputs": [],
   "source": [
    "def affect_seqID(*x):\n",
    "    vehicle = x[0]\n",
    "    station = x[1]\n",
    "    line = x[2]\n",
    "    time = x[3]\n",
    "    vehicle_type = x[4]\n",
    "    \n",
    "    # if the vehicule is already in one of the dictionaries (it doesn't matter which one)\n",
    "    # then check if the vehicule is still on the same sequence or not\n",
    "    # else, intiate a sequence ID to the current (new) vehicule \n",
    "    if vehicle in stations_passed : \n",
    "        #if the current vehicle is different than the previous record\n",
    "        #or the current path is different than the previous record\n",
    "        #or the last stop was a terminal that belongs to the last record path\n",
    "        #or the current stop has been visited by the same vehicle in the current sequence\n",
    "        #or between two records there is more than 30 minutes difference\n",
    "        #then increment sequence ID for the current vehicule\n",
    "        #else return the same sequence ID\n",
    "        if last_line[vehicle] != line \\\n",
    "        or terminal_flag['flag'] \\\n",
    "        or station in stations_passed[vehicle] \\\n",
    "        or ((time - last_time[vehicle]).total_seconds()//60) > 30 : \n",
    "            seqID[vehicle] += 1 #increment sequence ID\n",
    "            stations_passed[vehicle] = [] #reset past stations records\n",
    "            terminal_flag['flag'] = False  #reset terminal flag\n",
    "        elif station in terminalsByLine[line] :\n",
    "            terminal_flag['flag'] = True #activate terminal flag\n",
    "        \n",
    "        last_line[vehicle] = line\n",
    "        last_time[vehicle] = time\n",
    "        stations_passed[vehicle].append(station)\n",
    "        return str(vehicle) + '_' + str(seqID[vehicle])\n",
    "\n",
    "    else :\n",
    "        last_line[vehicle] = line\n",
    "        seqID[vehicle] = 0\n",
    "        stations_passed[vehicle] = [station]\n",
    "        last_time[vehicle] = time\n",
    "        return str(vehicle) + '_' + str(seqID[vehicle])"
   ]
  },
  {
   "cell_type": "code",
   "execution_count": 68,
   "metadata": {},
   "outputs": [],
   "source": [
    "def correct_line_id(vehicle_type, rec_line_id, rec_stations):\n",
    "    \n",
    "    stations_matched_cumdist = {}\n",
    "    \n",
    "    for key, stations in staion_id_line.items() : \n",
    "        if key[0] != vehicle_type : \n",
    "            continue\n",
    "        else:\n",
    "            line_id = key[1]\n",
    "        order = 0\n",
    "        distance = 0\n",
    "        first = True\n",
    "        last_station = None\n",
    "        \n",
    "        for station in rec_stations : \n",
    "            for i,staion_line in enumerate(stations[order:]):\n",
    "                if station == staion_line:\n",
    "                    if first:\n",
    "                        first = False\n",
    "                        last_station = station\n",
    "                    else:\n",
    "                        coord1 = stations_coords[last_station]\n",
    "                        coord2 =  stations_coords[station]\n",
    "                        distance += haversine_distance(coord1, coord2)\n",
    "                        last_station = station\n",
    "                    order  = i+1\n",
    "                    break\n",
    "                    \n",
    "        stations_matched_cumdist[line_id] = distance\n",
    "    \n",
    "\n",
    "    #return line_id with max cummulative distance (respect order of stops)\n",
    "    sorted_stations_matched_cumdist = sorted(stations_matched_cumdist.items(), key = lambda x : x[-1], reverse = True)\n",
    "\n",
    "    if stations_matched_cumdist[rec_line_id] == sorted_stations_matched_cumdist[0][1] :   #if record line_id has the same distance as the new line_id candidate\n",
    "        return rec_line_id                                                                #record line_id from gps will have 1st priority\n",
    "    \n",
    "    return sorted_stations_matched_cumdist[0][0]"
   ]
  },
  {
   "cell_type": "code",
   "execution_count": 69,
   "metadata": {},
   "outputs": [
    {
     "name": "stdout",
     "output_type": "stream",
     "text": [
      "correcting paths : iteration N°:  1\n",
      "grouping records into sequences of stops ... done\n"
     ]
    },
    {
     "name": "stderr",
     "output_type": "stream",
     "text": [
      "path correction : 100%|██████████| 229973/229973 [01:53<00:00, 2032.51it/s]\n"
     ]
    },
    {
     "name": "stdout",
     "output_type": "stream",
     "text": [
      "wrong path report :   percentage = 55.60%    count =  1446692\n",
      "- - - - - - - - - - - - - - - - - - - - - - - - - - - - - - - - -\n",
      "correcting paths : iteration N°:  2\n",
      "grouping records into sequences of stops ... done\n"
     ]
    },
    {
     "name": "stderr",
     "output_type": "stream",
     "text": [
      "path correction : 100%|██████████| 239493/239493 [01:52<00:00, 2127.49it/s]\n"
     ]
    },
    {
     "name": "stdout",
     "output_type": "stream",
     "text": [
      "wrong path report :   percentage = 1.56%    count =  40667\n",
      "- - - - - - - - - - - - - - - - - - - - - - - - - - - - - - - - -\n",
      "correcting paths : iteration N°:  3\n",
      "grouping records into sequences of stops ... done\n"
     ]
    },
    {
     "name": "stderr",
     "output_type": "stream",
     "text": [
      "path correction : 100%|██████████| 237015/237015 [01:48<00:00, 2184.53it/s]\n"
     ]
    },
    {
     "name": "stdout",
     "output_type": "stream",
     "text": [
      "wrong path report :   percentage = 0.01%    count =  164\n",
      "- - - - - - - - - - - - - - - - - - - - - - - - - - - - - - - - -\n",
      "correcting paths : iteration N°:  4\n",
      "grouping records into sequences of stops ... done\n"
     ]
    },
    {
     "name": "stderr",
     "output_type": "stream",
     "text": [
      "path correction : 100%|██████████| 237016/237016 [01:50<00:00, 2152.38it/s]\n"
     ]
    },
    {
     "name": "stdout",
     "output_type": "stream",
     "text": [
      "wrong path report :   percentage = 0.00%    count =  33\n",
      "- - - - - - - - - - - - - - - - - - - - - - - - - - - - - - - - -\n",
      "correcting paths : iteration N°:  5\n",
      "grouping records into sequences of stops ... done\n"
     ]
    },
    {
     "name": "stderr",
     "output_type": "stream",
     "text": [
      "path correction : 100%|██████████| 237016/237016 [01:46<00:00, 2234.08it/s]\n"
     ]
    },
    {
     "name": "stdout",
     "output_type": "stream",
     "text": [
      "wrong path report :   percentage = 0.00%    count =  0\n",
      "- - - - - - - - - - - - - - - - - - - - - - - - - - - - - - - - -\n",
      "All paths have been checked and corrected with success!\n"
     ]
    }
   ],
   "source": [
    "iteration = 1\n",
    "corrected_lines = -1\n",
    "n = data_records.shape[0]\n",
    "\n",
    "while corrected_lines != 0 :\n",
    "    print('correcting paths : iteration N°: ',iteration)\n",
    "    iteration += 1\n",
    "    \n",
    "    #grouping records into sequences\n",
    "    last_line = {}\n",
    "    last_time = {}\n",
    "    seqID = {}\n",
    "    stations_passed = {}\n",
    "    terminal_flag = {'flag':True}\n",
    "    print('grouping records into sequences of stops ...', end=' ')\n",
    "    data_records['sequence_id'] = data_records[['vehicle_id','station_id','line_id','arrival_time','vehicle_type']].apply(lambda x : affect_seqID(*x), axis=1)\n",
    "    print('done')\n",
    "    \n",
    "    #grouping sequences\n",
    "    sequences_groups = data_records[['sequence_id','vehicle_type','line_id','station_id']].groupby('sequence_id') \\\n",
    "                                                                                          .agg({'vehicle_type':'first','line_id':'first', 'station_id':list}) \\\n",
    "                                                                                          .reset_index()\n",
    "    #correct lines\n",
    "    correct_id = pd.Series(data=np.nan, index=sequences_groups.sequence_id)\n",
    "    for sequence_id, vehicle_type, rec_line_id, rec_stations in tqdm(sequences_groups.values, position=0, leave=True, desc='path correction : '):\n",
    "        correct_id.loc[sequence_id] = correct_line_id(vehicle_type, rec_line_id, rec_stations)\n",
    "    \n",
    "    #affect new line ids\n",
    "    data_records['correct_line_id'] = data_records.sequence_id.map(correct_id)\n",
    "    corrected_lines = data_records.query('line_id != correct_line_id').shape[0]\n",
    "    data_records.line_id = data_records.correct_line_id\n",
    "    print('wrong path report :   percentage = {:.2f}%'.format(corrected_lines*100 / n),'   count = ',corrected_lines )\n",
    "    print('- - - - - - - - - - - - - - - - - - - - - - - - - - - - - - - - -')\n",
    "print('All paths have been checked and corrected with success!')"
   ]
  },
  {
   "cell_type": "code",
   "execution_count": 70,
   "metadata": {},
   "outputs": [
    {
     "data": {
      "text/plain": [
       "<AxesSubplot:>"
      ]
     },
     "execution_count": 70,
     "metadata": {},
     "output_type": "execute_result"
    },
    {
     "data": {
      "image/png": "[encoded data removed]",
      "text/plain": [
       "<Figure size 432x288 with 1 Axes>"
      ]
     },
     "metadata": {
      "needs_background": "light"
     },
     "output_type": "display_data"
    }
   ],
   "source": [
    "data_records[['line_id','station_id','sequence_id']].groupby('sequence_id').count().line_id.plot(kind = 'box')"
   ]
  },
  {
   "cell_type": "code",
   "execution_count": 71,
   "metadata": {},
   "outputs": [],
   "source": [
    "data_records = data_records.merge(station_paths[['line_id','station_id','order','line_label']], on=['line_id','station_id'], how='left').dropna()"
   ]
  },
  {
   "cell_type": "code",
   "execution_count": 72,
   "metadata": {},
   "outputs": [],
   "source": [
    "#grouping records into sequences after merging\n",
    "last_line = {}\n",
    "last_time = {}\n",
    "seqID = {}\n",
    "stations_passed = {}\n",
    "terminal_flag = {'flag':True}\n",
    "\n",
    "data_records['sequence_id'] = data_records[['vehicle_id','station_id','line_id','arrival_time','vehicle_type']].apply(lambda x : affect_seqID(*x), axis=1)"
   ]
  },
  {
   "cell_type": "code",
   "execution_count": 73,
   "metadata": {},
   "outputs": [
    {
     "data": {
      "text/plain": [
       "Index(['100_0', '100_1001', '100_1003', '100_1005', '100_1007', '100_1018',\n",
       "       '100_1019', '100_102', '100_1021', '100_1031',\n",
       "       ...\n",
       "       '99_621', '99_622', '99_67', '99_74', '99_75', '99_80', '99_87',\n",
       "       '99_91', '99_95', '99_97'],\n",
       "      dtype='object', name='sequence_id', length=21482)"
      ]
     },
     "execution_count": 73,
     "metadata": {},
     "output_type": "execute_result"
    }
   ],
   "source": [
    "mask = data_records.groupby('sequence_id').station_id.count() < 2\n",
    "drop_sequences = data_records.groupby('sequence_id').station_id.count()[mask].index\n",
    "drop_sequences"
   ]
  },
  {
   "cell_type": "code",
   "execution_count": 74,
   "metadata": {},
   "outputs": [],
   "source": [
    "data_records = data_records[~data_records.sequence_id.isin(drop_sequences)]"
   ]
  },
  {
   "cell_type": "code",
   "execution_count": 75,
   "metadata": {},
   "outputs": [
    {
     "data": {
      "text/plain": [
       "<AxesSubplot:>"
      ]
     },
     "execution_count": 75,
     "metadata": {},
     "output_type": "execute_result"
    },
    {
     "data": {
      "image/png": "[encoded data removed]",
      "text/plain": [
       "<Figure size 432x288 with 1 Axes>"
      ]
     },
     "metadata": {
      "needs_background": "light"
     },
     "output_type": "display_data"
    }
   ],
   "source": [
    "data_records[['line_id','station_id','sequence_id']].groupby('sequence_id').count().line_id.plot(kind = 'box')"
   ]
  },
  {
   "cell_type": "code",
   "execution_count": 76,
   "metadata": {},
   "outputs": [],
   "source": [
    "data_records = data_records.sort_values(['vehicle_id', 'arrival_time'])\n",
    "data_records['order_diff'] = data_records.groupby('sequence_id').order.diff()"
   ]
  },
  {
   "cell_type": "code",
   "execution_count": 77,
   "metadata": {},
   "outputs": [],
   "source": [
    "def sequenceid(*x):\n",
    "    vehicle = x[0]\n",
    "    order_diff = x[1]\n",
    "    \n",
    "    if vehicle in seq_id : \n",
    "        if order_diff != 1 :\n",
    "            seq_id[vehicle] += 1 \n",
    "        return str(vehicle) + '_' + str(seq_id[vehicle])\n",
    "    else : \n",
    "        seq_id[vehicle] = 0 \n",
    "        return str(vehicle) + '_' + str(seq_id[vehicle])"
   ]
  },
  {
   "cell_type": "code",
   "execution_count": 78,
   "metadata": {},
   "outputs": [],
   "source": [
    "seq_id = {}\n",
    "\n",
    "#cut sequences of stops by order difference to get sequences of successive stops\n",
    "data_records.line_id = data_records.line_id.astype(int)\n",
    "data_records['sequence_id'] = data_records[['vehicle_id', 'order_diff']].apply(lambda x : sequenceid(*x), axis=1)"
   ]
  },
  {
   "cell_type": "code",
   "execution_count": 79,
   "metadata": {},
   "outputs": [
    {
     "data": {
      "text/plain": [
       "Index(['100.0_100', '100.0_1000', '100.0_1004', '100.0_1005', '100.0_1014',\n",
       "       '100.0_1015', '100.0_1016', '100.0_1018', '100.0_1022', '100.0_1033',\n",
       "       ...\n",
       "       '99.0_863', '99.0_865', '99.0_867', '99.0_87', '99.0_870', '99.0_871',\n",
       "       '99.0_875', '99.0_878', '99.0_879', '99.0_883'],\n",
       "      dtype='object', name='sequence_id', length=122707)"
      ]
     },
     "execution_count": 79,
     "metadata": {},
     "output_type": "execute_result"
    }
   ],
   "source": [
    "mask = data_records.groupby('sequence_id').station_id.count() < 2\n",
    "drop_sequences = data_records.groupby('sequence_id').station_id.count()[mask].index\n",
    "drop_sequences"
   ]
  },
  {
   "cell_type": "code",
   "execution_count": 80,
   "metadata": {},
   "outputs": [
    {
     "data": {
      "text/plain": [
       "(1899557, 11)"
      ]
     },
     "execution_count": 80,
     "metadata": {},
     "output_type": "execute_result"
    }
   ],
   "source": [
    "data_records = data_records[~data_records.sequence_id.isin(drop_sequences)]\n",
    "data_records.order = data_records.order.astype(int)\n",
    "data_records.drop(['order_diff', 'correct_line_id'], axis=1, inplace=True)\n",
    "data_records.shape"
   ]
  },
  {
   "cell_type": "code",
   "execution_count": 81,
   "metadata": {},
   "outputs": [
    {
     "data": {
      "text/plain": [
       "<AxesSubplot:>"
      ]
     },
     "execution_count": 81,
     "metadata": {},
     "output_type": "execute_result"
    },
    {
     "data": {
      "image/png": "[encoded data removed]",
      "text/plain": [
       "<Figure size 432x288 with 1 Axes>"
      ]
     },
     "metadata": {
      "needs_background": "light"
     },
     "output_type": "display_data"
    }
   ],
   "source": [
    "data_records[['line_id','station_id','sequence_id']].groupby('sequence_id').count().line_id.plot(kind = 'box')"
   ]
  },
  {
   "cell_type": "code",
   "execution_count": 82,
   "metadata": {},
   "outputs": [
    {
     "data": {
      "text/plain": [
       "line_label\n",
       "1      157819\n",
       "104     98275\n",
       "11       4534\n",
       "12       2044\n",
       "15        280\n",
       "15A       254\n",
       "15B        45\n",
       "2      196181\n",
       "3       56504\n",
       "32      55602\n",
       "32B     15709\n",
       "36        442\n",
       "36B      1207\n",
       "4      421374\n",
       "43         24\n",
       "43B      1635\n",
       "4A      36722\n",
       "5      233039\n",
       "6      415504\n",
       "65      21130\n",
       "78      72121\n",
       "79      19333\n",
       "TGM     89779\n",
       "Name: line_id, dtype: int64"
      ]
     },
     "execution_count": 82,
     "metadata": {},
     "output_type": "execute_result"
    }
   ],
   "source": [
    "data_records.groupby('line_label').count().line_id"
   ]
  },
  {
   "cell_type": "code",
   "execution_count": 83,
   "metadata": {},
   "outputs": [],
   "source": [
    "#checkpoint\n",
    "data_records.to_csv('data/picktime/picktime_sequences.csv', index=False)"
   ]
  },
  {
   "cell_type": "markdown",
   "metadata": {},
   "source": [
    "## IV) Drop Outliers"
   ]
  },
  {
   "cell_type": "code",
   "execution_count": 2,
   "metadata": {},
   "outputs": [
    {
     "name": "stderr",
     "output_type": "stream",
     "text": [
      "C:\\Users\\aziz\\anaconda3\\lib\\site-packages\\IPython\\core\\interactiveshell.py:3165: DtypeWarning: Columns (10) have mixed types.Specify dtype option on import or set low_memory=False.\n",
      "  has_raised = await self.run_ast_nodes(code_ast.body, cell_name,\n"
     ]
    },
    {
     "name": "stdout",
     "output_type": "stream",
     "text": [
      "<class 'pandas.core.frame.DataFrame'>\n",
      "RangeIndex: 1899557 entries, 0 to 1899556\n",
      "Data columns (total 11 columns):\n",
      " #   Column          Dtype  \n",
      "---  ------          -----  \n",
      " 0   Unnamed: 0      int64  \n",
      " 1   vehicle_id      int64  \n",
      " 2   line_id         int64  \n",
      " 3   arrival_time    object \n",
      " 4   departure_time  object \n",
      " 5   station_id      int64  \n",
      " 6   vehicle_type    float64\n",
      " 7   stop_time       float64\n",
      " 8   sequence_id     object \n",
      " 9   order           int64  \n",
      " 10  line_label      object \n",
      "dtypes: float64(2), int64(5), object(4)\n",
      "memory usage: 159.4+ MB\n"
     ]
    }
   ],
   "source": [
    "data_records = pd.read_csv('data/picktime/picktime_sequences.csv')\n",
    "data_records.info()"
   ]
  },
  {
   "cell_type": "code",
   "execution_count": 3,
   "metadata": {},
   "outputs": [
    {
     "name": "stdout",
     "output_type": "stream",
     "text": [
      "<class 'pandas.core.frame.DataFrame'>\n",
      "RangeIndex: 700 entries, 0 to 699\n",
      "Data columns (total 12 columns):\n",
      " #   Column        Non-Null Count  Dtype  \n",
      "---  ------        --------------  -----  \n",
      " 0   latitude      700 non-null    float64\n",
      " 1   longitude     700 non-null    float64\n",
      " 2   station_id    700 non-null    int64  \n",
      " 3   line_id       700 non-null    int64  \n",
      " 4   order         700 non-null    int64  \n",
      " 5   english_name  700 non-null    object \n",
      " 6   french_name   700 non-null    object \n",
      " 7   arabic_name   700 non-null    object \n",
      " 8   path_id       700 non-null    int64  \n",
      " 9   line_label    700 non-null    object \n",
      " 10  tag           700 non-null    int64  \n",
      " 11  vehicle_type  700 non-null    int64  \n",
      "dtypes: float64(2), int64(6), object(4)\n",
      "memory usage: 65.8+ KB\n"
     ]
    }
   ],
   "source": [
    "station_paths = pd.read_csv('data/stations_paths.csv')\n",
    "station_paths.info()"
   ]
  },
  {
   "cell_type": "code",
   "execution_count": 4,
   "metadata": {},
   "outputs": [],
   "source": [
    "#create target : travel_time (the time difference in seconds between two consecutive stops)\n",
    "data_records.arrival_time = data_records.arrival_time.apply(lambda x : datetime.strptime(x, '%Y-%m-%d %H:%M:%S'))\n",
    "data_records.departure_time = data_records.departure_time.apply(lambda x : datetime.strptime(x, '%Y-%m-%d %H:%M:%S'))\n",
    "data_records['travel_time'] = data_records.groupby(['sequence_id']).arrival_time.diff().shift(-1).dt.total_seconds()"
   ]
  },
  {
   "cell_type": "code",
   "execution_count": 5,
   "metadata": {},
   "outputs": [
    {
     "data": {
      "text/plain": [
       "<AxesSubplot:xlabel='line_id', ylabel='travel_time'>"
      ]
     },
     "execution_count": 5,
     "metadata": {},
     "output_type": "execute_result"
    },
    {
     "data": {
      "image/png": "[encoded data removed]",
      "text/plain": [
       "<Figure size 1440x360 with 1 Axes>"
      ]
     },
     "metadata": {
      "needs_background": "light"
     },
     "output_type": "display_data"
    }
   ],
   "source": [
    "import seaborn as sns\n",
    "plt.figure(figsize = (20,5))\n",
    "sns.boxplot(data= data_records, x='line_id', y='travel_time')"
   ]
  },
  {
   "cell_type": "code",
   "execution_count": 7,
   "metadata": {},
   "outputs": [],
   "source": [
    "#select range of datetimes between min (th = 30 secs) and (Q3 + (Q3-Q1)*3)   \n",
    "#in max_range = Q3 + (Q3-Q1)*2.4, I chose 2.4 instead of 1.4 because I don't want to remove a lot of outliers.\n",
    "#Sometimes huge delays occurs, there mut be a reason why that happens and both the graph and models need to be prepared\n",
    "#for such delays\n",
    "\n",
    "line_station_range = data_records.dropna().groupby(['line_id','station_id'],as_index=True).travel_time.describe()\n",
    "EIQ = line_station_range['75%'] - line_station_range['25%']\n",
    "line_station_range['max_range'] = line_station_range['75%'] +  EIQ * 2.4\n",
    "line_station_range['min_range'] = line_station_range['min']\n",
    "line_station_range = line_station_range[['max_range', 'min_range']].reset_index()"
   ]
  },
  {
   "cell_type": "code",
   "execution_count": 8,
   "metadata": {},
   "outputs": [],
   "source": [
    "line_station_range = dict( ((line, station), (max_range,min_range)) for line, station, max_range,min_range in line_station_range.values)"
   ]
  },
  {
   "cell_type": "code",
   "execution_count": 10,
   "metadata": {},
   "outputs": [],
   "source": [
    "def drop_outlier(*record):\n",
    "    travel_time = record[0]\n",
    "    line_id = record[1] \n",
    "    station_id = record[2]\n",
    "    \n",
    "    if np.isnan(travel_time):\n",
    "        return False\n",
    "    \n",
    "    max_range = line_station_range[(line_id,station_id)][0]\n",
    "    min_range = line_station_range[(line_id,station_id)][1]\n",
    "    if min_range < 20 :\n",
    "        min_range = 20\n",
    "        \n",
    "    if travel_time > max_range or travel_time < min_range:\n",
    "        return True\n",
    "    \n",
    "    return False"
   ]
  },
  {
   "cell_type": "code",
   "execution_count": 11,
   "metadata": {},
   "outputs": [
    {
     "data": {
      "text/plain": [
       "False    1850106\n",
       "True       49451\n",
       "dtype: int64"
      ]
     },
     "execution_count": 11,
     "metadata": {},
     "output_type": "execute_result"
    }
   ],
   "source": [
    "mask_drop = data_records[['travel_time', 'line_id', 'station_id']].apply(lambda x : drop_outlier(*x), axis=1 )\n",
    "mask_drop.value_counts()"
   ]
  },
  {
   "cell_type": "code",
   "execution_count": 12,
   "metadata": {},
   "outputs": [],
   "source": [
    "data_records['outlier'] = data_records[['travel_time', 'line_id', 'station_id']].apply(lambda x : 1 if drop_outlier(*x) else 0 , axis=1 )"
   ]
  },
  {
   "cell_type": "code",
   "execution_count": 13,
   "metadata": {},
   "outputs": [
    {
     "data": {
      "text/plain": [
       "(1899557, 13)"
      ]
     },
     "execution_count": 13,
     "metadata": {},
     "output_type": "execute_result"
    }
   ],
   "source": [
    "data_records.shape"
   ]
  },
  {
   "cell_type": "code",
   "execution_count": 14,
   "metadata": {},
   "outputs": [
    {
     "data": {
      "text/plain": [
       "<AxesSubplot:xlabel='line_id', ylabel='travel_time'>"
      ]
     },
     "execution_count": 14,
     "metadata": {},
     "output_type": "execute_result"
    },
    {
     "data": {
      "image/png": "[encoded data removed]",
      "text/plain": [
       "<Figure size 1440x360 with 1 Axes>"
      ]
     },
     "metadata": {
      "needs_background": "light"
     },
     "output_type": "display_data"
    }
   ],
   "source": [
    "import seaborn as sns\n",
    "plt.figure(figsize = (20,5))\n",
    "sns.boxplot(data= data_records[data_records.outlier == 0], x='line_id', y='travel_time')"
   ]
  },
  {
   "cell_type": "code",
   "execution_count": 20,
   "metadata": {},
   "outputs": [],
   "source": [
    "data_records = data_records.reset_index(drop=True).drop('Unnamed: 0', axis=1)"
   ]
  },
  {
   "cell_type": "code",
   "execution_count": 21,
   "metadata": {},
   "outputs": [
    {
     "name": "stdout",
     "output_type": "stream",
     "text": [
      "<class 'pandas.core.frame.DataFrame'>\n",
      "RangeIndex: 1899557 entries, 0 to 1899556\n",
      "Data columns (total 12 columns):\n",
      " #   Column          Dtype         \n",
      "---  ------          -----         \n",
      " 0   vehicle_id      int64         \n",
      " 1   line_id         int64         \n",
      " 2   arrival_time    datetime64[ns]\n",
      " 3   departure_time  datetime64[ns]\n",
      " 4   station_id      int64         \n",
      " 5   vehicle_type    float64       \n",
      " 6   stop_time       float64       \n",
      " 7   sequence_id     object        \n",
      " 8   order           int64         \n",
      " 9   line_label      object        \n",
      " 10  travel_time     float64       \n",
      " 11  outlier         int64         \n",
      "dtypes: datetime64[ns](2), float64(3), int64(5), object(2)\n",
      "memory usage: 173.9+ MB\n"
     ]
    }
   ],
   "source": [
    "data_records.info()"
   ]
  },
  {
   "cell_type": "code",
   "execution_count": 22,
   "metadata": {},
   "outputs": [],
   "source": [
    "data_records.to_csv('data/gps_clean.csv', index = False)"
   ]
  },
  {
   "cell_type": "markdown",
   "metadata": {},
   "source": [
    "## V) Data preprocessing part 2 : Extract full gps sequences data "
   ]
  },
  {
   "cell_type": "markdown",
   "metadata": {},
   "source": [
    "### 1) Select sequences of successive stops ( 6 stops or more ) "
   ]
  },
  {
   "cell_type": "code",
   "execution_count": 23,
   "metadata": {},
   "outputs": [
    {
     "name": "stdout",
     "output_type": "stream",
     "text": [
      "<class 'pandas.core.frame.DataFrame'>\n",
      "RangeIndex: 700 entries, 0 to 699\n",
      "Data columns (total 12 columns):\n",
      " #   Column        Non-Null Count  Dtype  \n",
      "---  ------        --------------  -----  \n",
      " 0   latitude      700 non-null    float64\n",
      " 1   longitude     700 non-null    float64\n",
      " 2   station_id    700 non-null    int64  \n",
      " 3   line_id       700 non-null    int64  \n",
      " 4   order         700 non-null    int64  \n",
      " 5   english_name  700 non-null    object \n",
      " 6   french_name   700 non-null    object \n",
      " 7   arabic_name   700 non-null    object \n",
      " 8   path_id       700 non-null    int64  \n",
      " 9   line_label    700 non-null    object \n",
      " 10  tag           700 non-null    int64  \n",
      " 11  vehicle_type  700 non-null    int64  \n",
      "dtypes: float64(2), int64(6), object(4)\n",
      "memory usage: 65.8+ KB\n"
     ]
    }
   ],
   "source": [
    "station_paths = pd.read_csv('data/stations_paths.csv')\n",
    "station_paths.info()"
   ]
  },
  {
   "cell_type": "code",
   "execution_count": 24,
   "metadata": {},
   "outputs": [
    {
     "name": "stdout",
     "output_type": "stream",
     "text": [
      "<class 'pandas.core.frame.DataFrame'>\n",
      "RangeIndex: 1899557 entries, 0 to 1899556\n",
      "Data columns (total 12 columns):\n",
      " #   Column          Dtype  \n",
      "---  ------          -----  \n",
      " 0   vehicle_id      int64  \n",
      " 1   line_id         int64  \n",
      " 2   arrival_time    object \n",
      " 3   departure_time  object \n",
      " 4   station_id      int64  \n",
      " 5   vehicle_type    float64\n",
      " 6   stop_time       float64\n",
      " 7   sequence_id     object \n",
      " 8   order           int64  \n",
      " 9   line_label      object \n",
      " 10  travel_time     float64\n",
      " 11  outlier         int64  \n",
      "dtypes: float64(3), int64(5), object(4)\n",
      "memory usage: 173.9+ MB\n"
     ]
    }
   ],
   "source": [
    "data_records = pd.read_csv('data/gps_clean.csv', low_memory=False)\n",
    "data_records.info()"
   ]
  },
  {
   "cell_type": "code",
   "execution_count": 25,
   "metadata": {},
   "outputs": [
    {
     "data": {
      "text/plain": [
       "Index(['100.0_1', '100.0_101', '100.0_1011', '100.0_102', '100.0_1028',\n",
       "       '100.0_103', '100.0_1037', '100.0_1039', '100.0_104', '100.0_105',\n",
       "       ...\n",
       "       '99.0_888', '99.0_89', '99.0_90', '99.0_91', '99.0_92', '99.0_93',\n",
       "       '99.0_95', '99.0_96', '99.0_97', '99.0_99'],\n",
       "      dtype='object', name='sequence_id', length=122314)"
      ]
     },
     "execution_count": 25,
     "metadata": {},
     "output_type": "execute_result"
    }
   ],
   "source": [
    "mask = data_records.groupby('sequence_id').station_id.count() > 5\n",
    "select_sequences = data_records.groupby('sequence_id').station_id.count()[mask].index\n",
    "select_sequences"
   ]
  },
  {
   "cell_type": "code",
   "execution_count": 26,
   "metadata": {},
   "outputs": [],
   "source": [
    "data_records = data_records[data_records.sequence_id.isin(select_sequences)]"
   ]
  },
  {
   "cell_type": "code",
   "execution_count": 27,
   "metadata": {},
   "outputs": [],
   "source": [
    "mask = data_records.groupby('line_label').count().line_id > 1000\n",
    "selected_paths = data_records.groupby('line_label').count().line_id[mask].index"
   ]
  },
  {
   "cell_type": "code",
   "execution_count": 28,
   "metadata": {},
   "outputs": [],
   "source": [
    "data_records = data_records[data_records.line_label.isin(selected_paths)]"
   ]
  },
  {
   "cell_type": "code",
   "execution_count": 29,
   "metadata": {},
   "outputs": [
    {
     "data": {
      "image/png": "[encoded data removed]",
      "text/plain": [
       "<Figure size 1440x360 with 1 Axes>"
      ]
     },
     "metadata": {
      "needs_background": "light"
     },
     "output_type": "display_data"
    }
   ],
   "source": [
    "plt.figure(figsize = (20,5))\n",
    "sns.boxplot(data= data_records, x='line_label', y='travel_time');"
   ]
  },
  {
   "cell_type": "code",
   "execution_count": 30,
   "metadata": {},
   "outputs": [
    {
     "data": {
      "text/plain": [
       "<AxesSubplot:>"
      ]
     },
     "execution_count": 30,
     "metadata": {},
     "output_type": "execute_result"
    },
    {
     "data": {
      "image/png": "[encoded data removed]",
      "text/plain": [
       "<Figure size 432x288 with 1 Axes>"
      ]
     },
     "metadata": {
      "needs_background": "light"
     },
     "output_type": "display_data"
    }
   ],
   "source": [
    "data_records[['line_id','station_id','sequence_id']].groupby('sequence_id').count().line_id.plot(kind = 'box')"
   ]
  },
  {
   "cell_type": "code",
   "execution_count": 31,
   "metadata": {},
   "outputs": [
    {
     "data": {
      "text/plain": [
       "(1445940, 12)"
      ]
     },
     "execution_count": 31,
     "metadata": {},
     "output_type": "execute_result"
    }
   ],
   "source": [
    "data_records.shape"
   ]
  },
  {
   "cell_type": "code",
   "execution_count": 32,
   "metadata": {},
   "outputs": [],
   "source": [
    "data_records = data_records.sort_values(['vehicle_id','arrival_time'])"
   ]
  },
  {
   "cell_type": "code",
   "execution_count": 33,
   "metadata": {},
   "outputs": [],
   "source": [
    "#Algorithm parameters init :\n",
    "data_records_dict = dict( ((vehicle,sequence), datetime) \\\n",
    "                    for vehicle, sequence, datetime in \\\n",
    "                        data_records[['vehicle_id','sequence_id','arrival_time']].groupby(['vehicle_id','sequence_id'], as_index=False).arrival_time.agg(list).values )"
   ]
  },
  {
   "cell_type": "code",
   "execution_count": 34,
   "metadata": {},
   "outputs": [],
   "source": [
    "vehicle_seq = dict( (vehicle, sequences) \\\n",
    "              for vehicle, sequences  in \\\n",
    "                  data_records[['vehicle_id','sequence_id']].groupby('vehicle_id', as_index=False).agg(list).values)"
   ]
  },
  {
   "cell_type": "markdown",
   "metadata": {},
   "source": [
    "### 2) Full sequence picking algorithm"
   ]
  },
  {
   "cell_type": "code",
   "execution_count": 35,
   "metadata": {},
   "outputs": [],
   "source": [
    "line_vehicletype = dict((key,value['line_id']) \\\n",
    "                        for key, value in station_paths[['line_id','vehicle_type']].drop_duplicates().groupby('vehicle_type').agg(list).T.to_dict().items())"
   ]
  },
  {
   "cell_type": "code",
   "execution_count": 36,
   "metadata": {},
   "outputs": [],
   "source": [
    "def extract_vehicletype(line):\n",
    "    if line in line_vehicletype[1]:\n",
    "        return 1\n",
    "    elif line in line_vehicletype[2]:\n",
    "        return 2\n",
    "    else:\n",
    "        return 3"
   ]
  },
  {
   "cell_type": "code",
   "execution_count": null,
   "metadata": {},
   "outputs": [
    {
     "name": "stdin",
     "output_type": "stream",
     "text": [
      "please set the size of a chunk:\n",
      " 10000000\n"
     ]
    },
    {
     "name": "stdout",
     "output_type": "stream",
     "text": [
      "full pick time parameters initialization ... done in 4.76 second(s)\n",
      "\n",
      "\n",
      "- - - - - - - - SEQUENCE - PICK - ALGORITHM - - - - - - - - - - -\n",
      "Loading data chunk N°:  1  ... done in 20.27 second(s)\n",
      "GPS data preprocessing ... done in 17.30 second(s)\n"
     ]
    },
    {
     "name": "stderr",
     "output_type": "stream",
     "text": [
      "Full sequence picking : 100%|████████████████████████████████████████████| 9946929/9946929 [01:02<00:00, 158770.83it/s]\n"
     ]
    },
    {
     "name": "stdout",
     "output_type": "stream",
     "text": [
      "Extracted records :  6869074     sequence picking progression : 8.84%\n",
      "data checkpoint ... done in 83.73 second(s)\n",
      "- - - - - - - - - - - - - - - - - - - - - - - - - - - - - - - - -\n",
      "Loading data chunk N°:  2  ... done in 25.30 second(s)\n",
      "GPS data preprocessing ... done in 17.46 second(s)\n"
     ]
    },
    {
     "name": "stderr",
     "output_type": "stream",
     "text": [
      "Full sequence picking : 100%|████████████████████████████████████████████| 9956003/9956003 [00:47<00:00, 211013.28it/s]\n"
     ]
    },
    {
     "name": "stdout",
     "output_type": "stream",
     "text": [
      "Extracted records :  4544505     sequence picking progression : 16.07%\n",
      "data checkpoint ... done in 44.73 second(s)\n",
      "- - - - - - - - - - - - - - - - - - - - - - - - - - - - - - - - -\n",
      "Loading data chunk N°:  3  ... done in 57.64 second(s)\n",
      "GPS data preprocessing ... done in 21.25 second(s)\n"
     ]
    },
    {
     "name": "stderr",
     "output_type": "stream",
     "text": [
      "Full sequence picking : 100%|████████████████████████████████████████████| 9952930/9952930 [00:35<00:00, 277613.51it/s]\n"
     ]
    },
    {
     "name": "stdout",
     "output_type": "stream",
     "text": [
      "Extracted records :  2955314     sequence picking progression : 22.29%\n",
      "data checkpoint ... done in 30.64 second(s)\n",
      "- - - - - - - - - - - - - - - - - - - - - - - - - - - - - - - - -\n",
      "Loading data chunk N°:  4  ... done in 45.49 second(s)\n",
      "GPS data preprocessing ... done in 25.60 second(s)\n"
     ]
    },
    {
     "name": "stderr",
     "output_type": "stream",
     "text": [
      "Full sequence picking : 100%|████████████████████████████████████████████| 9950096/9950096 [00:43<00:00, 230304.03it/s]\n"
     ]
    },
    {
     "name": "stdout",
     "output_type": "stream",
     "text": [
      "Extracted records :  3059904     sequence picking progression : 28.71%\n",
      "data checkpoint ... done in 34.87 second(s)\n",
      "- - - - - - - - - - - - - - - - - - - - - - - - - - - - - - - - -\n",
      "Loading data chunk N°:  5  ... done in 29.28 second(s)\n",
      "GPS data preprocessing ... done in 24.89 second(s)\n"
     ]
    },
    {
     "name": "stderr",
     "output_type": "stream",
     "text": [
      "Full sequence picking : 100%|████████████████████████████████████████████| 9959729/9959729 [00:46<00:00, 216145.94it/s]\n"
     ]
    },
    {
     "name": "stdout",
     "output_type": "stream",
     "text": [
      "Extracted records :  4242076     sequence picking progression : 35.58%\n",
      "data checkpoint ... done in 40.08 second(s)\n",
      "- - - - - - - - - - - - - - - - - - - - - - - - - - - - - - - - -\n",
      "Loading data chunk N°:  6  ... done in 19.80 second(s)\n",
      "GPS data preprocessing ... done in 19.05 second(s)\n"
     ]
    },
    {
     "name": "stderr",
     "output_type": "stream",
     "text": [
      "Full sequence picking : 100%|████████████████████████████████████████████| 9942610/9942610 [01:08<00:00, 144787.77it/s]\n"
     ]
    },
    {
     "name": "stdout",
     "output_type": "stream",
     "text": [
      "Extracted records :  7709464     sequence picking progression : 44.59%\n",
      "data checkpoint ... done in 87.49 second(s)\n",
      "- - - - - - - - - - - - - - - - - - - - - - - - - - - - - - - - -\n",
      "Loading data chunk N°:  7  ... done in 51.00 second(s)\n",
      "GPS data preprocessing ... done in 17.88 second(s)\n"
     ]
    },
    {
     "name": "stderr",
     "output_type": "stream",
     "text": [
      "Full sequence picking :  31%|█████████████▍                              | 3046655/9953251 [00:24<00:38, 177359.05it/s]"
     ]
    }
   ],
   "source": [
    "import gc\n",
    "from time import time\n",
    "from tqdm import tqdm\n",
    "# full pick tracking cell\n",
    "# (vehicle_id, sequence_id)  : contains a list of successive datetime stops \n",
    "\n",
    "#algorithm details : \n",
    "#\n",
    "#\n",
    "#\n",
    "#\n",
    "#\n",
    "\n",
    "#Notations: \n",
    "#record[0]  : vehicle_id from gps records\n",
    "#record[-1] : datetime from gps records\n",
    "\n",
    "size_chunk = int(input('please set the size of a chunk:\\n'))\n",
    "\n",
    "print('full pick time parameters initialization', end=' ... ')\n",
    "start = time()\n",
    "names = ['index', 'vehicle_id', 'vehicle_type', 'line_id', 'latitude', 'longitude', 'unkn_1', 'unkn_2', 'unkn_3', 'direction', 'unkn_4', 'unkn_5', 'datetime', 'last_modified']\n",
    "full_gps = pd.read_csv('../database/gps.sql', chunksize=size_chunk, sep='\\t', names=names)\n",
    "\n",
    "#Algorithm parameters and data structres initialization :\n",
    "data_records_dict = dict( ((vehicle,sequence), datetime) \\\n",
    "                    for vehicle, sequence, datetime in \\\n",
    "                        data_records[['vehicle_id','sequence_id','arrival_time']].groupby(['vehicle_id','sequence_id'], as_index=False).arrival_time.agg(list).values )\n",
    "\n",
    "vehicle_seq = dict( (vehicle, sequences) \\\n",
    "              for vehicle, sequences in \\\n",
    "                  data_records[['vehicle_id','sequence_id']].groupby('vehicle_id', as_index=False).agg(list).values)\n",
    "\n",
    "vehicle_stop = dict( (vehicle, station_id) \\\n",
    "                  for vehicle, station_id  in \\\n",
    "                      data_records[['vehicle_id','station_id']].groupby('vehicle_id', as_index=False).agg(list).values)\n",
    "\n",
    "last_seq = {}\n",
    "rec    = {}\n",
    "total_seqs = data_records.sequence_id.nunique()\n",
    "chunk = 1\n",
    "seq_progress = 0\n",
    "stop = time()\n",
    "print('done in {:.2f} second(s)'.format(stop - start))\n",
    "\n",
    "print('\\n')\n",
    "print('- - - - - - - - SEQUENCE - PICK - ALGORITHM - - - - - - - - - - -')\n",
    "\n",
    "start = time()\n",
    "for gps in full_gps :\n",
    "    print('Loading data chunk N°: ', chunk, ' ...', end=' ')\n",
    "\n",
    "    extracted_records = []\n",
    "    stop = time()\n",
    "    print('done in {:.2f} second(s)'.format(stop - start))\n",
    "\n",
    "    \n",
    "    print('GPS data preprocessing ...', end=' ')\n",
    "    start = time()\n",
    "    \n",
    "    #drop features\n",
    "    gps.drop(['index','vehicle_type','last_modified','unkn_1','unkn_2','unkn_3','unkn_4','unkn_5'], axis=1, inplace=True)\n",
    "\n",
    "    #sorting by vehicle_id and datetime is critical for the full pick algorithm\n",
    "    gps = gps.sort_values(['vehicle_id','datetime'])\n",
    "    gps = gps.drop_duplicates()\n",
    "    \n",
    "    stop = time()\n",
    "    print('done in {:.2f} second(s)'.format(stop - start))\n",
    "\n",
    "    for record in tqdm(gps.values, position=0, leave=True, desc='Full sequence picking : ') :            \n",
    "        \n",
    "        vehicle = record[0]\n",
    "        record_datetime = record[-1]\n",
    "\n",
    "        if vehicle not in rec : \n",
    "            rec[vehicle] = False\n",
    "\n",
    "        try:   \n",
    "            #extract records\n",
    "            if rec[vehicle] :\n",
    "                # extracted_records ==> [ current_sequence_id, last_stop, gps records]\n",
    "                extracted_records.append(np.concatenate([[vehicle_seq[vehicle][0]], [vehicle_stop[vehicle][0]], record]))\n",
    "            \n",
    "            if record_datetime == data_records_dict[(vehicle, vehicle_seq[vehicle][0])][0] :\n",
    "                #point to the next stop and update algorithms parameters\n",
    "                del data_records_dict[(vehicle, vehicle_seq[vehicle][0])][0]    #get the next datetime where the vehicle has arrived to a stop\n",
    "                last_seq[vehicle] = vehicle_seq[vehicle][0]    #save last sequence id\n",
    "                del vehicle_seq[vehicle][0]     #get the next record sequence id\n",
    "                del vehicle_stop[vehicle][0]    #get the next record stop id\n",
    "\n",
    "                #skip records if sequence id has changed until we match the first stop of the new sequence\n",
    "                if last_seq[vehicle] == vehicle_seq[vehicle][0]:\n",
    "                    rec[vehicle] = True    #activate records extraction flag\n",
    "                else :\n",
    "                    rec[vehicle] = False  #desactivate records extraction flag\n",
    "                    seq_progress += 1\n",
    "        except:\n",
    "            continue\n",
    "\n",
    "    print('Extracted records : ', len(extracted_records), '    sequence picking progression : {:.2f}%'.format(seq_progress*100 / total_seqs ))\n",
    "    #break\n",
    "    #checkpoint\n",
    "    print('data checkpoint ...', end=' ')\n",
    "    start = time()\n",
    "    cols = ['sequence_id','station_id','vehicle_id','line_id','latitude','longitude','direction','datetime']\n",
    "    extracted_records = pd.DataFrame(data=extracted_records, columns=cols)\n",
    "    extracted_records['vehicle_type'] = extracted_records.line_id.apply(extract_vehicletype)\n",
    "    extracted_records = extracted_records.sort_values(['vehicle_id','datetime']).reset_index(drop=True)\n",
    "    extracted_records.to_csv('data/fullpick/fullpick_chunk{}.csv'.format(chunk), index = False)\n",
    "    stop = time()\n",
    "    print('done in {:.2f} second(s)'.format(stop - start))\n",
    "    \n",
    "    print('- - - - - - - - - - - - - - - - - - - - - - - - - - - - - - - - -')\n",
    "    \n",
    "    chunk += 1\n",
    "    del extracted_records\n",
    "    gc.collect()\n",
    "    start = time()"
   ]
  },
  {
   "cell_type": "code",
   "execution_count": null,
   "metadata": {},
   "outputs": [],
   "source": [
    "import pandas as pd\n",
    "fullpick = pd.read_csv('data/fullpick/fullpick_chunk10.csv')"
   ]
  },
  {
   "cell_type": "code",
   "execution_count": null,
   "metadata": {},
   "outputs": [],
   "source": [
    "fullpick.info()"
   ]
  },
  {
   "cell_type": "code",
   "execution_count": null,
   "metadata": {},
   "outputs": [],
   "source": [
    "paths = pd.read_csv('data/paths.csv')\n",
    "data_records = data_records.merge(paths[['line_id','french_name']], how='left', on='line_id')"
   ]
  },
  {
   "cell_type": "code",
   "execution_count": null,
   "metadata": {},
   "outputs": [],
   "source": [
    "data_records = data_records.merge(station_paths[['station_id','latitude','longitude']], on='station_id' )"
   ]
  },
  {
   "cell_type": "code",
   "execution_count": null,
   "metadata": {},
   "outputs": [],
   "source": [
    "sequence_population = list(fullpick.sequence_id.unique())"
   ]
  },
  {
   "cell_type": "code",
   "execution_count": null,
   "metadata": {},
   "outputs": [],
   "source": [
    "import random\n",
    "import matplotlib.pyplot as plt\n",
    "\n",
    "sequence_sample = random.sample(sequence_population,6)\n",
    "fig, axs = plt.subplots(3, 2, figsize=(18,13))\n",
    "\n",
    "plot_idx = [[0,0],[0,1],[1,0],[1,1],[2,0],[2,1]]\n",
    "for k,sequence_id in enumerate(sequence_sample) :\n",
    "\n",
    "    path = data_records[data_records.sequence_id == sequence_id].line_label.unique().item()\n",
    "    path_direction = data_records[data_records.sequence_id == sequence_id].french_name.unique().item()\n",
    "\n",
    "    x = fullpick[fullpick.sequence_id == sequence_id].latitude.values\n",
    "    y = fullpick[fullpick.sequence_id == sequence_id].longitude.values\n",
    "\n",
    "    st_x = data_records[data_records.sequence_id == sequence_id].latitude.values\n",
    "    st_y = data_records[data_records.sequence_id == sequence_id].longitude.values\n",
    "    st_order =  data_records[data_records.sequence_id == sequence_id].order.values\n",
    "\n",
    "    i, j = plot_idx[k]\n",
    "    axs[i,j].set_title('sequence id : ' + sequence_id + '  vehicle id : ' + sequence_id.split('.')[0] + '  path : ' + path + ' ( ' + path_direction + ' ) ')\n",
    "\n",
    "    for k, order in enumerate(st_order):\n",
    "        axs[i,j].annotate(order, (st_x[k],st_y[k]), fontsize = 15)\n",
    "    axs[i,j].plot(x,y,'.')\n",
    "\n",
    "    axs[i,j].plot(st_x,st_y, 'ro')\n",
    "\n",
    "plt.tight_layout()\n",
    "plt.show()"
   ]
  },
  {
   "cell_type": "code",
   "execution_count": null,
   "metadata": {},
   "outputs": [],
   "source": []
  }
 ],
 "metadata": {
  "kernelspec": {
   "display_name": "Python 3",
   "language": "python",
   "name": "python3"
  },
  "language_info": {
   "codemirror_mode": {
    "name": "ipython",
    "version": 3
   },
   "file_extension": ".py",
   "mimetype": "text/x-python",
   "name": "python",
   "nbconvert_exporter": "python",
   "pygments_lexer": "ipython3",
   "version": "3.8.8"
  }
 },
 "nbformat": 4,
 "nbformat_minor": 4
}
