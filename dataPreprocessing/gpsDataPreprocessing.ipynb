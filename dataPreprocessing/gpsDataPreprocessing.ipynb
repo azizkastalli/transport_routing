{
 "cells": [
  {
   "cell_type": "code",
   "execution_count": 1,
   "metadata": {},
   "outputs": [],
   "source": [
    "import pandas as pd\n",
    "import seaborn as sns\n",
    "import matplotlib.pyplot as plt\n",
    "from datetime import datetime\n",
    "import numpy as np\n",
    "from tqdm import tqdm"
   ]
  },
  {
   "cell_type": "markdown",
   "metadata": {},
   "source": [
    "## I) Data Preprocessing"
   ]
  },
  {
   "cell_type": "code",
   "execution_count": 2,
   "metadata": {},
   "outputs": [],
   "source": [
    "#prob\n",
    "paths = pd.read_csv('../database/paths.sql',error_bad_lines=False,  sep='\\t', names = ['line_id', 'path_id', 'english_name', 'french_name', 'arabic_name', 'tag'])"
   ]
  },
  {
   "cell_type": "code",
   "execution_count": 3,
   "metadata": {},
   "outputs": [],
   "source": [
    "#preprocessing\n",
    "paths.iloc[8,-1] = '0'\n",
    "ch = paths.iloc[25,-1]\n",
    "paths.iloc[25,-2] = (paths.iloc[25,-2] + ch).replace('//','')\n",
    "paths.iloc[25,-1] = 1"
   ]
  },
  {
   "cell_type": "code",
   "execution_count": 4,
   "metadata": {},
   "outputs": [],
   "source": [
    "paths.tag = paths.tag.astype(int)"
   ]
  },
  {
   "cell_type": "code",
   "execution_count": 5,
   "metadata": {},
   "outputs": [
    {
     "data": {
      "text/html": [
       "<div>\n",
       "<style scoped>\n",
       "    .dataframe tbody tr th:only-of-type {\n",
       "        vertical-align: middle;\n",
       "    }\n",
       "\n",
       "    .dataframe tbody tr th {\n",
       "        vertical-align: top;\n",
       "    }\n",
       "\n",
       "    .dataframe thead th {\n",
       "        text-align: right;\n",
       "    }\n",
       "</style>\n",
       "<table border=\"1\" class=\"dataframe\">\n",
       "  <thead>\n",
       "    <tr style=\"text-align: right;\">\n",
       "      <th></th>\n",
       "      <th>line_id</th>\n",
       "      <th>path_id</th>\n",
       "      <th>english_name</th>\n",
       "      <th>french_name</th>\n",
       "      <th>arabic_name</th>\n",
       "      <th>tag</th>\n",
       "    </tr>\n",
       "  </thead>\n",
       "  <tbody>\n",
       "    <tr>\n",
       "      <th>0</th>\n",
       "      <td>1</td>\n",
       "      <td>8</td>\n",
       "      <td>Intilaka vers  Barcelona</td>\n",
       "      <td>Intilaka vers  Barcelone</td>\n",
       "      <td>الإنطلاقة في إتجاه برشلونة</td>\n",
       "      <td>1</td>\n",
       "    </tr>\n",
       "    <tr>\n",
       "      <th>1</th>\n",
       "      <td>3</td>\n",
       "      <td>8</td>\n",
       "      <td>Barcelone to Intilaka</td>\n",
       "      <td>Barcelona vers Intilaka</td>\n",
       "      <td>برشلونة في إتجاه الإنطلاقة</td>\n",
       "      <td>0</td>\n",
       "    </tr>\n",
       "    <tr>\n",
       "      <th>2</th>\n",
       "      <td>4</td>\n",
       "      <td>4</td>\n",
       "      <td>Tunis Marine to Campus Manouba</td>\n",
       "      <td>Tunis Marine vers Campus Manouba</td>\n",
       "      <td>تونس البحرية في إتجاه المركب الجامعي بمنوبة</td>\n",
       "      <td>0</td>\n",
       "    </tr>\n",
       "    <tr>\n",
       "      <th>3</th>\n",
       "      <td>5</td>\n",
       "      <td>4</td>\n",
       "      <td>Campus Manouba toTunis Marine</td>\n",
       "      <td>Campus Manouba vers Tunis Marine</td>\n",
       "      <td>المركب الجامعي بمنوبة  في إتجاه تونس البحرية</td>\n",
       "      <td>1</td>\n",
       "    </tr>\n",
       "    <tr>\n",
       "      <th>4</th>\n",
       "      <td>6</td>\n",
       "      <td>2</td>\n",
       "      <td>Republique to Ariana</td>\n",
       "      <td>Republique vers Ariana</td>\n",
       "      <td>الجمهورية في إتجاه أريانة</td>\n",
       "      <td>0</td>\n",
       "    </tr>\n",
       "  </tbody>\n",
       "</table>\n",
       "</div>"
      ],
      "text/plain": [
       "   line_id  path_id                    english_name  \\\n",
       "0        1        8        Intilaka vers  Barcelona   \n",
       "1        3        8           Barcelone to Intilaka   \n",
       "2        4        4  Tunis Marine to Campus Manouba   \n",
       "3        5        4   Campus Manouba toTunis Marine   \n",
       "4        6        2            Republique to Ariana   \n",
       "\n",
       "                        french_name  \\\n",
       "0          Intilaka vers  Barcelone   \n",
       "1           Barcelona vers Intilaka   \n",
       "2  Tunis Marine vers Campus Manouba   \n",
       "3  Campus Manouba vers Tunis Marine   \n",
       "4            Republique vers Ariana   \n",
       "\n",
       "                                    arabic_name  tag  \n",
       "0                    الإنطلاقة في إتجاه برشلونة    1  \n",
       "1                    برشلونة في إتجاه الإنطلاقة    0  \n",
       "2   تونس البحرية في إتجاه المركب الجامعي بمنوبة    0  \n",
       "3  المركب الجامعي بمنوبة  في إتجاه تونس البحرية    1  \n",
       "4                     الجمهورية في إتجاه أريانة    0  "
      ]
     },
     "execution_count": 5,
     "metadata": {},
     "output_type": "execute_result"
    }
   ],
   "source": [
    "paths.head()"
   ]
  },
  {
   "cell_type": "code",
   "execution_count": 6,
   "metadata": {},
   "outputs": [
    {
     "data": {
      "text/html": [
       "<div>\n",
       "<style scoped>\n",
       "    .dataframe tbody tr th:only-of-type {\n",
       "        vertical-align: middle;\n",
       "    }\n",
       "\n",
       "    .dataframe tbody tr th {\n",
       "        vertical-align: top;\n",
       "    }\n",
       "\n",
       "    .dataframe thead th {\n",
       "        text-align: right;\n",
       "    }\n",
       "</style>\n",
       "<table border=\"1\" class=\"dataframe\">\n",
       "  <thead>\n",
       "    <tr style=\"text-align: right;\">\n",
       "      <th></th>\n",
       "      <th>station_id</th>\n",
       "      <th>english_name</th>\n",
       "      <th>french_name</th>\n",
       "      <th>arabic_name</th>\n",
       "      <th>latitude</th>\n",
       "      <th>longitude</th>\n",
       "    </tr>\n",
       "  </thead>\n",
       "  <tbody>\n",
       "    <tr>\n",
       "      <th>0</th>\n",
       "      <td>15</td>\n",
       "      <td>TUNIS MARINE</td>\n",
       "      <td>TUNIS MARINE</td>\n",
       "      <td>تونس البحرية</td>\n",
       "      <td>36.800174</td>\n",
       "      <td>10.190487</td>\n",
       "    </tr>\n",
       "    <tr>\n",
       "      <th>1</th>\n",
       "      <td>16</td>\n",
       "      <td>STREET OF TURKISH</td>\n",
       "      <td>RUE DE LA TURQUIE</td>\n",
       "      <td>نهج تركيا</td>\n",
       "      <td>36.799103</td>\n",
       "      <td>10.186369</td>\n",
       "    </tr>\n",
       "    <tr>\n",
       "      <th>2</th>\n",
       "      <td>20</td>\n",
       "      <td>MONCEF BEY</td>\n",
       "      <td>MONCEF BEY</td>\n",
       "      <td>المنصف باي</td>\n",
       "      <td>36.792631</td>\n",
       "      <td>10.185839</td>\n",
       "    </tr>\n",
       "    <tr>\n",
       "      <th>3</th>\n",
       "      <td>21</td>\n",
       "      <td>HOPSPITAL MILITARY</td>\n",
       "      <td>HOPITAL MILITAIRE</td>\n",
       "      <td>المستشفى العسكري</td>\n",
       "      <td>36.785595</td>\n",
       "      <td>10.179933</td>\n",
       "    </tr>\n",
       "    <tr>\n",
       "      <th>4</th>\n",
       "      <td>22</td>\n",
       "      <td>HOPITAL HABIB THAMEUR</td>\n",
       "      <td>HOPITAL HABIB THAMEUR</td>\n",
       "      <td>مستشفى الحبيب ثامر</td>\n",
       "      <td>36.784376</td>\n",
       "      <td>10.175823</td>\n",
       "    </tr>\n",
       "  </tbody>\n",
       "</table>\n",
       "</div>"
      ],
      "text/plain": [
       "   station_id           english_name            french_name  \\\n",
       "0          15           TUNIS MARINE           TUNIS MARINE   \n",
       "1          16      STREET OF TURKISH      RUE DE LA TURQUIE   \n",
       "2          20             MONCEF BEY             MONCEF BEY   \n",
       "3          21     HOPSPITAL MILITARY      HOPITAL MILITAIRE   \n",
       "4          22  HOPITAL HABIB THAMEUR  HOPITAL HABIB THAMEUR   \n",
       "\n",
       "          arabic_name   latitude  longitude  \n",
       "0        تونس البحرية  36.800174  10.190487  \n",
       "1           نهج تركيا  36.799103  10.186369  \n",
       "2          المنصف باي  36.792631  10.185839  \n",
       "3    المستشفى العسكري  36.785595  10.179933  \n",
       "4  مستشفى الحبيب ثامر  36.784376  10.175823  "
      ]
     },
     "execution_count": 6,
     "metadata": {},
     "output_type": "execute_result"
    }
   ],
   "source": [
    "stops = pd.read_csv('../database/stops.sql', error_bad_lines=False,  sep='\\t', names = ['english_name', 'french_name', 'arabic_name', 'latitude', 'longitude'])\n",
    "stops = stops.reset_index().rename({'index':'station_id'},axis=1)\n",
    "stops.head()"
   ]
  },
  {
   "cell_type": "code",
   "execution_count": 7,
   "metadata": {},
   "outputs": [
    {
     "data": {
      "text/html": [
       "<div>\n",
       "<style scoped>\n",
       "    .dataframe tbody tr th:only-of-type {\n",
       "        vertical-align: middle;\n",
       "    }\n",
       "\n",
       "    .dataframe tbody tr th {\n",
       "        vertical-align: top;\n",
       "    }\n",
       "\n",
       "    .dataframe thead th {\n",
       "        text-align: right;\n",
       "    }\n",
       "</style>\n",
       "<table border=\"1\" class=\"dataframe\">\n",
       "  <thead>\n",
       "    <tr style=\"text-align: right;\">\n",
       "      <th></th>\n",
       "      <th>line_id</th>\n",
       "      <th>station_id</th>\n",
       "      <th>order</th>\n",
       "    </tr>\n",
       "  </thead>\n",
       "  <tbody>\n",
       "    <tr>\n",
       "      <th>0</th>\n",
       "      <td>1</td>\n",
       "      <td>1</td>\n",
       "      <td>1</td>\n",
       "    </tr>\n",
       "    <tr>\n",
       "      <th>1</th>\n",
       "      <td>1</td>\n",
       "      <td>2</td>\n",
       "      <td>2</td>\n",
       "    </tr>\n",
       "    <tr>\n",
       "      <th>2</th>\n",
       "      <td>1</td>\n",
       "      <td>3</td>\n",
       "      <td>3</td>\n",
       "    </tr>\n",
       "    <tr>\n",
       "      <th>3</th>\n",
       "      <td>1</td>\n",
       "      <td>4</td>\n",
       "      <td>4</td>\n",
       "    </tr>\n",
       "    <tr>\n",
       "      <th>4</th>\n",
       "      <td>1</td>\n",
       "      <td>5</td>\n",
       "      <td>5</td>\n",
       "    </tr>\n",
       "  </tbody>\n",
       "</table>\n",
       "</div>"
      ],
      "text/plain": [
       "   line_id  station_id  order\n",
       "0        1           1      1\n",
       "1        1           2      2\n",
       "2        1           3      3\n",
       "3        1           4      4\n",
       "4        1           5      5"
      ]
     },
     "execution_count": 7,
     "metadata": {},
     "output_type": "execute_result"
    }
   ],
   "source": [
    "path_stop = pd.read_csv('../database/path_stop.sql', sep='\\t', names = ['id', 'line_id', 'station_id', 'order']).drop('id',axis=1)\n",
    "path_stop.head()"
   ]
  },
  {
   "cell_type": "code",
   "execution_count": 9,
   "metadata": {},
   "outputs": [
    {
     "data": {
      "text/html": [
       "<div>\n",
       "<style scoped>\n",
       "    .dataframe tbody tr th:only-of-type {\n",
       "        vertical-align: middle;\n",
       "    }\n",
       "\n",
       "    .dataframe tbody tr th {\n",
       "        vertical-align: top;\n",
       "    }\n",
       "\n",
       "    .dataframe thead th {\n",
       "        text-align: right;\n",
       "    }\n",
       "</style>\n",
       "<table border=\"1\" class=\"dataframe\">\n",
       "  <thead>\n",
       "    <tr style=\"text-align: right;\">\n",
       "      <th></th>\n",
       "      <th>path_id</th>\n",
       "      <th>line_label</th>\n",
       "    </tr>\n",
       "  </thead>\n",
       "  <tbody>\n",
       "    <tr>\n",
       "      <th>0</th>\n",
       "      <td>4</td>\n",
       "      <td>104</td>\n",
       "    </tr>\n",
       "    <tr>\n",
       "      <th>1</th>\n",
       "      <td>6</td>\n",
       "      <td>Empty Line</td>\n",
       "    </tr>\n",
       "    <tr>\n",
       "      <th>2</th>\n",
       "      <td>7</td>\n",
       "      <td>6</td>\n",
       "    </tr>\n",
       "    <tr>\n",
       "      <th>3</th>\n",
       "      <td>8</td>\n",
       "      <td>5</td>\n",
       "    </tr>\n",
       "    <tr>\n",
       "      <th>4</th>\n",
       "      <td>9</td>\n",
       "      <td>3</td>\n",
       "    </tr>\n",
       "  </tbody>\n",
       "</table>\n",
       "</div>"
      ],
      "text/plain": [
       "   path_id  line_label\n",
       "0        4         104\n",
       "1        6  Empty Line\n",
       "2        7           6\n",
       "3        8           5\n",
       "4        9           3"
      ]
     },
     "execution_count": 9,
     "metadata": {},
     "output_type": "execute_result"
    }
   ],
   "source": [
    "lines = pd.read_csv('../database/lines.sql', sep='\\t').drop(['2.2','2.3'],axis = 1).rename({'2':'path_id','2.1':'line_label'},axis=1)\n",
    "lines.head()"
   ]
  },
  {
   "cell_type": "markdown",
   "metadata": {},
   "source": [
    "### 1) Generate station paths : merge path_stop with stops"
   ]
  },
  {
   "cell_type": "code",
   "execution_count": 10,
   "metadata": {},
   "outputs": [
    {
     "data": {
      "text/html": [
       "<div>\n",
       "<style scoped>\n",
       "    .dataframe tbody tr th:only-of-type {\n",
       "        vertical-align: middle;\n",
       "    }\n",
       "\n",
       "    .dataframe tbody tr th {\n",
       "        vertical-align: top;\n",
       "    }\n",
       "\n",
       "    .dataframe thead th {\n",
       "        text-align: right;\n",
       "    }\n",
       "</style>\n",
       "<table border=\"1\" class=\"dataframe\">\n",
       "  <thead>\n",
       "    <tr style=\"text-align: right;\">\n",
       "      <th></th>\n",
       "      <th>line_id</th>\n",
       "      <th>station_id</th>\n",
       "      <th>order</th>\n",
       "      <th>english_name</th>\n",
       "      <th>french_name</th>\n",
       "      <th>arabic_name</th>\n",
       "      <th>latitude</th>\n",
       "      <th>longitude</th>\n",
       "    </tr>\n",
       "  </thead>\n",
       "  <tbody>\n",
       "    <tr>\n",
       "      <th>268</th>\n",
       "      <td>1</td>\n",
       "      <td>161</td>\n",
       "      <td>1</td>\n",
       "      <td>CITE EL INTILAKA</td>\n",
       "      <td>CITE EL INTILAKA</td>\n",
       "      <td>حي الإنطلاقة</td>\n",
       "      <td>36.838918</td>\n",
       "      <td>10.117072</td>\n",
       "    </tr>\n",
       "    <tr>\n",
       "      <th>266</th>\n",
       "      <td>1</td>\n",
       "      <td>160</td>\n",
       "      <td>2</td>\n",
       "      <td>ETTADHAMEN</td>\n",
       "      <td>ETTADHAMEN</td>\n",
       "      <td>التضامن</td>\n",
       "      <td>36.835840</td>\n",
       "      <td>10.117590</td>\n",
       "    </tr>\n",
       "    <tr>\n",
       "      <th>455</th>\n",
       "      <td>1</td>\n",
       "      <td>105</td>\n",
       "      <td>3</td>\n",
       "      <td>OMRANE SUPÉRIEUR</td>\n",
       "      <td>OMRANE SUPÉRIEUR</td>\n",
       "      <td>العمران الأعلى</td>\n",
       "      <td>36.830582</td>\n",
       "      <td>10.124005</td>\n",
       "    </tr>\n",
       "    <tr>\n",
       "      <th>264</th>\n",
       "      <td>1</td>\n",
       "      <td>159</td>\n",
       "      <td>4</td>\n",
       "      <td>ETTAHRIR</td>\n",
       "      <td>ETTAHRIR</td>\n",
       "      <td>التحرير</td>\n",
       "      <td>36.829180</td>\n",
       "      <td>10.128620</td>\n",
       "    </tr>\n",
       "    <tr>\n",
       "      <th>260</th>\n",
       "      <td>1</td>\n",
       "      <td>158</td>\n",
       "      <td>5</td>\n",
       "      <td>LES JASMINS</td>\n",
       "      <td>LES JASMINS</td>\n",
       "      <td>الياسمين</td>\n",
       "      <td>36.825880</td>\n",
       "      <td>10.134540</td>\n",
       "    </tr>\n",
       "  </tbody>\n",
       "</table>\n",
       "</div>"
      ],
      "text/plain": [
       "     line_id  station_id  order      english_name       french_name  \\\n",
       "268        1         161      1  CITE EL INTILAKA  CITE EL INTILAKA   \n",
       "266        1         160      2        ETTADHAMEN        ETTADHAMEN   \n",
       "455        1         105      3  OMRANE SUPÉRIEUR  OMRANE SUPÉRIEUR   \n",
       "264        1         159      4          ETTAHRIR          ETTAHRIR   \n",
       "260        1         158      5       LES JASMINS       LES JASMINS   \n",
       "\n",
       "        arabic_name   latitude  longitude  \n",
       "268    حي الإنطلاقة  36.838918  10.117072  \n",
       "266         التضامن  36.835840  10.117590  \n",
       "455  العمران الأعلى  36.830582  10.124005  \n",
       "264         التحرير  36.829180  10.128620  \n",
       "260        الياسمين  36.825880  10.134540  "
      ]
     },
     "execution_count": 10,
     "metadata": {},
     "output_type": "execute_result"
    }
   ],
   "source": [
    "station_paths = path_stop.merge(stops, on='station_id').sort_values(['line_id','order'])\n",
    "station_paths.head()"
   ]
  },
  {
   "cell_type": "code",
   "execution_count": 11,
   "metadata": {},
   "outputs": [
    {
     "data": {
      "text/plain": [
       "line_id         0\n",
       "station_id      0\n",
       "order           0\n",
       "english_name    0\n",
       "french_name     0\n",
       "arabic_name     0\n",
       "latitude        3\n",
       "longitude       0\n",
       "dtype: int64"
      ]
     },
     "execution_count": 11,
     "metadata": {},
     "output_type": "execute_result"
    }
   ],
   "source": [
    "station_paths.isnull().sum()"
   ]
  },
  {
   "cell_type": "code",
   "execution_count": 12,
   "metadata": {},
   "outputs": [],
   "source": [
    "#fix foyer bardo 2 station coordinates\n",
    "station_paths.iloc[301,-2] = 36.818324\n",
    "station_paths.iloc[301,-1] = 10.141400\n",
    "\n",
    "#fix stade ibn kholdoun station coordiantes\n",
    "station_paths.iloc[286,-2] = 36.833022\n",
    "station_paths.iloc[286,-1] = 10.136255\n",
    "\n",
    "#fix mosque ibn kholdoun station coordinates\n",
    "station_paths.iloc[284,-2] = 36.829171\n",
    "station_paths.iloc[284,-1] = 10.135974"
   ]
  },
  {
   "cell_type": "code",
   "execution_count": 13,
   "metadata": {},
   "outputs": [
    {
     "data": {
      "text/plain": [
       "line_id         0\n",
       "station_id      0\n",
       "order           0\n",
       "english_name    0\n",
       "french_name     0\n",
       "arabic_name     0\n",
       "latitude        0\n",
       "longitude       0\n",
       "dtype: int64"
      ]
     },
     "execution_count": 13,
     "metadata": {},
     "output_type": "execute_result"
    }
   ],
   "source": [
    "station_paths.isnull().sum()"
   ]
  },
  {
   "cell_type": "code",
   "execution_count": 14,
   "metadata": {},
   "outputs": [
    {
     "data": {
      "text/html": [
       "<div>\n",
       "<style scoped>\n",
       "    .dataframe tbody tr th:only-of-type {\n",
       "        vertical-align: middle;\n",
       "    }\n",
       "\n",
       "    .dataframe tbody tr th {\n",
       "        vertical-align: top;\n",
       "    }\n",
       "\n",
       "    .dataframe thead th {\n",
       "        text-align: right;\n",
       "    }\n",
       "</style>\n",
       "<table border=\"1\" class=\"dataframe\">\n",
       "  <thead>\n",
       "    <tr style=\"text-align: right;\">\n",
       "      <th></th>\n",
       "      <th>line_id</th>\n",
       "      <th>station_id</th>\n",
       "      <th>order</th>\n",
       "      <th>english_name</th>\n",
       "      <th>french_name</th>\n",
       "      <th>arabic_name</th>\n",
       "      <th>latitude</th>\n",
       "      <th>longitude</th>\n",
       "    </tr>\n",
       "  </thead>\n",
       "  <tbody>\n",
       "    <tr>\n",
       "      <th>268</th>\n",
       "      <td>1</td>\n",
       "      <td>161</td>\n",
       "      <td>1</td>\n",
       "      <td>CITE EL INTILAKA</td>\n",
       "      <td>CITE EL INTILAKA</td>\n",
       "      <td>حي الإنطلاقة</td>\n",
       "      <td>36.838918</td>\n",
       "      <td>10.117072</td>\n",
       "    </tr>\n",
       "    <tr>\n",
       "      <th>266</th>\n",
       "      <td>1</td>\n",
       "      <td>160</td>\n",
       "      <td>2</td>\n",
       "      <td>ETTADHAMEN</td>\n",
       "      <td>ETTADHAMEN</td>\n",
       "      <td>التضامن</td>\n",
       "      <td>36.835840</td>\n",
       "      <td>10.117590</td>\n",
       "    </tr>\n",
       "    <tr>\n",
       "      <th>455</th>\n",
       "      <td>1</td>\n",
       "      <td>105</td>\n",
       "      <td>3</td>\n",
       "      <td>OMRANE SUPÉRIEUR</td>\n",
       "      <td>OMRANE SUPÉRIEUR</td>\n",
       "      <td>العمران الأعلى</td>\n",
       "      <td>36.830582</td>\n",
       "      <td>10.124005</td>\n",
       "    </tr>\n",
       "    <tr>\n",
       "      <th>264</th>\n",
       "      <td>1</td>\n",
       "      <td>159</td>\n",
       "      <td>4</td>\n",
       "      <td>ETTAHRIR</td>\n",
       "      <td>ETTAHRIR</td>\n",
       "      <td>التحرير</td>\n",
       "      <td>36.829180</td>\n",
       "      <td>10.128620</td>\n",
       "    </tr>\n",
       "    <tr>\n",
       "      <th>260</th>\n",
       "      <td>1</td>\n",
       "      <td>158</td>\n",
       "      <td>5</td>\n",
       "      <td>LES JASMINS</td>\n",
       "      <td>LES JASMINS</td>\n",
       "      <td>الياسمين</td>\n",
       "      <td>36.825880</td>\n",
       "      <td>10.134540</td>\n",
       "    </tr>\n",
       "  </tbody>\n",
       "</table>\n",
       "</div>"
      ],
      "text/plain": [
       "     line_id  station_id  order      english_name       french_name  \\\n",
       "268        1         161      1  CITE EL INTILAKA  CITE EL INTILAKA   \n",
       "266        1         160      2        ETTADHAMEN        ETTADHAMEN   \n",
       "455        1         105      3  OMRANE SUPÉRIEUR  OMRANE SUPÉRIEUR   \n",
       "264        1         159      4          ETTAHRIR          ETTAHRIR   \n",
       "260        1         158      5       LES JASMINS       LES JASMINS   \n",
       "\n",
       "        arabic_name   latitude  longitude  \n",
       "268    حي الإنطلاقة  36.838918  10.117072  \n",
       "266         التضامن  36.835840  10.117590  \n",
       "455  العمران الأعلى  36.830582  10.124005  \n",
       "264         التحرير  36.829180  10.128620  \n",
       "260        الياسمين  36.825880  10.134540  "
      ]
     },
     "execution_count": 14,
     "metadata": {},
     "output_type": "execute_result"
    }
   ],
   "source": [
    "station_paths.head()"
   ]
  },
  {
   "cell_type": "markdown",
   "metadata": {},
   "source": [
    "### 2) Genetrate line_paths : merge lines with paths"
   ]
  },
  {
   "cell_type": "code",
   "execution_count": 15,
   "metadata": {},
   "outputs": [],
   "source": [
    "lines = lines.append({'path_id':2,'line_label':'2'},ignore_index=True)"
   ]
  },
  {
   "cell_type": "code",
   "execution_count": 16,
   "metadata": {},
   "outputs": [
    {
     "data": {
      "text/html": [
       "<div>\n",
       "<style scoped>\n",
       "    .dataframe tbody tr th:only-of-type {\n",
       "        vertical-align: middle;\n",
       "    }\n",
       "\n",
       "    .dataframe tbody tr th {\n",
       "        vertical-align: top;\n",
       "    }\n",
       "\n",
       "    .dataframe thead th {\n",
       "        text-align: right;\n",
       "    }\n",
       "</style>\n",
       "<table border=\"1\" class=\"dataframe\">\n",
       "  <thead>\n",
       "    <tr style=\"text-align: right;\">\n",
       "      <th></th>\n",
       "      <th>line_id</th>\n",
       "      <th>path_id</th>\n",
       "      <th>english_name</th>\n",
       "      <th>french_name</th>\n",
       "      <th>arabic_name</th>\n",
       "      <th>tag</th>\n",
       "      <th>line_label</th>\n",
       "    </tr>\n",
       "  </thead>\n",
       "  <tbody>\n",
       "    <tr>\n",
       "      <th>0</th>\n",
       "      <td>1</td>\n",
       "      <td>8</td>\n",
       "      <td>Intilaka vers  Barcelona</td>\n",
       "      <td>Intilaka vers  Barcelone</td>\n",
       "      <td>الإنطلاقة في إتجاه برشلونة</td>\n",
       "      <td>1</td>\n",
       "      <td>5</td>\n",
       "    </tr>\n",
       "    <tr>\n",
       "      <th>1</th>\n",
       "      <td>3</td>\n",
       "      <td>8</td>\n",
       "      <td>Barcelone to Intilaka</td>\n",
       "      <td>Barcelona vers Intilaka</td>\n",
       "      <td>برشلونة في إتجاه الإنطلاقة</td>\n",
       "      <td>0</td>\n",
       "      <td>5</td>\n",
       "    </tr>\n",
       "    <tr>\n",
       "      <th>2</th>\n",
       "      <td>4</td>\n",
       "      <td>4</td>\n",
       "      <td>Tunis Marine to Campus Manouba</td>\n",
       "      <td>Tunis Marine vers Campus Manouba</td>\n",
       "      <td>تونس البحرية في إتجاه المركب الجامعي بمنوبة</td>\n",
       "      <td>0</td>\n",
       "      <td>104</td>\n",
       "    </tr>\n",
       "    <tr>\n",
       "      <th>3</th>\n",
       "      <td>5</td>\n",
       "      <td>4</td>\n",
       "      <td>Campus Manouba toTunis Marine</td>\n",
       "      <td>Campus Manouba vers Tunis Marine</td>\n",
       "      <td>المركب الجامعي بمنوبة  في إتجاه تونس البحرية</td>\n",
       "      <td>1</td>\n",
       "      <td>104</td>\n",
       "    </tr>\n",
       "    <tr>\n",
       "      <th>4</th>\n",
       "      <td>6</td>\n",
       "      <td>2</td>\n",
       "      <td>Republique to Ariana</td>\n",
       "      <td>Republique vers Ariana</td>\n",
       "      <td>الجمهورية في إتجاه أريانة</td>\n",
       "      <td>0</td>\n",
       "      <td>2</td>\n",
       "    </tr>\n",
       "  </tbody>\n",
       "</table>\n",
       "</div>"
      ],
      "text/plain": [
       "   line_id  path_id                    english_name  \\\n",
       "0        1        8        Intilaka vers  Barcelona   \n",
       "1        3        8           Barcelone to Intilaka   \n",
       "2        4        4  Tunis Marine to Campus Manouba   \n",
       "3        5        4   Campus Manouba toTunis Marine   \n",
       "4        6        2            Republique to Ariana   \n",
       "\n",
       "                        french_name  \\\n",
       "0          Intilaka vers  Barcelone   \n",
       "1           Barcelona vers Intilaka   \n",
       "2  Tunis Marine vers Campus Manouba   \n",
       "3  Campus Manouba vers Tunis Marine   \n",
       "4            Republique vers Ariana   \n",
       "\n",
       "                                    arabic_name  tag line_label  \n",
       "0                    الإنطلاقة في إتجاه برشلونة    1          5  \n",
       "1                    برشلونة في إتجاه الإنطلاقة    0          5  \n",
       "2   تونس البحرية في إتجاه المركب الجامعي بمنوبة    0        104  \n",
       "3  المركب الجامعي بمنوبة  في إتجاه تونس البحرية    1        104  \n",
       "4                     الجمهورية في إتجاه أريانة    0          2  "
      ]
     },
     "execution_count": 16,
     "metadata": {},
     "output_type": "execute_result"
    }
   ],
   "source": [
    "line_paths = paths.merge(lines,on='path_id')\n",
    "line_paths.to_csv('data/line_paths.csv', index=False)\n",
    "line_paths.head()"
   ]
  },
  {
   "cell_type": "markdown",
   "metadata": {},
   "source": [
    "### 3) Final station paths merging and preprocessing"
   ]
  },
  {
   "cell_type": "code",
   "execution_count": 17,
   "metadata": {},
   "outputs": [],
   "source": [
    "station_paths = station_paths.merge(line_paths[['line_id','path_id','line_label','tag']], on = 'line_id')"
   ]
  },
  {
   "cell_type": "code",
   "execution_count": 18,
   "metadata": {},
   "outputs": [],
   "source": [
    "def vehicle(x):\n",
    "    if x == 'TGM' : \n",
    "        # 1 for TGM\n",
    "        return 1\n",
    "    elif x in ['1','2','3','4','5','6'] :\n",
    "        #2 for Metro\n",
    "        return 2\n",
    "    else:\n",
    "        #3 for Bus\n",
    "        return 3"
   ]
  },
  {
   "cell_type": "code",
   "execution_count": 19,
   "metadata": {},
   "outputs": [
    {
     "data": {
      "text/html": [
       "<div>\n",
       "<style scoped>\n",
       "    .dataframe tbody tr th:only-of-type {\n",
       "        vertical-align: middle;\n",
       "    }\n",
       "\n",
       "    .dataframe tbody tr th {\n",
       "        vertical-align: top;\n",
       "    }\n",
       "\n",
       "    .dataframe thead th {\n",
       "        text-align: right;\n",
       "    }\n",
       "</style>\n",
       "<table border=\"1\" class=\"dataframe\">\n",
       "  <thead>\n",
       "    <tr style=\"text-align: right;\">\n",
       "      <th></th>\n",
       "      <th>line_id</th>\n",
       "      <th>station_id</th>\n",
       "      <th>order</th>\n",
       "      <th>english_name</th>\n",
       "      <th>french_name</th>\n",
       "      <th>arabic_name</th>\n",
       "      <th>latitude</th>\n",
       "      <th>longitude</th>\n",
       "      <th>path_id</th>\n",
       "      <th>line_label</th>\n",
       "      <th>tag</th>\n",
       "      <th>vehicle_type</th>\n",
       "    </tr>\n",
       "  </thead>\n",
       "  <tbody>\n",
       "    <tr>\n",
       "      <th>0</th>\n",
       "      <td>1</td>\n",
       "      <td>161</td>\n",
       "      <td>1</td>\n",
       "      <td>CITE EL INTILAKA</td>\n",
       "      <td>CITE EL INTILAKA</td>\n",
       "      <td>حي الإنطلاقة</td>\n",
       "      <td>36.838918</td>\n",
       "      <td>10.117072</td>\n",
       "      <td>8</td>\n",
       "      <td>5</td>\n",
       "      <td>1</td>\n",
       "      <td>2</td>\n",
       "    </tr>\n",
       "    <tr>\n",
       "      <th>1</th>\n",
       "      <td>1</td>\n",
       "      <td>160</td>\n",
       "      <td>2</td>\n",
       "      <td>ETTADHAMEN</td>\n",
       "      <td>ETTADHAMEN</td>\n",
       "      <td>التضامن</td>\n",
       "      <td>36.835840</td>\n",
       "      <td>10.117590</td>\n",
       "      <td>8</td>\n",
       "      <td>5</td>\n",
       "      <td>1</td>\n",
       "      <td>2</td>\n",
       "    </tr>\n",
       "    <tr>\n",
       "      <th>2</th>\n",
       "      <td>1</td>\n",
       "      <td>105</td>\n",
       "      <td>3</td>\n",
       "      <td>OMRANE SUPÉRIEUR</td>\n",
       "      <td>OMRANE SUPÉRIEUR</td>\n",
       "      <td>العمران الأعلى</td>\n",
       "      <td>36.830582</td>\n",
       "      <td>10.124005</td>\n",
       "      <td>8</td>\n",
       "      <td>5</td>\n",
       "      <td>1</td>\n",
       "      <td>2</td>\n",
       "    </tr>\n",
       "    <tr>\n",
       "      <th>3</th>\n",
       "      <td>1</td>\n",
       "      <td>159</td>\n",
       "      <td>4</td>\n",
       "      <td>ETTAHRIR</td>\n",
       "      <td>ETTAHRIR</td>\n",
       "      <td>التحرير</td>\n",
       "      <td>36.829180</td>\n",
       "      <td>10.128620</td>\n",
       "      <td>8</td>\n",
       "      <td>5</td>\n",
       "      <td>1</td>\n",
       "      <td>2</td>\n",
       "    </tr>\n",
       "    <tr>\n",
       "      <th>4</th>\n",
       "      <td>1</td>\n",
       "      <td>158</td>\n",
       "      <td>5</td>\n",
       "      <td>LES JASMINS</td>\n",
       "      <td>LES JASMINS</td>\n",
       "      <td>الياسمين</td>\n",
       "      <td>36.825880</td>\n",
       "      <td>10.134540</td>\n",
       "      <td>8</td>\n",
       "      <td>5</td>\n",
       "      <td>1</td>\n",
       "      <td>2</td>\n",
       "    </tr>\n",
       "  </tbody>\n",
       "</table>\n",
       "</div>"
      ],
      "text/plain": [
       "   line_id  station_id  order      english_name       french_name  \\\n",
       "0        1         161      1  CITE EL INTILAKA  CITE EL INTILAKA   \n",
       "1        1         160      2        ETTADHAMEN        ETTADHAMEN   \n",
       "2        1         105      3  OMRANE SUPÉRIEUR  OMRANE SUPÉRIEUR   \n",
       "3        1         159      4          ETTAHRIR          ETTAHRIR   \n",
       "4        1         158      5       LES JASMINS       LES JASMINS   \n",
       "\n",
       "      arabic_name   latitude  longitude  path_id line_label  tag  vehicle_type  \n",
       "0    حي الإنطلاقة  36.838918  10.117072        8          5    1             2  \n",
       "1         التضامن  36.835840  10.117590        8          5    1             2  \n",
       "2  العمران الأعلى  36.830582  10.124005        8          5    1             2  \n",
       "3         التحرير  36.829180  10.128620        8          5    1             2  \n",
       "4        الياسمين  36.825880  10.134540        8          5    1             2  "
      ]
     },
     "execution_count": 19,
     "metadata": {},
     "output_type": "execute_result"
    }
   ],
   "source": [
    "station_paths['vehicle_type'] = station_paths.line_label.apply(vehicle)\n",
    "station_paths.head()"
   ]
  },
  {
   "cell_type": "code",
   "execution_count": 20,
   "metadata": {},
   "outputs": [
    {
     "data": {
      "text/plain": [
       "<AxesSubplot:>"
      ]
     },
     "execution_count": 20,
     "metadata": {},
     "output_type": "execute_result"
    },
    {
     "data": {
      "image/png": "[encoded data removed]",
      "text/plain": [
       "<Figure size 432x288 with 1 Axes>"
      ]
     },
     "metadata": {
      "needs_background": "light"
     },
     "output_type": "display_data"
    }
   ],
   "source": [
    "station_paths.latitude.plot(kind='box')"
   ]
  },
  {
   "cell_type": "code",
   "execution_count": 21,
   "metadata": {},
   "outputs": [
    {
     "data": {
      "text/plain": [
       "<AxesSubplot:>"
      ]
     },
     "execution_count": 21,
     "metadata": {},
     "output_type": "execute_result"
    },
    {
     "data": {
      "image/png": "[encoded data removed]",
      "text/plain": [
       "<Figure size 432x288 with 1 Axes>"
      ]
     },
     "metadata": {
      "needs_background": "light"
     },
     "output_type": "display_data"
    }
   ],
   "source": [
    "station_paths.longitude.plot(kind='box')"
   ]
  },
  {
   "cell_type": "code",
   "execution_count": 22,
   "metadata": {},
   "outputs": [],
   "source": [
    "#stop correction\n",
    "station_paths.loc[343,'arabic_name'] = '20 مارس'\n",
    "station_paths.loc[343,'latitude'] = 36.807718\n",
    "station_paths.loc[343,'longitude'] = 10.139172"
   ]
  },
  {
   "cell_type": "code",
   "execution_count": 23,
   "metadata": {},
   "outputs": [],
   "source": [
    "#assing a unique id for each station\n",
    "\n",
    "unique_coords = station_paths[['latitude', 'longitude']].drop_duplicates().reset_index(drop=True)\n",
    "\n",
    "n = unique_coords.shape[0]\n",
    "unique_station_id = np.arange(1,n+1)\n",
    "\n",
    "unique_coords['station_id'] = unique_station_id\n",
    "\n",
    "station_paths.drop('station_id', axis=1, inplace=True)\n",
    "\n",
    "station_paths = unique_coords.merge(station_paths, on = ['latitude', 'longitude'])\n",
    "station_paths = station_paths.sort_values(['line_id','order'])"
   ]
  },
  {
   "cell_type": "code",
   "execution_count": 24,
   "metadata": {},
   "outputs": [],
   "source": [
    "station_paths = station_paths[~station_paths[['line_id','station_id']].duplicated()]"
   ]
  },
  {
   "cell_type": "code",
   "execution_count": 25,
   "metadata": {},
   "outputs": [
    {
     "data": {
      "text/plain": [
       "array([False])"
      ]
     },
     "execution_count": 25,
     "metadata": {},
     "output_type": "execute_result"
    }
   ],
   "source": [
    "station_paths[['line_id','station_id']].duplicated().unique()"
   ]
  },
  {
   "cell_type": "code",
   "execution_count": 26,
   "metadata": {},
   "outputs": [],
   "source": [
    "#correct order\n",
    "station_paths['order'] = station_paths.groupby('line_id').order.cumcount() + 1"
   ]
  },
  {
   "cell_type": "markdown",
   "metadata": {},
   "source": [
    "### correct duplicated stops labels with same coordinates : "
   ]
  },
  {
   "cell_type": "code",
   "execution_count": 27,
   "metadata": {},
   "outputs": [],
   "source": [
    "station_paths_unique = station_paths[['french_name','english_name','arabic_name','station_id']].drop_duplicates()"
   ]
  },
  {
   "cell_type": "code",
   "execution_count": 28,
   "metadata": {},
   "outputs": [],
   "source": [
    "mask = station_paths_unique.station_id.duplicated()"
   ]
  },
  {
   "cell_type": "code",
   "execution_count": 29,
   "metadata": {},
   "outputs": [
    {
     "data": {
      "text/plain": [
       "array([ 35,  28,  23, 138, 137, 161])"
      ]
     },
     "execution_count": 29,
     "metadata": {},
     "output_type": "execute_result"
    }
   ],
   "source": [
    "duplicated_stations = station_paths_unique[mask].station_id.values\n",
    "duplicated_stations"
   ]
  },
  {
   "cell_type": "code",
   "execution_count": 30,
   "metadata": {},
   "outputs": [],
   "source": [
    "replace_english = dict((key,value) \\\n",
    "                  for key, value in \\\n",
    "                  zip(station_paths_unique[station_paths_unique.station_id.isin(duplicated_stations)].groupby('station_id').english_name.last().values,\\\n",
    "                      station_paths_unique[station_paths_unique.station_id.isin(duplicated_stations)].groupby('station_id').english_name.first().values) )"
   ]
  },
  {
   "cell_type": "code",
   "execution_count": 31,
   "metadata": {},
   "outputs": [],
   "source": [
    "replace_french = dict((key,value) \\\n",
    "                 for key, value in \\\n",
    "                 zip(station_paths_unique[station_paths_unique.station_id.isin(duplicated_stations)].groupby('station_id').french_name.last().values,\\\n",
    "                     station_paths_unique[station_paths_unique.station_id.isin(duplicated_stations)].groupby('station_id').french_name.first().values) )"
   ]
  },
  {
   "cell_type": "code",
   "execution_count": 32,
   "metadata": {},
   "outputs": [],
   "source": [
    "replace_arabic = dict((key,value) \\\n",
    "                 for key, value in \\\n",
    "                 zip(station_paths_unique[station_paths_unique.station_id.isin(duplicated_stations)].groupby('station_id').arabic_name.last().values,\\\n",
    "                     station_paths_unique[station_paths_unique.station_id.isin(duplicated_stations)].groupby('station_id').arabic_name.first().values) )"
   ]
  },
  {
   "cell_type": "code",
   "execution_count": 33,
   "metadata": {},
   "outputs": [
    {
     "data": {
      "text/plain": [
       "{'DARGHOUTH PACHA STREET': 'UNIVERSITÉ IBN CHARAF',\n",
       " 'CHEBBI': 'CHEBBI',\n",
       " 'GOUVERNORAT MANOUBA': 'GOVERNORATE MANOUBA',\n",
       " 'HABIB BOUGATFA AVENUE - FOYER BARDO 2': 'FOYER BARDO 2',\n",
       " 'RAS TABIA - TRAINING CENTER': 'CENTER DE FORMATION RAS TABIA',\n",
       " 'Thamer Garden': 'HABIB THAMEUR'}"
      ]
     },
     "execution_count": 33,
     "metadata": {},
     "output_type": "execute_result"
    }
   ],
   "source": [
    "replace_english"
   ]
  },
  {
   "cell_type": "code",
   "execution_count": 34,
   "metadata": {},
   "outputs": [
    {
     "data": {
      "text/plain": [
       "{'RUE DARGHOUTH PACHA': 'UNIVERSITÉ IBN CHARAF',\n",
       " 'CHEBBI': 'CHEBBI',\n",
       " 'GOUVERNORAT MANOUBA': 'GOUVERNORAT MANOUBA',\n",
       " 'AVENUE HABIB BOUGATFA - FOYER BARDO 2': 'FOYER BARDO 2',\n",
       " 'RAS TABIA - CENTRE DE FORMATION': 'CENTER DE FORMATION RAS TABIA',\n",
       " 'Jardin Thamer': 'HABIB THAMEUR'}"
      ]
     },
     "execution_count": 34,
     "metadata": {},
     "output_type": "execute_result"
    }
   ],
   "source": [
    "replace_french"
   ]
  },
  {
   "cell_type": "code",
   "execution_count": 35,
   "metadata": {},
   "outputs": [
    {
     "data": {
      "text/plain": [
       "{'نهج درغوث باشا': 'جامعة ابن شرف',\n",
       " 'الشابي': 'الشابى',\n",
       " 'ولاية منوبة': 'ولاية منوبة',\n",
       " 'شارع الحبيب بوقطفة - مبيت باردو 2': 'مبيت باردو 2',\n",
       " 'راس طابية - مركز التكوين': 'مركز التكوين رأس الطابية',\n",
       " 'حديقة ثامر': 'الحبيب ثامر'}"
      ]
     },
     "execution_count": 35,
     "metadata": {},
     "output_type": "execute_result"
    }
   ],
   "source": [
    "replace_arabic"
   ]
  },
  {
   "cell_type": "code",
   "execution_count": 36,
   "metadata": {},
   "outputs": [],
   "source": [
    "#replace duplicated stops labels with same coordinates\n",
    "station_paths.english_name = station_paths.english_name.replace(replace_english)\n",
    "station_paths.french_name = station_paths.french_name.replace(replace_french)\n",
    "station_paths.arabic_name = station_paths.arabic_name.replace(replace_arabic)"
   ]
  },
  {
   "cell_type": "code",
   "execution_count": 37,
   "metadata": {},
   "outputs": [
    {
     "name": "stdout",
     "output_type": "stream",
     "text": [
      "no duplicated stops labels !\n"
     ]
    }
   ],
   "source": [
    "#verification\n",
    "station_paths_unique = station_paths[['french_name','english_name','arabic_name','station_id']].drop_duplicates()\n",
    "mask = station_paths_unique.station_id.duplicated()\n",
    "duplicated_stations = station_paths_unique[mask].station_id.values\n",
    "print('no duplicated stops labels !') if len(duplicated_stations) == 0 else print('there are still some duplicated labels')"
   ]
  },
  {
   "cell_type": "markdown",
   "metadata": {},
   "source": [
    "### data checkpoint"
   ]
  },
  {
   "cell_type": "code",
   "execution_count": 38,
   "metadata": {},
   "outputs": [],
   "source": [
    "station_paths.to_csv('data/stations_paths.csv',index=False)"
   ]
  },
  {
   "cell_type": "code",
   "execution_count": 39,
   "metadata": {},
   "outputs": [],
   "source": [
    "paths.to_csv('data/paths.csv', index = False)"
   ]
  },
  {
   "cell_type": "code",
   "execution_count": 40,
   "metadata": {},
   "outputs": [
    {
     "data": {
      "text/plain": [
       "(700, 12)"
      ]
     },
     "execution_count": 40,
     "metadata": {},
     "output_type": "execute_result"
    }
   ],
   "source": [
    "station_paths.shape"
   ]
  },
  {
   "cell_type": "code",
   "execution_count": 41,
   "metadata": {},
   "outputs": [
    {
     "data": {
      "text/plain": [
       "(45, 6)"
      ]
     },
     "execution_count": 41,
     "metadata": {},
     "output_type": "execute_result"
    }
   ],
   "source": [
    "paths.shape"
   ]
  },
  {
   "cell_type": "markdown",
   "metadata": {},
   "source": [
    "## II) Pick Time Algorithm"
   ]
  },
  {
   "cell_type": "markdown",
   "metadata": {},
   "source": [
    "### 1) Haversine formula"
   ]
  },
  {
   "cell_type": "code",
   "execution_count": 42,
   "metadata": {},
   "outputs": [],
   "source": [
    "def haversine_distance(x,y):\n",
    "    R = 6378137 #in meter\n",
    "\n",
    "    #convert to raduis\n",
    "    lat1  = x[0] * np.pi/180\n",
    "    long1 = x[1] * np.pi/180\n",
    "    lat2  = y[0] * np.pi/180\n",
    "    long2 = y[1] * np.pi/180\n",
    "    \n",
    "    #calculate haversine distance\n",
    "    delta_longitude = long1 - long2\n",
    "    delta_latitude = lat1 - lat2\n",
    "    a = (np.sin(delta_latitude/2)**2) + np.cos(lat1)*np.cos(lat2)*(np.sin(delta_longitude/2)**2)\n",
    "    c = 2*np.arctan2(np.sqrt(a),np.sqrt(1-a))\n",
    "    distance = R*c\n",
    "    \n",
    "    return distance"
   ]
  },
  {
   "cell_type": "markdown",
   "metadata": {},
   "source": [
    "### 2) Stops Clustering ( inductive unsupervised learning )"
   ]
  },
  {
   "cell_type": "code",
   "execution_count": 43,
   "metadata": {},
   "outputs": [],
   "source": [
    "from sklearn.cluster import AgglomerativeClustering\n",
    "from sklearn.metrics import pairwise_distances\n",
    "from sklearn.neighbors import KNeighborsClassifier\n",
    "from sklearn.metrics import accuracy_score\n",
    "from sklearn.ensemble import RandomForestClassifier\n",
    "from sklearn.datasets import make_blobs"
   ]
  },
  {
   "cell_type": "code",
   "execution_count": 44,
   "metadata": {},
   "outputs": [],
   "source": [
    "line_vehicletype = dict((key,value['line_id']) \\\n",
    "                        for key, value in station_paths[['line_id','vehicle_type']].drop_duplicates().groupby('vehicle_type').agg(list).T.to_dict().items())"
   ]
  },
  {
   "cell_type": "code",
   "execution_count": 45,
   "metadata": {},
   "outputs": [],
   "source": [
    "def affinity(x):    \n",
    "    return pairwise_distances(x, metric=haversine_distance)"
   ]
  },
  {
   "cell_type": "code",
   "execution_count": 46,
   "metadata": {},
   "outputs": [],
   "source": [
    "model=AgglomerativeClustering(n_clusters=None, distance_threshold=1000, affinity=affinity, linkage='average')\n",
    "model.fit(station_paths[['latitude','longitude']].values) \n",
    "station_paths['station_cluster'] = model.labels_"
   ]
  },
  {
   "cell_type": "code",
   "execution_count": 47,
   "metadata": {},
   "outputs": [
    {
     "data": {
      "text/plain": [
       "48"
      ]
     },
     "execution_count": 47,
     "metadata": {},
     "output_type": "execute_result"
    }
   ],
   "source": [
    "len(np.unique(model.labels_))"
   ]
  },
  {
   "cell_type": "code",
   "execution_count": 48,
   "metadata": {},
   "outputs": [
    {
     "data": {
      "text/plain": [
       "KNeighborsClassifier(n_neighbors=1)"
      ]
     },
     "execution_count": 48,
     "metadata": {},
     "output_type": "execute_result"
    }
   ],
   "source": [
    "knn = KNeighborsClassifier(n_neighbors=1)\n",
    "knn.fit(station_paths[['latitude','longitude']], station_paths.station_cluster)"
   ]
  },
  {
   "cell_type": "code",
   "execution_count": 49,
   "metadata": {},
   "outputs": [],
   "source": [
    "centers = station_paths[['latitude','longitude','station_cluster']].groupby('station_cluster').mean().values\n",
    "std = np.ones(centers.shape)*0.001\n",
    "centroids = station_paths[['latitude','longitude','station_cluster']].groupby('station_cluster', as_index=False).mean()"
   ]
  },
  {
   "cell_type": "code",
   "execution_count": null,
   "metadata": {},
   "outputs": [],
   "source": [
    "#test data simulation :\n",
    "\n",
    "X,_ = make_blobs(n_samples=10000,\n",
    "                  cluster_std= std,\n",
    "                  centers=centers,\n",
    "                  random_state=2021)\n",
    "\n",
    "y = []\n",
    "for simulation in X:\n",
    "    for coords in centroids.values : \n",
    "        distance = haversine_affinity(simulation, coords[1:])\n",
    "        if distance < 1000 : \n",
    "            y.append(coords[0])\n",
    "            break"
   ]
  },
  {
   "cell_type": "code",
   "execution_count": null,
   "metadata": {},
   "outputs": [],
   "source": [
    "y_pred = knn.predict(X)\n",
    "print(accuracy_score(y, y_pred))"
   ]
  },
  {
   "cell_type": "code",
   "execution_count": null,
   "metadata": {},
   "outputs": [],
   "source": [
    "def extract_vehicletype(line):\n",
    "    if line in line_vehicletype[1]:\n",
    "        return 1\n",
    "    elif line in line_vehicletype[2]:\n",
    "        return 2\n",
    "    else:\n",
    "        return 3"
   ]
  },
  {
   "cell_type": "code",
   "execution_count": null,
   "metadata": {},
   "outputs": [],
   "source": [
    "grouped_vehicle_cluster_stations = station_paths[['vehicle_type','station_cluster','station_id','latitude','longitude']]\\\n",
    "                                    .groupby(['vehicle_type','station_cluster'], as_index=False)\\\n",
    "                                    .agg(list)\n",
    "\n",
    "vehicle_cluster_stations_dict = {}\n",
    "\n",
    "for vehicle_type, station_cluster, station_id, latitude, longitude in  grouped_vehicle_cluster_stations.values :\n",
    "    \n",
    "    listOfgroups = []\n",
    "    for st, lat, long in zip(station_id, latitude, longitude) :\n",
    "        listOfgroups.append([st, lat, long])\n",
    "    \n",
    "    vehicle_cluster_stations_dict[(vehicle_type, station_cluster)] = listOfgroups"
   ]
  },
  {
   "cell_type": "markdown",
   "metadata": {},
   "source": [
    "### 3) GPS records picking algorithm"
   ]
  },
  {
   "cell_type": "code",
   "execution_count": 47,
   "metadata": {},
   "outputs": [
    {
     "name": "stdout",
     "output_type": "stream",
     "text": [
      "Loading data chunk N°:  1  ... pass chunk\n",
      "Loading data chunk N°:  2  ... pass chunk\n",
      "Loading data chunk N°:  3  ... pass chunk\n",
      "Loading data chunk N°:  4  ... pass chunk\n",
      "Loading data chunk N°:  5  ... pass chunk\n",
      "Loading data chunk N°:  6  ... pass chunk\n",
      "Loading data chunk N°:  7  ... pass chunk\n",
      "Loading data chunk N°:  8  ... pass chunk\n",
      "Loading data chunk N°:  9  ... pass chunk\n",
      "Loading data chunk N°:  10  ... pass chunk\n",
      "Loading data chunk N°:  11  ... pass chunk\n",
      "Loading data chunk N°:  12  ... pass chunk\n",
      "Loading data chunk N°:  13  ... pass chunk\n",
      "Loading data chunk N°:  14  ... pass chunk\n",
      "Loading data chunk N°:  15  ... pass chunk\n",
      "Loading data chunk N°:  16  ... pass chunk\n",
      "Loading data chunk N°:  17  ... pass chunk\n",
      "Loading data chunk N°:  18  ... pass chunk\n",
      "Loading data chunk N°:  19  ... pass chunk\n",
      "Loading data chunk N°:  20  ... pass chunk\n",
      "Loading data chunk N°:  21  ... pass chunk\n",
      "Loading data chunk N°:  22  ... pass chunk\n",
      "Loading data chunk N°:  23  ... done\n",
      "GPS data preprocessing ... done\n",
      "Vehicule types affectation ... done\n",
      "Station clusters prediction ... done\n",
      "Picking records ... "
     ]
    },
    {
     "name": "stderr",
     "output_type": "stream",
     "text": [
      "100%|██████████| 4977320/4977320 [13:13<00:00, 6275.54it/s]\n"
     ]
    },
    {
     "name": "stdout",
     "output_type": "stream",
     "text": [
      "Extracted records :  93597\n",
      "data checkpoint ... done\n",
      "******************************************************\n",
      "Loading data chunk N°:  24  ... done\n",
      "GPS data preprocessing ... done\n",
      "Vehicule types affectation ... done\n",
      "Station clusters prediction ... done\n",
      "Picking records ... "
     ]
    },
    {
     "name": "stderr",
     "output_type": "stream",
     "text": [
      "100%|██████████| 1834886/1834886 [04:24<00:00, 6933.64it/s]\n"
     ]
    },
    {
     "name": "stdout",
     "output_type": "stream",
     "text": [
      "Extracted records :  33731\n",
      "data checkpoint ... done\n",
      "******************************************************\n",
      "Loading data chunk N°:  25  ... "
     ]
    }
   ],
   "source": [
    "import gc\n",
    "\n",
    "# a register that tracks last records for each couple of (vehicle_id,station_id)\n",
    "# (vehicle_id, station_id)  : [min_distance, time ,full gps_record]\n",
    "\n",
    "#algorithm details : \n",
    "# let's call each couple of (vehicle_id, station_id) a cell\n",
    "# if a vehicle is not in a range of 100 meters from a station, the cell is not active (via flag dictionary) and do not record any data from gps\n",
    "# once a vehicle is in a range of 100 meters, the cell is activated and will register records as long as they are closer to the station\n",
    "# than its previous registred records\n",
    "# if the vehicle get's out of the 100 meters range from a station for the first time, we extract the last closet record to the station and the cell will be \n",
    "# desactivated once again\n",
    "# or if the vehicle is in the range of 100 meters but there was more than 20 minutes from the last record, in this case maybe the vehicle got out \n",
    "# of the range and didn't send any record until it got once again in the range of 100 meters from the station\n",
    "# in this case we extract the last record\n",
    "# if the vehicle didn't get out of the station range for more than 20 minutes, then we will extract many records for the same staion, this won't be a problem\n",
    "# because we can exclude these records later when we perform some preprocessing to get sequences of successive stations records.\n",
    "\n",
    "#station[1] : station_id\n",
    "#record[0] : vehicle_id from gps records\n",
    "#record[-1] : datetime from gps records\n",
    "\n",
    "size_chunk = int(input('please set the size of a chunk:\\n'))\n",
    "skip = int(input('please set the number of chunks to skip, set 0 if no chunks are skipped:\\n')) \n",
    "\n",
    "names = ['index', 'vehicle_id', 'vehicle_type', 'line_id', 'latitude', 'longitude', 'unkn_1', 'unkn_2', 'unkn_3', 'direction', 'unkn_4', 'unkn_5', 'datetime', 'last_modified']\n",
    "full_gps = pd.read_csv('../database/gps.sql', chunksize=size_chunk, sep='\\t', names=names)\n",
    "\n",
    "register = {}\n",
    "flag = {}\n",
    "#list of extracted gps records\n",
    "chunk = 1\n",
    "distance_range = 100 # range where we start picking the gps records (in meters)\n",
    "time_range = 20 # 20 minutes (difference between records) to reactivate the cell\n",
    "\n",
    "print('\\n')\n",
    "print('- - - - - - - - - PICK - TIME - ALGORITHM - - - - - - - - -')\n",
    "\n",
    "\n",
    "print('Loading data chunk N°: ',chunk,' ...', end = ' ')\n",
    "for gps in full_gps :\n",
    "    \n",
    "    if chunk < skip+1 :\n",
    "        print('skip chunk')\n",
    "        chunk += 1\n",
    "        print('Loading data chunk N°: ',chunk,' ...', end = ' ')\n",
    "        continue\n",
    "    \n",
    "    extracted_records = []\n",
    "    print('done')\n",
    "    \n",
    "\n",
    "    #drop features\n",
    "    print('GPS data preprocessing ...', end = ' ')\n",
    "    gps.drop(['index','vehicle_type','last_modified','unkn_1','unkn_2','unkn_3','unkn_4','unkn_5','direction'], axis=1, inplace=True)\n",
    "    gps.datetime = gps.datetime.apply(lambda x : datetime.strptime(x, '%Y-%m-%d %H:%M:%S'))\n",
    "    print('done')\n",
    "\n",
    "    #sorting by vehicle_id, datetime and vehicle is critical to the pick algorithm\n",
    "    gps = gps.sort_values(['line_id','vehicle_id','datetime'])\n",
    "    gps = gps.drop_duplicates()\n",
    "    \n",
    "    print('Vehicle types affectation ...', end=' ')\n",
    "    #vehicle types\n",
    "    vehicle_types = gps.line_id.apply(extract_vehicletype).values\n",
    "    print('done')\n",
    "\n",
    "    print('Station clusters prediction ...', end=' ')\n",
    "    #records station clusters predictions\n",
    "    station_clusters = knn.predict(gps[['latitude','longitude']])\n",
    "    print('done')\n",
    "    \n",
    "    i = -1  #reset counter\n",
    "    for record in tqdm(gps.values, position=0, leave=True, desc='stops time picking : ') :\n",
    "        i += 1 #increment stations cluster prediction and vehicle types counter for each record\n",
    "\n",
    "        if not (vehicle_types[i],station_clusters[i]) in vehicle_cluster_stations_dict:\n",
    "            continue\n",
    "        \n",
    "        for station, latitude, longitude in vehicle_cluster_stations_dict[(vehicle_types[i],station_clusters[i])] : \n",
    "            \n",
    "            distance =  haversine_distance([record[2],record[3]],[latitude,,longitude])  #calculate distance\n",
    "            \n",
    "            if distance < distance_range :\n",
    "                flag[(record[0],station)] = 1\n",
    "\n",
    "                if (record[0],station) in register:\n",
    "                    if distance < register[(record[0],station)][0]:\n",
    "                        register[(record[0],station)] = [distance,record] #update dmin in register for a specific vehicle and stop ids\n",
    "                else:\n",
    "                    register[(record[0],station)] = [distance,record]   #add the vehicle_id, station_id couple to the register\n",
    "\n",
    "            elif (record[0],station) in register : \n",
    "                #reset cell and pick last registred record\n",
    "                if flag[(record[0],station)] == 1 :\n",
    "                    flag[(record[0],station)] = 0\n",
    "                    rec = np.concatenate([register[(record[0],station)][-1],[station]])\n",
    "                    extracted_records.append(rec)       #pick the last registred record\n",
    "                    register[(record[0],station)][0] = np.inf     #reset the cell (vehicle_id,station_id)           \n",
    "\n",
    "    print('Extracted records : ', len(extracted_records))\n",
    "    \n",
    "    #checkpoint\n",
    "    print('data checkpoint ...', end=' ')\n",
    "    cols = ['vehicle_id','line_id','latitude','longitude','datetime','station_id']\n",
    "    extracted_records = pd.DataFrame(data=extracted_records, columns=cols)\n",
    "    extracted_records['vehicle_type'] = extracted_records.line_id.apply(extract_vehicletype)\n",
    "    extracted_records = extracted_records.sort_values(['vehicle_id','datetime']).reset_index(drop=True)\n",
    "    extracted_records.to_csv('./data/stoptime/picktime_chunk{}.csv'.format(chunk), index = False)\n",
    "    \n",
    "    print('done')\n",
    "    print('- - - - - - - - - - - - - - - - - - - - - - - - - - - - - - - - -')\n",
    "    chunk += 1\n",
    "    print('Loading data chunk N°: ',chunk,' ...', end = ' ')\n",
    "    del extracted_records\n",
    "    gc.collect()"
   ]
  },
  {
   "cell_type": "markdown",
   "metadata": {},
   "source": [
    "## III) Correct and check GPS records"
   ]
  },
  {
   "cell_type": "code",
   "execution_count": 51,
   "metadata": {},
   "outputs": [
    {
     "name": "stdout",
     "output_type": "stream",
     "text": [
      "<class 'pandas.core.frame.DataFrame'>\n",
      "RangeIndex: 700 entries, 0 to 699\n",
      "Data columns (total 12 columns):\n",
      " #   Column        Non-Null Count  Dtype  \n",
      "---  ------        --------------  -----  \n",
      " 0   latitude      700 non-null    float64\n",
      " 1   longitude     700 non-null    float64\n",
      " 2   station_id    700 non-null    int64  \n",
      " 3   line_id       700 non-null    int64  \n",
      " 4   order         700 non-null    int64  \n",
      " 5   english_name  700 non-null    object \n",
      " 6   french_name   700 non-null    object \n",
      " 7   arabic_name   700 non-null    object \n",
      " 8   path_id       700 non-null    int64  \n",
      " 9   line_label    700 non-null    object \n",
      " 10  tag           700 non-null    int64  \n",
      " 11  vehicle_type  700 non-null    int64  \n",
      "dtypes: float64(2), int64(6), object(4)\n",
      "memory usage: 65.8+ KB\n"
     ]
    }
   ],
   "source": [
    "station_paths = pd.read_csv('data/stations_paths.csv')\n",
    "station_paths.info()"
   ]
  },
  {
   "cell_type": "code",
   "execution_count": 53,
   "metadata": {},
   "outputs": [],
   "source": [
    "#join all chunks\n",
    "cols = ['vehicle_id','line_id','latitude','longitude','datetime','station_id']\n",
    "data_records = pd.DataFrame(columns=cols)\n",
    "    \n",
    "for i in range(1,25):\n",
    "    data_records = data_records.append(pd.read_csv('data/stoptime/picktime_chunk{}.csv'.format(i)), ignore_index=True)\n",
    "\n",
    "data_records.to_csv('data/picktime.csv')"
   ]
  },
  {
   "cell_type": "code",
   "execution_count": 54,
   "metadata": {},
   "outputs": [
    {
     "name": "stdout",
     "output_type": "stream",
     "text": [
      "<class 'pandas.core.frame.DataFrame'>\n",
      "RangeIndex: 2596092 entries, 0 to 2596091\n",
      "Data columns (total 9 columns):\n",
      " #   Column         Dtype  \n",
      "---  ------         -----  \n",
      " 0   Unnamed: 0     int64  \n",
      " 1   vehicle_id     float64\n",
      " 2   line_id        int64  \n",
      " 3   latitude       float64\n",
      " 4   longitude      float64\n",
      " 5   datetime       object \n",
      " 6   station_id     int64  \n",
      " 7   vehicule_id    float64\n",
      " 8   vehicule_type  float64\n",
      "dtypes: float64(5), int64(3), object(1)\n",
      "memory usage: 178.3+ MB\n"
     ]
    }
   ],
   "source": [
    "data_records = pd.read_csv('data/picktime.csv')\n",
    "data_records.info()"
   ]
  },
  {
   "cell_type": "code",
   "execution_count": 55,
   "metadata": {},
   "outputs": [
    {
     "data": {
      "text/plain": [
       "(2596092, 9)"
      ]
     },
     "execution_count": 55,
     "metadata": {},
     "output_type": "execute_result"
    }
   ],
   "source": [
    "data_records.datetime = data_records.datetime.apply(lambda x : datetime.strptime(x, '%Y-%m-%d %H:%M:%S'))\n",
    "data_records = data_records.sort_values(['vehicle_id','datetime'])\n",
    "data_records.reset_index(drop=True, inplace=True)\n",
    "data_records.shape"
   ]
  },
  {
   "cell_type": "code",
   "execution_count": 155,
   "metadata": {},
   "outputs": [],
   "source": [
    "first = station_paths[['line_id','station_id','line_label','order']].sort_values(['line_id','order']).groupby('line_id').station_id.first().to_dict()\n",
    "last = station_paths[['line_id','station_id','line_label','order']].sort_values(['line_id','order']).groupby('line_id').station_id.last().to_dict()\n",
    "all_terminals = set(list(first.values()) + list(last.values()))\n",
    "terminalsByLine = dict( (key,[value]) for key, value in first.items())\n",
    "for key, value in last.items():\n",
    "    terminalsByLine[key].append(value)"
   ]
  },
  {
   "cell_type": "code",
   "execution_count": 156,
   "metadata": {},
   "outputs": [],
   "source": [
    "staion_id_line = dict( (key,value['station_id']) for key, value in station_paths[['vehicle_type','line_id','station_id']].groupby(['vehicle_type','line_id']).agg(list).T.to_dict().items())\n",
    "stations_coords = dict( (int(key), [v1,v2]) for key, v1, v2 in station_paths[['station_id','latitude','longitude']].drop_duplicates().values)"
   ]
  },
  {
   "cell_type": "code",
   "execution_count": 157,
   "metadata": {},
   "outputs": [],
   "source": [
    "def affect_seqID(*x):\n",
    "    vehicle = x[0]\n",
    "    station = x[1]\n",
    "    line = x[2]\n",
    "    time = x[3]\n",
    "    vehicle_type = x[4]\n",
    "    \n",
    "    # if the vehicule is already in one of the dictionaries (it doesn't matter which one)\n",
    "    # then check if the vehicule is still on the same sequence or not\n",
    "    # else, intiate a sequence ID to the current (new) vehicule \n",
    "    if vehicle in stations_passed : \n",
    "        #if the current vehicle is different than the previous record\n",
    "        #or the current path is different than the previous record\n",
    "        #or the last stop was a terminal that belongs to the last record path\n",
    "        #or the current stop has been visited by the same vehicle in the current sequence\n",
    "        #or between two records there is more than 30 minutes difference\n",
    "        #then increment sequence ID for the current vehicule\n",
    "        #else return the same sequence ID\n",
    "        if last_line[vehicle] != line \\\n",
    "        or terminal_flag['flag'] \\\n",
    "        or station in stations_passed[vehicle] \\\n",
    "        or ((time - last_time[vehicle]).total_seconds()//60) > 30 : \n",
    "            seqID[vehicle] += 1 #increment sequence ID\n",
    "            stations_passed[vehicle] = [] #reset past stations records\n",
    "            terminal_flag['flag'] = False  #reset terminal flag\n",
    "        elif station in terminalsByLine[line] :\n",
    "            terminal_flag['flag'] = True #activate terminal flag\n",
    "        \n",
    "        last_line[vehicle] = line\n",
    "        last_time[vehicle] = time\n",
    "        stations_passed[vehicle].append(station)\n",
    "        return str(vehicle) + '_' + str(seqID[vehicle])\n",
    "\n",
    "    else :\n",
    "        last_line[vehicle] = line\n",
    "        seqID[vehicle] = 0\n",
    "        stations_passed[vehicle] = [station]\n",
    "        last_time[vehicle] = time\n",
    "        return str(vehicle) + '_' + str(seqID[vehicle])"
   ]
  },
  {
   "cell_type": "code",
   "execution_count": 158,
   "metadata": {},
   "outputs": [],
   "source": [
    "def correct_line_id(vehicle_type, rec_line_id, rec_stations):\n",
    "    \n",
    "    stations_matched_cumdist = {}\n",
    "    \n",
    "    for key, stations in staion_id_line.items() : \n",
    "        if key[0] != vehicle_type : \n",
    "            continue\n",
    "        else:\n",
    "            line_id = key[1]\n",
    "        order = 0\n",
    "        distance = 0\n",
    "        first = True\n",
    "        last_station = None\n",
    "        \n",
    "        for station in rec_stations : \n",
    "            for i,staion_line in enumerate(stations[order:]):\n",
    "                if station == staion_line:\n",
    "                    if first:\n",
    "                        first = False\n",
    "                        last_station = station\n",
    "                    else:\n",
    "                        coord1 = stations_coords[last_station]\n",
    "                        coord2 =  stations_coords[station]\n",
    "                        distance += haversine_distance(coord1, coord2)\n",
    "                        last_station = station\n",
    "                    order  = i+1\n",
    "                    break\n",
    "                    \n",
    "        stations_matched_cumdist[line_id] = distance\n",
    "    \n",
    "\n",
    "    #return line_id with max cummulative distance (respect order of stops)\n",
    "    sorted_stations_matched_cumdist = sorted(stations_matched_cumdist.items(), key = lambda x : x[-1], reverse = True)\n",
    "\n",
    "    if stations_matched_cumdist[rec_line_id] == sorted_stations_matched_cumdist[0][1] :   #if record line_id has the same distance as the new line_id candidate\n",
    "        return rec_line_id                                                                #record line_id from gps will have 1st priority\n",
    "    \n",
    "    return sorted_stations_matched_cumdist[0][0]"
   ]
  },
  {
   "cell_type": "code",
   "execution_count": 159,
   "metadata": {},
   "outputs": [
    {
     "name": "stdout",
     "output_type": "stream",
     "text": [
      "correcting paths : iteration N°:  1\n",
      "grouping records into sequences of stops ... done\n"
     ]
    },
    {
     "name": "stderr",
     "output_type": "stream",
     "text": [
      "path correction : 100%|██████████| 231527/231527 [02:00<00:00, 1927.05it/s]\n"
     ]
    },
    {
     "name": "stdout",
     "output_type": "stream",
     "text": [
      "wrong path report :   percentage = 54.40%    count =  1412165\n",
      "- - - - - - - - - - - - - - - - - - - - - - - - - - - - - - - - -\n",
      "correcting paths : iteration N°:  2\n",
      "grouping records into sequences of stops ... done\n"
     ]
    },
    {
     "name": "stderr",
     "output_type": "stream",
     "text": [
      "path correction : 100%|██████████| 241069/241069 [02:02<00:00, 1962.04it/s]\n"
     ]
    },
    {
     "name": "stdout",
     "output_type": "stream",
     "text": [
      "wrong path report :   percentage = 1.48%    count =  38443\n",
      "- - - - - - - - - - - - - - - - - - - - - - - - - - - - - - - - -\n",
      "correcting paths : iteration N°:  3\n",
      "grouping records into sequences of stops ... done\n"
     ]
    },
    {
     "name": "stderr",
     "output_type": "stream",
     "text": [
      "path correction : 100%|██████████| 238707/238707 [02:02<00:00, 1954.38it/s]\n"
     ]
    },
    {
     "name": "stdout",
     "output_type": "stream",
     "text": [
      "wrong path report :   percentage = 0.01%    count =  164\n",
      "- - - - - - - - - - - - - - - - - - - - - - - - - - - - - - - - -\n",
      "correcting paths : iteration N°:  4\n",
      "grouping records into sequences of stops ... done\n"
     ]
    },
    {
     "name": "stderr",
     "output_type": "stream",
     "text": [
      "path correction : 100%|██████████| 238707/238707 [02:01<00:00, 1968.70it/s]\n"
     ]
    },
    {
     "name": "stdout",
     "output_type": "stream",
     "text": [
      "wrong path report :   percentage = 0.00%    count =  0\n",
      "- - - - - - - - - - - - - - - - - - - - - - - - - - - - - - - - -\n",
      "All paths have been checked and corrected with success!\n"
     ]
    }
   ],
   "source": [
    "iteration = 1\n",
    "corrected_lines = -1\n",
    "n = data_records.shape[0]\n",
    "\n",
    "while corrected_lines != 0 :\n",
    "    print('correcting paths : iteration N°: ',iteration)\n",
    "    iteration += 1\n",
    "    \n",
    "    #grouping records into sequences\n",
    "    last_line = {}\n",
    "    last_time = {}\n",
    "    seqID = {}\n",
    "    stations_passed = {}\n",
    "    terminal_flag = {'flag':True}\n",
    "    print('grouping records into sequences of stops ...', end=' ')\n",
    "    data_records['sequence_id'] = data_records[['vehicle_id','station_id','line_id','datetime','vehicle_type']].apply(lambda x : affect_seqID(*x), axis=1)\n",
    "    print('done')\n",
    "    \n",
    "    #grouping sequences\n",
    "    sequences_groups = data_records[['sequence_id','vehicle_type','line_id','station_id']].groupby('sequence_id') \\\n",
    "                                                                                          .agg({'vehicle_type':'first','line_id':'first', 'station_id':list}) \\\n",
    "                                                                                          .reset_index()\n",
    "    #correct lines\n",
    "    correct_id = pd.Series(data=np.nan, index=sequences_groups.sequence_id)\n",
    "    for sequence_id, vehicle_type, rec_line_id, rec_stations in tqdm(sequences_groups.values, position=0, leave=True, desc='path correction : '):\n",
    "        correct_id.loc[sequence_id] = correct_line_id(vehicle_type, rec_line_id, rec_stations)\n",
    "    \n",
    "    #affect new line ids\n",
    "    data_records['correct_line_id'] = data_records.sequence_id.map(correct_id)\n",
    "    corrected_lines = data_records.query('line_id != correct_line_id').shape[0]\n",
    "    data_records.line_id = data_records.correct_line_id\n",
    "    print('wrong path report :   percentage = {:.2f}%'.format(corrected_lines*100 / n),'   count = ',corrected_lines )\n",
    "    print('- - - - - - - - - - - - - - - - - - - - - - - - - - - - - - - - -')\n",
    "print('All paths have been checked and corrected with success!')"
   ]
  },
  {
   "cell_type": "code",
   "execution_count": 160,
   "metadata": {},
   "outputs": [
    {
     "data": {
      "text/plain": [
       "<matplotlib.axes._subplots.AxesSubplot at 0x1919ad73ba8>"
      ]
     },
     "execution_count": 160,
     "metadata": {},
     "output_type": "execute_result"
    },
    {
     "data": {
      "image/png": "[encoded data removed]",
      "text/plain": [
       "<Figure size 432x288 with 1 Axes>"
      ]
     },
     "metadata": {},
     "output_type": "display_data"
    }
   ],
   "source": [
    "data_records[['line_id','station_id','sequence_id']].groupby('sequence_id').count().line_id.plot(kind = 'box')"
   ]
  },
  {
   "cell_type": "code",
   "execution_count": 161,
   "metadata": {},
   "outputs": [],
   "source": [
    "data_records = data_records.merge(station_paths[['line_id','station_id','order','line_label']], on=['line_id','station_id'], how='left').dropna()"
   ]
  },
  {
   "cell_type": "code",
   "execution_count": 162,
   "metadata": {},
   "outputs": [],
   "source": [
    "#grouping records into sequences after merging\n",
    "last_line = {}\n",
    "last_time = {}\n",
    "seqID = {}\n",
    "stations_passed = {}\n",
    "terminal_flag = {'flag':True}\n",
    "\n",
    "data_records['sequence_id'] = data_records[['vehicle_id','station_id','line_id','datetime','vehicle_type']].apply(lambda x : affect_seqID(*x), axis=1)"
   ]
  },
  {
   "cell_type": "code",
   "execution_count": 163,
   "metadata": {},
   "outputs": [
    {
     "data": {
      "text/plain": [
       "Index(['100_0', '100_100', '100_1007', '100_1020', '100_1029', '100_1046',\n",
       "       '100_1048', '100_1053', '100_106', '100_1063',\n",
       "       ...\n",
       "       '99_558', '99_559', '99_560', '99_561', '99_562', '99_65', '99_72',\n",
       "       '99_76', '99_84', '99_87'],\n",
       "      dtype='object', name='sequence_id', length=25935)"
      ]
     },
     "execution_count": 163,
     "metadata": {},
     "output_type": "execute_result"
    }
   ],
   "source": [
    "mask = data_records.groupby('sequence_id').station_id.count() < 2\n",
    "drop_sequences = data_records.groupby('sequence_id').station_id.count()[mask].index\n",
    "drop_sequences"
   ]
  },
  {
   "cell_type": "code",
   "execution_count": 164,
   "metadata": {},
   "outputs": [],
   "source": [
    "data_records = data_records[~data_records.sequence_id.isin(drop_sequences)]"
   ]
  },
  {
   "cell_type": "code",
   "execution_count": 165,
   "metadata": {},
   "outputs": [
    {
     "data": {
      "text/plain": [
       "<matplotlib.axes._subplots.AxesSubplot at 0x1918c169dd8>"
      ]
     },
     "execution_count": 165,
     "metadata": {},
     "output_type": "execute_result"
    },
    {
     "data": {
      "image/png": "[encoded data removed]",
      "text/plain": [
       "<Figure size 432x288 with 1 Axes>"
      ]
     },
     "metadata": {},
     "output_type": "display_data"
    }
   ],
   "source": [
    "data_records[['line_id','station_id','sequence_id']].groupby('sequence_id').count().line_id.plot(kind = 'box')"
   ]
  },
  {
   "cell_type": "code",
   "execution_count": 166,
   "metadata": {},
   "outputs": [],
   "source": [
    "data_records = data_records.sort_values(['vehicle_id', 'datetime'])\n",
    "data_records['order_diff'] = data_records.groupby('sequence_id').order.diff()"
   ]
  },
  {
   "cell_type": "code",
   "execution_count": 167,
   "metadata": {},
   "outputs": [],
   "source": [
    "def sequenceid(*x):\n",
    "    vehicle = x[0]\n",
    "    order_diff = x[1]\n",
    "    \n",
    "    if vehicle in seq_id : \n",
    "        if order_diff != 1 :\n",
    "            seq_id[vehicle] += 1 \n",
    "        return str(vehicle) + '_' + str(seq_id[vehicle])\n",
    "    else : \n",
    "        seq_id[vehicle] = 0 \n",
    "        return str(vehicle) + '_' + str(seq_id[vehicle])"
   ]
  },
  {
   "cell_type": "code",
   "execution_count": 168,
   "metadata": {},
   "outputs": [],
   "source": [
    "seq_id = {}\n",
    "\n",
    "#cut sequences of stops by order difference to get sequences of successive stops\n",
    "data_records.line_id = data_records.line_id.astype(int)\n",
    "data_records['sequence_id'] = data_records[['vehicle_id', 'order_diff']].apply(lambda x : sequenceid(*x), axis=1)"
   ]
  },
  {
   "cell_type": "code",
   "execution_count": 169,
   "metadata": {},
   "outputs": [
    {
     "data": {
      "text/plain": [
       "Index(['100.0_100', '100.0_1005', '100.0_1006', '100.0_1007', '100.0_1009',\n",
       "       '100.0_101', '100.0_1011', '100.0_1015', '100.0_1018', '100.0_1019',\n",
       "       ...\n",
       "       '99.0_860', '99.0_862', '99.0_865', '99.0_866', '99.0_867', '99.0_868',\n",
       "       '99.0_871', '99.0_872', '99.0_873', '99.0_9'],\n",
       "      dtype='object', name='sequence_id', length=122914)"
      ]
     },
     "execution_count": 169,
     "metadata": {},
     "output_type": "execute_result"
    }
   ],
   "source": [
    "mask = data_records.groupby('sequence_id').station_id.count() < 2\n",
    "drop_sequences = data_records.groupby('sequence_id').station_id.count()[mask].index\n",
    "drop_sequences"
   ]
  },
  {
   "cell_type": "code",
   "execution_count": 170,
   "metadata": {},
   "outputs": [
    {
     "data": {
      "text/plain": [
       "(1950296, 10)"
      ]
     },
     "execution_count": 170,
     "metadata": {},
     "output_type": "execute_result"
    }
   ],
   "source": [
    "data_records = data_records[~data_records.sequence_id.isin(drop_sequences)]\n",
    "data_records.order = data_records.order.astype(int)\n",
    "data_records.drop(['order_diff', 'correct_line_id'], axis=1, inplace=True)\n",
    "data_records.shape"
   ]
  },
  {
   "cell_type": "code",
   "execution_count": 171,
   "metadata": {},
   "outputs": [
    {
     "data": {
      "text/plain": [
       "<matplotlib.axes._subplots.AxesSubplot at 0x1915a231eb8>"
      ]
     },
     "execution_count": 171,
     "metadata": {},
     "output_type": "execute_result"
    },
    {
     "data": {
      "image/png": "[encoded data removed]",
      "text/plain": [
       "<Figure size 432x288 with 1 Axes>"
      ]
     },
     "metadata": {},
     "output_type": "display_data"
    }
   ],
   "source": [
    "data_records[['line_id','station_id','sequence_id']].groupby('sequence_id').count().line_id.plot(kind = 'box')"
   ]
  },
  {
   "cell_type": "code",
   "execution_count": 172,
   "metadata": {},
   "outputs": [
    {
     "data": {
      "text/plain": [
       "line_label\n",
       "1      170263\n",
       "104     99348\n",
       "11       6239\n",
       "12       3182\n",
       "15        279\n",
       "15A       164\n",
       "15B       115\n",
       "2      203783\n",
       "3       58876\n",
       "32      56858\n",
       "32B     14743\n",
       "36        504\n",
       "36B      1299\n",
       "4      426347\n",
       "43         12\n",
       "43B      1272\n",
       "4A      31412\n",
       "5      243052\n",
       "6      426871\n",
       "65      22533\n",
       "78      71209\n",
       "79      18589\n",
       "TGM     93346\n",
       "Name: line_id, dtype: int64"
      ]
     },
     "execution_count": 172,
     "metadata": {},
     "output_type": "execute_result"
    }
   ],
   "source": [
    "data_records.groupby('line_label').count().line_id"
   ]
  },
  {
   "cell_type": "code",
   "execution_count": 173,
   "metadata": {},
   "outputs": [],
   "source": [
    "#checkpoint\n",
    "data_records.to_csv('data/picktime_sequences.csv', index=False)"
   ]
  },
  {
   "cell_type": "markdown",
   "metadata": {},
   "source": [
    "## IV) Drop Outliers"
   ]
  },
  {
   "cell_type": "code",
   "execution_count": 174,
   "metadata": {},
   "outputs": [
    {
     "name": "stderr",
     "output_type": "stream",
     "text": [
      "C:\\Users\\Aziz\\Anaconda3\\lib\\site-packages\\IPython\\core\\interactiveshell.py:2785: DtypeWarning: Columns (9) have mixed types.Specify dtype option on import or set low_memory=False.\n",
      "  interactivity=interactivity, compiler=compiler, result=result)\n"
     ]
    },
    {
     "name": "stdout",
     "output_type": "stream",
     "text": [
      "<class 'pandas.core.frame.DataFrame'>\n",
      "RangeIndex: 1950296 entries, 0 to 1950295\n",
      "Data columns (total 10 columns):\n",
      " #   Column        Dtype  \n",
      "---  ------        -----  \n",
      " 0   vehicle_id    int64  \n",
      " 1   line_id       int64  \n",
      " 2   latitude      float64\n",
      " 3   longitude     float64\n",
      " 4   datetime      object \n",
      " 5   station_id    int64  \n",
      " 6   vehicle_type  float64\n",
      " 7   sequence_id   object \n",
      " 8   order         int64  \n",
      " 9   line_label    object \n",
      "dtypes: float64(3), int64(4), object(3)\n",
      "memory usage: 148.8+ MB\n"
     ]
    }
   ],
   "source": [
    "data_records = pd.read_csv('data/picktime_sequences.csv')\n",
    "data_records.info()"
   ]
  },
  {
   "cell_type": "code",
   "execution_count": 175,
   "metadata": {},
   "outputs": [
    {
     "name": "stdout",
     "output_type": "stream",
     "text": [
      "<class 'pandas.core.frame.DataFrame'>\n",
      "RangeIndex: 700 entries, 0 to 699\n",
      "Data columns (total 12 columns):\n",
      " #   Column        Non-Null Count  Dtype  \n",
      "---  ------        --------------  -----  \n",
      " 0   latitude      700 non-null    float64\n",
      " 1   longitude     700 non-null    float64\n",
      " 2   station_id    700 non-null    int64  \n",
      " 3   line_id       700 non-null    int64  \n",
      " 4   order         700 non-null    int64  \n",
      " 5   english_name  700 non-null    object \n",
      " 6   french_name   700 non-null    object \n",
      " 7   arabic_name   700 non-null    object \n",
      " 8   path_id       700 non-null    int64  \n",
      " 9   line_label    700 non-null    object \n",
      " 10  tag           700 non-null    int64  \n",
      " 11  vehicle_type  700 non-null    int64  \n",
      "dtypes: float64(2), int64(6), object(4)\n",
      "memory usage: 65.8+ KB\n"
     ]
    }
   ],
   "source": [
    "station_paths = pd.read_csv('data/stations_paths.csv')\n",
    "station_paths.info()"
   ]
  },
  {
   "cell_type": "code",
   "execution_count": 179,
   "metadata": {},
   "outputs": [],
   "source": [
    "#create target : datetime_diff (the time difference in seconds for the vehicle to get to the next station)\n",
    "data_records.datetime = data_records.datetime.apply(lambda x : datetime.strptime(x, '%Y-%m-%d %H:%M:%S'))\n",
    "data_records['datetime_diff'] = data_records.groupby(['sequence_id']).datetime.diff().shift(-1).dt.total_seconds()"
   ]
  },
  {
   "cell_type": "code",
   "execution_count": 180,
   "metadata": {},
   "outputs": [
    {
     "data": {
      "text/plain": [
       "<matplotlib.axes._subplots.AxesSubplot at 0x1911aad0630>"
      ]
     },
     "execution_count": 180,
     "metadata": {},
     "output_type": "execute_result"
    },
    {
     "data": {
      "image/png": "[encoded data removed]",
      "text/plain": [
       "<Figure size 1440x360 with 1 Axes>"
      ]
     },
     "metadata": {},
     "output_type": "display_data"
    }
   ],
   "source": [
    "import seaborn as sns\n",
    "plt.figure(figsize = (20,5))\n",
    "sns.boxplot(data= data_records, x='line_id', y='datetime_diff')"
   ]
  },
  {
   "cell_type": "code",
   "execution_count": 181,
   "metadata": {},
   "outputs": [],
   "source": [
    "#select range of datetimes between min (th = 30 secs) and (Q3 + (Q3-Q1)*3)   \n",
    "#in max_range = Q3 + (Q3-Q1)*3, I chose 3 and not 1.4 because I don't want to remove a lot of outliers\n",
    "#sometimes huge delays occurs, there mut be a reason why that happens and both the graph and models need to be prepared\n",
    "#for such delays\n",
    "\n",
    "line_station_range = data_records.dropna().groupby(['line_id','station_id'],as_index=True).datetime_diff.describe()\n",
    "EIQ = line_station_range['75%'] - line_station_range['25%']\n",
    "line_station_range['max_range'] = line_station_range['75%'] +  EIQ * 3\n",
    "line_station_range['min_range'] = line_station_range['min']\n",
    "line_station_range = line_station_range[['max_range', 'min_range']].reset_index()"
   ]
  },
  {
   "cell_type": "code",
   "execution_count": 182,
   "metadata": {},
   "outputs": [],
   "source": [
    "line_station_range = dict( ((line, station), (max_range,min_range)) for line, station, max_range,min_range in line_station_range.values)"
   ]
  },
  {
   "cell_type": "code",
   "execution_count": 183,
   "metadata": {},
   "outputs": [],
   "source": [
    "def drop_outlier(*record):\n",
    "    datetime_diff = record[0]\n",
    "    line_id = record[1] \n",
    "    station_id = record[2]\n",
    "    \n",
    "    if np.isnan(datetime_diff):\n",
    "        return False\n",
    "    \n",
    "    max_range = line_station_range[(line_id,station_id)][0]\n",
    "    min_range = line_station_range[(line_id,station_id)][1]\n",
    "    if min_range < 20 :\n",
    "        min_range = 20\n",
    "        \n",
    "    if datetime_diff > max_range or datetime_diff < min_range:\n",
    "        return True\n",
    "    \n",
    "    return False"
   ]
  },
  {
   "cell_type": "code",
   "execution_count": 184,
   "metadata": {},
   "outputs": [
    {
     "data": {
      "text/plain": [
       "False    1904104\n",
       "True       46192\n",
       "dtype: int64"
      ]
     },
     "execution_count": 184,
     "metadata": {},
     "output_type": "execute_result"
    }
   ],
   "source": [
    "mask_drop = data_records[['datetime_diff', 'line_id', 'station_id']].apply(lambda x : drop_outlier(*x), axis=1 )\n",
    "mask_drop.value_counts()"
   ]
  },
  {
   "cell_type": "code",
   "execution_count": 185,
   "metadata": {},
   "outputs": [
    {
     "data": {
      "text/plain": [
       "0          0\n",
       "1          0\n",
       "2          0\n",
       "3          0\n",
       "4          0\n",
       "          ..\n",
       "1950291    0\n",
       "1950292    0\n",
       "1950293    0\n",
       "1950294    0\n",
       "1950295    0\n",
       "Name: outlier, Length: 1950296, dtype: int64"
      ]
     },
     "execution_count": 185,
     "metadata": {},
     "output_type": "execute_result"
    }
   ],
   "source": [
    "data_records['outlier'] = data_records[['datetime_diff', 'line_id', 'station_id']].apply(lambda x : 1 if drop_outlier(*x) else 0 , axis=1 )\n",
    "data_records['outlier']"
   ]
  },
  {
   "cell_type": "code",
   "execution_count": 187,
   "metadata": {},
   "outputs": [
    {
     "data": {
      "text/plain": [
       "(1950296, 12)"
      ]
     },
     "execution_count": 187,
     "metadata": {},
     "output_type": "execute_result"
    }
   ],
   "source": [
    "data_records.shape"
   ]
  },
  {
   "cell_type": "code",
   "execution_count": 189,
   "metadata": {},
   "outputs": [
    {
     "data": {
      "text/plain": [
       "<matplotlib.axes._subplots.AxesSubplot at 0x1915a1895f8>"
      ]
     },
     "execution_count": 189,
     "metadata": {},
     "output_type": "execute_result"
    },
    {
     "data": {
      "image/png": "[encoded data removed]",
      "text/plain": [
       "<Figure size 1440x360 with 1 Axes>"
      ]
     },
     "metadata": {},
     "output_type": "display_data"
    }
   ],
   "source": [
    "plt.figure(figsize = (20,5))\n",
    "sns.boxplot(data= data_records[data_records.outlier == 0], x='line_id', y='datetime_diff')"
   ]
  },
  {
   "cell_type": "code",
   "execution_count": 190,
   "metadata": {},
   "outputs": [],
   "source": [
    "data_records = data_records.reset_index(drop=True)"
   ]
  },
  {
   "cell_type": "code",
   "execution_count": 191,
   "metadata": {},
   "outputs": [
    {
     "name": "stdout",
     "output_type": "stream",
     "text": [
      "<class 'pandas.core.frame.DataFrame'>\n",
      "RangeIndex: 1950296 entries, 0 to 1950295\n",
      "Data columns (total 12 columns):\n",
      " #   Column         Dtype         \n",
      "---  ------         -----         \n",
      " 0   vehicle_id     int64         \n",
      " 1   line_id        int64         \n",
      " 2   latitude       float64       \n",
      " 3   longitude      float64       \n",
      " 4   datetime       datetime64[ns]\n",
      " 5   station_id     int64         \n",
      " 6   vehicle_type   float64       \n",
      " 7   sequence_id    object        \n",
      " 8   order          int64         \n",
      " 9   line_label     object        \n",
      " 10  datetime_diff  float64       \n",
      " 11  outlier        int64         \n",
      "dtypes: datetime64[ns](1), float64(4), int64(5), object(2)\n",
      "memory usage: 178.6+ MB\n"
     ]
    }
   ],
   "source": [
    "data_records.info()"
   ]
  },
  {
   "cell_type": "code",
   "execution_count": 192,
   "metadata": {},
   "outputs": [],
   "source": [
    "data_records.to_csv('data/gps_clean.csv', index = False)"
   ]
  },
  {
   "cell_type": "markdown",
   "metadata": {},
   "source": [
    "## V) Data preprocessing part 2 : Extract full gps sequences data "
   ]
  },
  {
   "cell_type": "markdown",
   "metadata": {},
   "source": [
    "### 1) Select sequences of successive stops ( 6 stops or more ) "
   ]
  },
  {
   "cell_type": "code",
   "execution_count": 2,
   "metadata": {},
   "outputs": [
    {
     "name": "stdout",
     "output_type": "stream",
     "text": [
      "<class 'pandas.core.frame.DataFrame'>\n",
      "RangeIndex: 700 entries, 0 to 699\n",
      "Data columns (total 12 columns):\n",
      " #   Column        Non-Null Count  Dtype  \n",
      "---  ------        --------------  -----  \n",
      " 0   latitude      700 non-null    float64\n",
      " 1   longitude     700 non-null    float64\n",
      " 2   station_id    700 non-null    int64  \n",
      " 3   line_id       700 non-null    int64  \n",
      " 4   order         700 non-null    int64  \n",
      " 5   english_name  700 non-null    object \n",
      " 6   french_name   700 non-null    object \n",
      " 7   arabic_name   700 non-null    object \n",
      " 8   path_id       700 non-null    int64  \n",
      " 9   line_label    700 non-null    object \n",
      " 10  tag           700 non-null    int64  \n",
      " 11  vehicle_type  700 non-null    int64  \n",
      "dtypes: float64(2), int64(6), object(4)\n",
      "memory usage: 65.8+ KB\n"
     ]
    }
   ],
   "source": [
    "station_paths = pd.read_csv('data/stations_paths.csv')\n",
    "station_paths.info()"
   ]
  },
  {
   "cell_type": "code",
   "execution_count": 3,
   "metadata": {},
   "outputs": [
    {
     "name": "stdout",
     "output_type": "stream",
     "text": [
      "<class 'pandas.core.frame.DataFrame'>\n",
      "RangeIndex: 1950296 entries, 0 to 1950295\n",
      "Data columns (total 12 columns):\n",
      " #   Column         Dtype  \n",
      "---  ------         -----  \n",
      " 0   vehicle_id     int64  \n",
      " 1   line_id        int64  \n",
      " 2   latitude       float64\n",
      " 3   longitude      float64\n",
      " 4   datetime       object \n",
      " 5   station_id     int64  \n",
      " 6   vehicle_type   float64\n",
      " 7   sequence_id    object \n",
      " 8   order          int64  \n",
      " 9   line_label     object \n",
      " 10  datetime_diff  float64\n",
      " 11  outlier        int64  \n",
      "dtypes: float64(4), int64(5), object(3)\n",
      "memory usage: 178.6+ MB\n"
     ]
    }
   ],
   "source": [
    "data_records = pd.read_csv('data/gps_clean.csv', low_memory=False)\n",
    "data_records.info()"
   ]
  },
  {
   "cell_type": "code",
   "execution_count": 4,
   "metadata": {},
   "outputs": [
    {
     "data": {
      "text/plain": [
       "Index(['100.0_1', '100.0_1000', '100.0_1010', '100.0_1012', '100.0_102',\n",
       "       '100.0_1029', '100.0_1030', '100.0_1032', '100.0_104', '100.0_1059',\n",
       "       ...\n",
       "       '99.0_880', '99.0_882', '99.0_89', '99.0_90', '99.0_91', '99.0_92',\n",
       "       '99.0_94', '99.0_95', '99.0_96', '99.0_98'],\n",
       "      dtype='object', name='sequence_id', length=122812)"
      ]
     },
     "execution_count": 4,
     "metadata": {},
     "output_type": "execute_result"
    }
   ],
   "source": [
    "mask = data_records.groupby('sequence_id').station_id.count() > 5\n",
    "select_sequences = data_records.groupby('sequence_id').station_id.count()[mask].index\n",
    "select_sequences"
   ]
  },
  {
   "cell_type": "code",
   "execution_count": 5,
   "metadata": {},
   "outputs": [],
   "source": [
    "data_records = data_records[data_records.sequence_id.isin(select_sequences)]"
   ]
  },
  {
   "cell_type": "code",
   "execution_count": 6,
   "metadata": {},
   "outputs": [],
   "source": [
    "mask = data_records.groupby('line_label').count().line_id > 1000\n",
    "selected_paths = data_records.groupby('line_label').count().line_id[mask].index"
   ]
  },
  {
   "cell_type": "code",
   "execution_count": 7,
   "metadata": {},
   "outputs": [],
   "source": [
    "data_records = data_records[data_records.line_label.isin(selected_paths)]"
   ]
  },
  {
   "cell_type": "code",
   "execution_count": 8,
   "metadata": {},
   "outputs": [
    {
     "data": {
      "image/png": "[encoded data removed]",
      "text/plain": [
       "<Figure size 1440x360 with 1 Axes>"
      ]
     },
     "metadata": {
      "needs_background": "light"
     },
     "output_type": "display_data"
    }
   ],
   "source": [
    "plt.figure(figsize = (20,5))\n",
    "sns.boxplot(data= data_records, x='line_label', y='datetime_diff');"
   ]
  },
  {
   "cell_type": "code",
   "execution_count": 9,
   "metadata": {},
   "outputs": [
    {
     "data": {
      "text/plain": [
       "<AxesSubplot:>"
      ]
     },
     "execution_count": 9,
     "metadata": {},
     "output_type": "execute_result"
    },
    {
     "data": {
      "image/png": "[encoded data removed]",
      "text/plain": [
       "<Figure size 432x288 with 1 Axes>"
      ]
     },
     "metadata": {
      "needs_background": "light"
     },
     "output_type": "display_data"
    }
   ],
   "source": [
    "data_records[['line_id','station_id','sequence_id']].groupby('sequence_id').count().line_id.plot(kind = 'box')"
   ]
  },
  {
   "cell_type": "code",
   "execution_count": 10,
   "metadata": {},
   "outputs": [],
   "source": [
    "data_records = data_records.sort_values(['vehicle_id','datetime'])"
   ]
  },
  {
   "cell_type": "code",
   "execution_count": 11,
   "metadata": {},
   "outputs": [],
   "source": [
    "#Algorithm parameters init :\n",
    "data_records_dict = dict( ((vehicle,sequence), datetime) \\\n",
    "                    for vehicle, sequence, datetime in \\\n",
    "                        data_records[['vehicle_id','sequence_id','datetime']].groupby(['vehicle_id','sequence_id'], as_index=False).datetime.agg(list).values )"
   ]
  },
  {
   "cell_type": "code",
   "execution_count": 21,
   "metadata": {},
   "outputs": [],
   "source": [
    "vehicle_seq = dict( (vehicle, sequences) \\\n",
    "              for vehicle, sequences  in \\\n",
    "                  data_records[['vehicle_id','sequence_id']].groupby('vehicle_id', as_index=False).agg(list).values)"
   ]
  },
  {
   "cell_type": "code",
   "execution_count": 25,
   "metadata": {},
   "outputs": [
    {
     "data": {
      "text/plain": [
       "2963"
      ]
     },
     "execution_count": 25,
     "metadata": {},
     "output_type": "execute_result"
    }
   ],
   "source": [
    "len(vehicle_stop[41])"
   ]
  },
  {
   "cell_type": "code",
   "execution_count": 26,
   "metadata": {},
   "outputs": [
    {
     "data": {
      "text/plain": [
       "2963"
      ]
     },
     "execution_count": 26,
     "metadata": {},
     "output_type": "execute_result"
    }
   ],
   "source": [
    "len(vehicle_seq[41])"
   ]
  },
  {
   "cell_type": "markdown",
   "metadata": {},
   "source": [
    "### 2) Full sequence picking algorithm"
   ]
  },
  {
   "cell_type": "code",
   "execution_count": 35,
   "metadata": {},
   "outputs": [],
   "source": [
    "line_vehicletype = dict((key,value['line_id']) \\\n",
    "                        for key, value in station_paths[['line_id','vehicle_type']].drop_duplicates().groupby('vehicle_type').agg(list).T.to_dict().items())"
   ]
  },
  {
   "cell_type": "code",
   "execution_count": 36,
   "metadata": {},
   "outputs": [],
   "source": [
    "def extract_vehicletype(line):\n",
    "    if line in line_vehicletype[1]:\n",
    "        return 1\n",
    "    elif line in line_vehicletype[2]:\n",
    "        return 2\n",
    "    else:\n",
    "        return 3"
   ]
  },
  {
   "cell_type": "code",
   "execution_count": 40,
   "metadata": {},
   "outputs": [
    {
     "name": "stdin",
     "output_type": "stream",
     "text": [
      "please set the size of a chunk:\n",
      " 5000000\n"
     ]
    },
    {
     "name": "stdout",
     "output_type": "stream",
     "text": [
      "full pick time parameters initialization ... done in 5.47 second(s)\n",
      "\n",
      "\n",
      "- - - - - - - - SEQUENCE - PICK - ALGORITHM - - - - - - - - - - -\n",
      "Loading data chunk N°:  1  ... done in 32.73 second(s)\n",
      "GPS data preprocessing ... done in 8.24 second(s)\n"
     ]
    },
    {
     "name": "stderr",
     "output_type": "stream",
     "text": [
      "Full sequence picking : 100%|██████████| 4969459/4969459 [00:35<00:00, 141088.77it/s]\n"
     ]
    },
    {
     "name": "stdout",
     "output_type": "stream",
     "text": [
      "Extracted records :  3739340     sequence picking progression : 4.48%\n",
      "data checkpoint ... done in 35.96 second(s)\n",
      "- - - - - - - - - - - - - - - - - - - - - - - - - - - - - - - - -\n",
      "Loading data chunk N°:  2  ... done in 14.91 second(s)\n",
      "GPS data preprocessing ... done in 8.41 second(s)\n"
     ]
    },
    {
     "name": "stderr",
     "output_type": "stream",
     "text": [
      "Full sequence picking : 100%|██████████| 4977470/4977470 [00:34<00:00, 142777.11it/s]\n"
     ]
    },
    {
     "name": "stdout",
     "output_type": "stream",
     "text": [
      "Extracted records :  3795103     sequence picking progression : 8.91%\n",
      "data checkpoint ... done in 38.07 second(s)\n",
      "- - - - - - - - - - - - - - - - - - - - - - - - - - - - - - - - -\n",
      "Loading data chunk N°:  3  ... done in 39.62 second(s)\n",
      "GPS data preprocessing ... done in 9.79 second(s)\n"
     ]
    },
    {
     "name": "stderr",
     "output_type": "stream",
     "text": [
      "Full sequence picking : 100%|██████████| 4978036/4978036 [00:35<00:00, 141249.84it/s]\n"
     ]
    },
    {
     "name": "stdout",
     "output_type": "stream",
     "text": [
      "Extracted records :  3732301     sequence picking progression : 13.28%\n",
      "data checkpoint ... done in 39.72 second(s)\n",
      "- - - - - - - - - - - - - - - - - - - - - - - - - - - - - - - - -\n",
      "Loading data chunk N°:  4  ... done in 14.26 second(s)\n",
      "GPS data preprocessing ... done in 9.46 second(s)\n"
     ]
    },
    {
     "name": "stderr",
     "output_type": "stream",
     "text": [
      "Full sequence picking : 100%|██████████| 4977967/4977967 [00:15<00:00, 331778.53it/s]\n"
     ]
    },
    {
     "name": "stdout",
     "output_type": "stream",
     "text": [
      "Extracted records :  1126410     sequence picking progression : 16.14%\n",
      "data checkpoint ... done in 12.35 second(s)\n",
      "- - - - - - - - - - - - - - - - - - - - - - - - - - - - - - - - -\n",
      "Loading data chunk N°:  5  ... done in 35.37 second(s)\n",
      "GPS data preprocessing ... done in 11.16 second(s)\n"
     ]
    },
    {
     "name": "stderr",
     "output_type": "stream",
     "text": [
      "Full sequence picking : 100%|██████████| 4973276/4973276 [00:15<00:00, 318427.38it/s]\n"
     ]
    },
    {
     "name": "stdout",
     "output_type": "stream",
     "text": [
      "Extracted records :  1203462     sequence picking progression : 19.17%\n",
      "data checkpoint ... done in 14.65 second(s)\n",
      "- - - - - - - - - - - - - - - - - - - - - - - - - - - - - - - - -\n",
      "Loading data chunk N°:  6  ... done in 51.69 second(s)\n",
      "GPS data preprocessing ... done in 9.73 second(s)\n"
     ]
    },
    {
     "name": "stderr",
     "output_type": "stream",
     "text": [
      "Full sequence picking : 100%|██████████| 4979654/4979654 [00:17<00:00, 291729.91it/s]\n"
     ]
    },
    {
     "name": "stdout",
     "output_type": "stream",
     "text": [
      "Extracted records :  1376345     sequence picking progression : 22.54%\n",
      "data checkpoint ... done in 15.71 second(s)\n",
      "- - - - - - - - - - - - - - - - - - - - - - - - - - - - - - - - -\n",
      "Loading data chunk N°:  7  ... done in 27.57 second(s)\n",
      "GPS data preprocessing ... done in 8.92 second(s)\n"
     ]
    },
    {
     "name": "stderr",
     "output_type": "stream",
     "text": [
      "Full sequence picking : 100%|██████████| 4977601/4977601 [00:16<00:00, 300294.53it/s]\n"
     ]
    },
    {
     "name": "stdout",
     "output_type": "stream",
     "text": [
      "Extracted records :  1335741     sequence picking progression : 25.78%\n",
      "data checkpoint ... done in 14.23 second(s)\n",
      "- - - - - - - - - - - - - - - - - - - - - - - - - - - - - - - - -\n",
      "Loading data chunk N°:  8  ... done in 18.08 second(s)\n",
      "GPS data preprocessing ... done in 12.05 second(s)\n"
     ]
    },
    {
     "name": "stderr",
     "output_type": "stream",
     "text": [
      "Full sequence picking : 100%|██████████| 4972495/4972495 [00:17<00:00, 281333.35it/s]\n"
     ]
    },
    {
     "name": "stdout",
     "output_type": "stream",
     "text": [
      "Extracted records :  1392445     sequence picking progression : 29.15%\n",
      "data checkpoint ... done in 15.80 second(s)\n",
      "- - - - - - - - - - - - - - - - - - - - - - - - - - - - - - - - -\n",
      "Loading data chunk N°:  9  ... done in 12.97 second(s)\n",
      "GPS data preprocessing ... done in 9.88 second(s)\n"
     ]
    },
    {
     "name": "stderr",
     "output_type": "stream",
     "text": [
      "Full sequence picking : 100%|██████████| 4978336/4978336 [00:16<00:00, 293901.94it/s]\n"
     ]
    },
    {
     "name": "stdout",
     "output_type": "stream",
     "text": [
      "Extracted records :  1341804     sequence picking progression : 32.40%\n",
      "data checkpoint ... done in 14.68 second(s)\n",
      "- - - - - - - - - - - - - - - - - - - - - - - - - - - - - - - - -\n",
      "Loading data chunk N°:  10  ... done in 27.17 second(s)\n",
      "GPS data preprocessing ... done in 9.44 second(s)\n"
     ]
    },
    {
     "name": "stderr",
     "output_type": "stream",
     "text": [
      "Full sequence picking : 100%|██████████| 4981393/4981393 [00:26<00:00, 187841.72it/s]\n"
     ]
    },
    {
     "name": "stdout",
     "output_type": "stream",
     "text": [
      "Extracted records :  2676143     sequence picking progression : 36.28%\n",
      "data checkpoint ... done in 30.02 second(s)\n",
      "- - - - - - - - - - - - - - - - - - - - - - - - - - - - - - - - -\n",
      "Loading data chunk N°:  11  ... done in 19.61 second(s)\n",
      "GPS data preprocessing ... done in 9.20 second(s)\n"
     ]
    },
    {
     "name": "stderr",
     "output_type": "stream",
     "text": [
      "Full sequence picking : 100%|██████████| 4973196/4973196 [00:38<00:00, 129489.03it/s]\n"
     ]
    },
    {
     "name": "stdout",
     "output_type": "stream",
     "text": [
      "Extracted records :  4062253     sequence picking progression : 41.08%\n",
      "data checkpoint ... done in 46.53 second(s)\n",
      "- - - - - - - - - - - - - - - - - - - - - - - - - - - - - - - - -\n",
      "Loading data chunk N°:  12  ... done in 86.53 second(s)\n",
      "GPS data preprocessing ... done in 12.85 second(s)\n"
     ]
    },
    {
     "name": "stderr",
     "output_type": "stream",
     "text": [
      "Full sequence picking : 100%|██████████| 4969414/4969414 [00:40<00:00, 123032.68it/s]\n"
     ]
    },
    {
     "name": "stdout",
     "output_type": "stream",
     "text": [
      "Extracted records :  3940255     sequence picking progression : 45.89%\n",
      "data checkpoint ... done in 44.78 second(s)\n",
      "- - - - - - - - - - - - - - - - - - - - - - - - - - - - - - - - -\n",
      "Loading data chunk N°:  13  ... done in 62.94 second(s)\n",
      "GPS data preprocessing ... done in 8.71 second(s)\n"
     ]
    },
    {
     "name": "stderr",
     "output_type": "stream",
     "text": [
      "Full sequence picking : 100%|██████████| 4979490/4979490 [00:36<00:00, 135909.27it/s]\n"
     ]
    },
    {
     "name": "stdout",
     "output_type": "stream",
     "text": [
      "Extracted records :  4047827     sequence picking progression : 50.66%\n",
      "data checkpoint ... done in 41.69 second(s)\n",
      "- - - - - - - - - - - - - - - - - - - - - - - - - - - - - - - - -\n",
      "Loading data chunk N°:  14  ... done in 59.56 second(s)\n",
      "GPS data preprocessing ... done in 8.63 second(s)\n"
     ]
    },
    {
     "name": "stderr",
     "output_type": "stream",
     "text": [
      "Full sequence picking : 100%|██████████| 4973761/4973761 [00:35<00:00, 138268.18it/s]\n"
     ]
    },
    {
     "name": "stdout",
     "output_type": "stream",
     "text": [
      "Extracted records :  4022863     sequence picking progression : 55.57%\n",
      "data checkpoint ... done in 40.20 second(s)\n",
      "- - - - - - - - - - - - - - - - - - - - - - - - - - - - - - - - -\n",
      "Loading data chunk N°:  15  ... done in 37.05 second(s)\n",
      "GPS data preprocessing ... done in 8.80 second(s)\n"
     ]
    },
    {
     "name": "stderr",
     "output_type": "stream",
     "text": [
      "Full sequence picking : 100%|██████████| 4976539/4976539 [00:37<00:00, 133055.42it/s]\n"
     ]
    },
    {
     "name": "stdout",
     "output_type": "stream",
     "text": [
      "Extracted records :  4022939     sequence picking progression : 60.55%\n",
      "data checkpoint ... done in 40.46 second(s)\n",
      "- - - - - - - - - - - - - - - - - - - - - - - - - - - - - - - - -\n",
      "Loading data chunk N°:  16  ... done in 33.19 second(s)\n",
      "GPS data preprocessing ... done in 8.85 second(s)\n"
     ]
    },
    {
     "name": "stderr",
     "output_type": "stream",
     "text": [
      "Full sequence picking : 100%|██████████| 4969892/4969892 [00:37<00:00, 132954.22it/s]\n"
     ]
    },
    {
     "name": "stdout",
     "output_type": "stream",
     "text": [
      "Extracted records :  3999366     sequence picking progression : 65.41%\n",
      "data checkpoint ... done in 45.78 second(s)\n",
      "- - - - - - - - - - - - - - - - - - - - - - - - - - - - - - - - -\n",
      "Loading data chunk N°:  17  ... done in 87.37 second(s)\n",
      "GPS data preprocessing ... done in 9.27 second(s)\n"
     ]
    },
    {
     "name": "stderr",
     "output_type": "stream",
     "text": [
      "Full sequence picking : 100%|██████████| 4963729/4963729 [00:36<00:00, 136348.70it/s]\n"
     ]
    },
    {
     "name": "stdout",
     "output_type": "stream",
     "text": [
      "Extracted records :  3926960     sequence picking progression : 70.29%\n",
      "data checkpoint ... done in 41.20 second(s)\n",
      "- - - - - - - - - - - - - - - - - - - - - - - - - - - - - - - - -\n",
      "Loading data chunk N°:  18  ... done in 30.00 second(s)\n",
      "GPS data preprocessing ... done in 9.38 second(s)\n"
     ]
    },
    {
     "name": "stderr",
     "output_type": "stream",
     "text": [
      "Full sequence picking : 100%|██████████| 4962127/4962127 [00:35<00:00, 137930.45it/s]\n"
     ]
    },
    {
     "name": "stdout",
     "output_type": "stream",
     "text": [
      "Extracted records :  3894832     sequence picking progression : 75.18%\n",
      "data checkpoint ... done in 46.05 second(s)\n",
      "- - - - - - - - - - - - - - - - - - - - - - - - - - - - - - - - -\n",
      "Loading data chunk N°:  19  ... done in 41.44 second(s)\n",
      "GPS data preprocessing ... done in 9.68 second(s)\n"
     ]
    },
    {
     "name": "stderr",
     "output_type": "stream",
     "text": [
      "Full sequence picking : 100%|██████████| 4968432/4968432 [00:36<00:00, 135874.04it/s]\n"
     ]
    },
    {
     "name": "stdout",
     "output_type": "stream",
     "text": [
      "Extracted records :  3898369     sequence picking progression : 79.99%\n",
      "data checkpoint ... done in 42.38 second(s)\n",
      "- - - - - - - - - - - - - - - - - - - - - - - - - - - - - - - - -\n",
      "Loading data chunk N°:  20  ... done in 28.82 second(s)\n",
      "GPS data preprocessing ... done in 9.07 second(s)\n"
     ]
    },
    {
     "name": "stderr",
     "output_type": "stream",
     "text": [
      "Full sequence picking : 100%|██████████| 4975467/4975467 [00:35<00:00, 138386.46it/s]\n"
     ]
    },
    {
     "name": "stdout",
     "output_type": "stream",
     "text": [
      "Extracted records :  3840749     sequence picking progression : 84.90%\n",
      "data checkpoint ... done in 40.66 second(s)\n",
      "- - - - - - - - - - - - - - - - - - - - - - - - - - - - - - - - -\n",
      "Loading data chunk N°:  21  ... done in 63.70 second(s)\n",
      "GPS data preprocessing ... done in 9.54 second(s)\n"
     ]
    },
    {
     "name": "stderr",
     "output_type": "stream",
     "text": [
      "Full sequence picking : 100%|██████████| 4967998/4967998 [00:35<00:00, 138137.21it/s]\n"
     ]
    },
    {
     "name": "stdout",
     "output_type": "stream",
     "text": [
      "Extracted records :  3687898     sequence picking progression : 89.57%\n",
      "data checkpoint ... done in 41.66 second(s)\n",
      "- - - - - - - - - - - - - - - - - - - - - - - - - - - - - - - - -\n",
      "Loading data chunk N°:  22  ... done in 42.47 second(s)\n",
      "GPS data preprocessing ... done in 9.28 second(s)\n"
     ]
    },
    {
     "name": "stderr",
     "output_type": "stream",
     "text": [
      "Full sequence picking : 100%|██████████| 4965845/4965845 [00:30<00:00, 163089.29it/s]\n"
     ]
    },
    {
     "name": "stdout",
     "output_type": "stream",
     "text": [
      "Extracted records :  3367280     sequence picking progression : 93.98%\n",
      "data checkpoint ... done in 35.42 second(s)\n",
      "- - - - - - - - - - - - - - - - - - - - - - - - - - - - - - - - -\n",
      "Loading data chunk N°:  23  ... done in 83.54 second(s)\n",
      "GPS data preprocessing ... done in 10.05 second(s)\n"
     ]
    },
    {
     "name": "stderr",
     "output_type": "stream",
     "text": [
      "Full sequence picking : 100%|██████████| 4977320/4977320 [00:29<00:00, 166320.70it/s]\n"
     ]
    },
    {
     "name": "stdout",
     "output_type": "stream",
     "text": [
      "Extracted records :  3056452     sequence picking progression : 97.70%\n",
      "data checkpoint ... done in 34.18 second(s)\n",
      "- - - - - - - - - - - - - - - - - - - - - - - - - - - - - - - - -\n",
      "Loading data chunk N°:  24  ... done in 11.00 second(s)\n",
      "GPS data preprocessing ... done in 3.22 second(s)\n"
     ]
    },
    {
     "name": "stderr",
     "output_type": "stream",
     "text": [
      "Full sequence picking : 100%|██████████| 1834886/1834886 [00:11<00:00, 161073.74it/s]\n"
     ]
    },
    {
     "name": "stdout",
     "output_type": "stream",
     "text": [
      "Extracted records :  1166188     sequence picking progression : 99.14%\n",
      "data checkpoint ... done in 13.00 second(s)\n",
      "- - - - - - - - - - - - - - - - - - - - - - - - - - - - - - - - -\n"
     ]
    }
   ],
   "source": [
    "import gc\n",
    "from time import time\n",
    "from tqdm import tqdm\n",
    "# full pick tracking cell\n",
    "# (vehicle_id, sequence_id)  : contains a list of successive datetime stops \n",
    "\n",
    "#algorithm details : \n",
    "#\n",
    "#\n",
    "#\n",
    "#\n",
    "#\n",
    "\n",
    "#Notations: \n",
    "#record[0]  : vehicle_id from gps records\n",
    "#record[-1] : datetime from gps records\n",
    "\n",
    "size_chunk = int(input('please set the size of a chunk:\\n'))\n",
    "\n",
    "print('full pick time parameters initialization', end=' ... ')\n",
    "start = time()\n",
    "names = ['index', 'vehicle_id', 'vehicle_type', 'line_id', 'latitude', 'longitude', 'unkn_1', 'unkn_2', 'unkn_3', 'direction', 'unkn_4', 'unkn_5', 'datetime', 'last_modified']\n",
    "full_gps = pd.read_csv('../database/gps.sql', chunksize=size_chunk, sep='\\t', names=names)\n",
    "\n",
    "#Algorithm parameters and data structres initialization :\n",
    "data_records_dict = dict( ((vehicle,sequence), datetime) \\\n",
    "                    for vehicle, sequence, datetime in \\\n",
    "                        data_records[['vehicle_id','sequence_id','datetime']].groupby(['vehicle_id','sequence_id'], as_index=False).datetime.agg(list).values )\n",
    "\n",
    "vehicle_seq = dict( (vehicle, sequences) \\\n",
    "              for vehicle, sequences in \\\n",
    "                  data_records[['vehicle_id','sequence_id']].groupby('vehicle_id', as_index=False).agg(list).values)\n",
    "\n",
    "vehicle_stop = dict( (vehicle, station_id) \\\n",
    "                  for vehicle, station_id  in \\\n",
    "                      data_records[['vehicle_id','station_id']].groupby('vehicle_id', as_index=False).agg(list).values)\n",
    "\n",
    "last_seq = {}\n",
    "rec    = {}\n",
    "total_seqs = data_records.sequence_id.nunique()\n",
    "chunk = 1\n",
    "seq_progress = 0\n",
    "stop = time()\n",
    "print('done in {:.2f} second(s)'.format(stop - start))\n",
    "\n",
    "print('\\n')\n",
    "print('- - - - - - - - SEQUENCE - PICK - ALGORITHM - - - - - - - - - - -')\n",
    "\n",
    "start = time()\n",
    "for gps in full_gps :\n",
    "    print('Loading data chunk N°: ', chunk, ' ...', end=' ')\n",
    "\n",
    "    extracted_records = []\n",
    "    stop = time()\n",
    "    print('done in {:.2f} second(s)'.format(stop - start))\n",
    "\n",
    "    \n",
    "    print('GPS data preprocessing ...', end=' ')\n",
    "    start = time()\n",
    "    \n",
    "    #drop features\n",
    "    gps.drop(['index','vehicle_type','last_modified','unkn_1','unkn_2','unkn_3','unkn_4','unkn_5'], axis=1, inplace=True)\n",
    "\n",
    "    #sorting by vehicle_id and datetime is critical for the full pick algorithm\n",
    "    gps = gps.sort_values(['vehicle_id','datetime'])\n",
    "    gps = gps.drop_duplicates()\n",
    "    \n",
    "    stop = time()\n",
    "    print('done in {:.2f} second(s)'.format(stop - start))\n",
    "\n",
    "    for record in tqdm(gps.values, position=0, leave=True, desc='Full sequence picking : ') :            \n",
    "        \n",
    "        vehicle = record[0]\n",
    "        record_datetime = record[-1]\n",
    "\n",
    "        if vehicle not in rec : \n",
    "            rec[vehicle] = False\n",
    "\n",
    "        try:   \n",
    "            #extract records\n",
    "            if rec[vehicle] :\n",
    "                # extracted_records ==> [ current_sequence_id, last_stop, gps records]\n",
    "                extracted_records.append(np.concatenate([[vehicle_seq[vehicle][0]], [vehicle_stop[vehicle][0]], record]))\n",
    "            \n",
    "            if record_datetime == data_records_dict[(vehicle, vehicle_seq[vehicle][0])][0] :\n",
    "                #point to the next stop and update algorithms parameters\n",
    "                del data_records_dict[(vehicle, vehicle_seq[vehicle][0])][0]    #get the next datetime where the vehicle has arrived to a stop\n",
    "                last_seq[vehicle] = vehicle_seq[vehicle][0]    #save last sequence id\n",
    "                del vehicle_seq[vehicle][0]     #get the next record sequence id\n",
    "                del vehicle_stop[vehicle][0]    #get the next record stop id\n",
    "\n",
    "                #skip records if sequence id has changed until we match the first stop of the new sequence\n",
    "                if last_seq[vehicle] == vehicle_seq[vehicle][0]:\n",
    "                    rec[vehicle] = True    #activate records extraction flag\n",
    "                else :\n",
    "                    rec[vehicle] = False  #desactivate records extraction flag\n",
    "                    seq_progress += 1\n",
    "        except:\n",
    "            continue\n",
    "\n",
    "    print('Extracted records : ', len(extracted_records), '    sequence picking progression : {:.2f}%'.format(seq_progress*100 / total_seqs ))\n",
    "    #break\n",
    "    #checkpoint\n",
    "    print('data checkpoint ...', end=' ')\n",
    "    start = time()\n",
    "    cols = ['sequence_id','station_id','vehicle_id','line_id','latitude','longitude','direction','datetime']\n",
    "    extracted_records = pd.DataFrame(data=extracted_records, columns=cols)\n",
    "    extracted_records['vehicle_type'] = extracted_records.line_id.apply(extract_vehicletype)\n",
    "    extracted_records = extracted_records.sort_values(['vehicle_id','datetime']).reset_index(drop=True)\n",
    "    extracted_records.to_csv('data/fullpick/fullpick_chunk{}.csv'.format(chunk), index = False)\n",
    "    stop = time()\n",
    "    print('done in {:.2f} second(s)'.format(stop - start))\n",
    "    \n",
    "    print('- - - - - - - - - - - - - - - - - - - - - - - - - - - - - - - - -')\n",
    "    \n",
    "    chunk += 1\n",
    "    del extracted_records\n",
    "    gc.collect()\n",
    "    start = time()"
   ]
  },
  {
   "cell_type": "code",
   "execution_count": 41,
   "metadata": {},
   "outputs": [],
   "source": [
    "import pandas as pd\n",
    "fullpick = pd.read_csv('data/fullpick/fullpick_chunk10.csv')"
   ]
  },
  {
   "cell_type": "code",
   "execution_count": 42,
   "metadata": {},
   "outputs": [
    {
     "name": "stdout",
     "output_type": "stream",
     "text": [
      "<class 'pandas.core.frame.DataFrame'>\n",
      "RangeIndex: 2676143 entries, 0 to 2676142\n",
      "Data columns (total 9 columns):\n",
      " #   Column        Dtype  \n",
      "---  ------        -----  \n",
      " 0   sequence_id   object \n",
      " 1   station_id    int64  \n",
      " 2   vehicle_id    int64  \n",
      " 3   line_id       int64  \n",
      " 4   latitude      float64\n",
      " 5   longitude     float64\n",
      " 6   direction     float64\n",
      " 7   datetime      object \n",
      " 8   vehicle_type  int64  \n",
      "dtypes: float64(3), int64(4), object(2)\n",
      "memory usage: 183.8+ MB\n"
     ]
    }
   ],
   "source": [
    "fullpick.info()"
   ]
  },
  {
   "cell_type": "code",
   "execution_count": 43,
   "metadata": {},
   "outputs": [],
   "source": [
    "paths = pd.read_csv('data/paths.csv')\n",
    "data_records = data_records.merge(paths[['line_id','french_name']], how='left', on='line_id')"
   ]
  },
  {
   "cell_type": "code",
   "execution_count": 44,
   "metadata": {},
   "outputs": [],
   "source": [
    "sequence_population = list(fullpick.sequence_id.unique())"
   ]
  },
  {
   "cell_type": "code",
   "execution_count": 45,
   "metadata": {},
   "outputs": [
    {
     "data": {
      "image/png": "[encoded data removed]",
      "text/plain": [
       "<Figure size 1296x936 with 6 Axes>"
      ]
     },
     "metadata": {
      "needs_background": "light"
     },
     "output_type": "display_data"
    }
   ],
   "source": [
    "import random\n",
    "import matplotlib.pyplot as plt\n",
    "\n",
    "sequence_sample = random.sample(sequence_population,6)\n",
    "fig, axs = plt.subplots(3, 2, figsize=(18,13))\n",
    "\n",
    "plot_idx = [[0,0],[0,1],[1,0],[1,1],[2,0],[2,1]]\n",
    "for k,sequence_id in enumerate(sequence_sample) :\n",
    "\n",
    "    path = data_records[data_records.sequence_id == sequence_id].line_label.unique().item()\n",
    "    path_direction = data_records[data_records.sequence_id == sequence_id].french_name.unique().item()\n",
    "\n",
    "    x = fullpick[fullpick.sequence_id == sequence_id].latitude.values\n",
    "    y = fullpick[fullpick.sequence_id == sequence_id].longitude.values\n",
    "\n",
    "    st_x = data_records[data_records.sequence_id == sequence_id].latitude.values\n",
    "    st_y = data_records[data_records.sequence_id == sequence_id].longitude.values\n",
    "    st_order =  data_records[data_records.sequence_id == sequence_id].order.values\n",
    "\n",
    "    i, j = plot_idx[k]\n",
    "    axs[i,j].set_title('sequence id : ' + sequence_id + '  vehicle id : ' + sequence_id.split('.')[0] + '  path : ' + path + ' ( ' + path_direction + ' ) ')\n",
    "\n",
    "    for k, order in enumerate(st_order):\n",
    "        axs[i,j].annotate(order, (st_x[k],st_y[k]), fontsize = 15)\n",
    "    axs[i,j].plot(x,y,'.')\n",
    "\n",
    "    axs[i,j].plot(st_x,st_y, 'ro')\n",
    "\n",
    "plt.tight_layout()\n",
    "plt.show()"
   ]
  }
 ],
 "metadata": {
  "kernelspec": {
   "display_name": "Python 3",
   "language": "python",
   "name": "python3"
  },
  "language_info": {
   "codemirror_mode": {
    "name": "ipython",
    "version": 3
   },
   "file_extension": ".py",
   "mimetype": "text/x-python",
   "name": "python",
   "nbconvert_exporter": "python",
   "pygments_lexer": "ipython3",
   "version": "3.8.0"
  }
 },
 "nbformat": 4,
 "nbformat_minor": 4
}
