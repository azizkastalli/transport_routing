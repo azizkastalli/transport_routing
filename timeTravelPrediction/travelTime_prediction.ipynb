{
 "cells": [
  {
   "cell_type": "code",
   "execution_count": 1,
   "metadata": {},
   "outputs": [],
   "source": [
    "import pandas as pd\n",
    "import matplotlib.pyplot as plt\n",
    "import seaborn as sns\n",
    "import numpy as np\n",
    "from datetime import datetime\n",
    "import warnings\n",
    "warnings.filterwarnings('ignore')"
   ]
  },
  {
   "cell_type": "markdown",
   "metadata": {},
   "source": [
    "## Travel time prediction"
   ]
  },
  {
   "cell_type": "code",
   "execution_count": 2,
   "metadata": {},
   "outputs": [],
   "source": [
    "data = pd.read_csv('../dataPreprocessing/data/data.csv', low_memory=False)"
   ]
  },
  {
   "cell_type": "code",
   "execution_count": 3,
   "metadata": {},
   "outputs": [],
   "source": [
    "data.rename({'TripID':'sequence_id'}, axis=1, inplace=True)"
   ]
  },
  {
   "cell_type": "code",
   "execution_count": 4,
   "metadata": {},
   "outputs": [
    {
     "name": "stdout",
     "output_type": "stream",
     "text": [
      "<class 'pandas.core.frame.DataFrame'>\n",
      "RangeIndex: 1899557 entries, 0 to 1899556\n",
      "Data columns (total 26 columns):\n",
      " #   Column             Dtype  \n",
      "---  ------             -----  \n",
      " 0   vehicle_id         int64  \n",
      " 1   line_id            int64  \n",
      " 2   arrival_time       object \n",
      " 3   departure_time     object \n",
      " 4   station_id         int64  \n",
      " 5   vehicle_type       float64\n",
      " 6   stop_time          float64\n",
      " 7   sequence_id        object \n",
      " 8   order              int64  \n",
      " 9   line_label         object \n",
      " 10  travel_time        float64\n",
      " 11  outlier            int64  \n",
      " 12  hour               int64  \n",
      " 13  quarter            int64  \n",
      " 14  weekday            int64  \n",
      " 15  service_class      int64  \n",
      " 16  datetime           object \n",
      " 17  Temperature        float64\n",
      " 18  Precipitation      float64\n",
      " 19  Wind Speed         float64\n",
      " 20  Visibility         float64\n",
      " 21  Cloud Cover        float64\n",
      " 22  Relative Humidity  float64\n",
      " 23  Conditions         float64\n",
      " 24  distance_diff      int64  \n",
      " 25  distance_traveled  int64  \n",
      "dtypes: float64(10), int64(11), object(5)\n",
      "memory usage: 376.8+ MB\n"
     ]
    }
   ],
   "source": [
    "data.info()"
   ]
  },
  {
   "cell_type": "code",
   "execution_count": 5,
   "metadata": {},
   "outputs": [],
   "source": [
    "#split data\n",
    "data.datetime = data.datetime.apply(lambda x : datetime.strptime(x, '%Y-%m-%d %H'))\n",
    "data = data.sort_values(['datetime','sequence_id'])\n",
    "data['month'] = data.datetime.dt.month\n",
    "data['year'] = data.datetime.dt.year"
   ]
  },
  {
   "cell_type": "code",
   "execution_count": 6,
   "metadata": {},
   "outputs": [
    {
     "data": {
      "text/plain": [
       "(1899557, 28)"
      ]
     },
     "execution_count": 6,
     "metadata": {},
     "output_type": "execute_result"
    }
   ],
   "source": [
    "data.shape"
   ]
  },
  {
   "cell_type": "code",
   "execution_count": 7,
   "metadata": {},
   "outputs": [],
   "source": [
    "#fillna\n",
    "data.fillna(-1, inplace=True)"
   ]
  },
  {
   "cell_type": "code",
   "execution_count": 8,
   "metadata": {},
   "outputs": [],
   "source": [
    "data = data.reset_index(drop=True)"
   ]
  },
  {
   "cell_type": "markdown",
   "metadata": {},
   "source": [
    "## GRU : n time step window + Keras tuner + Timeseries crossvalidation"
   ]
  },
  {
   "cell_type": "code",
   "execution_count": 9,
   "metadata": {},
   "outputs": [],
   "source": [
    "#thabet ki taya7t l outliers 9assit sequence walé : doing\n",
    "#add Time series cross validation : done\n",
    "#try autoEncoders : maybe\n",
    "#keras tuner : done\n",
    "#model stacking, ensembling : maybe (combination of keras tuner best models)\n",
    "#different timesteps : done"
   ]
  },
  {
   "cell_type": "code",
   "execution_count": null,
   "metadata": {},
   "outputs": [],
   "source": [
    "from kerastuner import BayesianOptimization\n",
    "import tensorflow as tf\n",
    "import tensorflow_addons as tfa\n",
    "from tensorflow.data import Dataset\n",
    "from tensorflow.keras import Sequential, Model\n",
    "from tensorflow.keras import layers\n",
    "from tensorflow.keras.losses import MAE, MeanSquaredError\n",
    "from tensorflow.keras.metrics import RootMeanSquaredError\n",
    "from tensorflow.keras.callbacks import EarlyStopping\n",
    "from tensorflow.keras.optimizers import Adam, RMSprop"
   ]
  },
  {
   "cell_type": "code",
   "execution_count": null,
   "metadata": {},
   "outputs": [],
   "source": [
    "generate_timesteps = True\n",
    "train_model = False"
   ]
  },
  {
   "cell_type": "markdown",
   "metadata": {},
   "source": [
    "### Generate timesteps and target"
   ]
  },
  {
   "cell_type": "code",
   "execution_count": null,
   "metadata": {},
   "outputs": [],
   "source": [
    "#feature engineering : add is_terminal feature\n",
    "stops = pd.read_csv('../dataPreprocessing/data/stations_paths.csv')"
   ]
  },
  {
   "cell_type": "code",
   "execution_count": null,
   "metadata": {},
   "outputs": [],
   "source": [
    "selcted_features = ['sequence_id','Temperature','Conditions','Relative Humidity','service_class','weekday','hour','month','line_id','distance_diff','distance_traveled','order','line_label','station_id','vehicle_type','travel_time']\n",
    "len(selcted_features)"
   ]
  },
  {
   "cell_type": "code",
   "execution_count": null,
   "metadata": {},
   "outputs": [],
   "source": [
    "data.distance_diff = data.groupby('sequence_id').distance_diff.shift(-1)"
   ]
  },
  {
   "cell_type": "code",
   "execution_count": null,
   "metadata": {},
   "outputs": [],
   "source": [
    "data[selcted_features].query('sequence_id == \"112_2\"')"
   ]
  },
  {
   "cell_type": "code",
   "execution_count": null,
   "metadata": {},
   "outputs": [],
   "source": [
    "#drop target nans\n",
    "data = data[~data.distance_diff.isna()]"
   ]
  },
  {
   "cell_type": "code",
   "execution_count": null,
   "metadata": {},
   "outputs": [],
   "source": [
    "data = data[data.outlier == 0]"
   ]
  },
  {
   "cell_type": "code",
   "execution_count": null,
   "metadata": {},
   "outputs": [],
   "source": [
    "#target boxplot\n",
    "data.travel_time.plot(kind='box')"
   ]
  },
  {
   "cell_type": "code",
   "execution_count": null,
   "metadata": {},
   "outputs": [],
   "source": [
    "data.shape"
   ]
  },
  {
   "cell_type": "code",
   "execution_count": null,
   "metadata": {},
   "outputs": [],
   "source": [
    "data.isnull().sum()"
   ]
  },
  {
   "cell_type": "code",
   "execution_count": null,
   "metadata": {},
   "outputs": [],
   "source": [
    "data = data.sort_values(['vehicle_id', 'arrival_time'])\n",
    "data['order_diff'] = data.groupby('sequence_id').order.diff()"
   ]
  },
  {
   "cell_type": "code",
   "execution_count": null,
   "metadata": {},
   "outputs": [],
   "source": [
    "def sequenceid(*x):\n",
    "    vehicle = x[0]\n",
    "    order_diff = x[1]\n",
    "    \n",
    "    if vehicle in seq_id : \n",
    "        if order_diff != 1 :\n",
    "            seq_id[vehicle] += 1 \n",
    "        return str(vehicle) + '_' + str(seq_id[vehicle])\n",
    "    else : \n",
    "        seq_id[vehicle] = 0 \n",
    "        return str(vehicle) + '_' + str(seq_id[vehicle])"
   ]
  },
  {
   "cell_type": "code",
   "execution_count": null,
   "metadata": {},
   "outputs": [],
   "source": [
    "seq_id = {}\n",
    "\n",
    "#cut sequences of stops by order difference to get sequences of successive stops\n",
    "data.line_id = data.line_id.astype(int)\n",
    "data['sequence_id'] = data[['vehicle_id', 'order_diff']].apply(lambda x : sequenceid(*x), axis=1)"
   ]
  },
  {
   "cell_type": "code",
   "execution_count": null,
   "metadata": {},
   "outputs": [],
   "source": [
    "mask = data.groupby('sequence_id').vehicle_id.count() > 5\n",
    "selected_sequences = data.groupby('sequence_id').vehicle_id.count()[mask].index.values\n",
    "data = data[data.sequence_id.isin(selected_sequences)]"
   ]
  },
  {
   "cell_type": "code",
   "execution_count": null,
   "metadata": {},
   "outputs": [],
   "source": [
    "#groupby sequence_id add cummulative lag target mean and std\n",
    "data['cumean_travel_time']=data.groupby('sequence_id').travel_time.apply(lambda x: x.shift().expanding().mean())\n",
    "data = data.fillna(-1)"
   ]
  },
  {
   "cell_type": "code",
   "execution_count": null,
   "metadata": {},
   "outputs": [],
   "source": [
    "selcted_features.append('cumean_travel_time')"
   ]
  },
  {
   "cell_type": "code",
   "execution_count": null,
   "metadata": {},
   "outputs": [],
   "source": [
    "#add segmennt_id feature, a segment_id is an id that distinguish a route between two consecutive stops\n",
    "station_path = pd.read_csv('../dataPreprocessing/data/stations_paths.csv')\n",
    "station_path['next_station_id'] = station_path.groupby('line_id').station_id.shift(-1)\n",
    "station_path = station_path.dropna()[['line_id','station_id','next_station_id']].drop_duplicates()\n",
    "station_path['segument_id'] = station_path.station_id.astype(str)+'_'+station_path.next_station_id.astype(str)\n",
    "station_path['line_id_station_id'] = station_path.line_id.astype(str) + '_' + station_path.station_id.astype(str)"
   ]
  },
  {
   "cell_type": "code",
   "execution_count": null,
   "metadata": {},
   "outputs": [],
   "source": [
    "data.shape"
   ]
  },
  {
   "cell_type": "code",
   "execution_count": null,
   "metadata": {},
   "outputs": [],
   "source": [
    "data['line_id_station_id'] = data.line_id.astype(str) + '_' + data.station_id.astype(str)\n",
    "data = data.merge(station_path[['line_id_station_id','segument_id']], on='line_id_station_id')\n",
    "data = data.drop('line_id_station_id', axis=1)"
   ]
  },
  {
   "cell_type": "code",
   "execution_count": null,
   "metadata": {},
   "outputs": [],
   "source": [
    "data.shape"
   ]
  },
  {
   "cell_type": "code",
   "execution_count": null,
   "metadata": {},
   "outputs": [],
   "source": [
    "selcted_features.append('segument_id')"
   ]
  },
  {
   "cell_type": "code",
   "execution_count": null,
   "metadata": {},
   "outputs": [],
   "source": [
    "from string import ascii_letters\n",
    "import numpy as np\n",
    "import pandas as pd\n",
    "import seaborn as sns\n",
    "import matplotlib.pyplot as plt\n",
    "\n",
    "sns.set_theme(style=\"white\")\n",
    "\n",
    "# Compute the correlation matrix\n",
    "corr = data.corr()\n",
    "\n",
    "# Generate a mask for the upper triangle\n",
    "mask = np.triu(np.ones_like(corr, dtype=bool))\n",
    "\n",
    "# Set up the matplotlib figure\n",
    "f, ax = plt.subplots(figsize=(15, 9))\n",
    "\n",
    "# Generate a custom diverging colormap\n",
    "cmap = sns.diverging_palette(230, 20, as_cmap=True)\n",
    "\n",
    "# Draw the heatmap with the mask and correct aspect ratio\n",
    "sns.heatmap(corr, mask=mask, cmap=cmap, vmax=.3, center=0,\n",
    "            square=True, linewidths=.5, cbar_kws={\"shrink\": .5})"
   ]
  },
  {
   "cell_type": "code",
   "execution_count": null,
   "metadata": {},
   "outputs": [],
   "source": [
    "#selcted_features.append('order_diff')\n",
    "data[data.order_diff == 6][selcted_features]"
   ]
  },
  {
   "cell_type": "code",
   "execution_count": null,
   "metadata": {},
   "outputs": [],
   "source": [
    "data = data.sort_values('arrival_time')\n",
    "data = data.reset_index(drop=True)"
   ]
  },
  {
   "cell_type": "code",
   "execution_count": null,
   "metadata": {},
   "outputs": [],
   "source": [
    "data[selcted_features].shape"
   ]
  },
  {
   "cell_type": "code",
   "execution_count": null,
   "metadata": {},
   "outputs": [],
   "source": [
    "data[selcted_features].isnull().sum()"
   ]
  },
  {
   "cell_type": "markdown",
   "metadata": {},
   "source": [
    "## ETL"
   ]
  },
  {
   "cell_type": "code",
   "execution_count": 136,
   "metadata": {},
   "outputs": [
    {
     "name": "stderr",
     "output_type": "stream",
     "text": [
      "100%|██████████| 5/5 [00:28<00:00,  5.71s/it]\n"
     ]
    }
   ],
   "source": [
    "from sklearn.preprocessing import MinMaxScaler, LabelEncoder\n",
    "from tqdm import tqdm\n",
    "\n",
    "generate_timesteps = True\n",
    "if generate_timesteps:\n",
    "    data['Relative Humidity'] = round(data['Relative Humidity'])\n",
    "    \n",
    "    #encode\n",
    "    encoder = LabelEncoder()\n",
    "    data.line_label = encoder.fit_transform(data.line_label)\n",
    "    data.segument_id = encoder.fit_transform(data.segument_id)\n",
    "\n",
    "    #extract target\n",
    "    tmp_data = data.travel_time.values\n",
    "    np.save('travelTime_steps/target/target.npy', tmp_data)\n",
    "\n",
    "    \n",
    "    #extract time step features extraction\n",
    "    #datetime lag features\n",
    "    tmp_data = data[selcted_features]\n",
    "    tmp_data['travel_time_lag'] = tmp_data[['sequence_id', 'travel_time']].groupby('sequence_id',dropna=False).shift(1)\n",
    "    #mean speed lag feature \n",
    "    distance_diff_lag           = tmp_data[['sequence_id', 'distance_traveled']].groupby('sequence_id',dropna=False).shift(1)\n",
    "    tmp_data['mean_speed_lag']  = round((distance_diff_lag.distance_traveled/1000) / (tmp_data.travel_time_lag/3600)).apply(lambda x : -1 if x <=0 or x == np.inf else x)\n",
    "    \n",
    "    #tmp_data['distance_diff'] = tmp_data.distance_diff.apply(lambda x : -1 if x == 0 else x )\n",
    "    tmp_data.drop(['travel_time','sequence_id'], axis=1, inplace=True)\n",
    "    \n",
    "    #scale\n",
    "    tmp_data.fillna(-1, inplace=True)\n",
    "    scaler = MinMaxScaler()\n",
    "    scaler.fit(tmp_data)\n",
    "    \n",
    "    max_timesteps = 5\n",
    "    for timestep in tqdm(range(max_timesteps)):\n",
    "        if timestep == 0 :\n",
    "            #scale and extract data\n",
    "            tmp_data = scaler.transform(tmp_data)\n",
    "            tmp_data = tmp_data.reshape(-1, 1, 18)\n",
    "            np.save('travelTime_steps/features/timestep{}.npy'.format(max_timesteps), tmp_data)\n",
    "        else:\n",
    "            #datetime lag features\n",
    "            tmp_data = data[selcted_features].groupby('sequence_id',dropna=False).shift(timestep)\n",
    "            tmp_data['travel_time_lag'] = data[['sequence_id', 'travel_time']].groupby('sequence_id',dropna=False).shift(timestep+1)\n",
    "            #mean speed lag feature \n",
    "            distance_diff_lag             = data[['sequence_id', 'distance_traveled']].groupby('sequence_id',dropna=False).shift(timestep+1)\n",
    "            tmp_data['mean_speed_lag']    = round((distance_diff_lag.distance_traveled/1000) / (tmp_data.travel_time_lag/3600)).apply(lambda x : -1 if x <=0 or x == np.inf else x)\n",
    "\n",
    "            #scale and extract data\n",
    "            tmp_data.drop(['travel_time'], axis=1, inplace=True)\n",
    "            \n",
    "            tmp_data.fillna(-1, inplace=True)\n",
    "            tmp_data = scaler.transform(tmp_data)\n",
    "            tmp_data = tmp_data.reshape(-1, 1, 18)\n",
    "            np.save('travelTime_steps/features/timestep{}.npy'.format(max_timesteps-timestep), tmp_data)"
   ]
  },
  {
   "cell_type": "markdown",
   "metadata": {},
   "source": [
    "## Time series cross validation + keras Tuner"
   ]
  },
  {
   "cell_type": "code",
   "execution_count": 7,
   "metadata": {},
   "outputs": [],
   "source": [
    "#model architecture keras API\n",
    "\n",
    "def generate_model(hp=None):\n",
    "    #default hyper parameters\n",
    "    num_stacked_gru   = 0\n",
    "    num_stacked_dense = 2\n",
    "    droput_rate       = 0.463787\n",
    "    gru_units         = 192\n",
    "    dense_units       = 512\n",
    "    learning_rate     = 0.005946\n",
    "    timestep          = 5\n",
    "    leakyRelu_alpha   = 0.247535\n",
    "    weather_focus     = 0\n",
    "    dims              = 18\n",
    "\n",
    "    if hp:\n",
    "        num_stacked_gru   = hp.Choice('num_stacked_gru', values=[0, 1])\n",
    "        weather_focus     = hp.Choice('weather_focus', values=[0, 1])\n",
    "        num_stacked_dense = hp.Choice('num_stacked_dense', values=[1, 2, 3, 4])\n",
    "        droput_rate       = hp.Float('droput_rate', min_value=0.1 , max_value=0.5)\n",
    "        learning_rate     = hp.Float('learning_rate', min_value=0.001, max_value=0.01)\n",
    "        gru_units         = hp.Int('gru_units', min_value=64, max_value=256, step=32)\n",
    "        dense_units       = hp.Int('dense_units', min_value=128, max_value=256, step=32)\n",
    "        timestep          = hp.Int('time_step', min_value=1, max_value=5, step=1)\n",
    "        leakyRelu_alpha   = hp.Float('leakyRelu_alpha', min_value=0, max_value=0.3)\n",
    "\n",
    "    #time step inputs\n",
    "    input_layers = []\n",
    "    for i in range(timestep):\n",
    "        input_layers.append(layers.Input(shape = (1,dims)))\n",
    "    if timestep > 1 :\n",
    "        x = layers.concatenate(input_layers, axis = 1)\n",
    "    else:\n",
    "        x = input_layers[0]\n",
    "    \n",
    "    if weather_focus:\n",
    "        weather = x[:,:,:3]\n",
    "        weather = layers.GRU(units=128, activation='tanh' , input_shape=(-1, timestep, 3), return_sequences=False )(weather)\n",
    "        weather = layers.Dense(64, activation='linear')(weather)\n",
    "        weather = layers.BatchNormalization()(weather)\n",
    "        weather = tf.nn.leaky_relu(weather, leakyRelu_alpha)\n",
    "        weather = layers.Dropout(droput_rate)(weather)\n",
    "\n",
    "    \n",
    "    #GRU layers Block\n",
    "    if num_stacked_gru > 0 :\n",
    "        x = layers.GRU(units=gru_units, activation='tanh' , input_shape=(-1, timestep, dims), return_sequences=True )(x)\n",
    "        for i in range(num_stacked_gru):\n",
    "            if i+1 == num_stacked_gru:\n",
    "                x = layers.GRU(units=gru_units, activation='tanh', return_sequences=False )(x)\n",
    "            else:\n",
    "                x = layers.GRU(units=gru_units, activation='tanh', return_sequences=True )(x)\n",
    "    else : \n",
    "        x = layers.GRU(units=gru_units, activation='tanh' , input_shape=(-1, timestep, dims), return_sequences=False )(x)\n",
    "    \n",
    "    for i in range(num_stacked_dense):\n",
    "        x = layers.Dense(dense_units, activation='linear')(x)\n",
    "        x = layers.BatchNormalization()(x)\n",
    "        x = tf.nn.leaky_relu(x, leakyRelu_alpha)\n",
    "        x = layers.Dropout(droput_rate)(x)\n",
    "\n",
    "    if weather_focus:\n",
    "        x = layers.concatenate([weather,x], axis=1)\n",
    "    \n",
    "    out = layers.Dense(1, activation='relu')(x)\n",
    "    \n",
    "    #build model\n",
    "    model = Model(input_layers, out)\n",
    "    \n",
    "    #model compilation\n",
    "    optimizer = Adam(lr=learning_rate)\n",
    "    loss = MeanSquaredError()\n",
    "    #metrics = tfa.metrics.RSquare()\n",
    "    metrics = tf.keras.metrics.RootMeanSquaredError()\n",
    "    model.compile(optimizer=optimizer, loss=loss, metrics=metrics)\n",
    "\n",
    "    return model"
   ]
  },
  {
   "cell_type": "code",
   "execution_count": null,
   "metadata": {},
   "outputs": [],
   "source": [
    "model = generate_model()\n",
    "model.summary()"
   ]
  },
  {
   "cell_type": "code",
   "execution_count": 108,
   "metadata": {},
   "outputs": [],
   "source": [
    "#time series cross validation splits by year quarters\n",
    "def timeseries_yaerMonthSplit(data, cv_skipMonths):\n",
    "    yearMonths = data[['year','month']].drop_duplicates().values\n",
    "    splits = []\n",
    "    split = []\n",
    "    for yearM in yearMonths:\n",
    "        split += list(data[(data.year == yearM[0])&(data.month == yearM[1])].index)\n",
    "        cv_skipMonths -= 1\n",
    "        if cv_skipMonths < 0:\n",
    "            splits.append(split)\n",
    "            split = [] \n",
    "    \n",
    "    return splits"
   ]
  },
  {
   "cell_type": "code",
   "execution_count": 109,
   "metadata": {},
   "outputs": [],
   "source": [
    "import functools\n",
    "import kerastuner as kt\n",
    "import operator\n",
    "from sklearn.preprocessing import MinMaxScaler, LabelEncoder\n",
    "\n",
    "class CVTuner(kt.engine.tuner.Tuner):\n",
    "    \n",
    "    #run trial override\n",
    "    def run_trial(self, trial, X, y, splits, epochs=1, callbacks=None, purged=False, batch_size=512):\n",
    "        \n",
    "        val_losses = []        \n",
    "        nb_cv = len(splits)\n",
    "        \n",
    "        #Trial n timestep hyper parameter\n",
    "        time_step = trial.hyperparameters['time_step']\n",
    "        \n",
    "        if time_step > 1 :\n",
    "            X = X[-time_step:]\n",
    "        else:\n",
    "            X = X[-1]\n",
    "            \n",
    "        for k_iter in range(nb_cv-1):\n",
    "            print('')\n",
    "            print('------Time--Series--CrossValidation--iteration--N°{}------'.format(k_iter+1), end='\\n\\n')\n",
    "            #time series cross-validation split\n",
    "            if purged :\n",
    "                train_idx = splits[k_iter]\n",
    "            else : \n",
    "                train_idx = functools.reduce(operator.iconcat, splits[:k_iter+1], [])\n",
    "                \n",
    "            if time_step > 1 :\n",
    "                X_train = []\n",
    "                X_val   = []\n",
    "                for i in range(time_step):\n",
    "                    X_train.append(X[i][train_idx])\n",
    "                    X_val.append( X[i][splits[k_iter+1]])\n",
    "            else:\n",
    "                X_train , X_val= X[train_idx], X[splits[k_iter+1]]\n",
    "\n",
    "            y_train, y_val = y[train_idx], y[splits[k_iter+1]]\n",
    "            \n",
    "            #tensorflow data pipeline\n",
    "            train_set, validation_set = self.__tensorflow_dataPipeLine(X_train, y_train, X_val, y_val, batch_size, time_step)\n",
    "            \n",
    "            model = self.hypermodel.build(trial.hyperparameters)\n",
    "            hist = model.fit(train_set,\n",
    "                      validation_data=validation_set,\n",
    "                      epochs=epochs,\n",
    "                      callbacks=callbacks)\n",
    "\n",
    "#            val_losses.append(max(hist.history['val_r_square'])) \n",
    "            val_losses.append(min(hist.history['val_root_mean_squared_error'])) \n",
    "        val_losses = np.asarray(val_losses)\n",
    "#        self.oracle.update_trial(trial.trial_id, {'val_r_square':np.mean(val_losses)})\n",
    "        self.oracle.update_trial(trial.trial_id, {'val_root_mean_squared_error':np.mean(val_losses)})\n",
    "        self.save_model(trial.trial_id, model)\n",
    "        \n",
    "        \n",
    "    def __tensorflow_dataPipeLine(self, X_train, y_train, X_val, y_val, batch_size, time_step):\n",
    "        if time_step > 1 :\n",
    "            X_train = tuple(X_train)\n",
    "            X_val = tuple(X_val)\n",
    "\n",
    "        dataset = Dataset.from_tensor_slices((X_train, y_train))\n",
    "        dataset = dataset.batch(batch_size)\n",
    "        train_set = dataset.prefetch(tf.data.experimental.AUTOTUNE)\n",
    "\n",
    "        dataset = Dataset.from_tensor_slices((X_val, y_val))\n",
    "        dataset = dataset.batch(batch_size)\n",
    "        validation_set = dataset.prefetch(tf.data.experimental.AUTOTUNE)\n",
    "        \n",
    "        return train_set, validation_set"
   ]
  },
  {
   "cell_type": "code",
   "execution_count": null,
   "metadata": {},
   "outputs": [],
   "source": [
    "tuner = CVTuner(\n",
    "        hypermodel=generate_model,\n",
    "        directory = './travelTime_steps/tuner',\n",
    "        project_name = 'travel_time',\n",
    "        overwrite = True,\n",
    "        oracle=kt.oracles.BayesianOptimization(\n",
    "        objective = kt.Objective(\"val_root_mean_squared_error\", direction=\"min\"),\n",
    "        max_trials=20))"
   ]
  },
  {
   "cell_type": "code",
   "execution_count": null,
   "metadata": {},
   "outputs": [],
   "source": [
    "tuner.search_space_summary()"
   ]
  },
  {
   "cell_type": "code",
   "execution_count": 3,
   "metadata": {},
   "outputs": [],
   "source": [
    "#load all timesteps\n",
    "import os\n",
    "\n",
    "path = 'travelTime_steps/features'\n",
    "features = []\n",
    "for filename in os.listdir('travelTime_steps/features'):\n",
    "    features.append(np.load(path+'/'+filename))\n",
    "\n",
    "target = np.load('travelTime_steps/target/target.npy')"
   ]
  },
  {
   "cell_type": "code",
   "execution_count": null,
   "metadata": {},
   "outputs": [],
   "source": [
    "#timeseries cross validation year quarter split index\n",
    "splits = timeseries_yaerMonthSplit(data, 6)\n",
    "#export splits\n",
    "np.save('traveltime_cvSplits.npy', np.asarray(splits))"
   ]
  },
  {
   "cell_type": "code",
   "execution_count": null,
   "metadata": {},
   "outputs": [],
   "source": [
    "#Training and Hyper parameter tuning over Time series CV\n",
    "#there is a huge difference in train and validation r_squared , model is overfitting or the cv must be stratified due to unbalanced samples in \n",
    "#different folds\n",
    "if train_model:\n",
    "    tuner.search(features, target, epochs=30, splits=splits,\n",
    "                 callbacks=[EarlyStopping(restore_best_weights=True, patience=3, monitor='val_root_mean_squared_error')])"
   ]
  },
  {
   "cell_type": "code",
   "execution_count": null,
   "metadata": {},
   "outputs": [],
   "source": [
    "model = tuner.get_best_models(num_models=1)[0]\n",
    "model.summary()"
   ]
  },
  {
   "cell_type": "code",
   "execution_count": 3,
   "metadata": {},
   "outputs": [
    {
     "data": {
      "text/plain": [
       "['.ipynb_checkpoints',\n",
       " 'oracle.json',\n",
       " 'trial_0171f62420cb5bdb4121b00e012f5ad7',\n",
       " 'trial_06c766d708da2013fa4c76c1631be1bc',\n",
       " 'trial_4a177d9d83abfa686b83d29556c587f7',\n",
       " 'trial_4e50081cf630e538d26a2ea6c1f2799a',\n",
       " 'trial_517d82ff7b47d873dccbb9325e5b63c3',\n",
       " 'trial_6f4855353b7045abf65cc094b65f7a24',\n",
       " 'trial_7c359c71ec7ff09bdff6845e5ab22d0b',\n",
       " 'trial_8436d108c8dea322ea93ace58f6337da',\n",
       " 'trial_8b6418c94ffbc029b64adeade1669dd3',\n",
       " 'trial_a168da9101cb7f6c31a6f795efa62972',\n",
       " 'trial_a7c73d97eec77a749a2f65f8f5bfd470',\n",
       " 'trial_a8c73d73680b7d94f0c1322e6c8970dc',\n",
       " 'trial_ab812ba35c65c2633441e7bd051b304b',\n",
       " 'trial_b2c1fcf1973486fb60bda36389eed616',\n",
       " 'trial_d62075b18ce0c507d2072c86e5464ef3',\n",
       " 'trial_dbc699a92fd98a91d0520de00757c7cf',\n",
       " 'trial_f42a08c9e9365865874b966b96a5cc0e',\n",
       " 'trial_fe3b6070b6b9add8d32f27847e5440b7',\n",
       " 'tuner0.json']"
      ]
     },
     "execution_count": 3,
     "metadata": {},
     "output_type": "execute_result"
    }
   ],
   "source": [
    "os.listdir('travelTime_steps/tuner/tuner/travel_time')"
   ]
  },
  {
   "cell_type": "code",
   "execution_count": 4,
   "metadata": {},
   "outputs": [
    {
     "data": {
      "text/html": [
       "<div>\n",
       "<style scoped>\n",
       "    .dataframe tbody tr th:only-of-type {\n",
       "        vertical-align: middle;\n",
       "    }\n",
       "\n",
       "    .dataframe tbody tr th {\n",
       "        vertical-align: top;\n",
       "    }\n",
       "\n",
       "    .dataframe thead th {\n",
       "        text-align: right;\n",
       "    }\n",
       "</style>\n",
       "<table border=\"1\" class=\"dataframe\">\n",
       "  <thead>\n",
       "    <tr style=\"text-align: right;\">\n",
       "      <th></th>\n",
       "      <th>Bidirectional</th>\n",
       "      <th>num_stacked_gru</th>\n",
       "      <th>num_stacked_dense</th>\n",
       "      <th>droput_rate</th>\n",
       "      <th>learning_rate</th>\n",
       "      <th>gru_units</th>\n",
       "      <th>dense_units</th>\n",
       "      <th>time_step</th>\n",
       "      <th>leakyRelu_alpha</th>\n",
       "      <th>weather_focus</th>\n",
       "      <th>score</th>\n",
       "    </tr>\n",
       "  </thead>\n",
       "  <tbody>\n",
       "    <tr>\n",
       "      <th>14</th>\n",
       "      <td>0</td>\n",
       "      <td>0</td>\n",
       "      <td>2</td>\n",
       "      <td>0.463787</td>\n",
       "      <td>0.005946</td>\n",
       "      <td>192</td>\n",
       "      <td>256</td>\n",
       "      <td>5</td>\n",
       "      <td>0.247535</td>\n",
       "      <td>0</td>\n",
       "      <td>76.157935</td>\n",
       "    </tr>\n",
       "    <tr>\n",
       "      <th>12</th>\n",
       "      <td>0</td>\n",
       "      <td>0</td>\n",
       "      <td>2</td>\n",
       "      <td>0.340680</td>\n",
       "      <td>0.005475</td>\n",
       "      <td>256</td>\n",
       "      <td>128</td>\n",
       "      <td>5</td>\n",
       "      <td>0.110363</td>\n",
       "      <td>1</td>\n",
       "      <td>78.181168</td>\n",
       "    </tr>\n",
       "    <tr>\n",
       "      <th>7</th>\n",
       "      <td>0</td>\n",
       "      <td>0</td>\n",
       "      <td>2</td>\n",
       "      <td>0.226092</td>\n",
       "      <td>0.005918</td>\n",
       "      <td>160</td>\n",
       "      <td>224</td>\n",
       "      <td>5</td>\n",
       "      <td>0.022446</td>\n",
       "      <td>1</td>\n",
       "      <td>80.546277</td>\n",
       "    </tr>\n",
       "    <tr>\n",
       "      <th>13</th>\n",
       "      <td>1</td>\n",
       "      <td>1</td>\n",
       "      <td>3</td>\n",
       "      <td>0.448200</td>\n",
       "      <td>0.005467</td>\n",
       "      <td>64</td>\n",
       "      <td>256</td>\n",
       "      <td>4</td>\n",
       "      <td>0.118875</td>\n",
       "      <td>1</td>\n",
       "      <td>99.358598</td>\n",
       "    </tr>\n",
       "    <tr>\n",
       "      <th>9</th>\n",
       "      <td>0</td>\n",
       "      <td>0</td>\n",
       "      <td>1</td>\n",
       "      <td>0.177719</td>\n",
       "      <td>0.001418</td>\n",
       "      <td>224</td>\n",
       "      <td>256</td>\n",
       "      <td>3</td>\n",
       "      <td>0.145272</td>\n",
       "      <td>0</td>\n",
       "      <td>99.584953</td>\n",
       "    </tr>\n",
       "    <tr>\n",
       "      <th>1</th>\n",
       "      <td>1</td>\n",
       "      <td>1</td>\n",
       "      <td>3</td>\n",
       "      <td>0.202956</td>\n",
       "      <td>0.005878</td>\n",
       "      <td>128</td>\n",
       "      <td>224</td>\n",
       "      <td>2</td>\n",
       "      <td>0.067247</td>\n",
       "      <td>1</td>\n",
       "      <td>99.653557</td>\n",
       "    </tr>\n",
       "    <tr>\n",
       "      <th>8</th>\n",
       "      <td>1</td>\n",
       "      <td>1</td>\n",
       "      <td>4</td>\n",
       "      <td>0.432201</td>\n",
       "      <td>0.003304</td>\n",
       "      <td>224</td>\n",
       "      <td>256</td>\n",
       "      <td>2</td>\n",
       "      <td>0.029010</td>\n",
       "      <td>0</td>\n",
       "      <td>99.744060</td>\n",
       "    </tr>\n",
       "    <tr>\n",
       "      <th>5</th>\n",
       "      <td>0</td>\n",
       "      <td>0</td>\n",
       "      <td>3</td>\n",
       "      <td>0.492139</td>\n",
       "      <td>0.002971</td>\n",
       "      <td>96</td>\n",
       "      <td>192</td>\n",
       "      <td>4</td>\n",
       "      <td>0.096332</td>\n",
       "      <td>0</td>\n",
       "      <td>99.867097</td>\n",
       "    </tr>\n",
       "    <tr>\n",
       "      <th>0</th>\n",
       "      <td>0</td>\n",
       "      <td>0</td>\n",
       "      <td>4</td>\n",
       "      <td>0.407266</td>\n",
       "      <td>0.001207</td>\n",
       "      <td>224</td>\n",
       "      <td>192</td>\n",
       "      <td>4</td>\n",
       "      <td>0.256692</td>\n",
       "      <td>0</td>\n",
       "      <td>99.870837</td>\n",
       "    </tr>\n",
       "    <tr>\n",
       "      <th>2</th>\n",
       "      <td>0</td>\n",
       "      <td>0</td>\n",
       "      <td>4</td>\n",
       "      <td>0.175875</td>\n",
       "      <td>0.007741</td>\n",
       "      <td>96</td>\n",
       "      <td>128</td>\n",
       "      <td>2</td>\n",
       "      <td>0.287774</td>\n",
       "      <td>0</td>\n",
       "      <td>99.879001</td>\n",
       "    </tr>\n",
       "    <tr>\n",
       "      <th>11</th>\n",
       "      <td>1</td>\n",
       "      <td>0</td>\n",
       "      <td>3</td>\n",
       "      <td>0.454881</td>\n",
       "      <td>0.006908</td>\n",
       "      <td>64</td>\n",
       "      <td>224</td>\n",
       "      <td>2</td>\n",
       "      <td>0.148198</td>\n",
       "      <td>0</td>\n",
       "      <td>100.117947</td>\n",
       "    </tr>\n",
       "    <tr>\n",
       "      <th>4</th>\n",
       "      <td>0</td>\n",
       "      <td>0</td>\n",
       "      <td>4</td>\n",
       "      <td>0.477128</td>\n",
       "      <td>0.009925</td>\n",
       "      <td>128</td>\n",
       "      <td>128</td>\n",
       "      <td>4</td>\n",
       "      <td>0.119859</td>\n",
       "      <td>1</td>\n",
       "      <td>100.302986</td>\n",
       "    </tr>\n",
       "    <tr>\n",
       "      <th>15</th>\n",
       "      <td>0</td>\n",
       "      <td>1</td>\n",
       "      <td>4</td>\n",
       "      <td>0.182572</td>\n",
       "      <td>0.008603</td>\n",
       "      <td>256</td>\n",
       "      <td>224</td>\n",
       "      <td>2</td>\n",
       "      <td>0.164725</td>\n",
       "      <td>1</td>\n",
       "      <td>100.592450</td>\n",
       "    </tr>\n",
       "    <tr>\n",
       "      <th>16</th>\n",
       "      <td>0</td>\n",
       "      <td>1</td>\n",
       "      <td>2</td>\n",
       "      <td>0.186740</td>\n",
       "      <td>0.004080</td>\n",
       "      <td>96</td>\n",
       "      <td>224</td>\n",
       "      <td>1</td>\n",
       "      <td>0.274483</td>\n",
       "      <td>1</td>\n",
       "      <td>104.390698</td>\n",
       "    </tr>\n",
       "    <tr>\n",
       "      <th>3</th>\n",
       "      <td>1</td>\n",
       "      <td>1</td>\n",
       "      <td>2</td>\n",
       "      <td>0.208426</td>\n",
       "      <td>0.002811</td>\n",
       "      <td>96</td>\n",
       "      <td>192</td>\n",
       "      <td>1</td>\n",
       "      <td>0.030615</td>\n",
       "      <td>1</td>\n",
       "      <td>105.147090</td>\n",
       "    </tr>\n",
       "    <tr>\n",
       "      <th>6</th>\n",
       "      <td>1</td>\n",
       "      <td>0</td>\n",
       "      <td>4</td>\n",
       "      <td>0.336075</td>\n",
       "      <td>0.005311</td>\n",
       "      <td>256</td>\n",
       "      <td>192</td>\n",
       "      <td>1</td>\n",
       "      <td>0.180069</td>\n",
       "      <td>0</td>\n",
       "      <td>105.328531</td>\n",
       "    </tr>\n",
       "    <tr>\n",
       "      <th>17</th>\n",
       "      <td>0</td>\n",
       "      <td>0</td>\n",
       "      <td>2</td>\n",
       "      <td>0.121098</td>\n",
       "      <td>0.007440</td>\n",
       "      <td>224</td>\n",
       "      <td>224</td>\n",
       "      <td>1</td>\n",
       "      <td>0.218484</td>\n",
       "      <td>0</td>\n",
       "      <td>105.738144</td>\n",
       "    </tr>\n",
       "    <tr>\n",
       "      <th>10</th>\n",
       "      <td>1</td>\n",
       "      <td>0</td>\n",
       "      <td>2</td>\n",
       "      <td>0.257048</td>\n",
       "      <td>0.007661</td>\n",
       "      <td>128</td>\n",
       "      <td>160</td>\n",
       "      <td>1</td>\n",
       "      <td>0.018814</td>\n",
       "      <td>0</td>\n",
       "      <td>106.535356</td>\n",
       "    </tr>\n",
       "  </tbody>\n",
       "</table>\n",
       "</div>"
      ],
      "text/plain": [
       "    Bidirectional  num_stacked_gru  num_stacked_dense  droput_rate  \\\n",
       "14              0                0                  2     0.463787   \n",
       "12              0                0                  2     0.340680   \n",
       "7               0                0                  2     0.226092   \n",
       "13              1                1                  3     0.448200   \n",
       "9               0                0                  1     0.177719   \n",
       "1               1                1                  3     0.202956   \n",
       "8               1                1                  4     0.432201   \n",
       "5               0                0                  3     0.492139   \n",
       "0               0                0                  4     0.407266   \n",
       "2               0                0                  4     0.175875   \n",
       "11              1                0                  3     0.454881   \n",
       "4               0                0                  4     0.477128   \n",
       "15              0                1                  4     0.182572   \n",
       "16              0                1                  2     0.186740   \n",
       "3               1                1                  2     0.208426   \n",
       "6               1                0                  4     0.336075   \n",
       "17              0                0                  2     0.121098   \n",
       "10              1                0                  2     0.257048   \n",
       "\n",
       "    learning_rate  gru_units  dense_units  time_step  leakyRelu_alpha  \\\n",
       "14       0.005946        192          256          5         0.247535   \n",
       "12       0.005475        256          128          5         0.110363   \n",
       "7        0.005918        160          224          5         0.022446   \n",
       "13       0.005467         64          256          4         0.118875   \n",
       "9        0.001418        224          256          3         0.145272   \n",
       "1        0.005878        128          224          2         0.067247   \n",
       "8        0.003304        224          256          2         0.029010   \n",
       "5        0.002971         96          192          4         0.096332   \n",
       "0        0.001207        224          192          4         0.256692   \n",
       "2        0.007741         96          128          2         0.287774   \n",
       "11       0.006908         64          224          2         0.148198   \n",
       "4        0.009925        128          128          4         0.119859   \n",
       "15       0.008603        256          224          2         0.164725   \n",
       "16       0.004080         96          224          1         0.274483   \n",
       "3        0.002811         96          192          1         0.030615   \n",
       "6        0.005311        256          192          1         0.180069   \n",
       "17       0.007440        224          224          1         0.218484   \n",
       "10       0.007661        128          160          1         0.018814   \n",
       "\n",
       "    weather_focus       score  \n",
       "14              0   76.157935  \n",
       "12              1   78.181168  \n",
       "7               1   80.546277  \n",
       "13              1   99.358598  \n",
       "9               0   99.584953  \n",
       "1               1   99.653557  \n",
       "8               0   99.744060  \n",
       "5               0   99.867097  \n",
       "0               0   99.870837  \n",
       "2               0   99.879001  \n",
       "11              0  100.117947  \n",
       "4               1  100.302986  \n",
       "15              1  100.592450  \n",
       "16              1  104.390698  \n",
       "3               1  105.147090  \n",
       "6               0  105.328531  \n",
       "17              0  105.738144  \n",
       "10              0  106.535356  "
      ]
     },
     "execution_count": 4,
     "metadata": {},
     "output_type": "execute_result"
    }
   ],
   "source": [
    "import pandas as pd\n",
    "import os\n",
    "import json\n",
    "\n",
    "trials = []\n",
    "keys   = []\n",
    "for filename in os.listdir('travelTime_steps/tuner/tuner/travel_time')[2:-1] :\n",
    "    state_data = open('travelTime_steps/tuner/tuner/travel_time/'+filename+'/trial.json', mode='r')\n",
    "    state_data = json.loads(state_data.readline())\n",
    "    state_data['hyperparameters']['values'].update({'score':state_data['score']})\n",
    "    trials.append(state_data['hyperparameters']['values'].values())\n",
    "    keys = state_data['hyperparameters']['values'].keys()\n",
    "    #print(filename)\n",
    "\n",
    "tunerTrials = pd.DataFrame(data=trials, columns=keys)\n",
    "tunerTrials.sort_values('score')"
   ]
  },
  {
   "cell_type": "code",
   "execution_count": 5,
   "metadata": {},
   "outputs": [
    {
     "data": {
      "text/plain": [
       "(18, 11)"
      ]
     },
     "execution_count": 5,
     "metadata": {},
     "output_type": "execute_result"
    }
   ],
   "source": [
    "tunerTrials.shape"
   ]
  },
  {
   "cell_type": "code",
   "execution_count": 88,
   "metadata": {},
   "outputs": [],
   "source": [
    "test_length = round(target.shape[0]*0.2)\n",
    "n = len(features)\n",
    "X_train = []\n",
    "X_test  = []\n",
    "for i in range(n):\n",
    "    X_train.append(features[i][:-test_length,:,:])\n",
    "    X_test.append(features[i][-test_length:,:,:])\n",
    "y_train = target[:-test_length]\n",
    "y_test  = target[-test_length:]"
   ]
  },
  {
   "cell_type": "code",
   "execution_count": 8,
   "metadata": {},
   "outputs": [
    {
     "name": "stdout",
     "output_type": "stream",
     "text": [
      "Epoch 1/30\n",
      "1784/1784 [==============================] - 61s 14ms/step - loss: 8100.5785 - root_mean_squared_error: 88.7192 - val_loss: 5526.2798 - val_root_mean_squared_error: 74.3390\n",
      "Epoch 2/30\n",
      "1784/1784 [==============================] - 23s 13ms/step - loss: 4931.8975 - root_mean_squared_error: 70.2000 - val_loss: 4796.2622 - val_root_mean_squared_error: 69.2551\n",
      "Epoch 3/30\n",
      "1784/1784 [==============================] - 26s 14ms/step - loss: 4477.8733 - root_mean_squared_error: 66.8972 - val_loss: 4743.4526 - val_root_mean_squared_error: 68.8727\n",
      "Epoch 4/30\n",
      "1784/1784 [==============================] - 27s 15ms/step - loss: 4324.6034 - root_mean_squared_error: 65.7461 - val_loss: 4498.2266 - val_root_mean_squared_error: 67.0688\n",
      "Epoch 5/30\n",
      "1784/1784 [==============================] - 28s 16ms/step - loss: 4243.9640 - root_mean_squared_error: 65.1278 - val_loss: 4443.5601 - val_root_mean_squared_error: 66.6600\n",
      "Epoch 6/30\n",
      "1784/1784 [==============================] - 27s 15ms/step - loss: 4098.2589 - root_mean_squared_error: 63.9983 - val_loss: 4332.3379 - val_root_mean_squared_error: 65.8205\n",
      "Epoch 7/30\n",
      "1784/1784 [==============================] - 27s 15ms/step - loss: 4044.7563 - root_mean_squared_error: 63.5781 - val_loss: 4286.1240 - val_root_mean_squared_error: 65.4685\n",
      "Epoch 8/30\n",
      "1784/1784 [==============================] - 25s 14ms/step - loss: 3940.0483 - root_mean_squared_error: 62.7509 - val_loss: 4244.3643 - val_root_mean_squared_error: 65.1488\n",
      "Epoch 9/30\n",
      "1784/1784 [==============================] - 25s 14ms/step - loss: 3871.7568 - root_mean_squared_error: 62.2038 - val_loss: 4206.6240 - val_root_mean_squared_error: 64.8585\n",
      "Epoch 10/30\n",
      "1784/1784 [==============================] - 25s 14ms/step - loss: 3844.7583 - root_mean_squared_error: 61.9886 - val_loss: 4377.8110 - val_root_mean_squared_error: 66.1650\n",
      "Epoch 11/30\n",
      "1784/1784 [==============================] - 26s 15ms/step - loss: 3783.2984 - root_mean_squared_error: 61.4870 - val_loss: 4565.9453 - val_root_mean_squared_error: 67.5718\n",
      "Epoch 12/30\n",
      "1784/1784 [==============================] - 27s 15ms/step - loss: 3718.4200 - root_mean_squared_error: 60.9580 - val_loss: 4190.9326 - val_root_mean_squared_error: 64.7374\n",
      "Epoch 13/30\n",
      "1784/1784 [==============================] - 28s 16ms/step - loss: 3686.8739 - root_mean_squared_error: 60.6991 - val_loss: 4118.6704 - val_root_mean_squared_error: 64.1769\n",
      "Epoch 14/30\n",
      "1784/1784 [==============================] - 28s 15ms/step - loss: 3695.5004 - root_mean_squared_error: 60.7657 - val_loss: 4231.1211 - val_root_mean_squared_error: 65.0471\n",
      "Epoch 15/30\n",
      "1784/1784 [==============================] - 27s 15ms/step - loss: 3626.3848 - root_mean_squared_error: 60.1974 - val_loss: 4092.8611 - val_root_mean_squared_error: 63.9755\n",
      "Epoch 16/30\n",
      "1784/1784 [==============================] - 26s 14ms/step - loss: 3591.7193 - root_mean_squared_error: 59.9082 - val_loss: 4105.9521 - val_root_mean_squared_error: 64.0777\n",
      "Epoch 17/30\n",
      "1784/1784 [==============================] - 25s 14ms/step - loss: 3561.8213 - root_mean_squared_error: 59.6600 - val_loss: 4268.4253 - val_root_mean_squared_error: 65.3332\n",
      "Epoch 18/30\n",
      "1784/1784 [==============================] - 26s 15ms/step - loss: 3595.3013 - root_mean_squared_error: 59.9403 - val_loss: 4271.3628 - val_root_mean_squared_error: 65.3557\n",
      "Epoch 19/30\n",
      "1784/1784 [==============================] - 25s 14ms/step - loss: 3515.5630 - root_mean_squared_error: 59.2707 - val_loss: 3982.8850 - val_root_mean_squared_error: 63.1101\n",
      "Epoch 20/30\n",
      "1784/1784 [==============================] - 26s 15ms/step - loss: 3496.1365 - root_mean_squared_error: 59.1040 - val_loss: 3915.5935 - val_root_mean_squared_error: 62.5747\n",
      "Epoch 21/30\n",
      "1784/1784 [==============================] - 27s 15ms/step - loss: 3454.6468 - root_mean_squared_error: 58.7555 - val_loss: 3977.9553 - val_root_mean_squared_error: 63.0710\n",
      "Epoch 22/30\n",
      "1784/1784 [==============================] - 25s 14ms/step - loss: 3444.1593 - root_mean_squared_error: 58.6626 - val_loss: 4094.3652 - val_root_mean_squared_error: 63.9872\n",
      "Epoch 23/30\n",
      "1784/1784 [==============================] - 26s 15ms/step - loss: 3446.1438 - root_mean_squared_error: 58.6841 - val_loss: 3943.9604 - val_root_mean_squared_error: 62.8010\n",
      "Epoch 24/30\n",
      "1784/1784 [==============================] - 25s 14ms/step - loss: 3426.0665 - root_mean_squared_error: 58.5064 - val_loss: 3994.7659 - val_root_mean_squared_error: 63.2042\n",
      "Epoch 25/30\n",
      "1784/1784 [==============================] - 25s 14ms/step - loss: 3385.3997 - root_mean_squared_error: 58.1581 - val_loss: 4110.2051 - val_root_mean_squared_error: 64.1109\n",
      "Epoch 26/30\n",
      "1784/1784 [==============================] - 25s 14ms/step - loss: 3355.7432 - root_mean_squared_error: 57.9021 - val_loss: 4173.8784 - val_root_mean_squared_error: 64.6056\n"
     ]
    },
    {
     "data": {
      "text/plain": [
       "<tensorflow.python.keras.callbacks.History at 0x2613b9853d0>"
      ]
     },
     "execution_count": 8,
     "metadata": {},
     "output_type": "execute_result"
    }
   ],
   "source": [
    "model = generate_model()\n",
    "model.fit(X_train,y_train, validation_data=(X_test,y_test), epochs = 30, shuffle=False, batch_size=512,\n",
    "          callbacks=[EarlyStopping(restore_best_weights=True, patience=6, monitor='val_root_mean_squared_error')])"
   ]
  },
  {
   "cell_type": "code",
   "execution_count": null,
   "metadata": {},
   "outputs": [],
   "source": [
    "#export model\n",
    "model.save_weights('./models/traveltime/traveltime.cpkt')"
   ]
  },
  {
   "cell_type": "markdown",
   "metadata": {},
   "source": [
    "## Model evaluation"
   ]
  },
  {
   "cell_type": "code",
   "execution_count": 9,
   "metadata": {},
   "outputs": [],
   "source": [
    "from sklearn.preprocessing import StandardScaler\n",
    "from sklearn.metrics import r2_score,mean_squared_error\n",
    "import scipy\n",
    "import random"
   ]
  },
  {
   "cell_type": "markdown",
   "metadata": {},
   "source": [
    "The assumptions\n",
    "The four key assumptions that need to be tested for a linear regression model are,\n",
    "\n",
    "Linearity: The expected value of the dependent variable is a linear function of each independent variable, holding the others fixed (note this does not restrict you to use a nonlinear transformation of the independent variables i.e. you can still model f(x) = ax² + bx + c, using both x² and x as predicting variables.<br>\n",
    "Independence: The errors (residuals of the fitted model) are independent of each other.<br>\n",
    "Homoscedasticity (constant variance): The variance of the errors is constant with respect to the predicting variables or the response.<br>\n",
    "Normality: The errors are generated from a Normal distribution (of unknown mean and variance, which can be estimated from the data). Note, this is not a necessary condition to perform linear regression unlike the top three above. However, without this assumption being satisfied, you cannot calculate the so-called ‘confidence’ or ‘prediction’ intervals easily as the well-known analytical expressions corresponding to Gaussian distribution cannot be used.<br>\n",
    "For multiple linear regression, judging multicollinearity is also critical from the statistical inference point of view. This assumption assumes minimal or no linear dependence between the predicting variables.<br>\n",
    "\n",
    "Outliers can also be an issue impacting the model quality by having a disproportionate influence on the estimated model parameters.\n",
    "Here is a visual recap,"
   ]
  },
  {
   "cell_type": "code",
   "execution_count": 89,
   "metadata": {},
   "outputs": [],
   "source": [
    "y_pred = model.predict(X_test)"
   ]
  },
  {
   "cell_type": "code",
   "execution_count": 90,
   "metadata": {},
   "outputs": [],
   "source": [
    "y_pred = y_pred.reshape(-1,)"
   ]
  },
  {
   "cell_type": "code",
   "execution_count": 91,
   "metadata": {},
   "outputs": [
    {
     "name": "stdout",
     "output_type": "stream",
     "text": [
      "test rmse      :  62.57471800610316\n",
      "test r_squared :  0.5810544743384857\n"
     ]
    }
   ],
   "source": [
    "print('test rmse      : ', np.sqrt(mean_squared_error((y_test),(y_pred))))\n",
    "print('test r_squared : ', r2_score((y_test),(y_pred)))"
   ]
  },
  {
   "cell_type": "code",
   "execution_count": 92,
   "metadata": {},
   "outputs": [
    {
     "data": {
      "text/plain": [
       "[<matplotlib.lines.Line2D at 0x26242fa6ee0>]"
      ]
     },
     "execution_count": 92,
     "metadata": {},
     "output_type": "execute_result"
    },
    {
     "data": {
      "image/png": "[encoded data removed]",
      "text/plain": [
       "<Figure size 2880x576 with 1 Axes>"
      ]
     },
     "metadata": {
      "needs_background": "light"
     },
     "output_type": "display_data"
    }
   ],
   "source": [
    "plt.figure(figsize=(40,8))\n",
    "plt.plot(np.arange(y_test[10000:10400].shape[0]), (y_test[10000:10400]))\n",
    "plt.plot(np.arange(y_test[10000:10400].shape[0]), (y_pred[10000:10400]))"
   ]
  },
  {
   "cell_type": "code",
   "execution_count": 93,
   "metadata": {},
   "outputs": [
    {
     "data": {
      "text/plain": [
       "(228276,)"
      ]
     },
     "execution_count": 93,
     "metadata": {},
     "output_type": "execute_result"
    }
   ],
   "source": [
    "error = (y_test - y_pred)\n",
    "error.shape"
   ]
  },
  {
   "cell_type": "code",
   "execution_count": 94,
   "metadata": {},
   "outputs": [],
   "source": [
    "scaler = StandardScaler()\n",
    "scaled_error = scaler.fit_transform(error.reshape((-1,1)))"
   ]
  },
  {
   "cell_type": "code",
   "execution_count": 95,
   "metadata": {},
   "outputs": [],
   "source": [
    "data_points = np.random.normal(0, 1, error.shape[0])"
   ]
  },
  {
   "cell_type": "code",
   "execution_count": 96,
   "metadata": {},
   "outputs": [],
   "source": [
    "q_arr = np.arange(101)/100\n",
    "th_quantiles = np.quantile(data_points,q_arr)\n",
    "error_quantiles = np.quantile(scaled_error,q_arr)"
   ]
  },
  {
   "cell_type": "code",
   "execution_count": 97,
   "metadata": {},
   "outputs": [
    {
     "data": {
      "image/png": "[encoded data removed]",
      "text/plain": [
       "<Figure size 1440x720 with 4 Axes>"
      ]
     },
     "metadata": {
      "needs_background": "light"
     },
     "output_type": "display_data"
    }
   ],
   "source": [
    "fig, axs = plt.subplots(2, 2, figsize = (20,10) )\n",
    "axs[0,0].set_title('scaled residuals distribution')\n",
    "#axs[0,0].hist(data_points, bins=130, density = True)\n",
    "axs[0,0].hist(scaled_error, bins=200, density = True)\n",
    "\n",
    "axs[0,1].set_title('residuals vs fitted values')\n",
    "#axs[0,1].plot(y_pred, data_points, '.')\n",
    "axs[0,1].plot(y_pred, scaled_error, '.')\n",
    "axs[0,1].plot(y_pred, np.zeros(y_pred.shape[0]), 'r-')\n",
    "\n",
    "axs[1,1].set_title('QQ plot')\n",
    "axs[1,1].plot(th_quantiles, error_quantiles, 'o')\n",
    "axs[1,1].plot(th_quantiles, th_quantiles, 'r--')\n",
    "\n",
    "plt.show()"
   ]
  },
  {
   "cell_type": "code",
   "execution_count": 98,
   "metadata": {},
   "outputs": [
    {
     "data": {
      "text/plain": [
       "(0.49848371744155884, 0.0)"
      ]
     },
     "execution_count": 98,
     "metadata": {},
     "output_type": "execute_result"
    }
   ],
   "source": [
    "#residuals doesn't follow normal distribution\n",
    "scipy.stats.shapiro(error)"
   ]
  },
  {
   "cell_type": "markdown",
   "metadata": {},
   "source": [
    "showing the histogram, we can intuitively make the hypothesis that the error distribution follows a normal distribtion <br>\n",
    "If this hypothesis is correct, we can easily extract a prediction interval using the gaussian statistics table. <br>\n",
    "Unfortenuatly, the shapiro test reject the null hypothesis. thus, we need first to estimate a kernel density for the error distribution, then we use the 5th and 95th kernel density percentiles to extract the prediction intervals. <br>\n",
    "we can also use a straitforward emperical approach by extracting the 5th and 95th percentiles emperically from the error distrivution since we are in possession of a huge amount of data. or we can apply the bootstraping prediction interval approach using montecarlo simulation."
   ]
  },
  {
   "cell_type": "code",
   "execution_count": null,
   "metadata": {},
   "outputs": [],
   "source": []
  },
  {
   "cell_type": "code",
   "execution_count": null,
   "metadata": {},
   "outputs": [],
   "source": []
  },
  {
   "cell_type": "code",
   "execution_count": null,
   "metadata": {},
   "outputs": [],
   "source": []
  },
  {
   "cell_type": "code",
   "execution_count": null,
   "metadata": {},
   "outputs": [],
   "source": []
  },
  {
   "cell_type": "code",
   "execution_count": null,
   "metadata": {},
   "outputs": [],
   "source": []
  }
 ],
 "metadata": {
  "kernelspec": {
   "display_name": "Python 3",
   "language": "python",
   "name": "python3"
  },
  "language_info": {
   "codemirror_mode": {
    "name": "ipython",
    "version": 3
   },
   "file_extension": ".py",
   "mimetype": "text/x-python",
   "name": "python",
   "nbconvert_exporter": "python",
   "pygments_lexer": "ipython3",
   "version": "3.8.8"
  }
 },
 "nbformat": 4,
 "nbformat_minor": 4
}
