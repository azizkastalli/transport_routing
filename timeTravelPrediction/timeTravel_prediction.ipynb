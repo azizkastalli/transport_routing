{
 "cells": [
  {
   "cell_type": "code",
   "execution_count": 1,
   "metadata": {},
   "outputs": [],
   "source": [
    "import pandas as pd\n",
    "import matplotlib.pyplot as plt\n",
    "import seaborn as sns\n",
    "import numpy as np\n",
    "from datetime import datetime"
   ]
  },
  {
   "cell_type": "markdown",
   "metadata": {},
   "source": [
    "## Travel time prediction"
   ]
  },
  {
   "cell_type": "code",
   "execution_count": 2,
   "metadata": {},
   "outputs": [],
   "source": [
    "data = pd.read_csv('../dataPreprocessing/data/data.csv', low_memory=False)"
   ]
  },
  {
   "cell_type": "code",
   "execution_count": 3,
   "metadata": {},
   "outputs": [
    {
     "name": "stdout",
     "output_type": "stream",
     "text": [
      "<class 'pandas.core.frame.DataFrame'>\n",
      "RangeIndex: 1636659 entries, 0 to 1636658\n",
      "Data columns (total 23 columns):\n",
      " #   Column             Non-Null Count    Dtype  \n",
      "---  ------             --------------    -----  \n",
      " 0   vehicle_id         1636659 non-null  int64  \n",
      " 1   line_id            1636659 non-null  int64  \n",
      " 2   datetime           1636659 non-null  object \n",
      " 3   station_id         1636659 non-null  int64  \n",
      " 4   vehicle_type       1636659 non-null  float64\n",
      " 5   sequence_id        1636659 non-null  object \n",
      " 6   order              1636659 non-null  int64  \n",
      " 7   line_label         1636659 non-null  object \n",
      " 8   datetime_diff      1636659 non-null  float64\n",
      " 9   outlier            1636659 non-null  int64  \n",
      " 10  hour               1636659 non-null  int64  \n",
      " 11  quarter            1636659 non-null  int64  \n",
      " 12  weekday            1636659 non-null  int64  \n",
      " 13  service_class      1636659 non-null  int64  \n",
      " 14  Temperature        1427264 non-null  float64\n",
      " 15  Precipitation      1427639 non-null  float64\n",
      " 16  Wind Speed         1427264 non-null  float64\n",
      " 17  Visibility         1426615 non-null  float64\n",
      " 18  Cloud Cover        1426921 non-null  float64\n",
      " 19  Relative Humidity  1427264 non-null  float64\n",
      " 20  Conditions         1427639 non-null  float64\n",
      " 21  distance_diff      1636659 non-null  int64  \n",
      " 22  distance_traveled  1636659 non-null  int64  \n",
      "dtypes: float64(9), int64(11), object(3)\n",
      "memory usage: 287.2+ MB\n"
     ]
    }
   ],
   "source": [
    "data.info()"
   ]
  },
  {
   "cell_type": "code",
   "execution_count": 4,
   "metadata": {},
   "outputs": [],
   "source": [
    "#split data\n",
    "data.datetime = data.datetime.apply(lambda x : datetime.strptime(x, '%Y-%m-%d %H'))\n",
    "data = data.sort_values(['datetime','sequence_id'])"
   ]
  },
  {
   "cell_type": "code",
   "execution_count": 5,
   "metadata": {},
   "outputs": [
    {
     "data": {
      "text/plain": [
       "(1636659, 23)"
      ]
     },
     "execution_count": 5,
     "metadata": {},
     "output_type": "execute_result"
    }
   ],
   "source": [
    "data.shape"
   ]
  },
  {
   "cell_type": "code",
   "execution_count": 6,
   "metadata": {},
   "outputs": [],
   "source": [
    "#fillna \n",
    "data.fillna(-1, inplace=True)"
   ]
  },
  {
   "cell_type": "code",
   "execution_count": 7,
   "metadata": {},
   "outputs": [],
   "source": [
    "#train test split\n",
    "test_seq_count = round(data.sequence_id.nunique() * 0.3)\n",
    "test_sequences = pd.Series(data.sequence_id.unique()).tail(test_seq_count).values"
   ]
  },
  {
   "cell_type": "code",
   "execution_count": 8,
   "metadata": {},
   "outputs": [],
   "source": [
    "train = data[~data.sequence_id.isin(test_sequences)]\n",
    "test  = data[data.sequence_id.isin(test_sequences)]"
   ]
  },
  {
   "cell_type": "code",
   "execution_count": 9,
   "metadata": {},
   "outputs": [],
   "source": [
    "X_train = data[~data.sequence_id.isin(test_sequences)].drop(['datetime_diff', 'outlier', 'datetime'], axis=1)\n",
    "y_train  = data[~data.sequence_id.isin(test_sequences)].datetime_diff\n",
    "\n",
    "X_test  = data[data.sequence_id.isin(test_sequences)].drop(['datetime_diff', 'outlier', 'datetime'], axis=1)\n",
    "y_test  = data[data.sequence_id.isin(test_sequences)].datetime_diff"
   ]
  },
  {
   "cell_type": "code",
   "execution_count": null,
   "metadata": {},
   "outputs": [],
   "source": [
    "plt.figure(figsize=(15,5))\n",
    "X_train.groupby('line_label').sequence_id.count().plot(kind = 'bar')\n",
    "plt.plot(np.arange(31), np.ones(31)*1000, 'r--')\n",
    "plt.title('train data')\n",
    "plt.show()"
   ]
  },
  {
   "cell_type": "code",
   "execution_count": null,
   "metadata": {},
   "outputs": [],
   "source": [
    "plt.figure(figsize=(15,5))\n",
    "X_test.groupby('line_label').sequence_id.count().plot(kind = 'bar')\n",
    "plt.plot(np.arange(31), np.ones(31)*1000, 'r--')\n",
    "plt.title('test data')\n",
    "plt.show()"
   ]
  },
  {
   "cell_type": "code",
   "execution_count": 37,
   "metadata": {},
   "outputs": [
    {
     "name": "stderr",
     "output_type": "stream",
     "text": [
      "C:\\Users\\Aziz\\Anaconda3\\envs\\pytorch\\lib\\site-packages\\sklearn\\utils\\validation.py:63: DataConversionWarning: A column-vector y was passed when a 1d array was expected. Please change the shape of y to (n_samples, ), for example using ravel().\n",
      "  return f(*args, **kwargs)\n"
     ]
    }
   ],
   "source": [
    "#scale data\n",
    "#min max scaler\n",
    "from pickle import dump\n",
    "from sklearn.preprocessing import MinMaxScaler, LabelEncoder\n",
    "\n",
    "scaler = MinMaxScaler()\n",
    "encoder = LabelEncoder()\n",
    "\n",
    "encoder.fit(data[['line_label']])\n",
    "X_train.line_label = encoder.transform(X_train.line_label)\n",
    "X_test.line_label  = encoder.transform(X_test.line_label)"
   ]
  },
  {
   "cell_type": "code",
   "execution_count": 38,
   "metadata": {},
   "outputs": [],
   "source": [
    "X_train = X_train.drop('sequence_id', axis=1).values\n",
    "X_test = X_test.drop('sequence_id', axis=1).values"
   ]
  },
  {
   "cell_type": "code",
   "execution_count": 39,
   "metadata": {},
   "outputs": [],
   "source": [
    "scaler.fit(X_train)\n",
    "X_train = scaler.transform(X_train)\n",
    "X_test  = scaler.transform(X_test)"
   ]
  },
  {
   "cell_type": "code",
   "execution_count": 40,
   "metadata": {},
   "outputs": [
    {
     "data": {
      "text/plain": [
       "(919349, 19)"
      ]
     },
     "execution_count": 40,
     "metadata": {},
     "output_type": "execute_result"
    }
   ],
   "source": [
    "X_train.shape"
   ]
  },
  {
   "cell_type": "code",
   "execution_count": 41,
   "metadata": {},
   "outputs": [
    {
     "data": {
      "text/plain": [
       "(717310, 19)"
      ]
     },
     "execution_count": 41,
     "metadata": {},
     "output_type": "execute_result"
    }
   ],
   "source": [
    "X_test.shape"
   ]
  },
  {
   "cell_type": "code",
   "execution_count": 42,
   "metadata": {},
   "outputs": [],
   "source": [
    "y_train = y_train.values.reshape(-1,1)\n",
    "y_test  = y_test.values.reshape(-1,1)"
   ]
  },
  {
   "cell_type": "code",
   "execution_count": 43,
   "metadata": {},
   "outputs": [],
   "source": [
    "X_train = X_train.reshape(-1,1,19)\n",
    "X_test = X_test.reshape(-1,1,19)"
   ]
  },
  {
   "cell_type": "code",
   "execution_count": 44,
   "metadata": {},
   "outputs": [
    {
     "data": {
      "text/plain": [
       "(919349, 1, 19)"
      ]
     },
     "execution_count": 44,
     "metadata": {},
     "output_type": "execute_result"
    }
   ],
   "source": [
    "X_train.shape"
   ]
  },
  {
   "cell_type": "code",
   "execution_count": 45,
   "metadata": {},
   "outputs": [
    {
     "data": {
      "text/plain": [
       "(717310, 1, 19)"
      ]
     },
     "execution_count": 45,
     "metadata": {},
     "output_type": "execute_result"
    }
   ],
   "source": [
    "X_test.shape"
   ]
  },
  {
   "cell_type": "code",
   "execution_count": 46,
   "metadata": {},
   "outputs": [
    {
     "data": {
      "text/plain": [
       "(919349, 1)"
      ]
     },
     "execution_count": 46,
     "metadata": {},
     "output_type": "execute_result"
    }
   ],
   "source": [
    "y_train.shape"
   ]
  },
  {
   "cell_type": "code",
   "execution_count": 47,
   "metadata": {},
   "outputs": [
    {
     "data": {
      "text/plain": [
       "(717310, 1)"
      ]
     },
     "execution_count": 47,
     "metadata": {},
     "output_type": "execute_result"
    }
   ],
   "source": [
    "y_test.shape"
   ]
  },
  {
   "cell_type": "markdown",
   "metadata": {},
   "source": [
    "## LSTM one to one"
   ]
  },
  {
   "cell_type": "code",
   "execution_count": 9,
   "metadata": {},
   "outputs": [],
   "source": [
    "import tensorflow as tf\n",
    "from tensorflow.keras import Sequential\n",
    "from tensorflow.keras.layers import Dense, Input, RNN, GRU, LSTM, Dropout\n",
    "from tensorflow.keras.losses import MAE, MeanSquaredError\n",
    "from tensorflow.keras.metrics import RootMeanSquaredError\n",
    "from tensorflow.keras.callbacks import EarlyStopping\n",
    "from tensorflow.keras.optimizers import Adam, RMSprop"
   ]
  },
  {
   "cell_type": "code",
   "execution_count": 10,
   "metadata": {},
   "outputs": [
    {
     "name": "stdout",
     "output_type": "stream",
     "text": [
      "WARNING:tensorflow:Layer lstm will not use cuDNN kernel since it doesn't meet the cuDNN kernel criteria. It will use generic GPU kernel as fallback when running on GPU\n",
      "WARNING:tensorflow:Layer lstm_1 will not use cuDNN kernel since it doesn't meet the cuDNN kernel criteria. It will use generic GPU kernel as fallback when running on GPU\n",
      "Model: \"sequential\"\n",
      "_________________________________________________________________\n",
      "Layer (type)                 Output Shape              Param #   \n",
      "=================================================================\n",
      "lstm (LSTM)                  (None, 1, 128)            75776     \n",
      "_________________________________________________________________\n",
      "lstm_1 (LSTM)                (None, 128)               131584    \n",
      "_________________________________________________________________\n",
      "dropout (Dropout)            (None, 128)               0         \n",
      "_________________________________________________________________\n",
      "dense (Dense)                (None, 128)               16512     \n",
      "_________________________________________________________________\n",
      "dropout_1 (Dropout)          (None, 128)               0         \n",
      "_________________________________________________________________\n",
      "dense_1 (Dense)              (None, 64)                8256      \n",
      "_________________________________________________________________\n",
      "dense_2 (Dense)              (None, 1)                 65        \n",
      "=================================================================\n",
      "Total params: 232,193\n",
      "Trainable params: 232,193\n",
      "Non-trainable params: 0\n",
      "_________________________________________________________________\n"
     ]
    }
   ],
   "source": [
    "model = Sequential()\n",
    "model.add(LSTM(units=128,  activation='relu', input_shape=(1,19),return_sequences = True))\n",
    "model.add(LSTM(units=128,  activation='relu', input_shape=(1,19),return_sequences = False))\n",
    "model.add(Dropout(0.2))\n",
    "model.add(Dense(128, activation='relu'))\n",
    "model.add(Dropout(0.2))\n",
    "model.add(Dense(64, activation='relu'))\n",
    "model.add(Dense(1, activation='relu'))\n",
    "\n",
    "model.summary()"
   ]
  },
  {
   "cell_type": "code",
   "execution_count": 11,
   "metadata": {},
   "outputs": [],
   "source": [
    "optimizer = Adam(lr=0.001)\n",
    "loss = MeanSquaredError()\n",
    "metric = RootMeanSquaredError()\n",
    "model.compile(optimizer=optimizer, loss=loss, metrics=metric)"
   ]
  },
  {
   "cell_type": "code",
   "execution_count": 57,
   "metadata": {},
   "outputs": [
    {
     "name": "stdout",
     "output_type": "stream",
     "text": [
      "Epoch 1/10\n",
      "7415/7415 [==============================] - 47s 6ms/step - loss: 10816.6238 - root_mean_squared_error: 103.2917\n",
      "Epoch 2/10\n",
      "7415/7415 [==============================] - 45s 6ms/step - loss: 7702.2246 - root_mean_squared_error: 87.6832\n",
      "Epoch 3/10\n",
      "7415/7415 [==============================] - 44s 6ms/step - loss: 7225.0720 - root_mean_squared_error: 84.8554\n",
      "Epoch 4/10\n",
      "7415/7415 [==============================] - 44s 6ms/step - loss: 6189.7251 - root_mean_squared_error: 78.6193\n",
      "Epoch 5/10\n",
      "7415/7415 [==============================] - 45s 6ms/step - loss: 5854.1906 - root_mean_squared_error: 76.4765\n",
      "Epoch 6/10\n",
      "7415/7415 [==============================] - 46s 6ms/step - loss: 5619.8770 - root_mean_squared_error: 74.9404\n",
      "Epoch 7/10\n",
      "7415/7415 [==============================] - 45s 6ms/step - loss: 5480.0074 - root_mean_squared_error: 74.0053\n",
      "Epoch 8/10\n",
      "7415/7415 [==============================] - 45s 6ms/step - loss: 5367.7966 - root_mean_squared_error: 73.2435\n",
      "Epoch 9/10\n",
      "7415/7415 [==============================] - 44s 6ms/step - loss: 5299.7023 - root_mean_squared_error: 72.7792\n",
      "Epoch 10/10\n",
      "7415/7415 [==============================] - 46s 6ms/step - loss: 5211.8133 - root_mean_squared_error: 72.1764\n"
     ]
    },
    {
     "data": {
      "text/plain": [
       "<tensorflow.python.keras.callbacks.History at 0x151059bfcc8>"
      ]
     },
     "execution_count": 57,
     "metadata": {},
     "output_type": "execute_result"
    }
   ],
   "source": [
    "model.fit(X_train, y_train, epochs=10, batch_size=124, shuffle=False,\n",
    "         callbacks=[EarlyStopping(restore_best_weights=True, patience=3, monitor='root_mean_squared_error')])"
   ]
  },
  {
   "cell_type": "code",
   "execution_count": 58,
   "metadata": {},
   "outputs": [],
   "source": [
    "y_pred = model.predict(X_test)\n",
    "#y_pred = y_pred.reshape(-1,)\n",
    "#y_test = y_test.datetime_diff.values"
   ]
  },
  {
   "cell_type": "code",
   "execution_count": 36,
   "metadata": {},
   "outputs": [],
   "source": [
    "#y_pred_inv = y_scaler.inverse_transform(y_pred.reshape(-1,1))\n",
    "#y_test_inv = y_scaler.inverse_transform(y_test.reshape(-1,1))"
   ]
  },
  {
   "cell_type": "code",
   "execution_count": 59,
   "metadata": {},
   "outputs": [
    {
     "name": "stdout",
     "output_type": "stream",
     "text": [
      "test rsquared :  0.5174144872209843\n",
      "test rmse     :  75.40403326548456\n"
     ]
    }
   ],
   "source": [
    "from sklearn.metrics import r2_score,mean_squared_error\n",
    "\n",
    "print('test rsquared : ', r2_score(y_test,y_pred))\n",
    "print('test rmse     : ', np.sqrt(mean_squared_error(y_test,y_pred)))"
   ]
  },
  {
   "cell_type": "code",
   "execution_count": 60,
   "metadata": {},
   "outputs": [
    {
     "data": {
      "text/plain": [
       "[<matplotlib.lines.Line2D at 0x1510156cd48>]"
      ]
     },
     "execution_count": 60,
     "metadata": {},
     "output_type": "execute_result"
    },
    {
     "data": {
      "image/png": "[encoded data removed]",
      "text/plain": [
       "<Figure size 2880x576 with 1 Axes>"
      ]
     },
     "metadata": {
      "needs_background": "light"
     },
     "output_type": "display_data"
    }
   ],
   "source": [
    "plt.figure(figsize=(40,8))\n",
    "plt.plot(np.arange(y_test[10000:10400].shape[0]), y_test[10000:10400])\n",
    "plt.plot(np.arange(y_test[10000:10400].shape[0]), y_pred[10000:10400])"
   ]
  },
  {
   "cell_type": "code",
   "execution_count": 62,
   "metadata": {},
   "outputs": [],
   "source": [
    "#export model\n",
    "model.save_weights('checkpoint/one_to_one.cpkt')"
   ]
  },
  {
   "cell_type": "markdown",
   "metadata": {},
   "source": [
    "## LSTM Many To One : 3 time step window"
   ]
  },
  {
   "cell_type": "code",
   "execution_count": 12,
   "metadata": {},
   "outputs": [
    {
     "data": {
      "text/plain": [
       "Index(['vehicle_id', 'line_id', 'datetime', 'station_id', 'vehicle_type',\n",
       "       'sequence_id', 'order', 'line_label', 'datetime_diff', 'outlier',\n",
       "       'hour', 'quarter', 'weekday', 'service_class', 'Temperature',\n",
       "       'Precipitation', 'Wind Speed', 'Visibility', 'Cloud Cover',\n",
       "       'Relative Humidity', 'Conditions', 'distance_diff',\n",
       "       'distance_traveled'],\n",
       "      dtype='object')"
      ]
     },
     "execution_count": 12,
     "metadata": {},
     "output_type": "execute_result"
    }
   ],
   "source": [
    "train.columns"
   ]
  },
  {
   "cell_type": "code",
   "execution_count": 13,
   "metadata": {},
   "outputs": [
    {
     "name": "stderr",
     "output_type": "stream",
     "text": [
      "C:\\Users\\Aziz\\Anaconda3\\envs\\transtu\\lib\\site-packages\\sklearn\\utils\\validation.py:63: DataConversionWarning: A column-vector y was passed when a 1d array was expected. Please change the shape of y to (n_samples, ), for example using ravel().\n",
      "  return f(*args, **kwargs)\n",
      "C:\\Users\\Aziz\\Anaconda3\\envs\\transtu\\lib\\site-packages\\pandas\\core\\generic.py:5494: SettingWithCopyWarning: \n",
      "A value is trying to be set on a copy of a slice from a DataFrame.\n",
      "Try using .loc[row_indexer,col_indexer] = value instead\n",
      "\n",
      "See the caveats in the documentation: https://pandas.pydata.org/pandas-docs/stable/user_guide/indexing.html#returning-a-view-versus-a-copy\n",
      "  self[name] = value\n"
     ]
    }
   ],
   "source": [
    "from sklearn.preprocessing import MinMaxScaler, LabelEncoder\n",
    "\n",
    "encoder = LabelEncoder()\n",
    "\n",
    "encoder.fit(data[['line_label']])\n",
    "train.line_label = encoder.transform(train.line_label)\n",
    "test.line_label  = encoder.transform(test.line_label)"
   ]
  },
  {
   "cell_type": "code",
   "execution_count": 14,
   "metadata": {},
   "outputs": [
    {
     "name": "stderr",
     "output_type": "stream",
     "text": [
      "C:\\Users\\Aziz\\Anaconda3\\envs\\transtu\\lib\\site-packages\\pandas\\core\\frame.py:4308: SettingWithCopyWarning: \n",
      "A value is trying to be set on a copy of a slice from a DataFrame\n",
      "\n",
      "See the caveats in the documentation: https://pandas.pydata.org/pandas-docs/stable/user_guide/indexing.html#returning-a-view-versus-a-copy\n",
      "  return super().drop(\n"
     ]
    }
   ],
   "source": [
    "train.drop(['outlier','datetime'], axis=1, inplace=True)\n",
    "test.drop(['outlier','datetime'], axis=1, inplace=True)"
   ]
  },
  {
   "cell_type": "code",
   "execution_count": 15,
   "metadata": {},
   "outputs": [],
   "source": [
    "scaler = MinMaxScaler()\n",
    "scaler_notarget = MinMaxScaler()\n",
    "\n",
    "scaler.fit(train.drop(['sequence_id'], axis=1) )\n",
    "scaler_notarget.fit(train.drop(['sequence_id','datetime_diff'], axis=1) );"
   ]
  },
  {
   "cell_type": "code",
   "execution_count": 16,
   "metadata": {},
   "outputs": [],
   "source": [
    "train_input_X1 = scaler.transform(train.groupby('sequence_id',dropna=False).shift(2).fillna(-1))\n",
    "train_input_X2 = scaler.transform(train.groupby('sequence_id',dropna=False).shift(1).fillna(-1))\n",
    "train_input_X3 = scaler_notarget.transform(train.drop(['sequence_id', 'datetime_diff'], axis=1).fillna(-1))"
   ]
  },
  {
   "cell_type": "code",
   "execution_count": 17,
   "metadata": {},
   "outputs": [],
   "source": [
    "test_input_X1 = scaler.transform(test.groupby('sequence_id',dropna=False).shift(2).fillna(-1))\n",
    "test_input_X2 = scaler.transform(test.groupby('sequence_id',dropna=False).shift(1).fillna(-1))\n",
    "test_input_X3 = scaler_notarget.transform(test.drop(['sequence_id', 'datetime_diff'], axis=1).fillna(-1))"
   ]
  },
  {
   "cell_type": "code",
   "execution_count": 18,
   "metadata": {},
   "outputs": [
    {
     "data": {
      "text/plain": [
       "(919349, 1)"
      ]
     },
     "execution_count": 18,
     "metadata": {},
     "output_type": "execute_result"
    }
   ],
   "source": [
    "y_train = train[['datetime_diff']].values\n",
    "y_train.shape"
   ]
  },
  {
   "cell_type": "code",
   "execution_count": 19,
   "metadata": {},
   "outputs": [
    {
     "data": {
      "text/plain": [
       "(717310, 1)"
      ]
     },
     "execution_count": 19,
     "metadata": {},
     "output_type": "execute_result"
    }
   ],
   "source": [
    "y_test = test[['datetime_diff']].values\n",
    "y_test.shape"
   ]
  },
  {
   "cell_type": "code",
   "execution_count": 20,
   "metadata": {},
   "outputs": [
    {
     "data": {
      "text/plain": [
       "(919349, 1, 20)"
      ]
     },
     "execution_count": 20,
     "metadata": {},
     "output_type": "execute_result"
    }
   ],
   "source": [
    "#one time step\n",
    "train_input_X1 = train_input_X1.reshape(-1,1,20)\n",
    "train_input_X1.shape"
   ]
  },
  {
   "cell_type": "code",
   "execution_count": 21,
   "metadata": {},
   "outputs": [
    {
     "data": {
      "text/plain": [
       "(919349, 1, 20)"
      ]
     },
     "execution_count": 21,
     "metadata": {},
     "output_type": "execute_result"
    }
   ],
   "source": [
    "#two time steps\n",
    "train_input_X2 = train_input_X2.reshape(-1,1,20)\n",
    "train_input_X2.shape"
   ]
  },
  {
   "cell_type": "code",
   "execution_count": 22,
   "metadata": {},
   "outputs": [
    {
     "data": {
      "text/plain": [
       "(919349, 1, 19)"
      ]
     },
     "execution_count": 22,
     "metadata": {},
     "output_type": "execute_result"
    }
   ],
   "source": [
    "#three time steps\n",
    "train_input_X3 = train_input_X3.reshape(-1,1,19)\n",
    "train_input_X3.shape"
   ]
  },
  {
   "cell_type": "code",
   "execution_count": 23,
   "metadata": {},
   "outputs": [
    {
     "data": {
      "text/plain": [
       "(717310, 1, 20)"
      ]
     },
     "execution_count": 23,
     "metadata": {},
     "output_type": "execute_result"
    }
   ],
   "source": [
    "#one time step\n",
    "test_input_X1 = test_input_X1.reshape(-1,1,20)\n",
    "test_input_X1.shape"
   ]
  },
  {
   "cell_type": "code",
   "execution_count": 24,
   "metadata": {},
   "outputs": [
    {
     "data": {
      "text/plain": [
       "(717310, 1, 20)"
      ]
     },
     "execution_count": 24,
     "metadata": {},
     "output_type": "execute_result"
    }
   ],
   "source": [
    "test_input_X2 = test_input_X2.reshape(-1,1,20)\n",
    "test_input_X2.shape"
   ]
  },
  {
   "cell_type": "code",
   "execution_count": 25,
   "metadata": {},
   "outputs": [
    {
     "data": {
      "text/plain": [
       "(717310, 1, 19)"
      ]
     },
     "execution_count": 25,
     "metadata": {},
     "output_type": "execute_result"
    }
   ],
   "source": [
    "test_input_X3 = test_input_X3.reshape(-1,1,19)\n",
    "test_input_X3.shape"
   ]
  },
  {
   "cell_type": "code",
   "execution_count": 26,
   "metadata": {},
   "outputs": [],
   "source": [
    "import tensorflow as tf\n",
    "from tensorflow.data import Dataset\n",
    "from tensorflow.keras import Sequential, Model\n",
    "from tensorflow.keras.layers import Dense, Input, RNN, GRU, LSTM, Dropout, concatenate, BatchNormalization, Multiply\n",
    "from tensorflow.keras.losses import MAE, MeanSquaredError\n",
    "from tensorflow.keras.metrics import RootMeanSquaredError\n",
    "from tensorflow.keras.callbacks import EarlyStopping\n",
    "from tensorflow.keras.optimizers import Adam, RMSprop"
   ]
  },
  {
   "cell_type": "code",
   "execution_count": 68,
   "metadata": {},
   "outputs": [],
   "source": [
    "#model architecture keras API\n",
    "\n",
    "#three time step inputs\n",
    "time_step1 = Input(shape = (1,20))\n",
    "time_step2 = Input(shape = (1,20))\n",
    "time_step3 = Input(shape = (1,19))\n",
    "\n",
    "#hidden standraizers layers\n",
    "dense_ts1 = Dense(19, activation = 'relu')(time_step1)\n",
    "dense_ts2 = Dense(19, activation = 'relu')(time_step2)\n",
    "dense_ts3 = Dense(19, activation = 'relu')(time_step3)\n",
    "\n",
    "#concatenate time step features in order\n",
    "x  = concatenate([dense_ts1,dense_ts2,dense_ts3], axis = 1)\n",
    "\n",
    "#Lstm / Gru / Rnn\n",
    "x = LSTM(units = 124, activation='tanh' , input_shape = (-1, 3, 19), return_sequences=False)(x)\n",
    "\n",
    "#Dense layers\n",
    "x = Dense(256, activation='relu')(x)\n",
    "x = Dropout(0.2)(x)\n",
    "x = Dense(64, activation='relu')(x)\n",
    "out = Dense(1, activation='relu')(x)"
   ]
  },
  {
   "cell_type": "code",
   "execution_count": 69,
   "metadata": {},
   "outputs": [
    {
     "name": "stdout",
     "output_type": "stream",
     "text": [
      "Model: \"model_6\"\n",
      "__________________________________________________________________________________________________\n",
      "Layer (type)                    Output Shape         Param #     Connected to                     \n",
      "==================================================================================================\n",
      "input_25 (InputLayer)           [(None, 1, 20)]      0                                            \n",
      "__________________________________________________________________________________________________\n",
      "input_26 (InputLayer)           [(None, 1, 20)]      0                                            \n",
      "__________________________________________________________________________________________________\n",
      "input_27 (InputLayer)           [(None, 1, 19)]      0                                            \n",
      "__________________________________________________________________________________________________\n",
      "dense_49 (Dense)                (None, 1, 19)        399         input_25[0][0]                   \n",
      "__________________________________________________________________________________________________\n",
      "dense_50 (Dense)                (None, 1, 19)        399         input_26[0][0]                   \n",
      "__________________________________________________________________________________________________\n",
      "dense_51 (Dense)                (None, 1, 19)        380         input_27[0][0]                   \n",
      "__________________________________________________________________________________________________\n",
      "concatenate_8 (Concatenate)     (None, 3, 19)        0           dense_49[0][0]                   \n",
      "                                                                 dense_50[0][0]                   \n",
      "                                                                 dense_51[0][0]                   \n",
      "__________________________________________________________________________________________________\n",
      "lstm_13 (LSTM)                  (None, 124)          71424       concatenate_8[0][0]              \n",
      "__________________________________________________________________________________________________\n",
      "dense_52 (Dense)                (None, 256)          32000       lstm_13[0][0]                    \n",
      "__________________________________________________________________________________________________\n",
      "dropout_10 (Dropout)            (None, 256)          0           dense_52[0][0]                   \n",
      "__________________________________________________________________________________________________\n",
      "dense_53 (Dense)                (None, 64)           16448       dropout_10[0][0]                 \n",
      "__________________________________________________________________________________________________\n",
      "dense_54 (Dense)                (None, 1)            65          dense_53[0][0]                   \n",
      "==================================================================================================\n",
      "Total params: 121,115\n",
      "Trainable params: 121,115\n",
      "Non-trainable params: 0\n",
      "__________________________________________________________________________________________________\n"
     ]
    }
   ],
   "source": [
    "model = Model([time_step1, time_step2,time_step3], out)\n",
    "model.summary()"
   ]
  },
  {
   "cell_type": "code",
   "execution_count": 70,
   "metadata": {},
   "outputs": [],
   "source": [
    "optimizer = Adam(lr=0.002)\n",
    "loss = MeanSquaredError()\n",
    "metric = RootMeanSquaredError()\n",
    "model.compile(optimizer=optimizer, loss=loss, metrics=metric)"
   ]
  },
  {
   "cell_type": "code",
   "execution_count": 71,
   "metadata": {},
   "outputs": [],
   "source": [
    "#tensorflow data pipeline \n",
    "dataset = Dataset.from_tensor_slices(((train_input_X1, train_input_X2, train_input_X3), y_train))\n",
    "dataset = dataset.batch(256)\n",
    "train_data = dataset.prefetch(tf.data.experimental.AUTOTUNE)\n",
    "\n",
    "dataset = Dataset.from_tensor_slices(((test_input_X1, test_input_X2, test_input_X3), y_test))\n",
    "dataset = dataset.batch(256)\n",
    "test_data = dataset.prefetch(tf.data.experimental.AUTOTUNE)"
   ]
  },
  {
   "cell_type": "code",
   "execution_count": null,
   "metadata": {},
   "outputs": [
    {
     "name": "stdout",
     "output_type": "stream",
     "text": [
      "Epoch 1/20\n",
      "3592/3592 [==============================] - 61s 13ms/step - loss: 10967.4785 - root_mean_squared_error: 104.2455 - val_loss: 9195.5635 - val_root_mean_squared_error: 95.8935\n",
      "Epoch 2/20\n",
      "3592/3592 [==============================] - 46s 13ms/step - loss: 8315.7509 - root_mean_squared_error: 91.1000 - val_loss: 8316.3818 - val_root_mean_squared_error: 91.1942\n",
      "Epoch 3/20\n",
      "3592/3592 [==============================] - 59s 16ms/step - loss: 7314.4773 - root_mean_squared_error: 85.4539 - val_loss: 7227.8276 - val_root_mean_squared_error: 85.0166\n",
      "Epoch 4/20\n",
      "3592/3592 [==============================] - 57s 16ms/step - loss: 6521.9650 - root_mean_squared_error: 80.7154 - val_loss: 6647.6123 - val_root_mean_squared_error: 81.5329\n",
      "Epoch 5/20\n",
      "3592/3592 [==============================] - 57s 16ms/step - loss: 5866.5994 - root_mean_squared_error: 76.5632 - val_loss: 6434.5610 - val_root_mean_squared_error: 80.2157\n",
      "Epoch 6/20\n",
      "3592/3592 [==============================] - 59s 16ms/step - loss: 5421.6698 - root_mean_squared_error: 73.6074 - val_loss: 5746.9014 - val_root_mean_squared_error: 75.8083\n",
      "Epoch 7/20\n",
      "3592/3592 [==============================] - 58s 16ms/step - loss: 5134.5995 - root_mean_squared_error: 71.6356 - val_loss: 5367.2632 - val_root_mean_squared_error: 73.2616\n",
      "Epoch 8/20\n",
      "3592/3592 [==============================] - 59s 16ms/step - loss: 4958.8126 - root_mean_squared_error: 70.3981 - val_loss: 5212.7417 - val_root_mean_squared_error: 72.1993\n",
      "Epoch 9/20\n",
      "3592/3592 [==============================] - 58s 16ms/step - loss: 4801.6898 - root_mean_squared_error: 69.2753 - val_loss: 4957.9712 - val_root_mean_squared_error: 70.4129\n",
      "Epoch 10/20\n",
      "3592/3592 [==============================] - 58s 16ms/step - loss: 4706.8232 - root_mean_squared_error: 68.5890 - val_loss: 4835.6118 - val_root_mean_squared_error: 69.5386\n",
      "Epoch 11/20\n",
      "3592/3592 [==============================] - 63s 17ms/step - loss: 4634.6173 - root_mean_squared_error: 68.0612 - val_loss: 4715.2349 - val_root_mean_squared_error: 68.6676\n",
      "Epoch 12/20\n",
      "3592/3592 [==============================] - 61s 17ms/step - loss: 4569.8035 - root_mean_squared_error: 67.5837 - val_loss: 4834.1167 - val_root_mean_squared_error: 69.5278\n",
      "Epoch 13/20\n",
      "2367/3592 [==================>...........] - ETA: 13s - loss: 4569.6099 - root_mean_squared_error: 67.5779"
     ]
    }
   ],
   "source": [
    "model.fit(train_data, validation_data = test_data, epochs=20 , shuffle=False , workers=4, use_multiprocessing=True,\n",
    "          callbacks = EarlyStopping(monitor = 'val_root_mean_squared_error', patience = 3, restore_best_weights=True)  )"
   ]
  },
  {
   "cell_type": "code",
   "execution_count": null,
   "metadata": {},
   "outputs": [],
   "source": [
    "loss, rmse = model.evaluate(test_data)\n",
    "print('test loss : {:.2f}    test rmse : {:.2f} '.format(loss, rmse))"
   ]
  },
  {
   "cell_type": "code",
   "execution_count": 49,
   "metadata": {},
   "outputs": [],
   "source": [
    "#export model\n",
    "model.save_weights('./checkpoint/Many_to_one.cpkt')"
   ]
  },
  {
   "cell_type": "markdown",
   "metadata": {},
   "source": [
    "### Load Model"
   ]
  },
  {
   "cell_type": "code",
   "execution_count": 31,
   "metadata": {},
   "outputs": [
    {
     "data": {
      "text/plain": [
       "<tensorflow.python.training.tracking.util.CheckpointLoadStatus at 0x2fca3de8ee0>"
      ]
     },
     "execution_count": 31,
     "metadata": {},
     "output_type": "execute_result"
    }
   ],
   "source": [
    "model.load_weights('./checkpoint/Many_to_one.cpkt')"
   ]
  },
  {
   "cell_type": "code",
   "execution_count": null,
   "metadata": {},
   "outputs": [],
   "source": []
  },
  {
   "cell_type": "markdown",
   "metadata": {},
   "source": [
    "### Confidence and prediction Intervals : "
   ]
  },
  {
   "cell_type": "code",
   "execution_count": null,
   "metadata": {},
   "outputs": [],
   "source": []
  },
  {
   "cell_type": "code",
   "execution_count": null,
   "metadata": {},
   "outputs": [],
   "source": []
  },
  {
   "cell_type": "code",
   "execution_count": null,
   "metadata": {},
   "outputs": [],
   "source": []
  },
  {
   "cell_type": "code",
   "execution_count": null,
   "metadata": {},
   "outputs": [],
   "source": []
  }
 ],
 "metadata": {
  "kernelspec": {
   "display_name": "Python 3",
   "language": "python",
   "name": "python3"
  },
  "language_info": {
   "codemirror_mode": {
    "name": "ipython",
    "version": 3
   },
   "file_extension": ".py",
   "mimetype": "text/x-python",
   "name": "python",
   "nbconvert_exporter": "python",
   "pygments_lexer": "ipython3",
   "version": "3.8.0"
  }
 },
 "nbformat": 4,
 "nbformat_minor": 4
}
