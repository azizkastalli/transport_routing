{
 "cells": [
  {
   "cell_type": "code",
   "execution_count": 1,
   "metadata": {},
   "outputs": [],
   "source": [
    "import networkx as nx\n",
    "import pandas as pd\n",
    "import numpy as np\n",
    "import matplotlib.pyplot as plt\n",
    "import seaborn as sns\n",
    "from datetime import datetime, timedelta, time\n",
    "from DynTM import DynTM"
   ]
  },
  {
   "cell_type": "markdown",
   "metadata": {},
   "source": [
    "## TimeTable preprocessing"
   ]
  },
  {
   "cell_type": "code",
   "execution_count": 2,
   "metadata": {},
   "outputs": [],
   "source": [
    "timetable = pd.read_csv('data/timetable.csv')"
   ]
  },
  {
   "cell_type": "code",
   "execution_count": 3,
   "metadata": {},
   "outputs": [
    {
     "name": "stdout",
     "output_type": "stream",
     "text": [
      "<class 'pandas.core.frame.DataFrame'>\n",
      "RangeIndex: 29912 entries, 0 to 29911\n",
      "Data columns (total 12 columns):\n",
      " #   Column         Non-Null Count  Dtype  \n",
      "---  ------         --------------  -----  \n",
      " 0   Unnamed: 0     29912 non-null  int64  \n",
      " 1   line_label     29912 non-null  object \n",
      " 2   horaires       29912 non-null  object \n",
      " 3   tag            29912 non-null  float64\n",
      " 4   line_id        29912 non-null  int64  \n",
      " 5   order          29912 non-null  int64  \n",
      " 6   datetime_diff  28675 non-null  float64\n",
      " 7   station_id     29912 non-null  int64  \n",
      " 8   latitude       29912 non-null  float64\n",
      " 9   longitude      29912 non-null  float64\n",
      " 10  TripNb         29912 non-null  int64  \n",
      " 11  vehicle_type   29912 non-null  int64  \n",
      "dtypes: float64(4), int64(6), object(2)\n",
      "memory usage: 2.7+ MB\n"
     ]
    }
   ],
   "source": [
    "timetable.info()"
   ]
  },
  {
   "cell_type": "code",
   "execution_count": 4,
   "metadata": {},
   "outputs": [
    {
     "data": {
      "text/html": [
       "<div>\n",
       "<style scoped>\n",
       "    .dataframe tbody tr th:only-of-type {\n",
       "        vertical-align: middle;\n",
       "    }\n",
       "\n",
       "    .dataframe tbody tr th {\n",
       "        vertical-align: top;\n",
       "    }\n",
       "\n",
       "    .dataframe thead th {\n",
       "        text-align: right;\n",
       "    }\n",
       "</style>\n",
       "<table border=\"1\" class=\"dataframe\">\n",
       "  <thead>\n",
       "    <tr style=\"text-align: right;\">\n",
       "      <th></th>\n",
       "      <th>Unnamed: 0</th>\n",
       "      <th>line_label</th>\n",
       "      <th>horaires</th>\n",
       "      <th>tag</th>\n",
       "      <th>line_id</th>\n",
       "      <th>order</th>\n",
       "      <th>datetime_diff</th>\n",
       "      <th>station_id</th>\n",
       "      <th>latitude</th>\n",
       "      <th>longitude</th>\n",
       "      <th>TripNb</th>\n",
       "      <th>vehicle_type</th>\n",
       "    </tr>\n",
       "  </thead>\n",
       "  <tbody>\n",
       "    <tr>\n",
       "      <th>0</th>\n",
       "      <td>0</td>\n",
       "      <td>TGM</td>\n",
       "      <td>03:30:00</td>\n",
       "      <td>0</td>\n",
       "      <td>10</td>\n",
       "      <td>1</td>\n",
       "      <td>997.0</td>\n",
       "      <td>72</td>\n",
       "      <td>36.800742</td>\n",
       "      <td>10.192478</td>\n",
       "      <td>1</td>\n",
       "      <td>1</td>\n",
       "    </tr>\n",
       "    <tr>\n",
       "      <th>1</th>\n",
       "      <td>1</td>\n",
       "      <td>TGM</td>\n",
       "      <td>03:46:37</td>\n",
       "      <td>0</td>\n",
       "      <td>10</td>\n",
       "      <td>2</td>\n",
       "      <td>114.0</td>\n",
       "      <td>73</td>\n",
       "      <td>36.814178</td>\n",
       "      <td>10.292450</td>\n",
       "      <td>1</td>\n",
       "      <td>1</td>\n",
       "    </tr>\n",
       "    <tr>\n",
       "      <th>2</th>\n",
       "      <td>2</td>\n",
       "      <td>TGM</td>\n",
       "      <td>03:48:31</td>\n",
       "      <td>0</td>\n",
       "      <td>10</td>\n",
       "      <td>3</td>\n",
       "      <td>68.0</td>\n",
       "      <td>74</td>\n",
       "      <td>36.818051</td>\n",
       "      <td>10.301940</td>\n",
       "      <td>1</td>\n",
       "      <td>1</td>\n",
       "    </tr>\n",
       "    <tr>\n",
       "      <th>3</th>\n",
       "      <td>3</td>\n",
       "      <td>TGM</td>\n",
       "      <td>03:49:39</td>\n",
       "      <td>0</td>\n",
       "      <td>10</td>\n",
       "      <td>4</td>\n",
       "      <td>85.0</td>\n",
       "      <td>75</td>\n",
       "      <td>36.819845</td>\n",
       "      <td>10.305601</td>\n",
       "      <td>1</td>\n",
       "      <td>1</td>\n",
       "    </tr>\n",
       "    <tr>\n",
       "      <th>4</th>\n",
       "      <td>4</td>\n",
       "      <td>TGM</td>\n",
       "      <td>03:51:04</td>\n",
       "      <td>0</td>\n",
       "      <td>10</td>\n",
       "      <td>5</td>\n",
       "      <td>54.0</td>\n",
       "      <td>76</td>\n",
       "      <td>36.824201</td>\n",
       "      <td>10.308773</td>\n",
       "      <td>1</td>\n",
       "      <td>1</td>\n",
       "    </tr>\n",
       "  </tbody>\n",
       "</table>\n",
       "</div>"
      ],
      "text/plain": [
       "   Unnamed: 0 line_label  horaires  tag  line_id  order  datetime_diff  \\\n",
       "0           0        TGM  03:30:00    0       10      1          997.0   \n",
       "1           1        TGM  03:46:37    0       10      2          114.0   \n",
       "2           2        TGM  03:48:31    0       10      3           68.0   \n",
       "3           3        TGM  03:49:39    0       10      4           85.0   \n",
       "4           4        TGM  03:51:04    0       10      5           54.0   \n",
       "\n",
       "   station_id   latitude  longitude  TripNb  vehicle_type  \n",
       "0          72  36.800742  10.192478       1             1  \n",
       "1          73  36.814178  10.292450       1             1  \n",
       "2          74  36.818051  10.301940       1             1  \n",
       "3          75  36.819845  10.305601       1             1  \n",
       "4          76  36.824201  10.308773       1             1  "
      ]
     },
     "execution_count": 4,
     "metadata": {},
     "output_type": "execute_result"
    }
   ],
   "source": [
    "timetable.tag = timetable.tag.astype(int)\n",
    "timetable.head()"
   ]
  },
  {
   "cell_type": "code",
   "execution_count": 5,
   "metadata": {},
   "outputs": [
    {
     "data": {
      "text/plain": [
       "(29912, 12)"
      ]
     },
     "execution_count": 5,
     "metadata": {},
     "output_type": "execute_result"
    }
   ],
   "source": [
    "timetable.shape"
   ]
  },
  {
   "cell_type": "markdown",
   "metadata": {},
   "source": [
    "### preprocessing\n"
   ]
  },
  {
   "cell_type": "code",
   "execution_count": 6,
   "metadata": {},
   "outputs": [],
   "source": [
    "timetable.drop('Unnamed: 0', axis=1, inplace=True)"
   ]
  },
  {
   "cell_type": "code",
   "execution_count": 7,
   "metadata": {},
   "outputs": [
    {
     "data": {
      "text/plain": [
       "<AxesSubplot:xlabel='latitude', ylabel='longitude'>"
      ]
     },
     "execution_count": 7,
     "metadata": {},
     "output_type": "execute_result"
    },
    {
     "data": {
      "image/png": "[encoded data removed]",
      "text/plain": [
       "<Figure size 1440x504 with 1 Axes>"
      ]
     },
     "metadata": {
      "needs_background": "light"
     },
     "output_type": "display_data"
    }
   ],
   "source": [
    "plt.figure(figsize= (20,7))\n",
    "sns.scatterplot(data = timetable.drop(['horaires','TripNb'], axis=1).drop_duplicates(), x='latitude', y='longitude', hue = 'line_label')"
   ]
  },
  {
   "cell_type": "markdown",
   "metadata": {},
   "source": [
    "1 ligne TGM<br>\n",
    "6 lignes Métro <br>\n",
    "10 lignes de Bus <br>"
   ]
  },
  {
   "cell_type": "code",
   "execution_count": 8,
   "metadata": {},
   "outputs": [],
   "source": [
    "#make sure no digits after 0. for datetime_diff feature\n",
    "timetable.datetime_diff = timetable.datetime_diff.round()"
   ]
  },
  {
   "cell_type": "code",
   "execution_count": 9,
   "metadata": {},
   "outputs": [],
   "source": [
    "stations_labels = timetable[['station_id','line_label']].drop_duplicates()"
   ]
  },
  {
   "cell_type": "code",
   "execution_count": 10,
   "metadata": {},
   "outputs": [],
   "source": [
    "timetable['next_station'] = timetable.groupby(['line_id','TripNb']).station_id.shift(-1)\n",
    "timetable['next_latitude'] = timetable.groupby(['line_id','TripNb']).latitude.shift(-1)\n",
    "timetable['next_longitude'] = timetable.groupby(['line_id','TripNb']).longitude.shift(-1)\n",
    "timetable['horaires_arrivee'] = timetable.groupby(['line_id','TripNb']).horaires.shift(-1)"
   ]
  },
  {
   "cell_type": "code",
   "execution_count": 11,
   "metadata": {},
   "outputs": [
    {
     "data": {
      "text/plain": [
       "array([ 72,  73,  74,  75,  76,  77,  78,  79,  80,  81,  82,  83,  84,\n",
       "        85,  86,  87,  88,  89,   1,   2,   3,   4,   5,   6,   7,   8,\n",
       "         9,  10,  11,  12,  13,  14,  57,  58,  59,  60,  61,  62,  63,\n",
       "        64,  65,  66,  67,  68,  69,  70,  71,  90,  91,  92,  93,  94,\n",
       "        95,  96,  97,  98,  99, 100, 101, 102, 103, 104, 105, 106, 107,\n",
       "       108, 109, 110, 111, 112, 113, 114, 115, 116, 117, 118, 119, 120,\n",
       "       121, 122, 123, 124, 125, 126,  15,  16,  17,  18,  19,  20,  21,\n",
       "        22,  23,  24,  25,  26,  27,  28,  29,  30,  31,  32,  33,  34,\n",
       "        35,  36,  37,  38,  39,  40,  41,  42,  43,  44,  45,  46,  48,\n",
       "        49,  50,  51,  52,  53,  54,  55,  56, 127, 128, 129, 130, 131,\n",
       "       132, 133, 134, 135, 136, 137, 138, 139, 140, 141, 142, 143, 144,\n",
       "       145, 146, 147, 148, 149, 150, 151, 153, 154, 155, 156, 157, 158,\n",
       "       159, 160, 161, 162, 163, 164, 165, 166, 167, 168, 169, 170, 171,\n",
       "       172, 173, 174, 175, 177, 178, 179, 180, 181, 182, 183, 184, 185,\n",
       "       186, 187, 188, 189, 190, 191, 152, 192, 193, 194, 195, 196, 197,\n",
       "       198, 199, 200, 201, 202, 203, 205, 206, 207, 208, 209, 210, 211,\n",
       "       212, 213, 214, 215, 216, 217, 218, 219, 220, 221, 222, 204, 223,\n",
       "       224, 225, 226, 227, 228, 229, 230, 231, 232, 233, 234, 235, 236,\n",
       "       237, 238, 239, 240, 241, 242, 243, 244, 245, 246, 247, 248, 249,\n",
       "       250, 251, 252, 253, 254, 255, 256, 257, 258, 259, 260, 261, 263,\n",
       "       264, 265, 267, 269, 271, 272, 273, 274, 275, 276, 277, 278, 279,\n",
       "       280, 282, 283, 284, 285, 286, 287, 288, 289, 290, 291, 292, 293,\n",
       "       294, 270, 295, 297], dtype=int64)"
      ]
     },
     "execution_count": 11,
     "metadata": {},
     "output_type": "execute_result"
    }
   ],
   "source": [
    "timetable.station_id.unique()"
   ]
  },
  {
   "cell_type": "code",
   "execution_count": 12,
   "metadata": {},
   "outputs": [],
   "source": [
    "timetable = timetable.dropna()"
   ]
  },
  {
   "cell_type": "code",
   "execution_count": 13,
   "metadata": {},
   "outputs": [],
   "source": [
    "timetable.rename({'station_id':'prev_station', 'latitude':'prev_latitude', 'longitude':'prev_longitude', 'horaires':'horaires_depart'}, axis=1, inplace = True)"
   ]
  },
  {
   "cell_type": "code",
   "execution_count": 14,
   "metadata": {},
   "outputs": [],
   "source": [
    "timetable = timetable[['TripNb','line_label','line_id','tag','order','prev_station','next_station',\n",
    "                       'prev_latitude','prev_longitude','next_latitude','next_longitude',\n",
    "                       'horaires_depart','horaires_arrivee','datetime_diff','vehicle_type']]"
   ]
  },
  {
   "cell_type": "code",
   "execution_count": 15,
   "metadata": {},
   "outputs": [],
   "source": [
    "def haversine_distance(*x):\n",
    "    R = 6378137\n",
    "    #convert to raduis\n",
    "    lat1  = x[7] * np.pi/180\n",
    "    long1 = x[8] * np.pi/180\n",
    "    lat2  = x[9] * np.pi/180\n",
    "    long2 = x[10] * np.pi/180\n",
    "    #calculate haversine distance\n",
    "    delta_longitude = long1 - long2\n",
    "    delta_latitude = lat1 - lat2\n",
    "    a = (np.sin(delta_latitude/2)**2) + np.cos(lat1)*np.cos(lat2)*(np.sin(delta_longitude/2)**2)\n",
    "    c = 2*np.arctan2(np.sqrt(a),np.sqrt(1-a))\n",
    "    distance = R*c\n",
    "    return distance"
   ]
  },
  {
   "cell_type": "code",
   "execution_count": 16,
   "metadata": {},
   "outputs": [],
   "source": [
    "timetable['distance_diff'] = timetable.apply(lambda x : haversine_distance(*x), axis=1).round()"
   ]
  },
  {
   "cell_type": "code",
   "execution_count": 17,
   "metadata": {},
   "outputs": [],
   "source": [
    "#convert str to time object\n",
    "from datetime import time\n",
    "timetable.horaires_depart  = timetable.horaires_depart.apply(lambda x : time(int(x[-8:-6]),int(x[-5:-3]),int(x[-2:])) )\n",
    "timetable.horaires_arrivee = timetable.horaires_arrivee.apply(lambda x : time(int(x[-8:-6]),int(x[-5:-3]),int(x[-2:])) )"
   ]
  },
  {
   "cell_type": "code",
   "execution_count": 18,
   "metadata": {},
   "outputs": [
    {
     "data": {
      "text/html": [
       "<div>\n",
       "<style scoped>\n",
       "    .dataframe tbody tr th:only-of-type {\n",
       "        vertical-align: middle;\n",
       "    }\n",
       "\n",
       "    .dataframe tbody tr th {\n",
       "        vertical-align: top;\n",
       "    }\n",
       "\n",
       "    .dataframe thead th {\n",
       "        text-align: right;\n",
       "    }\n",
       "</style>\n",
       "<table border=\"1\" class=\"dataframe\">\n",
       "  <thead>\n",
       "    <tr style=\"text-align: right;\">\n",
       "      <th></th>\n",
       "      <th>TripNb</th>\n",
       "      <th>line_label</th>\n",
       "      <th>line_id</th>\n",
       "      <th>tag</th>\n",
       "      <th>order</th>\n",
       "      <th>prev_station</th>\n",
       "      <th>next_station</th>\n",
       "      <th>prev_latitude</th>\n",
       "      <th>prev_longitude</th>\n",
       "      <th>next_latitude</th>\n",
       "      <th>next_longitude</th>\n",
       "      <th>horaires_depart</th>\n",
       "      <th>horaires_arrivee</th>\n",
       "      <th>datetime_diff</th>\n",
       "      <th>vehicle_type</th>\n",
       "      <th>distance_diff</th>\n",
       "    </tr>\n",
       "  </thead>\n",
       "  <tbody>\n",
       "    <tr>\n",
       "      <th>0</th>\n",
       "      <td>1</td>\n",
       "      <td>TGM</td>\n",
       "      <td>10</td>\n",
       "      <td>0</td>\n",
       "      <td>1</td>\n",
       "      <td>72</td>\n",
       "      <td>73.0</td>\n",
       "      <td>36.800742</td>\n",
       "      <td>10.192478</td>\n",
       "      <td>36.814178</td>\n",
       "      <td>10.292450</td>\n",
       "      <td>03:30:00</td>\n",
       "      <td>03:46:37</td>\n",
       "      <td>997.0</td>\n",
       "      <td>1</td>\n",
       "      <td>9035.0</td>\n",
       "    </tr>\n",
       "    <tr>\n",
       "      <th>1</th>\n",
       "      <td>1</td>\n",
       "      <td>TGM</td>\n",
       "      <td>10</td>\n",
       "      <td>0</td>\n",
       "      <td>2</td>\n",
       "      <td>73</td>\n",
       "      <td>74.0</td>\n",
       "      <td>36.814178</td>\n",
       "      <td>10.292450</td>\n",
       "      <td>36.818051</td>\n",
       "      <td>10.301940</td>\n",
       "      <td>03:46:37</td>\n",
       "      <td>03:48:31</td>\n",
       "      <td>114.0</td>\n",
       "      <td>1</td>\n",
       "      <td>949.0</td>\n",
       "    </tr>\n",
       "    <tr>\n",
       "      <th>2</th>\n",
       "      <td>1</td>\n",
       "      <td>TGM</td>\n",
       "      <td>10</td>\n",
       "      <td>0</td>\n",
       "      <td>3</td>\n",
       "      <td>74</td>\n",
       "      <td>75.0</td>\n",
       "      <td>36.818051</td>\n",
       "      <td>10.301940</td>\n",
       "      <td>36.819845</td>\n",
       "      <td>10.305601</td>\n",
       "      <td>03:48:31</td>\n",
       "      <td>03:49:39</td>\n",
       "      <td>68.0</td>\n",
       "      <td>1</td>\n",
       "      <td>383.0</td>\n",
       "    </tr>\n",
       "    <tr>\n",
       "      <th>3</th>\n",
       "      <td>1</td>\n",
       "      <td>TGM</td>\n",
       "      <td>10</td>\n",
       "      <td>0</td>\n",
       "      <td>4</td>\n",
       "      <td>75</td>\n",
       "      <td>76.0</td>\n",
       "      <td>36.819845</td>\n",
       "      <td>10.305601</td>\n",
       "      <td>36.824201</td>\n",
       "      <td>10.308773</td>\n",
       "      <td>03:49:39</td>\n",
       "      <td>03:51:04</td>\n",
       "      <td>85.0</td>\n",
       "      <td>1</td>\n",
       "      <td>561.0</td>\n",
       "    </tr>\n",
       "    <tr>\n",
       "      <th>4</th>\n",
       "      <td>1</td>\n",
       "      <td>TGM</td>\n",
       "      <td>10</td>\n",
       "      <td>0</td>\n",
       "      <td>5</td>\n",
       "      <td>76</td>\n",
       "      <td>77.0</td>\n",
       "      <td>36.824201</td>\n",
       "      <td>10.308773</td>\n",
       "      <td>36.828783</td>\n",
       "      <td>10.311553</td>\n",
       "      <td>03:51:04</td>\n",
       "      <td>03:51:58</td>\n",
       "      <td>54.0</td>\n",
       "      <td>1</td>\n",
       "      <td>567.0</td>\n",
       "    </tr>\n",
       "  </tbody>\n",
       "</table>\n",
       "</div>"
      ],
      "text/plain": [
       "   TripNb line_label  line_id  tag  order  prev_station  next_station  \\\n",
       "0       1        TGM       10    0      1            72          73.0   \n",
       "1       1        TGM       10    0      2            73          74.0   \n",
       "2       1        TGM       10    0      3            74          75.0   \n",
       "3       1        TGM       10    0      4            75          76.0   \n",
       "4       1        TGM       10    0      5            76          77.0   \n",
       "\n",
       "   prev_latitude  prev_longitude  next_latitude  next_longitude  \\\n",
       "0      36.800742       10.192478      36.814178       10.292450   \n",
       "1      36.814178       10.292450      36.818051       10.301940   \n",
       "2      36.818051       10.301940      36.819845       10.305601   \n",
       "3      36.819845       10.305601      36.824201       10.308773   \n",
       "4      36.824201       10.308773      36.828783       10.311553   \n",
       "\n",
       "  horaires_depart horaires_arrivee  datetime_diff  vehicle_type  distance_diff  \n",
       "0        03:30:00         03:46:37          997.0             1         9035.0  \n",
       "1        03:46:37         03:48:31          114.0             1          949.0  \n",
       "2        03:48:31         03:49:39           68.0             1          383.0  \n",
       "3        03:49:39         03:51:04           85.0             1          561.0  \n",
       "4        03:51:04         03:51:58           54.0             1          567.0  "
      ]
     },
     "execution_count": 18,
     "metadata": {},
     "output_type": "execute_result"
    }
   ],
   "source": [
    "#time difference between stations in seconds\n",
    "#distance difference between stations in meters\n",
    "#tag sens aller\n",
    "#vehicle type : vehicle transport mode \n",
    "# 1 train, 2 metro, 3 Bus\n",
    "timetable.head()"
   ]
  },
  {
   "cell_type": "code",
   "execution_count": 19,
   "metadata": {},
   "outputs": [
    {
     "data": {
      "text/plain": [
       "(27982, 16)"
      ]
     },
     "execution_count": 19,
     "metadata": {},
     "output_type": "execute_result"
    }
   ],
   "source": [
    "timetable.shape"
   ]
  },
  {
   "cell_type": "code",
   "execution_count": 20,
   "metadata": {},
   "outputs": [
    {
     "data": {
      "text/plain": [
       "TripNb              0\n",
       "line_label          0\n",
       "line_id             0\n",
       "tag                 0\n",
       "order               0\n",
       "prev_station        0\n",
       "next_station        0\n",
       "prev_latitude       0\n",
       "prev_longitude      0\n",
       "next_latitude       0\n",
       "next_longitude      0\n",
       "horaires_depart     0\n",
       "horaires_arrivee    0\n",
       "datetime_diff       0\n",
       "vehicle_type        0\n",
       "distance_diff       0\n",
       "dtype: int64"
      ]
     },
     "execution_count": 20,
     "metadata": {},
     "output_type": "execute_result"
    }
   ],
   "source": [
    "timetable.isnull().sum()"
   ]
  },
  {
   "cell_type": "code",
   "execution_count": 21,
   "metadata": {},
   "outputs": [],
   "source": [
    "timetable.next_station = timetable.next_station.astype(int)"
   ]
  },
  {
   "cell_type": "code",
   "execution_count": 22,
   "metadata": {},
   "outputs": [
    {
     "data": {
      "text/html": [
       "<div>\n",
       "<style scoped>\n",
       "    .dataframe tbody tr th:only-of-type {\n",
       "        vertical-align: middle;\n",
       "    }\n",
       "\n",
       "    .dataframe tbody tr th {\n",
       "        vertical-align: top;\n",
       "    }\n",
       "\n",
       "    .dataframe thead th {\n",
       "        text-align: right;\n",
       "    }\n",
       "</style>\n",
       "<table border=\"1\" class=\"dataframe\">\n",
       "  <thead>\n",
       "    <tr style=\"text-align: right;\">\n",
       "      <th></th>\n",
       "      <th>TripNb</th>\n",
       "      <th>line_label</th>\n",
       "      <th>line_id</th>\n",
       "      <th>tag</th>\n",
       "      <th>order</th>\n",
       "      <th>prev_station</th>\n",
       "      <th>next_station</th>\n",
       "      <th>prev_latitude</th>\n",
       "      <th>prev_longitude</th>\n",
       "      <th>next_latitude</th>\n",
       "      <th>next_longitude</th>\n",
       "      <th>horaires_depart</th>\n",
       "      <th>horaires_arrivee</th>\n",
       "      <th>datetime_diff</th>\n",
       "      <th>vehicle_type</th>\n",
       "      <th>distance_diff</th>\n",
       "    </tr>\n",
       "  </thead>\n",
       "  <tbody>\n",
       "    <tr>\n",
       "      <th>0</th>\n",
       "      <td>1</td>\n",
       "      <td>TGM</td>\n",
       "      <td>10</td>\n",
       "      <td>0</td>\n",
       "      <td>1</td>\n",
       "      <td>72</td>\n",
       "      <td>73</td>\n",
       "      <td>36.800742</td>\n",
       "      <td>10.192478</td>\n",
       "      <td>36.814178</td>\n",
       "      <td>10.292450</td>\n",
       "      <td>03:30:00</td>\n",
       "      <td>03:46:37</td>\n",
       "      <td>997.0</td>\n",
       "      <td>1</td>\n",
       "      <td>9035.0</td>\n",
       "    </tr>\n",
       "    <tr>\n",
       "      <th>1</th>\n",
       "      <td>1</td>\n",
       "      <td>TGM</td>\n",
       "      <td>10</td>\n",
       "      <td>0</td>\n",
       "      <td>2</td>\n",
       "      <td>73</td>\n",
       "      <td>74</td>\n",
       "      <td>36.814178</td>\n",
       "      <td>10.292450</td>\n",
       "      <td>36.818051</td>\n",
       "      <td>10.301940</td>\n",
       "      <td>03:46:37</td>\n",
       "      <td>03:48:31</td>\n",
       "      <td>114.0</td>\n",
       "      <td>1</td>\n",
       "      <td>949.0</td>\n",
       "    </tr>\n",
       "    <tr>\n",
       "      <th>2</th>\n",
       "      <td>1</td>\n",
       "      <td>TGM</td>\n",
       "      <td>10</td>\n",
       "      <td>0</td>\n",
       "      <td>3</td>\n",
       "      <td>74</td>\n",
       "      <td>75</td>\n",
       "      <td>36.818051</td>\n",
       "      <td>10.301940</td>\n",
       "      <td>36.819845</td>\n",
       "      <td>10.305601</td>\n",
       "      <td>03:48:31</td>\n",
       "      <td>03:49:39</td>\n",
       "      <td>68.0</td>\n",
       "      <td>1</td>\n",
       "      <td>383.0</td>\n",
       "    </tr>\n",
       "    <tr>\n",
       "      <th>3</th>\n",
       "      <td>1</td>\n",
       "      <td>TGM</td>\n",
       "      <td>10</td>\n",
       "      <td>0</td>\n",
       "      <td>4</td>\n",
       "      <td>75</td>\n",
       "      <td>76</td>\n",
       "      <td>36.819845</td>\n",
       "      <td>10.305601</td>\n",
       "      <td>36.824201</td>\n",
       "      <td>10.308773</td>\n",
       "      <td>03:49:39</td>\n",
       "      <td>03:51:04</td>\n",
       "      <td>85.0</td>\n",
       "      <td>1</td>\n",
       "      <td>561.0</td>\n",
       "    </tr>\n",
       "    <tr>\n",
       "      <th>4</th>\n",
       "      <td>1</td>\n",
       "      <td>TGM</td>\n",
       "      <td>10</td>\n",
       "      <td>0</td>\n",
       "      <td>5</td>\n",
       "      <td>76</td>\n",
       "      <td>77</td>\n",
       "      <td>36.824201</td>\n",
       "      <td>10.308773</td>\n",
       "      <td>36.828783</td>\n",
       "      <td>10.311553</td>\n",
       "      <td>03:51:04</td>\n",
       "      <td>03:51:58</td>\n",
       "      <td>54.0</td>\n",
       "      <td>1</td>\n",
       "      <td>567.0</td>\n",
       "    </tr>\n",
       "  </tbody>\n",
       "</table>\n",
       "</div>"
      ],
      "text/plain": [
       "   TripNb line_label  line_id  tag  order  prev_station  next_station  \\\n",
       "0       1        TGM       10    0      1            72            73   \n",
       "1       1        TGM       10    0      2            73            74   \n",
       "2       1        TGM       10    0      3            74            75   \n",
       "3       1        TGM       10    0      4            75            76   \n",
       "4       1        TGM       10    0      5            76            77   \n",
       "\n",
       "   prev_latitude  prev_longitude  next_latitude  next_longitude  \\\n",
       "0      36.800742       10.192478      36.814178       10.292450   \n",
       "1      36.814178       10.292450      36.818051       10.301940   \n",
       "2      36.818051       10.301940      36.819845       10.305601   \n",
       "3      36.819845       10.305601      36.824201       10.308773   \n",
       "4      36.824201       10.308773      36.828783       10.311553   \n",
       "\n",
       "  horaires_depart horaires_arrivee  datetime_diff  vehicle_type  distance_diff  \n",
       "0        03:30:00         03:46:37          997.0             1         9035.0  \n",
       "1        03:46:37         03:48:31          114.0             1          949.0  \n",
       "2        03:48:31         03:49:39           68.0             1          383.0  \n",
       "3        03:49:39         03:51:04           85.0             1          561.0  \n",
       "4        03:51:04         03:51:58           54.0             1          567.0  "
      ]
     },
     "execution_count": 22,
     "metadata": {},
     "output_type": "execute_result"
    }
   ],
   "source": [
    "timetable.head()"
   ]
  },
  {
   "cell_type": "code",
   "execution_count": 23,
   "metadata": {},
   "outputs": [],
   "source": [
    "timetable = timetable.sort_values(['prev_station','horaires_depart'])\n",
    "timetable.to_csv('data/preprocessed_timetable.csv', index = False)"
   ]
  },
  {
   "cell_type": "markdown",
   "metadata": {},
   "source": [
    "### Distance Matrix preprocessing "
   ]
  },
  {
   "cell_type": "code",
   "execution_count": 24,
   "metadata": {},
   "outputs": [],
   "source": [
    "# Your method to calculate distance between two samples\n",
    "def haversine_distance(x,y):\n",
    "    R = 6378137\n",
    "    #convert to raduis\n",
    "    lat1  = x[0] * np.pi/180\n",
    "    long1 = x[1] * np.pi/180\n",
    "    lat2  = y[0] * np.pi/180\n",
    "    long2 = y[1] * np.pi/180\n",
    "    #calculate haversine distance\n",
    "    delta_longitude = long1 - long2\n",
    "    delta_latitude = lat1 - lat2\n",
    "    a = (np.sin(delta_latitude/2)**2) + np.cos(lat1)*np.cos(lat2)*(np.sin(delta_longitude/2)**2)\n",
    "    c = 2*np.arctan2(np.sqrt(a),np.sqrt(1-a))\n",
    "    distance = R*c\n",
    "    return distance"
   ]
  },
  {
   "cell_type": "code",
   "execution_count": 27,
   "metadata": {},
   "outputs": [],
   "source": [
    "station_paths = pd.read_csv('../Data preprocessing/data/stations_paths.csv')\n",
    "stations_coord = station_paths[['station_id', 'latitude', 'longitude']].drop_duplicates().reset_index(drop=True).set_index('station_id')\n",
    "stations_coord.to_csv('data/station_coord.csv')"
   ]
  },
  {
   "cell_type": "code",
   "execution_count": 28,
   "metadata": {},
   "outputs": [
    {
     "data": {
      "text/plain": [
       "297"
      ]
     },
     "execution_count": 28,
     "metadata": {},
     "output_type": "execute_result"
    }
   ],
   "source": [
    "stations_coord.shape[0]"
   ]
  },
  {
   "cell_type": "code",
   "execution_count": 29,
   "metadata": {},
   "outputs": [],
   "source": [
    "dim = stations_coord.shape[0]\n",
    "Dmatrix = np.ones((dim, dim))*np.inf\n",
    "i,j = 0,0\n",
    "\n",
    "for coord_station1 in stations_coord.values :\n",
    "    j=0\n",
    "    for coord_station2 in stations_coord.values :\n",
    "        if j >= i :\n",
    "            continue\n",
    "        else:\n",
    "            Dmatrix[i,j] = haversine_distance(coord_station1,coord_station2)\n",
    "        j+=1\n",
    "    i+=1"
   ]
  },
  {
   "cell_type": "code",
   "execution_count": 30,
   "metadata": {},
   "outputs": [
    {
     "data": {
      "text/plain": [
       "Int64Index([  1,   2,   3,   4,   5,   6,   7,   8,   9,  10,\n",
       "            ...\n",
       "            288, 289, 290, 291, 292, 293, 294, 295, 296, 297],\n",
       "           dtype='int64', name='station_id', length=297)"
      ]
     },
     "execution_count": 30,
     "metadata": {},
     "output_type": "execute_result"
    }
   ],
   "source": [
    "labels = stations_coord.index\n",
    "labels"
   ]
  },
  {
   "cell_type": "code",
   "execution_count": 31,
   "metadata": {},
   "outputs": [
    {
     "data": {
      "text/html": [
       "<div>\n",
       "<style scoped>\n",
       "    .dataframe tbody tr th:only-of-type {\n",
       "        vertical-align: middle;\n",
       "    }\n",
       "\n",
       "    .dataframe tbody tr th {\n",
       "        vertical-align: top;\n",
       "    }\n",
       "\n",
       "    .dataframe thead th {\n",
       "        text-align: right;\n",
       "    }\n",
       "</style>\n",
       "<table border=\"1\" class=\"dataframe\">\n",
       "  <thead>\n",
       "    <tr style=\"text-align: right;\">\n",
       "      <th>station_id</th>\n",
       "      <th>1</th>\n",
       "      <th>2</th>\n",
       "      <th>3</th>\n",
       "      <th>4</th>\n",
       "      <th>5</th>\n",
       "      <th>6</th>\n",
       "      <th>7</th>\n",
       "      <th>8</th>\n",
       "      <th>9</th>\n",
       "      <th>10</th>\n",
       "      <th>...</th>\n",
       "      <th>288</th>\n",
       "      <th>289</th>\n",
       "      <th>290</th>\n",
       "      <th>291</th>\n",
       "      <th>292</th>\n",
       "      <th>293</th>\n",
       "      <th>294</th>\n",
       "      <th>295</th>\n",
       "      <th>296</th>\n",
       "      <th>297</th>\n",
       "    </tr>\n",
       "    <tr>\n",
       "      <th>station_id</th>\n",
       "      <th></th>\n",
       "      <th></th>\n",
       "      <th></th>\n",
       "      <th></th>\n",
       "      <th></th>\n",
       "      <th></th>\n",
       "      <th></th>\n",
       "      <th></th>\n",
       "      <th></th>\n",
       "      <th></th>\n",
       "      <th></th>\n",
       "      <th></th>\n",
       "      <th></th>\n",
       "      <th></th>\n",
       "      <th></th>\n",
       "      <th></th>\n",
       "      <th></th>\n",
       "      <th></th>\n",
       "      <th></th>\n",
       "      <th></th>\n",
       "      <th></th>\n",
       "    </tr>\n",
       "  </thead>\n",
       "  <tbody>\n",
       "    <tr>\n",
       "      <th>1</th>\n",
       "      <td>inf</td>\n",
       "      <td>inf</td>\n",
       "      <td>inf</td>\n",
       "      <td>inf</td>\n",
       "      <td>inf</td>\n",
       "      <td>inf</td>\n",
       "      <td>inf</td>\n",
       "      <td>inf</td>\n",
       "      <td>inf</td>\n",
       "      <td>inf</td>\n",
       "      <td>...</td>\n",
       "      <td>inf</td>\n",
       "      <td>inf</td>\n",
       "      <td>inf</td>\n",
       "      <td>inf</td>\n",
       "      <td>inf</td>\n",
       "      <td>inf</td>\n",
       "      <td>inf</td>\n",
       "      <td>inf</td>\n",
       "      <td>inf</td>\n",
       "      <td>inf</td>\n",
       "    </tr>\n",
       "    <tr>\n",
       "      <th>2</th>\n",
       "      <td>345.763770</td>\n",
       "      <td>inf</td>\n",
       "      <td>inf</td>\n",
       "      <td>inf</td>\n",
       "      <td>inf</td>\n",
       "      <td>inf</td>\n",
       "      <td>inf</td>\n",
       "      <td>inf</td>\n",
       "      <td>inf</td>\n",
       "      <td>inf</td>\n",
       "      <td>...</td>\n",
       "      <td>inf</td>\n",
       "      <td>inf</td>\n",
       "      <td>inf</td>\n",
       "      <td>inf</td>\n",
       "      <td>inf</td>\n",
       "      <td>inf</td>\n",
       "      <td>inf</td>\n",
       "      <td>inf</td>\n",
       "      <td>inf</td>\n",
       "      <td>inf</td>\n",
       "    </tr>\n",
       "    <tr>\n",
       "      <th>3</th>\n",
       "      <td>1114.787363</td>\n",
       "      <td>818.126512</td>\n",
       "      <td>inf</td>\n",
       "      <td>inf</td>\n",
       "      <td>inf</td>\n",
       "      <td>inf</td>\n",
       "      <td>inf</td>\n",
       "      <td>inf</td>\n",
       "      <td>inf</td>\n",
       "      <td>inf</td>\n",
       "      <td>...</td>\n",
       "      <td>inf</td>\n",
       "      <td>inf</td>\n",
       "      <td>inf</td>\n",
       "      <td>inf</td>\n",
       "      <td>inf</td>\n",
       "      <td>inf</td>\n",
       "      <td>inf</td>\n",
       "      <td>inf</td>\n",
       "      <td>inf</td>\n",
       "      <td>inf</td>\n",
       "    </tr>\n",
       "    <tr>\n",
       "      <th>4</th>\n",
       "      <td>1494.572218</td>\n",
       "      <td>1231.048492</td>\n",
       "      <td>439.803597</td>\n",
       "      <td>inf</td>\n",
       "      <td>inf</td>\n",
       "      <td>inf</td>\n",
       "      <td>inf</td>\n",
       "      <td>inf</td>\n",
       "      <td>inf</td>\n",
       "      <td>inf</td>\n",
       "      <td>...</td>\n",
       "      <td>inf</td>\n",
       "      <td>inf</td>\n",
       "      <td>inf</td>\n",
       "      <td>inf</td>\n",
       "      <td>inf</td>\n",
       "      <td>inf</td>\n",
       "      <td>inf</td>\n",
       "      <td>inf</td>\n",
       "      <td>inf</td>\n",
       "      <td>inf</td>\n",
       "    </tr>\n",
       "    <tr>\n",
       "      <th>5</th>\n",
       "      <td>2128.106798</td>\n",
       "      <td>1873.553926</td>\n",
       "      <td>1074.754223</td>\n",
       "      <td>642.811691</td>\n",
       "      <td>inf</td>\n",
       "      <td>inf</td>\n",
       "      <td>inf</td>\n",
       "      <td>inf</td>\n",
       "      <td>inf</td>\n",
       "      <td>inf</td>\n",
       "      <td>...</td>\n",
       "      <td>inf</td>\n",
       "      <td>inf</td>\n",
       "      <td>inf</td>\n",
       "      <td>inf</td>\n",
       "      <td>inf</td>\n",
       "      <td>inf</td>\n",
       "      <td>inf</td>\n",
       "      <td>inf</td>\n",
       "      <td>inf</td>\n",
       "      <td>inf</td>\n",
       "    </tr>\n",
       "  </tbody>\n",
       "</table>\n",
       "<p>5 rows × 297 columns</p>\n",
       "</div>"
      ],
      "text/plain": [
       "station_id          1            2            3           4    5    6    7    \\\n",
       "station_id                                                                     \n",
       "1                   inf          inf          inf         inf  inf  inf  inf   \n",
       "2            345.763770          inf          inf         inf  inf  inf  inf   \n",
       "3           1114.787363   818.126512          inf         inf  inf  inf  inf   \n",
       "4           1494.572218  1231.048492   439.803597         inf  inf  inf  inf   \n",
       "5           2128.106798  1873.553926  1074.754223  642.811691  inf  inf  inf   \n",
       "\n",
       "station_id  8    9    10   ...  288  289  290  291  292  293  294  295  296  \\\n",
       "station_id                 ...                                                \n",
       "1           inf  inf  inf  ...  inf  inf  inf  inf  inf  inf  inf  inf  inf   \n",
       "2           inf  inf  inf  ...  inf  inf  inf  inf  inf  inf  inf  inf  inf   \n",
       "3           inf  inf  inf  ...  inf  inf  inf  inf  inf  inf  inf  inf  inf   \n",
       "4           inf  inf  inf  ...  inf  inf  inf  inf  inf  inf  inf  inf  inf   \n",
       "5           inf  inf  inf  ...  inf  inf  inf  inf  inf  inf  inf  inf  inf   \n",
       "\n",
       "station_id  297  \n",
       "station_id       \n",
       "1           inf  \n",
       "2           inf  \n",
       "3           inf  \n",
       "4           inf  \n",
       "5           inf  \n",
       "\n",
       "[5 rows x 297 columns]"
      ]
     },
     "execution_count": 31,
     "metadata": {},
     "output_type": "execute_result"
    }
   ],
   "source": [
    "labels = stations_coord.index\n",
    "Dmatrix = pd.DataFrame (Dmatrix, columns = labels, index = labels)\n",
    "Dmatrix.head()"
   ]
  },
  {
   "cell_type": "code",
   "execution_count": 32,
   "metadata": {},
   "outputs": [],
   "source": [
    "Dmatrix.to_csv('data/Dmatrix.csv', index = True)"
   ]
  }
 ],
 "metadata": {
  "kernelspec": {
   "display_name": "Python 3",
   "language": "python",
   "name": "python3"
  },
  "language_info": {
   "codemirror_mode": {
    "name": "ipython",
    "version": 3
   },
   "file_extension": ".py",
   "mimetype": "text/x-python",
   "name": "python",
   "nbconvert_exporter": "python",
   "pygments_lexer": "ipython3",
   "version": "3.8.0"
  }
 },
 "nbformat": 4,
 "nbformat_minor": 4
}
