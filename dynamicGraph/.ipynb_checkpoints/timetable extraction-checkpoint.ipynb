{
 "cells": [
  {
   "cell_type": "code",
   "execution_count": 1,
   "metadata": {},
   "outputs": [],
   "source": [
    "import pandas as pd\n",
    "import numpy as np\n",
    "import matplotlib.pyplot as plt\n",
    "from datetime import datetime, timedelta\n",
    "import seaborn as sns"
   ]
  },
  {
   "cell_type": "code",
   "execution_count": 2,
   "metadata": {},
   "outputs": [
    {
     "name": "stderr",
     "output_type": "stream",
     "text": [
      "C:\\Users\\Aziz\\Anaconda3\\envs\\transtu\\lib\\site-packages\\IPython\\core\\interactiveshell.py:3165: DtypeWarning: Columns (9) have mixed types.Specify dtype option on import or set low_memory=False.\n",
      "  has_raised = await self.run_ast_nodes(code_ast.body, cell_name,\n"
     ]
    }
   ],
   "source": [
    "gps = pd.read_csv('../Data preprocessing/data/gps_clean.csv')"
   ]
  },
  {
   "cell_type": "code",
   "execution_count": 3,
   "metadata": {},
   "outputs": [
    {
     "name": "stdout",
     "output_type": "stream",
     "text": [
      "<class 'pandas.core.frame.DataFrame'>\n",
      "RangeIndex: 1950296 entries, 0 to 1950295\n",
      "Data columns (total 12 columns):\n",
      " #   Column         Dtype  \n",
      "---  ------         -----  \n",
      " 0   vehicle_id     int64  \n",
      " 1   line_id        int64  \n",
      " 2   latitude       float64\n",
      " 3   longitude      float64\n",
      " 4   datetime       object \n",
      " 5   station_id     int64  \n",
      " 6   vehicle_type   float64\n",
      " 7   sequence_id    object \n",
      " 8   order          int64  \n",
      " 9   line_label     object \n",
      " 10  datetime_diff  float64\n",
      " 11  outlier        int64  \n",
      "dtypes: float64(4), int64(5), object(3)\n",
      "memory usage: 178.6+ MB\n"
     ]
    }
   ],
   "source": [
    "gps.info()"
   ]
  },
  {
   "cell_type": "code",
   "execution_count": 4,
   "metadata": {},
   "outputs": [
    {
     "data": {
      "text/plain": [
       "(1904104, 12)"
      ]
     },
     "execution_count": 4,
     "metadata": {},
     "output_type": "execute_result"
    }
   ],
   "source": [
    "#drop outliers\n",
    "gps = gps[gps.outlier == 0]\n",
    "gps.shape"
   ]
  },
  {
   "cell_type": "code",
   "execution_count": 5,
   "metadata": {},
   "outputs": [],
   "source": [
    "gps.datetime = gps.datetime.apply(lambda x : datetime.strptime(x, '%Y-%m-%d %H:%M:%S'))"
   ]
  },
  {
   "cell_type": "code",
   "execution_count": 6,
   "metadata": {},
   "outputs": [],
   "source": [
    "gps = gps.rename({'sequence_id':'TripID'}, axis=1)"
   ]
  },
  {
   "cell_type": "code",
   "execution_count": 7,
   "metadata": {},
   "outputs": [
    {
     "data": {
      "text/html": [
       "<div>\n",
       "<style scoped>\n",
       "    .dataframe tbody tr th:only-of-type {\n",
       "        vertical-align: middle;\n",
       "    }\n",
       "\n",
       "    .dataframe tbody tr th {\n",
       "        vertical-align: top;\n",
       "    }\n",
       "\n",
       "    .dataframe thead th {\n",
       "        text-align: right;\n",
       "    }\n",
       "</style>\n",
       "<table border=\"1\" class=\"dataframe\">\n",
       "  <thead>\n",
       "    <tr style=\"text-align: right;\">\n",
       "      <th></th>\n",
       "      <th>vehicle_id</th>\n",
       "      <th>line_id</th>\n",
       "      <th>latitude</th>\n",
       "      <th>longitude</th>\n",
       "      <th>datetime</th>\n",
       "      <th>station_id</th>\n",
       "      <th>vehicle_type</th>\n",
       "      <th>TripID</th>\n",
       "      <th>order</th>\n",
       "      <th>line_label</th>\n",
       "      <th>datetime_diff</th>\n",
       "      <th>outlier</th>\n",
       "    </tr>\n",
       "  </thead>\n",
       "  <tbody>\n",
       "    <tr>\n",
       "      <th>0</th>\n",
       "      <td>41</td>\n",
       "      <td>3</td>\n",
       "      <td>36.813211</td>\n",
       "      <td>10.156221</td>\n",
       "      <td>2020-02-17 14:40:19</td>\n",
       "      <td>9</td>\n",
       "      <td>2.0</td>\n",
       "      <td>41.0_0</td>\n",
       "      <td>6</td>\n",
       "      <td>5</td>\n",
       "      <td>149.0</td>\n",
       "      <td>0</td>\n",
       "    </tr>\n",
       "    <tr>\n",
       "      <th>1</th>\n",
       "      <td>41</td>\n",
       "      <td>3</td>\n",
       "      <td>36.823699</td>\n",
       "      <td>10.150840</td>\n",
       "      <td>2020-02-17 14:42:48</td>\n",
       "      <td>8</td>\n",
       "      <td>2.0</td>\n",
       "      <td>41.0_0</td>\n",
       "      <td>7</td>\n",
       "      <td>5</td>\n",
       "      <td>129.0</td>\n",
       "      <td>0</td>\n",
       "    </tr>\n",
       "    <tr>\n",
       "      <th>2</th>\n",
       "      <td>41</td>\n",
       "      <td>3</td>\n",
       "      <td>36.826018</td>\n",
       "      <td>10.143822</td>\n",
       "      <td>2020-02-17 14:44:57</td>\n",
       "      <td>7</td>\n",
       "      <td>2.0</td>\n",
       "      <td>41.0_0</td>\n",
       "      <td>8</td>\n",
       "      <td>5</td>\n",
       "      <td>79.0</td>\n",
       "      <td>0</td>\n",
       "    </tr>\n",
       "    <tr>\n",
       "      <th>3</th>\n",
       "      <td>41</td>\n",
       "      <td>3</td>\n",
       "      <td>36.822849</td>\n",
       "      <td>10.139979</td>\n",
       "      <td>2020-02-17 14:46:16</td>\n",
       "      <td>6</td>\n",
       "      <td>2.0</td>\n",
       "      <td>41.0_0</td>\n",
       "      <td>9</td>\n",
       "      <td>5</td>\n",
       "      <td>137.0</td>\n",
       "      <td>0</td>\n",
       "    </tr>\n",
       "    <tr>\n",
       "      <th>4</th>\n",
       "      <td>41</td>\n",
       "      <td>3</td>\n",
       "      <td>36.825900</td>\n",
       "      <td>10.134544</td>\n",
       "      <td>2020-02-17 14:48:33</td>\n",
       "      <td>5</td>\n",
       "      <td>2.0</td>\n",
       "      <td>41.0_0</td>\n",
       "      <td>10</td>\n",
       "      <td>5</td>\n",
       "      <td>137.0</td>\n",
       "      <td>0</td>\n",
       "    </tr>\n",
       "  </tbody>\n",
       "</table>\n",
       "</div>"
      ],
      "text/plain": [
       "   vehicle_id  line_id   latitude  longitude            datetime  station_id  \\\n",
       "0          41        3  36.813211  10.156221 2020-02-17 14:40:19           9   \n",
       "1          41        3  36.823699  10.150840 2020-02-17 14:42:48           8   \n",
       "2          41        3  36.826018  10.143822 2020-02-17 14:44:57           7   \n",
       "3          41        3  36.822849  10.139979 2020-02-17 14:46:16           6   \n",
       "4          41        3  36.825900  10.134544 2020-02-17 14:48:33           5   \n",
       "\n",
       "   vehicle_type  TripID  order line_label  datetime_diff  outlier  \n",
       "0           2.0  41.0_0      6          5          149.0        0  \n",
       "1           2.0  41.0_0      7          5          129.0        0  \n",
       "2           2.0  41.0_0      8          5           79.0        0  \n",
       "3           2.0  41.0_0      9          5          137.0        0  \n",
       "4           2.0  41.0_0     10          5          137.0        0  "
      ]
     },
     "execution_count": 7,
     "metadata": {},
     "output_type": "execute_result"
    }
   ],
   "source": [
    "gps.head()"
   ]
  },
  {
   "cell_type": "code",
   "execution_count": 8,
   "metadata": {},
   "outputs": [
    {
     "data": {
      "text/plain": [
       "(1904104, 12)"
      ]
     },
     "execution_count": 8,
     "metadata": {},
     "output_type": "execute_result"
    }
   ],
   "source": [
    "gps.shape"
   ]
  },
  {
   "cell_type": "code",
   "execution_count": 9,
   "metadata": {},
   "outputs": [],
   "source": [
    "line_median = gps.groupby(['line_id'],as_index=True).datetime_diff.median().astype(int).to_dict()"
   ]
  },
  {
   "cell_type": "code",
   "execution_count": 10,
   "metadata": {},
   "outputs": [
    {
     "data": {
      "image/png": "[encoded data removed]",
      "text/plain": [
       "<Figure size 1440x360 with 1 Axes>"
      ]
     },
     "metadata": {
      "needs_background": "light"
     },
     "output_type": "display_data"
    }
   ],
   "source": [
    "plt.figure(figsize=(20,5))\n",
    "gps.line_id.value_counts().plot(kind = 'bar');"
   ]
  },
  {
   "cell_type": "code",
   "execution_count": 11,
   "metadata": {},
   "outputs": [
    {
     "data": {
      "text/plain": [
       "(1904104, 12)"
      ]
     },
     "execution_count": 11,
     "metadata": {},
     "output_type": "execute_result"
    }
   ],
   "source": [
    "gps.shape"
   ]
  },
  {
   "cell_type": "markdown",
   "metadata": {},
   "source": [
    "# Timetable"
   ]
  },
  {
   "cell_type": "code",
   "execution_count": 12,
   "metadata": {},
   "outputs": [],
   "source": [
    "stations_paths = pd.read_csv('../Data preprocessing/data/stations_paths.csv')\n",
    "stations_paths.tag.astype(int);"
   ]
  },
  {
   "cell_type": "code",
   "execution_count": 13,
   "metadata": {},
   "outputs": [],
   "source": [
    "def increment_time(*x):\n",
    "    if np.isnan(x[-1]):\n",
    "        return logtime['logreg'][0] + timedelta(0,logtime['logreg'][1])\n",
    "    else:\n",
    "        if x[-2] != 1 :\n",
    "            time = logtime['logreg'][0] + timedelta(0,logtime['logreg'][1])\n",
    "            logtime['logreg'][1] = x[-1]\n",
    "            logtime['logreg'][0] = time\n",
    "            return time\n",
    "        else :\n",
    "            logtime['logreg'] =  [x[1], x[-1]]\n",
    "            return  logtime['logreg'][0]"
   ]
  },
  {
   "cell_type": "markdown",
   "metadata": {},
   "source": [
    "## TGM"
   ]
  },
  {
   "cell_type": "code",
   "execution_count": 14,
   "metadata": {},
   "outputs": [],
   "source": [
    "horaires_tgm = pd.read_csv('../transtu data/marche-horaire-tgm.csv', sep=';', encoding = 'ISO-8859-1')"
   ]
  },
  {
   "cell_type": "code",
   "execution_count": 15,
   "metadata": {},
   "outputs": [
    {
     "data": {
      "text/html": [
       "<div>\n",
       "<style scoped>\n",
       "    .dataframe tbody tr th:only-of-type {\n",
       "        vertical-align: middle;\n",
       "    }\n",
       "\n",
       "    .dataframe tbody tr th {\n",
       "        vertical-align: top;\n",
       "    }\n",
       "\n",
       "    .dataframe thead th {\n",
       "        text-align: right;\n",
       "    }\n",
       "</style>\n",
       "<table border=\"1\" class=\"dataframe\">\n",
       "  <thead>\n",
       "    <tr style=\"text-align: right;\">\n",
       "      <th></th>\n",
       "      <th>line_label</th>\n",
       "      <th>horaires</th>\n",
       "      <th>tag</th>\n",
       "    </tr>\n",
       "  </thead>\n",
       "  <tbody>\n",
       "    <tr>\n",
       "      <th>0</th>\n",
       "      <td>TGM</td>\n",
       "      <td>03:30:00</td>\n",
       "      <td>0</td>\n",
       "    </tr>\n",
       "    <tr>\n",
       "      <th>1</th>\n",
       "      <td>TGM</td>\n",
       "      <td>04:18:00</td>\n",
       "      <td>0</td>\n",
       "    </tr>\n",
       "    <tr>\n",
       "      <th>2</th>\n",
       "      <td>TGM</td>\n",
       "      <td>05:00:00</td>\n",
       "      <td>0</td>\n",
       "    </tr>\n",
       "    <tr>\n",
       "      <th>3</th>\n",
       "      <td>TGM</td>\n",
       "      <td>05:24:00</td>\n",
       "      <td>0</td>\n",
       "    </tr>\n",
       "    <tr>\n",
       "      <th>4</th>\n",
       "      <td>TGM</td>\n",
       "      <td>05:42:00</td>\n",
       "      <td>0</td>\n",
       "    </tr>\n",
       "  </tbody>\n",
       "</table>\n",
       "</div>"
      ],
      "text/plain": [
       "  line_label  horaires  tag\n",
       "0        TGM  03:30:00    0\n",
       "1        TGM  04:18:00    0\n",
       "2        TGM  05:00:00    0\n",
       "3        TGM  05:24:00    0\n",
       "4        TGM  05:42:00    0"
      ]
     },
     "execution_count": 15,
     "metadata": {},
     "output_type": "execute_result"
    }
   ],
   "source": [
    "horaires_tgm.drop(['sens ','Unnamed: 5','Unnamed: 6'], axis=1, inplace=True)\n",
    "horaires_tgm = horaires_tgm.rename({'Sens ':'tag',  'ligne TGM (Tunis Marine vers Marsa )':'line_label', 'horaires (du Lundi à samedi)':'horaires'},axis=1)\n",
    "horaires_tgm.drop('horaires (dimanche)',axis = 1, inplace = True)\n",
    "horaires_tgm.tag = horaires_tgm.tag.apply(lambda x : 0 if x =='aller' else 1)\n",
    "horaires_tgm.head()"
   ]
  },
  {
   "cell_type": "code",
   "execution_count": 16,
   "metadata": {},
   "outputs": [],
   "source": [
    "horaires_tgm = horaires_tgm.merge(stations_paths[['line_id','tag','line_label']].groupby('line_id', as_index=False).first(), on  = ['line_label','tag'] ) "
   ]
  },
  {
   "cell_type": "code",
   "execution_count": 17,
   "metadata": {},
   "outputs": [],
   "source": [
    "#repeat lines to match number of stations for each path\n",
    "train = pd.DataFrame(columns=horaires_tgm.columns)\n",
    "for line_id in horaires_tgm.line_id.unique():\n",
    "    nb_stations = stations_paths.query('line_id == '+str(line_id)).shape[0]\n",
    "    train = train.append(horaires_tgm.loc[horaires_tgm[horaires_tgm.line_id == line_id].index.repeat(nb_stations)])"
   ]
  },
  {
   "cell_type": "code",
   "execution_count": 18,
   "metadata": {},
   "outputs": [],
   "source": [
    "#increment order with respect to number of stations for each lines\n",
    "train['order'] = train.groupby(['line_id','horaires']).cumcount()+1"
   ]
  },
  {
   "cell_type": "code",
   "execution_count": 19,
   "metadata": {},
   "outputs": [],
   "source": [
    "#get the median time for each 2 consecutive stations in each line\n",
    "line_ids = train.line_id.unique()\n",
    "#here\n",
    "deltatime_group = gps[(gps.line_id.isin(line_ids))].groupby(['line_id','order'],as_index=True).datetime_diff.median()\n",
    "train = train.merge(deltatime_group, on=['line_id','order'], how='left')\n",
    "train.horaires = train.horaires.apply(lambda x : datetime.strptime('2000-1-1'+' '+x, '%Y-%m-%d %H:%M:%S'))"
   ]
  },
  {
   "cell_type": "code",
   "execution_count": 20,
   "metadata": {},
   "outputs": [],
   "source": [
    "#increment time between stations\n",
    "logtime = dict()\n",
    "train.horaires = train.apply(lambda x : increment_time(*x), axis=1).dt.time"
   ]
  },
  {
   "cell_type": "code",
   "execution_count": 21,
   "metadata": {},
   "outputs": [],
   "source": [
    "#add station coordinates\n",
    "train = train.merge(stations_paths[['line_id','order','station_id','latitude','longitude']], on=['line_id','order'])"
   ]
  },
  {
   "cell_type": "code",
   "execution_count": 22,
   "metadata": {},
   "outputs": [],
   "source": [
    "#add Trip Number\n",
    "train = train.sort_values(['line_id','order'])\n",
    "train['TripNb'] = train.groupby(['line_id','order']).cumcount()+1"
   ]
  },
  {
   "cell_type": "code",
   "execution_count": 23,
   "metadata": {},
   "outputs": [
    {
     "data": {
      "text/html": [
       "<div>\n",
       "<style scoped>\n",
       "    .dataframe tbody tr th:only-of-type {\n",
       "        vertical-align: middle;\n",
       "    }\n",
       "\n",
       "    .dataframe tbody tr th {\n",
       "        vertical-align: top;\n",
       "    }\n",
       "\n",
       "    .dataframe thead th {\n",
       "        text-align: right;\n",
       "    }\n",
       "</style>\n",
       "<table border=\"1\" class=\"dataframe\">\n",
       "  <thead>\n",
       "    <tr style=\"text-align: right;\">\n",
       "      <th></th>\n",
       "      <th>line_label</th>\n",
       "      <th>horaires</th>\n",
       "      <th>tag</th>\n",
       "      <th>line_id</th>\n",
       "      <th>order</th>\n",
       "      <th>datetime_diff</th>\n",
       "      <th>station_id</th>\n",
       "      <th>latitude</th>\n",
       "      <th>longitude</th>\n",
       "      <th>TripNb</th>\n",
       "    </tr>\n",
       "  </thead>\n",
       "  <tbody>\n",
       "    <tr>\n",
       "      <th>0</th>\n",
       "      <td>TGM</td>\n",
       "      <td>03:30:00</td>\n",
       "      <td>0</td>\n",
       "      <td>10</td>\n",
       "      <td>1</td>\n",
       "      <td>997.0</td>\n",
       "      <td>72</td>\n",
       "      <td>36.800742</td>\n",
       "      <td>10.192478</td>\n",
       "      <td>1</td>\n",
       "    </tr>\n",
       "    <tr>\n",
       "      <th>1</th>\n",
       "      <td>TGM</td>\n",
       "      <td>03:46:37</td>\n",
       "      <td>0</td>\n",
       "      <td>10</td>\n",
       "      <td>2</td>\n",
       "      <td>114.0</td>\n",
       "      <td>73</td>\n",
       "      <td>36.814178</td>\n",
       "      <td>10.292450</td>\n",
       "      <td>1</td>\n",
       "    </tr>\n",
       "    <tr>\n",
       "      <th>2</th>\n",
       "      <td>TGM</td>\n",
       "      <td>03:48:31</td>\n",
       "      <td>0</td>\n",
       "      <td>10</td>\n",
       "      <td>3</td>\n",
       "      <td>68.0</td>\n",
       "      <td>74</td>\n",
       "      <td>36.818051</td>\n",
       "      <td>10.301940</td>\n",
       "      <td>1</td>\n",
       "    </tr>\n",
       "    <tr>\n",
       "      <th>3</th>\n",
       "      <td>TGM</td>\n",
       "      <td>03:49:39</td>\n",
       "      <td>0</td>\n",
       "      <td>10</td>\n",
       "      <td>4</td>\n",
       "      <td>85.0</td>\n",
       "      <td>75</td>\n",
       "      <td>36.819845</td>\n",
       "      <td>10.305601</td>\n",
       "      <td>1</td>\n",
       "    </tr>\n",
       "    <tr>\n",
       "      <th>4</th>\n",
       "      <td>TGM</td>\n",
       "      <td>03:51:04</td>\n",
       "      <td>0</td>\n",
       "      <td>10</td>\n",
       "      <td>5</td>\n",
       "      <td>54.0</td>\n",
       "      <td>76</td>\n",
       "      <td>36.824201</td>\n",
       "      <td>10.308773</td>\n",
       "      <td>1</td>\n",
       "    </tr>\n",
       "  </tbody>\n",
       "</table>\n",
       "</div>"
      ],
      "text/plain": [
       "  line_label  horaires tag line_id  order  datetime_diff  station_id  \\\n",
       "0        TGM  03:30:00   0      10      1          997.0          72   \n",
       "1        TGM  03:46:37   0      10      2          114.0          73   \n",
       "2        TGM  03:48:31   0      10      3           68.0          74   \n",
       "3        TGM  03:49:39   0      10      4           85.0          75   \n",
       "4        TGM  03:51:04   0      10      5           54.0          76   \n",
       "\n",
       "    latitude  longitude  TripNb  \n",
       "0  36.800742  10.192478       1  \n",
       "1  36.814178  10.292450       1  \n",
       "2  36.818051  10.301940       1  \n",
       "3  36.819845  10.305601       1  \n",
       "4  36.824201  10.308773       1  "
      ]
     },
     "execution_count": 23,
     "metadata": {},
     "output_type": "execute_result"
    }
   ],
   "source": [
    "#sort values and remove microseconds\n",
    "train.horaires = train.horaires.apply(lambda x : x.replace(x.hour,x.minute,x.second,0))\n",
    "train = train.sort_values(['line_id', 'TripNb']).reset_index(drop = True)\n",
    "train.head()"
   ]
  },
  {
   "cell_type": "code",
   "execution_count": 24,
   "metadata": {},
   "outputs": [
    {
     "data": {
      "text/plain": [
       "<AxesSubplot:xlabel='latitude', ylabel='longitude'>"
      ]
     },
     "execution_count": 24,
     "metadata": {},
     "output_type": "execute_result"
    },
    {
     "data": {
      "image/png": "[encoded data removed]",
      "text/plain": [
       "<Figure size 1440x504 with 1 Axes>"
      ]
     },
     "metadata": {
      "needs_background": "light"
     },
     "output_type": "display_data"
    }
   ],
   "source": [
    "plt.figure(figsize= (20,7))\n",
    "sns.scatterplot(data = train.drop(['horaires','TripNb'], axis=1).drop_duplicates(), x='latitude', y='longitude', hue = 'line_label')"
   ]
  },
  {
   "cell_type": "markdown",
   "metadata": {},
   "source": [
    "## Metro"
   ]
  },
  {
   "cell_type": "code",
   "execution_count": 25,
   "metadata": {},
   "outputs": [],
   "source": [
    "horaires_metro = pd.read_csv('../transtu data/marche-horaire-lignes-metro.csv', sep=';', encoding = 'ISO-8859-1')"
   ]
  },
  {
   "cell_type": "code",
   "execution_count": 26,
   "metadata": {},
   "outputs": [
    {
     "data": {
      "text/html": [
       "<div>\n",
       "<style scoped>\n",
       "    .dataframe tbody tr th:only-of-type {\n",
       "        vertical-align: middle;\n",
       "    }\n",
       "\n",
       "    .dataframe tbody tr th {\n",
       "        vertical-align: top;\n",
       "    }\n",
       "\n",
       "    .dataframe thead th {\n",
       "        text-align: right;\n",
       "    }\n",
       "</style>\n",
       "<table border=\"1\" class=\"dataframe\">\n",
       "  <thead>\n",
       "    <tr style=\"text-align: right;\">\n",
       "      <th></th>\n",
       "      <th>ligne 1 (TGM vers Ben Arous)</th>\n",
       "      <th>horaires (du Lundi à samedi)</th>\n",
       "      <th>tag</th>\n",
       "      <th>horaires (dimanche)</th>\n",
       "    </tr>\n",
       "  </thead>\n",
       "  <tbody>\n",
       "    <tr>\n",
       "      <th>0</th>\n",
       "      <td>ligne 1</td>\n",
       "      <td>03:58</td>\n",
       "      <td>aller</td>\n",
       "      <td>03:52</td>\n",
       "    </tr>\n",
       "    <tr>\n",
       "      <th>1</th>\n",
       "      <td>ligne 1</td>\n",
       "      <td>04:30</td>\n",
       "      <td>aller</td>\n",
       "      <td>04:25</td>\n",
       "    </tr>\n",
       "    <tr>\n",
       "      <th>2</th>\n",
       "      <td>ligne 1</td>\n",
       "      <td>05:00</td>\n",
       "      <td>aller</td>\n",
       "      <td>05:09</td>\n",
       "    </tr>\n",
       "    <tr>\n",
       "      <th>3</th>\n",
       "      <td>ligne 1</td>\n",
       "      <td>05:15</td>\n",
       "      <td>aller</td>\n",
       "      <td>05:26</td>\n",
       "    </tr>\n",
       "    <tr>\n",
       "      <th>4</th>\n",
       "      <td>ligne 1</td>\n",
       "      <td>05:32</td>\n",
       "      <td>aller</td>\n",
       "      <td>05:43</td>\n",
       "    </tr>\n",
       "  </tbody>\n",
       "</table>\n",
       "</div>"
      ],
      "text/plain": [
       "  ligne 1 (TGM vers Ben Arous) horaires (du Lundi à samedi)    tag  \\\n",
       "0                      ligne 1                        03:58  aller   \n",
       "1                      ligne 1                        04:30  aller   \n",
       "2                      ligne 1                        05:00  aller   \n",
       "3                      ligne 1                        05:15  aller   \n",
       "4                      ligne 1                        05:32  aller   \n",
       "\n",
       "  horaires (dimanche)  \n",
       "0               03:52  \n",
       "1               04:25  \n",
       "2               05:09  \n",
       "3               05:26  \n",
       "4               05:43  "
      ]
     },
     "execution_count": 26,
     "metadata": {},
     "output_type": "execute_result"
    }
   ],
   "source": [
    "horaires_metro = horaires_metro[['ligne 1 (TGM vers Ben Arous)','horaires (du Lundi à samedi)','Sens ','horaires (dimanche)']].rename({'Sens ':'tag'},axis=1)\n",
    "horaires_metro.head()"
   ]
  },
  {
   "cell_type": "code",
   "execution_count": 27,
   "metadata": {},
   "outputs": [],
   "source": [
    "horaires_metro.drop('horaires (dimanche)', axis=1, inplace=True)\n",
    "horaires_metro.tag = horaires_metro.tag.apply(lambda x : 1 if 'retour' in x else 0)\n",
    "horaires_metro.rename({'ligne 1 (TGM vers Ben Arous)':'line_label', 'horaires (du Lundi à samedi)':'horaires' } , axis = 1, inplace=True)\n",
    "horaires_metro.line_label = horaires_metro.line_label.str.split(' ').apply(lambda x : x[-1])"
   ]
  },
  {
   "cell_type": "code",
   "execution_count": 28,
   "metadata": {},
   "outputs": [
    {
     "data": {
      "text/plain": [
       "Index(['latitude', 'longitude', 'station_id', 'line_id', 'order',\n",
       "       'english_name', 'french_name', 'arabic_name', 'path_id', 'line_label',\n",
       "       'tag', 'vehicle_type'],\n",
       "      dtype='object')"
      ]
     },
     "execution_count": 28,
     "metadata": {},
     "output_type": "execute_result"
    }
   ],
   "source": [
    "stations_paths.columns"
   ]
  },
  {
   "cell_type": "code",
   "execution_count": 29,
   "metadata": {},
   "outputs": [],
   "source": [
    "horaires_metro.horaires = horaires_metro.horaires+':00'"
   ]
  },
  {
   "cell_type": "code",
   "execution_count": 30,
   "metadata": {},
   "outputs": [
    {
     "data": {
      "text/html": [
       "<div>\n",
       "<style scoped>\n",
       "    .dataframe tbody tr th:only-of-type {\n",
       "        vertical-align: middle;\n",
       "    }\n",
       "\n",
       "    .dataframe tbody tr th {\n",
       "        vertical-align: top;\n",
       "    }\n",
       "\n",
       "    .dataframe thead th {\n",
       "        text-align: right;\n",
       "    }\n",
       "</style>\n",
       "<table border=\"1\" class=\"dataframe\">\n",
       "  <thead>\n",
       "    <tr style=\"text-align: right;\">\n",
       "      <th></th>\n",
       "      <th>line_label</th>\n",
       "      <th>horaires</th>\n",
       "      <th>tag</th>\n",
       "    </tr>\n",
       "  </thead>\n",
       "  <tbody>\n",
       "    <tr>\n",
       "      <th>0</th>\n",
       "      <td>1</td>\n",
       "      <td>03:58:00</td>\n",
       "      <td>0</td>\n",
       "    </tr>\n",
       "    <tr>\n",
       "      <th>1</th>\n",
       "      <td>1</td>\n",
       "      <td>04:30:00</td>\n",
       "      <td>0</td>\n",
       "    </tr>\n",
       "    <tr>\n",
       "      <th>2</th>\n",
       "      <td>1</td>\n",
       "      <td>05:00:00</td>\n",
       "      <td>0</td>\n",
       "    </tr>\n",
       "    <tr>\n",
       "      <th>3</th>\n",
       "      <td>1</td>\n",
       "      <td>05:15:00</td>\n",
       "      <td>0</td>\n",
       "    </tr>\n",
       "    <tr>\n",
       "      <th>4</th>\n",
       "      <td>1</td>\n",
       "      <td>05:32:00</td>\n",
       "      <td>0</td>\n",
       "    </tr>\n",
       "  </tbody>\n",
       "</table>\n",
       "</div>"
      ],
      "text/plain": [
       "  line_label  horaires  tag\n",
       "0          1  03:58:00    0\n",
       "1          1  04:30:00    0\n",
       "2          1  05:00:00    0\n",
       "3          1  05:15:00    0\n",
       "4          1  05:32:00    0"
      ]
     },
     "execution_count": 30,
     "metadata": {},
     "output_type": "execute_result"
    }
   ],
   "source": [
    "horaires_metro.head()"
   ]
  },
  {
   "cell_type": "code",
   "execution_count": 31,
   "metadata": {},
   "outputs": [],
   "source": [
    "#match line_label and tag with scheduled Trips\n",
    "horaires_metro = horaires_metro.merge(stations_paths[['line_id','tag','line_label']].groupby('line_id', as_index=False).first(), on  =['line_label','tag'] ) "
   ]
  },
  {
   "cell_type": "code",
   "execution_count": 32,
   "metadata": {},
   "outputs": [],
   "source": [
    "#repeat lines to match number of stations for each path\n",
    "metro = pd.DataFrame(columns=horaires_metro.columns)\n",
    "for line_id in horaires_metro.line_id.unique():\n",
    "    nb_stations = stations_paths.query('line_id == '+str(line_id)).shape[0]\n",
    "    metro = metro.append(horaires_metro.loc[horaires_metro[horaires_metro.line_id == line_id].index.repeat(nb_stations)])"
   ]
  },
  {
   "cell_type": "code",
   "execution_count": 33,
   "metadata": {},
   "outputs": [],
   "source": [
    "#increment order with respect to number of stations for each lines\n",
    "metro['order'] = metro.groupby(['line_id','horaires']).cumcount()+1"
   ]
  },
  {
   "cell_type": "code",
   "execution_count": 34,
   "metadata": {},
   "outputs": [],
   "source": [
    "#get the median time for each 2 consecutive stations in each line\n",
    "line_ids = metro.line_id.unique()\n",
    "#here\n",
    "deltatime_group = gps[(gps.line_id.isin(line_ids))].groupby(['line_id','order'],as_index=True).datetime_diff.median()\n",
    "metro = metro.merge(deltatime_group, on=['line_id','order'], how='left')\n",
    "metro.horaires = metro.horaires.apply(lambda x : datetime.strptime('2000-1-1'+' '+x, '%Y-%m-%d %H:%M:%S'))"
   ]
  },
  {
   "cell_type": "code",
   "execution_count": 35,
   "metadata": {},
   "outputs": [],
   "source": [
    "#increment time between stations\n",
    "logtime = dict()\n",
    "metro.horaires = metro.apply(lambda x : increment_time(*x), axis=1).dt.time"
   ]
  },
  {
   "cell_type": "code",
   "execution_count": 36,
   "metadata": {},
   "outputs": [],
   "source": [
    "#add station coordinates\n",
    "metro = metro.merge(stations_paths[['line_id','order','station_id','latitude','longitude']], on=['line_id','order'])"
   ]
  },
  {
   "cell_type": "code",
   "execution_count": 37,
   "metadata": {},
   "outputs": [],
   "source": [
    "#add Trip Number\n",
    "metro = metro.sort_values(['line_id','order'])\n",
    "metro['TripNb'] = metro.groupby(['line_id','order']).cumcount()+1"
   ]
  },
  {
   "cell_type": "code",
   "execution_count": 38,
   "metadata": {},
   "outputs": [
    {
     "data": {
      "text/html": [
       "<div>\n",
       "<style scoped>\n",
       "    .dataframe tbody tr th:only-of-type {\n",
       "        vertical-align: middle;\n",
       "    }\n",
       "\n",
       "    .dataframe tbody tr th {\n",
       "        vertical-align: top;\n",
       "    }\n",
       "\n",
       "    .dataframe thead th {\n",
       "        text-align: right;\n",
       "    }\n",
       "</style>\n",
       "<table border=\"1\" class=\"dataframe\">\n",
       "  <thead>\n",
       "    <tr style=\"text-align: right;\">\n",
       "      <th></th>\n",
       "      <th>line_label</th>\n",
       "      <th>horaires</th>\n",
       "      <th>tag</th>\n",
       "      <th>line_id</th>\n",
       "      <th>order</th>\n",
       "      <th>datetime_diff</th>\n",
       "      <th>station_id</th>\n",
       "      <th>latitude</th>\n",
       "      <th>longitude</th>\n",
       "      <th>TripNb</th>\n",
       "    </tr>\n",
       "  </thead>\n",
       "  <tbody>\n",
       "    <tr>\n",
       "      <th>0</th>\n",
       "      <td>5</td>\n",
       "      <td>04:26:00</td>\n",
       "      <td>1</td>\n",
       "      <td>1</td>\n",
       "      <td>1</td>\n",
       "      <td>219.0</td>\n",
       "      <td>1</td>\n",
       "      <td>36.838918</td>\n",
       "      <td>10.117072</td>\n",
       "      <td>1</td>\n",
       "    </tr>\n",
       "    <tr>\n",
       "      <th>1</th>\n",
       "      <td>5</td>\n",
       "      <td>04:29:39</td>\n",
       "      <td>1</td>\n",
       "      <td>1</td>\n",
       "      <td>2</td>\n",
       "      <td>129.0</td>\n",
       "      <td>2</td>\n",
       "      <td>36.835840</td>\n",
       "      <td>10.117590</td>\n",
       "      <td>1</td>\n",
       "    </tr>\n",
       "    <tr>\n",
       "      <th>2</th>\n",
       "      <td>5</td>\n",
       "      <td>04:31:48</td>\n",
       "      <td>1</td>\n",
       "      <td>1</td>\n",
       "      <td>3</td>\n",
       "      <td>76.0</td>\n",
       "      <td>3</td>\n",
       "      <td>36.830582</td>\n",
       "      <td>10.124005</td>\n",
       "      <td>1</td>\n",
       "    </tr>\n",
       "    <tr>\n",
       "      <th>3</th>\n",
       "      <td>5</td>\n",
       "      <td>04:33:04</td>\n",
       "      <td>1</td>\n",
       "      <td>1</td>\n",
       "      <td>4</td>\n",
       "      <td>109.0</td>\n",
       "      <td>4</td>\n",
       "      <td>36.829180</td>\n",
       "      <td>10.128620</td>\n",
       "      <td>1</td>\n",
       "    </tr>\n",
       "    <tr>\n",
       "      <th>4</th>\n",
       "      <td>5</td>\n",
       "      <td>04:34:53</td>\n",
       "      <td>1</td>\n",
       "      <td>1</td>\n",
       "      <td>5</td>\n",
       "      <td>113.0</td>\n",
       "      <td>5</td>\n",
       "      <td>36.825880</td>\n",
       "      <td>10.134540</td>\n",
       "      <td>1</td>\n",
       "    </tr>\n",
       "  </tbody>\n",
       "</table>\n",
       "</div>"
      ],
      "text/plain": [
       "  line_label  horaires tag line_id  order  datetime_diff  station_id  \\\n",
       "0          5  04:26:00   1       1      1          219.0           1   \n",
       "1          5  04:29:39   1       1      2          129.0           2   \n",
       "2          5  04:31:48   1       1      3           76.0           3   \n",
       "3          5  04:33:04   1       1      4          109.0           4   \n",
       "4          5  04:34:53   1       1      5          113.0           5   \n",
       "\n",
       "    latitude  longitude  TripNb  \n",
       "0  36.838918  10.117072       1  \n",
       "1  36.835840  10.117590       1  \n",
       "2  36.830582  10.124005       1  \n",
       "3  36.829180  10.128620       1  \n",
       "4  36.825880  10.134540       1  "
      ]
     },
     "execution_count": 38,
     "metadata": {},
     "output_type": "execute_result"
    }
   ],
   "source": [
    "#sort values and delete microseconds\n",
    "metro.horaires = metro.horaires.apply(lambda x : x.replace(x.hour,x.minute,x.second,0))\n",
    "metro = metro.sort_values(['line_id', 'TripNb']).reset_index(drop = True)\n",
    "metro.head()"
   ]
  },
  {
   "cell_type": "code",
   "execution_count": 39,
   "metadata": {},
   "outputs": [
    {
     "data": {
      "text/plain": [
       "array(['5', '2', '3', '4', '1', '6'], dtype=object)"
      ]
     },
     "execution_count": 39,
     "metadata": {},
     "output_type": "execute_result"
    }
   ],
   "source": [
    "metro.line_label.unique()"
   ]
  },
  {
   "cell_type": "code",
   "execution_count": 40,
   "metadata": {},
   "outputs": [
    {
     "data": {
      "text/plain": [
       "<AxesSubplot:xlabel='latitude', ylabel='longitude'>"
      ]
     },
     "execution_count": 40,
     "metadata": {},
     "output_type": "execute_result"
    },
    {
     "data": {
      "image/png": "[encoded data removed]",
      "text/plain": [
       "<Figure size 1440x504 with 1 Axes>"
      ]
     },
     "metadata": {
      "needs_background": "light"
     },
     "output_type": "display_data"
    }
   ],
   "source": [
    "plt.figure(figsize= (20,7))\n",
    "sns.scatterplot(data = metro.drop(['horaires','TripNb'], axis=1).drop_duplicates(), x='latitude', y='longitude')"
   ]
  },
  {
   "cell_type": "markdown",
   "metadata": {},
   "source": [
    "## Bus"
   ]
  },
  {
   "cell_type": "code",
   "execution_count": 41,
   "metadata": {},
   "outputs": [
    {
     "data": {
      "text/plain": [
       "['104',\n",
       " '78',\n",
       " '4A',\n",
       " '32',\n",
       " '32B',\n",
       " '36',\n",
       " '79',\n",
       " '65',\n",
       " '36B',\n",
       " '43',\n",
       " '15',\n",
       " '15A',\n",
       " '15B',\n",
       " '12',\n",
       " '43B',\n",
       " '11']"
      ]
     },
     "execution_count": 41,
     "metadata": {},
     "output_type": "execute_result"
    }
   ],
   "source": [
    "busstations = stations_paths[stations_paths.vehicle_type == 3].line_label.unique().tolist()\n",
    "busstations"
   ]
  },
  {
   "cell_type": "code",
   "execution_count": 42,
   "metadata": {},
   "outputs": [],
   "source": [
    "#data from official Transtu website.\n",
    "horaires_Bus = []\n",
    "horaires_Bus.append(['104','05:50','06:50','18:15','19:10',40])\n",
    "horaires_Bus.append(['36','08:00','07:30','17:40','18:10',80])\n",
    "horaires_Bus.append(['43B','07:30','06:45','13:30','14:15',90])\n",
    "horaires_Bus.append(['11','06:00','06:30','19:50','20:30',50])\n",
    "horaires_Bus.append(['65','05:40','05:00','19:40','19:10',20])\n",
    "horaires_Bus.append(['78','05:30','06:30','18:50','19:50',30])\n",
    "horaires_Bus.append(['79','05:30','06:20','18:50','19:50',30])\n",
    "horaires_Bus.append(['4A','04:10','04:40','23:00','23:30',40])\n",
    "horaires_Bus.append(['12','04:15','05:45','22:40','23:30',40])\n",
    "horaires_Bus.append(['15A','06:00','06:40','18:00','18:40',80])\n",
    "horaires_Bus.append(['15B','06:10','06:50','19:30','20:10',80])\n",
    "horaires_Bus.append(['15','06:20','07:00','18:50','19:40',80])\n",
    "horaires_Bus.append(['32','03:10','04:40','22:45','23:15',20])\n",
    "horaires_Bus.append(['32B','05:00','06:00','18:00','19:30',30])\n",
    "horaires_Bus.append(['36B','08:30','08:00','-','17:25',0])\n",
    "horaires_Bus.append(['43','09:00','-','14:20','-',40])"
   ]
  },
  {
   "cell_type": "code",
   "execution_count": 43,
   "metadata": {},
   "outputs": [],
   "source": [
    "horaires_Bus = pd.DataFrame(horaires_Bus,columns=['line_label','premier_aller','premier_retour','dernier_aller','dernier_retour','frequence'])"
   ]
  },
  {
   "cell_type": "code",
   "execution_count": 44,
   "metadata": {},
   "outputs": [
    {
     "data": {
      "text/html": [
       "<div>\n",
       "<style scoped>\n",
       "    .dataframe tbody tr th:only-of-type {\n",
       "        vertical-align: middle;\n",
       "    }\n",
       "\n",
       "    .dataframe tbody tr th {\n",
       "        vertical-align: top;\n",
       "    }\n",
       "\n",
       "    .dataframe thead th {\n",
       "        text-align: right;\n",
       "    }\n",
       "</style>\n",
       "<table border=\"1\" class=\"dataframe\">\n",
       "  <thead>\n",
       "    <tr style=\"text-align: right;\">\n",
       "      <th></th>\n",
       "      <th>line_label</th>\n",
       "      <th>premier_aller</th>\n",
       "      <th>premier_retour</th>\n",
       "      <th>dernier_aller</th>\n",
       "      <th>dernier_retour</th>\n",
       "      <th>frequence</th>\n",
       "    </tr>\n",
       "  </thead>\n",
       "  <tbody>\n",
       "    <tr>\n",
       "      <th>0</th>\n",
       "      <td>104</td>\n",
       "      <td>05:50</td>\n",
       "      <td>06:50</td>\n",
       "      <td>18:15</td>\n",
       "      <td>19:10</td>\n",
       "      <td>40</td>\n",
       "    </tr>\n",
       "    <tr>\n",
       "      <th>1</th>\n",
       "      <td>36</td>\n",
       "      <td>08:00</td>\n",
       "      <td>07:30</td>\n",
       "      <td>17:40</td>\n",
       "      <td>18:10</td>\n",
       "      <td>80</td>\n",
       "    </tr>\n",
       "    <tr>\n",
       "      <th>2</th>\n",
       "      <td>43B</td>\n",
       "      <td>07:30</td>\n",
       "      <td>06:45</td>\n",
       "      <td>13:30</td>\n",
       "      <td>14:15</td>\n",
       "      <td>90</td>\n",
       "    </tr>\n",
       "    <tr>\n",
       "      <th>3</th>\n",
       "      <td>11</td>\n",
       "      <td>06:00</td>\n",
       "      <td>06:30</td>\n",
       "      <td>19:50</td>\n",
       "      <td>20:30</td>\n",
       "      <td>50</td>\n",
       "    </tr>\n",
       "    <tr>\n",
       "      <th>4</th>\n",
       "      <td>65</td>\n",
       "      <td>05:40</td>\n",
       "      <td>05:00</td>\n",
       "      <td>19:40</td>\n",
       "      <td>19:10</td>\n",
       "      <td>20</td>\n",
       "    </tr>\n",
       "    <tr>\n",
       "      <th>5</th>\n",
       "      <td>78</td>\n",
       "      <td>05:30</td>\n",
       "      <td>06:30</td>\n",
       "      <td>18:50</td>\n",
       "      <td>19:50</td>\n",
       "      <td>30</td>\n",
       "    </tr>\n",
       "    <tr>\n",
       "      <th>6</th>\n",
       "      <td>79</td>\n",
       "      <td>05:30</td>\n",
       "      <td>06:20</td>\n",
       "      <td>18:50</td>\n",
       "      <td>19:50</td>\n",
       "      <td>30</td>\n",
       "    </tr>\n",
       "    <tr>\n",
       "      <th>7</th>\n",
       "      <td>4A</td>\n",
       "      <td>04:10</td>\n",
       "      <td>04:40</td>\n",
       "      <td>23:00</td>\n",
       "      <td>23:30</td>\n",
       "      <td>40</td>\n",
       "    </tr>\n",
       "    <tr>\n",
       "      <th>8</th>\n",
       "      <td>12</td>\n",
       "      <td>04:15</td>\n",
       "      <td>05:45</td>\n",
       "      <td>22:40</td>\n",
       "      <td>23:30</td>\n",
       "      <td>40</td>\n",
       "    </tr>\n",
       "    <tr>\n",
       "      <th>9</th>\n",
       "      <td>15A</td>\n",
       "      <td>06:00</td>\n",
       "      <td>06:40</td>\n",
       "      <td>18:00</td>\n",
       "      <td>18:40</td>\n",
       "      <td>80</td>\n",
       "    </tr>\n",
       "    <tr>\n",
       "      <th>10</th>\n",
       "      <td>15B</td>\n",
       "      <td>06:10</td>\n",
       "      <td>06:50</td>\n",
       "      <td>19:30</td>\n",
       "      <td>20:10</td>\n",
       "      <td>80</td>\n",
       "    </tr>\n",
       "    <tr>\n",
       "      <th>11</th>\n",
       "      <td>15</td>\n",
       "      <td>06:20</td>\n",
       "      <td>07:00</td>\n",
       "      <td>18:50</td>\n",
       "      <td>19:40</td>\n",
       "      <td>80</td>\n",
       "    </tr>\n",
       "    <tr>\n",
       "      <th>12</th>\n",
       "      <td>32</td>\n",
       "      <td>03:10</td>\n",
       "      <td>04:40</td>\n",
       "      <td>22:45</td>\n",
       "      <td>23:15</td>\n",
       "      <td>20</td>\n",
       "    </tr>\n",
       "    <tr>\n",
       "      <th>13</th>\n",
       "      <td>32B</td>\n",
       "      <td>05:00</td>\n",
       "      <td>06:00</td>\n",
       "      <td>18:00</td>\n",
       "      <td>19:30</td>\n",
       "      <td>30</td>\n",
       "    </tr>\n",
       "    <tr>\n",
       "      <th>14</th>\n",
       "      <td>36B</td>\n",
       "      <td>08:30</td>\n",
       "      <td>08:00</td>\n",
       "      <td>-</td>\n",
       "      <td>17:25</td>\n",
       "      <td>0</td>\n",
       "    </tr>\n",
       "    <tr>\n",
       "      <th>15</th>\n",
       "      <td>43</td>\n",
       "      <td>09:00</td>\n",
       "      <td>-</td>\n",
       "      <td>14:20</td>\n",
       "      <td>-</td>\n",
       "      <td>40</td>\n",
       "    </tr>\n",
       "  </tbody>\n",
       "</table>\n",
       "</div>"
      ],
      "text/plain": [
       "   line_label premier_aller premier_retour dernier_aller dernier_retour  \\\n",
       "0         104         05:50          06:50         18:15          19:10   \n",
       "1          36         08:00          07:30         17:40          18:10   \n",
       "2         43B         07:30          06:45         13:30          14:15   \n",
       "3          11         06:00          06:30         19:50          20:30   \n",
       "4          65         05:40          05:00         19:40          19:10   \n",
       "5          78         05:30          06:30         18:50          19:50   \n",
       "6          79         05:30          06:20         18:50          19:50   \n",
       "7          4A         04:10          04:40         23:00          23:30   \n",
       "8          12         04:15          05:45         22:40          23:30   \n",
       "9         15A         06:00          06:40         18:00          18:40   \n",
       "10        15B         06:10          06:50         19:30          20:10   \n",
       "11         15         06:20          07:00         18:50          19:40   \n",
       "12         32         03:10          04:40         22:45          23:15   \n",
       "13        32B         05:00          06:00         18:00          19:30   \n",
       "14        36B         08:30          08:00             -          17:25   \n",
       "15         43         09:00              -         14:20              -   \n",
       "\n",
       "    frequence  \n",
       "0          40  \n",
       "1          80  \n",
       "2          90  \n",
       "3          50  \n",
       "4          20  \n",
       "5          30  \n",
       "6          30  \n",
       "7          40  \n",
       "8          40  \n",
       "9          80  \n",
       "10         80  \n",
       "11         80  \n",
       "12         20  \n",
       "13         30  \n",
       "14          0  \n",
       "15         40  "
      ]
     },
     "execution_count": 44,
     "metadata": {},
     "output_type": "execute_result"
    }
   ],
   "source": [
    "horaires_Bus"
   ]
  },
  {
   "cell_type": "code",
   "execution_count": 45,
   "metadata": {},
   "outputs": [],
   "source": [
    "#36B\n",
    "horaires_Bus.iloc[14,3] = '16:45'\n",
    "horaires_Bus.iloc[14,5] = 30\n",
    "\n",
    "#43\n",
    "horaires_Bus.iloc[15,2] = '08:00'\n",
    "horaires_Bus.iloc[15,4] = '16:00'"
   ]
  },
  {
   "cell_type": "code",
   "execution_count": 46,
   "metadata": {},
   "outputs": [
    {
     "data": {
      "text/plain": [
       "Index(['104', '11', '12', '15', '15A', '15B', '32', '32B', '36', '36B', '43',\n",
       "       '43B', '4A', '65', '78', '79'],\n",
       "      dtype='object', name='line_label_y')"
      ]
     },
     "execution_count": 46,
     "metadata": {},
     "output_type": "execute_result"
    }
   ],
   "source": [
    "bus_labels = gps[gps.line_id.isin(stations_paths[stations_paths.vehicle_type == 3].line_id)]\\\n",
    "             .merge(stations_paths[['line_id','tag','line_label']]\\\n",
    "             .groupby('line_id', as_index=False).first(), on  =['line_id'] )\\\n",
    "             .groupby('line_label_y').tag.count().index\n",
    "bus_labels"
   ]
  },
  {
   "cell_type": "code",
   "execution_count": 47,
   "metadata": {},
   "outputs": [],
   "source": [
    "horaires_Bus = horaires_Bus[horaires_Bus.line_label.isin(bus_labels)]"
   ]
  },
  {
   "cell_type": "code",
   "execution_count": 48,
   "metadata": {},
   "outputs": [],
   "source": [
    "Bus1 = pd.concat([horaires_Bus[['line_label','premier_aller','frequence']], horaires_Bus[['line_label','premier_retour','frequence']]], ignore_index=True, axis=0)\n",
    "Bus2 = pd.concat([horaires_Bus[['line_label','dernier_aller']], horaires_Bus[['line_label','dernier_retour']]], ignore_index=True, axis=0)"
   ]
  },
  {
   "cell_type": "code",
   "execution_count": 49,
   "metadata": {},
   "outputs": [],
   "source": [
    "Bus2.drop('line_label', axis = 1, inplace = True)"
   ]
  },
  {
   "cell_type": "code",
   "execution_count": 50,
   "metadata": {},
   "outputs": [],
   "source": [
    "Bus = pd.concat([Bus1,Bus2], axis = 1)"
   ]
  },
  {
   "cell_type": "code",
   "execution_count": 51,
   "metadata": {},
   "outputs": [
    {
     "data": {
      "text/plain": [
       "16"
      ]
     },
     "execution_count": 51,
     "metadata": {},
     "output_type": "execute_result"
    }
   ],
   "source": [
    "n = int(Bus.shape[0]/2)\n",
    "n"
   ]
  },
  {
   "cell_type": "code",
   "execution_count": 52,
   "metadata": {},
   "outputs": [],
   "source": [
    "Bus['horaires'] = np.concatenate([Bus.iloc[:n].premier_aller.values , Bus.iloc[n:].premier_retour.values] , axis=0)"
   ]
  },
  {
   "cell_type": "code",
   "execution_count": 53,
   "metadata": {},
   "outputs": [],
   "source": [
    "Bus['dernier_horaires'] = np.concatenate([Bus.iloc[:n].dernier_aller.values , Bus.iloc[n:].dernier_retour.values] , axis=0)"
   ]
  },
  {
   "cell_type": "code",
   "execution_count": 54,
   "metadata": {},
   "outputs": [],
   "source": [
    "Bus['tag'] = np.concatenate([np.zeros(n),np.ones(n)*1], axis = 0)"
   ]
  },
  {
   "cell_type": "code",
   "execution_count": 55,
   "metadata": {},
   "outputs": [],
   "source": [
    "Bus.drop(['premier_aller','premier_retour','dernier_aller','dernier_retour'], axis = 1, inplace=True)"
   ]
  },
  {
   "cell_type": "code",
   "execution_count": 56,
   "metadata": {},
   "outputs": [
    {
     "data": {
      "text/html": [
       "<div>\n",
       "<style scoped>\n",
       "    .dataframe tbody tr th:only-of-type {\n",
       "        vertical-align: middle;\n",
       "    }\n",
       "\n",
       "    .dataframe tbody tr th {\n",
       "        vertical-align: top;\n",
       "    }\n",
       "\n",
       "    .dataframe thead th {\n",
       "        text-align: right;\n",
       "    }\n",
       "</style>\n",
       "<table border=\"1\" class=\"dataframe\">\n",
       "  <thead>\n",
       "    <tr style=\"text-align: right;\">\n",
       "      <th></th>\n",
       "      <th>line_label</th>\n",
       "      <th>frequence</th>\n",
       "      <th>horaires</th>\n",
       "      <th>dernier_horaires</th>\n",
       "      <th>tag</th>\n",
       "      <th>line_id</th>\n",
       "    </tr>\n",
       "  </thead>\n",
       "  <tbody>\n",
       "    <tr>\n",
       "      <th>0</th>\n",
       "      <td>104</td>\n",
       "      <td>40</td>\n",
       "      <td>05:50</td>\n",
       "      <td>18:15</td>\n",
       "      <td>0.0</td>\n",
       "      <td>4</td>\n",
       "    </tr>\n",
       "    <tr>\n",
       "      <th>1</th>\n",
       "      <td>36</td>\n",
       "      <td>80</td>\n",
       "      <td>08:00</td>\n",
       "      <td>17:40</td>\n",
       "      <td>0.0</td>\n",
       "      <td>26</td>\n",
       "    </tr>\n",
       "    <tr>\n",
       "      <th>2</th>\n",
       "      <td>43B</td>\n",
       "      <td>90</td>\n",
       "      <td>07:30</td>\n",
       "      <td>13:30</td>\n",
       "      <td>0.0</td>\n",
       "      <td>48</td>\n",
       "    </tr>\n",
       "    <tr>\n",
       "      <th>3</th>\n",
       "      <td>11</td>\n",
       "      <td>50</td>\n",
       "      <td>06:00</td>\n",
       "      <td>19:50</td>\n",
       "      <td>0.0</td>\n",
       "      <td>49</td>\n",
       "    </tr>\n",
       "    <tr>\n",
       "      <th>4</th>\n",
       "      <td>65</td>\n",
       "      <td>20</td>\n",
       "      <td>05:40</td>\n",
       "      <td>19:40</td>\n",
       "      <td>0.0</td>\n",
       "      <td>30</td>\n",
       "    </tr>\n",
       "    <tr>\n",
       "      <th>5</th>\n",
       "      <td>78</td>\n",
       "      <td>30</td>\n",
       "      <td>05:30</td>\n",
       "      <td>18:50</td>\n",
       "      <td>0.0</td>\n",
       "      <td>18</td>\n",
       "    </tr>\n",
       "    <tr>\n",
       "      <th>6</th>\n",
       "      <td>79</td>\n",
       "      <td>30</td>\n",
       "      <td>05:30</td>\n",
       "      <td>18:50</td>\n",
       "      <td>0.0</td>\n",
       "      <td>28</td>\n",
       "    </tr>\n",
       "    <tr>\n",
       "      <th>7</th>\n",
       "      <td>4A</td>\n",
       "      <td>40</td>\n",
       "      <td>04:10</td>\n",
       "      <td>23:00</td>\n",
       "      <td>0.0</td>\n",
       "      <td>20</td>\n",
       "    </tr>\n",
       "    <tr>\n",
       "      <th>8</th>\n",
       "      <td>12</td>\n",
       "      <td>40</td>\n",
       "      <td>04:15</td>\n",
       "      <td>22:40</td>\n",
       "      <td>0.0</td>\n",
       "      <td>41</td>\n",
       "    </tr>\n",
       "    <tr>\n",
       "      <th>9</th>\n",
       "      <td>15A</td>\n",
       "      <td>80</td>\n",
       "      <td>06:00</td>\n",
       "      <td>18:00</td>\n",
       "      <td>0.0</td>\n",
       "      <td>37</td>\n",
       "    </tr>\n",
       "    <tr>\n",
       "      <th>10</th>\n",
       "      <td>15B</td>\n",
       "      <td>80</td>\n",
       "      <td>06:10</td>\n",
       "      <td>19:30</td>\n",
       "      <td>0.0</td>\n",
       "      <td>39</td>\n",
       "    </tr>\n",
       "    <tr>\n",
       "      <th>11</th>\n",
       "      <td>15</td>\n",
       "      <td>80</td>\n",
       "      <td>06:20</td>\n",
       "      <td>18:50</td>\n",
       "      <td>0.0</td>\n",
       "      <td>35</td>\n",
       "    </tr>\n",
       "    <tr>\n",
       "      <th>12</th>\n",
       "      <td>32</td>\n",
       "      <td>20</td>\n",
       "      <td>03:10</td>\n",
       "      <td>22:45</td>\n",
       "      <td>0.0</td>\n",
       "      <td>22</td>\n",
       "    </tr>\n",
       "    <tr>\n",
       "      <th>13</th>\n",
       "      <td>32B</td>\n",
       "      <td>30</td>\n",
       "      <td>05:00</td>\n",
       "      <td>18:00</td>\n",
       "      <td>0.0</td>\n",
       "      <td>23</td>\n",
       "    </tr>\n",
       "    <tr>\n",
       "      <th>14</th>\n",
       "      <td>36B</td>\n",
       "      <td>30</td>\n",
       "      <td>08:30</td>\n",
       "      <td>16:45</td>\n",
       "      <td>0.0</td>\n",
       "      <td>32</td>\n",
       "    </tr>\n",
       "    <tr>\n",
       "      <th>15</th>\n",
       "      <td>43</td>\n",
       "      <td>40</td>\n",
       "      <td>09:00</td>\n",
       "      <td>14:20</td>\n",
       "      <td>0.0</td>\n",
       "      <td>34</td>\n",
       "    </tr>\n",
       "    <tr>\n",
       "      <th>16</th>\n",
       "      <td>104</td>\n",
       "      <td>40</td>\n",
       "      <td>06:50</td>\n",
       "      <td>19:10</td>\n",
       "      <td>1.0</td>\n",
       "      <td>5</td>\n",
       "    </tr>\n",
       "    <tr>\n",
       "      <th>17</th>\n",
       "      <td>36</td>\n",
       "      <td>80</td>\n",
       "      <td>07:30</td>\n",
       "      <td>18:10</td>\n",
       "      <td>1.0</td>\n",
       "      <td>27</td>\n",
       "    </tr>\n",
       "    <tr>\n",
       "      <th>18</th>\n",
       "      <td>43B</td>\n",
       "      <td>90</td>\n",
       "      <td>06:45</td>\n",
       "      <td>14:15</td>\n",
       "      <td>1.0</td>\n",
       "      <td>47</td>\n",
       "    </tr>\n",
       "    <tr>\n",
       "      <th>19</th>\n",
       "      <td>11</td>\n",
       "      <td>50</td>\n",
       "      <td>06:30</td>\n",
       "      <td>20:30</td>\n",
       "      <td>1.0</td>\n",
       "      <td>50</td>\n",
       "    </tr>\n",
       "    <tr>\n",
       "      <th>20</th>\n",
       "      <td>65</td>\n",
       "      <td>20</td>\n",
       "      <td>05:00</td>\n",
       "      <td>19:10</td>\n",
       "      <td>1.0</td>\n",
       "      <td>31</td>\n",
       "    </tr>\n",
       "    <tr>\n",
       "      <th>21</th>\n",
       "      <td>78</td>\n",
       "      <td>30</td>\n",
       "      <td>06:30</td>\n",
       "      <td>19:50</td>\n",
       "      <td>1.0</td>\n",
       "      <td>19</td>\n",
       "    </tr>\n",
       "    <tr>\n",
       "      <th>22</th>\n",
       "      <td>79</td>\n",
       "      <td>30</td>\n",
       "      <td>06:20</td>\n",
       "      <td>19:50</td>\n",
       "      <td>1.0</td>\n",
       "      <td>29</td>\n",
       "    </tr>\n",
       "    <tr>\n",
       "      <th>23</th>\n",
       "      <td>4A</td>\n",
       "      <td>40</td>\n",
       "      <td>04:40</td>\n",
       "      <td>23:30</td>\n",
       "      <td>1.0</td>\n",
       "      <td>21</td>\n",
       "    </tr>\n",
       "    <tr>\n",
       "      <th>24</th>\n",
       "      <td>12</td>\n",
       "      <td>40</td>\n",
       "      <td>05:45</td>\n",
       "      <td>23:30</td>\n",
       "      <td>1.0</td>\n",
       "      <td>44</td>\n",
       "    </tr>\n",
       "    <tr>\n",
       "      <th>25</th>\n",
       "      <td>15A</td>\n",
       "      <td>80</td>\n",
       "      <td>06:40</td>\n",
       "      <td>18:40</td>\n",
       "      <td>1.0</td>\n",
       "      <td>38</td>\n",
       "    </tr>\n",
       "    <tr>\n",
       "      <th>26</th>\n",
       "      <td>15B</td>\n",
       "      <td>80</td>\n",
       "      <td>06:50</td>\n",
       "      <td>20:10</td>\n",
       "      <td>1.0</td>\n",
       "      <td>40</td>\n",
       "    </tr>\n",
       "    <tr>\n",
       "      <th>27</th>\n",
       "      <td>15</td>\n",
       "      <td>80</td>\n",
       "      <td>07:00</td>\n",
       "      <td>19:40</td>\n",
       "      <td>1.0</td>\n",
       "      <td>36</td>\n",
       "    </tr>\n",
       "    <tr>\n",
       "      <th>28</th>\n",
       "      <td>32</td>\n",
       "      <td>20</td>\n",
       "      <td>04:40</td>\n",
       "      <td>23:15</td>\n",
       "      <td>1.0</td>\n",
       "      <td>25</td>\n",
       "    </tr>\n",
       "    <tr>\n",
       "      <th>29</th>\n",
       "      <td>32B</td>\n",
       "      <td>30</td>\n",
       "      <td>06:00</td>\n",
       "      <td>19:30</td>\n",
       "      <td>1.0</td>\n",
       "      <td>24</td>\n",
       "    </tr>\n",
       "    <tr>\n",
       "      <th>30</th>\n",
       "      <td>36B</td>\n",
       "      <td>30</td>\n",
       "      <td>08:00</td>\n",
       "      <td>17:25</td>\n",
       "      <td>1.0</td>\n",
       "      <td>33</td>\n",
       "    </tr>\n",
       "  </tbody>\n",
       "</table>\n",
       "</div>"
      ],
      "text/plain": [
       "   line_label  frequence horaires dernier_horaires  tag  line_id\n",
       "0         104         40    05:50            18:15  0.0        4\n",
       "1          36         80    08:00            17:40  0.0       26\n",
       "2         43B         90    07:30            13:30  0.0       48\n",
       "3          11         50    06:00            19:50  0.0       49\n",
       "4          65         20    05:40            19:40  0.0       30\n",
       "5          78         30    05:30            18:50  0.0       18\n",
       "6          79         30    05:30            18:50  0.0       28\n",
       "7          4A         40    04:10            23:00  0.0       20\n",
       "8          12         40    04:15            22:40  0.0       41\n",
       "9         15A         80    06:00            18:00  0.0       37\n",
       "10        15B         80    06:10            19:30  0.0       39\n",
       "11         15         80    06:20            18:50  0.0       35\n",
       "12         32         20    03:10            22:45  0.0       22\n",
       "13        32B         30    05:00            18:00  0.0       23\n",
       "14        36B         30    08:30            16:45  0.0       32\n",
       "15         43         40    09:00            14:20  0.0       34\n",
       "16        104         40    06:50            19:10  1.0        5\n",
       "17         36         80    07:30            18:10  1.0       27\n",
       "18        43B         90    06:45            14:15  1.0       47\n",
       "19         11         50    06:30            20:30  1.0       50\n",
       "20         65         20    05:00            19:10  1.0       31\n",
       "21         78         30    06:30            19:50  1.0       19\n",
       "22         79         30    06:20            19:50  1.0       29\n",
       "23         4A         40    04:40            23:30  1.0       21\n",
       "24         12         40    05:45            23:30  1.0       44\n",
       "25        15A         80    06:40            18:40  1.0       38\n",
       "26        15B         80    06:50            20:10  1.0       40\n",
       "27         15         80    07:00            19:40  1.0       36\n",
       "28         32         20    04:40            23:15  1.0       25\n",
       "29        32B         30    06:00            19:30  1.0       24\n",
       "30        36B         30    08:00            17:25  1.0       33"
      ]
     },
     "execution_count": 56,
     "metadata": {},
     "output_type": "execute_result"
    }
   ],
   "source": [
    "Bus = Bus.merge(stations_paths[['line_label','tag','line_id']].groupby(['line_label','tag'], as_index=False).first(), on =['line_label','tag'])\n",
    "Bus"
   ]
  },
  {
   "cell_type": "code",
   "execution_count": 57,
   "metadata": {},
   "outputs": [],
   "source": [
    "Bus.frequence = Bus.frequence*60"
   ]
  },
  {
   "cell_type": "code",
   "execution_count": 58,
   "metadata": {},
   "outputs": [],
   "source": [
    "Bus.horaires = Bus.horaires.apply(lambda x : datetime.strptime('2000-1-1'+' '+x+':00', '%Y-%m-%d %H:%M:%S'))"
   ]
  },
  {
   "cell_type": "code",
   "execution_count": 59,
   "metadata": {},
   "outputs": [],
   "source": [
    "Bus.dernier_horaires = Bus.dernier_horaires.apply(lambda x : datetime.strptime('2000-1-1'+' '+x+':00', '%Y-%m-%d %H:%M:%S'))"
   ]
  },
  {
   "cell_type": "code",
   "execution_count": 60,
   "metadata": {},
   "outputs": [
    {
     "name": "stdout",
     "output_type": "stream",
     "text": [
      "line_id :  4\n",
      "line_id :  26\n",
      "line_id :  48\n",
      "line_id :  49\n",
      "line_id :  30\n",
      "line_id :  18\n",
      "line_id :  28\n",
      "line_id :  20\n",
      "line_id :  41\n",
      "line_id :  37\n",
      "line_id :  39\n",
      "line_id :  35\n",
      "line_id :  22\n",
      "line_id :  23\n",
      "line_id :  32\n",
      "line_id :  34\n",
      "line_id :  5\n",
      "line_id :  27\n",
      "line_id :  47\n",
      "line_id :  50\n",
      "line_id :  31\n",
      "line_id :  19\n",
      "line_id :  29\n",
      "line_id :  21\n",
      "line_id :  44\n",
      "line_id :  38\n",
      "line_id :  40\n",
      "line_id :  36\n",
      "line_id :  25\n",
      "line_id :  24\n",
      "line_id :  33\n"
     ]
    }
   ],
   "source": [
    "lines = []\n",
    "record = {}\n",
    "for line in Bus.values :\n",
    "    #loop  = True\n",
    "    print(\"line_id : \",line[-1])\n",
    "    first = True\n",
    "    while True :\n",
    "        if first:\n",
    "            lines.append([line[0],line[2],line[-2]])\n",
    "            first = False\n",
    "        else:\n",
    "            if lines[-1][1] > line[3]:\n",
    "                break\n",
    "                print(line[2],' ',line[3])\n",
    "            else : \n",
    "                time = lines[-1][1] + timedelta(0,line[1])\n",
    "                lines.append([line[0],time,line[-2]])"
   ]
  },
  {
   "cell_type": "code",
   "execution_count": 61,
   "metadata": {},
   "outputs": [
    {
     "data": {
      "text/html": [
       "<div>\n",
       "<style scoped>\n",
       "    .dataframe tbody tr th:only-of-type {\n",
       "        vertical-align: middle;\n",
       "    }\n",
       "\n",
       "    .dataframe tbody tr th {\n",
       "        vertical-align: top;\n",
       "    }\n",
       "\n",
       "    .dataframe thead th {\n",
       "        text-align: right;\n",
       "    }\n",
       "</style>\n",
       "<table border=\"1\" class=\"dataframe\">\n",
       "  <thead>\n",
       "    <tr style=\"text-align: right;\">\n",
       "      <th></th>\n",
       "      <th>line_label</th>\n",
       "      <th>horaires</th>\n",
       "      <th>tag</th>\n",
       "    </tr>\n",
       "  </thead>\n",
       "  <tbody>\n",
       "    <tr>\n",
       "      <th>0</th>\n",
       "      <td>104</td>\n",
       "      <td>05:50:00</td>\n",
       "      <td>0.0</td>\n",
       "    </tr>\n",
       "    <tr>\n",
       "      <th>1</th>\n",
       "      <td>104</td>\n",
       "      <td>06:30:00</td>\n",
       "      <td>0.0</td>\n",
       "    </tr>\n",
       "    <tr>\n",
       "      <th>2</th>\n",
       "      <td>104</td>\n",
       "      <td>07:10:00</td>\n",
       "      <td>0.0</td>\n",
       "    </tr>\n",
       "    <tr>\n",
       "      <th>3</th>\n",
       "      <td>104</td>\n",
       "      <td>07:50:00</td>\n",
       "      <td>0.0</td>\n",
       "    </tr>\n",
       "    <tr>\n",
       "      <th>4</th>\n",
       "      <td>104</td>\n",
       "      <td>08:30:00</td>\n",
       "      <td>0.0</td>\n",
       "    </tr>\n",
       "  </tbody>\n",
       "</table>\n",
       "</div>"
      ],
      "text/plain": [
       "  line_label  horaires  tag\n",
       "0        104  05:50:00  0.0\n",
       "1        104  06:30:00  0.0\n",
       "2        104  07:10:00  0.0\n",
       "3        104  07:50:00  0.0\n",
       "4        104  08:30:00  0.0"
      ]
     },
     "execution_count": 61,
     "metadata": {},
     "output_type": "execute_result"
    }
   ],
   "source": [
    "horaires_Bus = pd.DataFrame(lines, columns=['line_label','horaires','tag'])\n",
    "horaires_Bus.horaires = horaires_Bus.horaires.dt.time.astype(str)\n",
    "horaires_Bus.head()"
   ]
  },
  {
   "cell_type": "code",
   "execution_count": 62,
   "metadata": {},
   "outputs": [
    {
     "data": {
      "text/plain": [
       "(716, 3)"
      ]
     },
     "execution_count": 62,
     "metadata": {},
     "output_type": "execute_result"
    }
   ],
   "source": [
    "horaires_Bus.shape"
   ]
  },
  {
   "cell_type": "code",
   "execution_count": 63,
   "metadata": {},
   "outputs": [],
   "source": [
    "#match line_label and tag with scheduled Trips\n",
    "horaires_Bus = horaires_Bus.merge(stations_paths[['line_id','tag','line_label']].groupby('line_id', as_index=False).first(), on  =['line_label','tag'] ) "
   ]
  },
  {
   "cell_type": "code",
   "execution_count": 64,
   "metadata": {},
   "outputs": [],
   "source": [
    "#repeat lines to match number of stations for each path\n",
    "Bus = pd.DataFrame(columns=horaires_Bus.columns)\n",
    "for line_id in horaires_Bus.line_id.unique():\n",
    "    nb_stations = stations_paths.query('line_id == '+str(line_id)).shape[0]\n",
    "    Bus = Bus.append(horaires_Bus.loc[horaires_Bus[horaires_Bus.line_id == line_id].index.repeat(nb_stations)])"
   ]
  },
  {
   "cell_type": "code",
   "execution_count": 65,
   "metadata": {},
   "outputs": [],
   "source": [
    "#increment order with respect to number of stations for each lines\n",
    "Bus['order'] = Bus.groupby(['line_id','horaires']).cumcount()+1"
   ]
  },
  {
   "cell_type": "code",
   "execution_count": 66,
   "metadata": {},
   "outputs": [],
   "source": [
    "#get the median time for each 2 consecutive stations in each line\n",
    "line_ids = Bus.line_id.unique()\n",
    "#here\n",
    "#\n",
    "#\n",
    "#\n",
    "deltatime_group = gps[(gps.line_id.isin(line_ids))].groupby(['line_id','order'],as_index=True).datetime_diff.median()"
   ]
  },
  {
   "cell_type": "code",
   "execution_count": 67,
   "metadata": {},
   "outputs": [],
   "source": [
    "Bus = Bus.merge(deltatime_group, on=['line_id','order'], how='left')\n",
    "Bus.horaires = Bus.horaires.apply(lambda x : datetime.strptime('2000-1-1'+' '+x, '%Y-%m-%d %H:%M:%S'))"
   ]
  },
  {
   "cell_type": "code",
   "execution_count": 68,
   "metadata": {},
   "outputs": [],
   "source": [
    "Bus = Bus.dropna()"
   ]
  },
  {
   "cell_type": "code",
   "execution_count": 69,
   "metadata": {},
   "outputs": [],
   "source": [
    "#increment time between stations\n",
    "logtime = dict()\n",
    "Bus.horaires = Bus.apply(lambda x : increment_time(*x), axis=1).dt.time"
   ]
  },
  {
   "cell_type": "code",
   "execution_count": 70,
   "metadata": {},
   "outputs": [],
   "source": [
    "#add station coordinates\n",
    "Bus = Bus.merge(stations_paths[['line_id','order','station_id','latitude','longitude']], on=['line_id','order'])"
   ]
  },
  {
   "cell_type": "code",
   "execution_count": 71,
   "metadata": {},
   "outputs": [],
   "source": [
    "#add Trip Number\n",
    "Bus = Bus.sort_values(['line_id','order'])\n",
    "Bus['TripNb'] = Bus.groupby(['line_id','order']).cumcount()+1"
   ]
  },
  {
   "cell_type": "code",
   "execution_count": 72,
   "metadata": {},
   "outputs": [
    {
     "data": {
      "text/html": [
       "<div>\n",
       "<style scoped>\n",
       "    .dataframe tbody tr th:only-of-type {\n",
       "        vertical-align: middle;\n",
       "    }\n",
       "\n",
       "    .dataframe tbody tr th {\n",
       "        vertical-align: top;\n",
       "    }\n",
       "\n",
       "    .dataframe thead th {\n",
       "        text-align: right;\n",
       "    }\n",
       "</style>\n",
       "<table border=\"1\" class=\"dataframe\">\n",
       "  <thead>\n",
       "    <tr style=\"text-align: right;\">\n",
       "      <th></th>\n",
       "      <th>line_label</th>\n",
       "      <th>horaires</th>\n",
       "      <th>tag</th>\n",
       "      <th>line_id</th>\n",
       "      <th>order</th>\n",
       "      <th>datetime_diff</th>\n",
       "      <th>station_id</th>\n",
       "      <th>latitude</th>\n",
       "      <th>longitude</th>\n",
       "      <th>TripNb</th>\n",
       "    </tr>\n",
       "  </thead>\n",
       "  <tbody>\n",
       "    <tr>\n",
       "      <th>0</th>\n",
       "      <td>104</td>\n",
       "      <td>05:50:00</td>\n",
       "      <td>0.0</td>\n",
       "      <td>4</td>\n",
       "      <td>1</td>\n",
       "      <td>833.0</td>\n",
       "      <td>15</td>\n",
       "      <td>36.800174</td>\n",
       "      <td>10.190487</td>\n",
       "      <td>1</td>\n",
       "    </tr>\n",
       "    <tr>\n",
       "      <th>1</th>\n",
       "      <td>104</td>\n",
       "      <td>06:03:53</td>\n",
       "      <td>0.0</td>\n",
       "      <td>4</td>\n",
       "      <td>2</td>\n",
       "      <td>172.0</td>\n",
       "      <td>16</td>\n",
       "      <td>36.799103</td>\n",
       "      <td>10.186369</td>\n",
       "      <td>1</td>\n",
       "    </tr>\n",
       "    <tr>\n",
       "      <th>2</th>\n",
       "      <td>104</td>\n",
       "      <td>06:06:45</td>\n",
       "      <td>0.0</td>\n",
       "      <td>4</td>\n",
       "      <td>3</td>\n",
       "      <td>199.0</td>\n",
       "      <td>17</td>\n",
       "      <td>36.792631</td>\n",
       "      <td>10.185839</td>\n",
       "      <td>1</td>\n",
       "    </tr>\n",
       "    <tr>\n",
       "      <th>3</th>\n",
       "      <td>104</td>\n",
       "      <td>06:10:04</td>\n",
       "      <td>0.0</td>\n",
       "      <td>4</td>\n",
       "      <td>4</td>\n",
       "      <td>84.0</td>\n",
       "      <td>18</td>\n",
       "      <td>36.785595</td>\n",
       "      <td>10.179933</td>\n",
       "      <td>1</td>\n",
       "    </tr>\n",
       "    <tr>\n",
       "      <th>4</th>\n",
       "      <td>104</td>\n",
       "      <td>06:11:28</td>\n",
       "      <td>0.0</td>\n",
       "      <td>4</td>\n",
       "      <td>5</td>\n",
       "      <td>81.0</td>\n",
       "      <td>19</td>\n",
       "      <td>36.784376</td>\n",
       "      <td>10.175823</td>\n",
       "      <td>1</td>\n",
       "    </tr>\n",
       "  </tbody>\n",
       "</table>\n",
       "</div>"
      ],
      "text/plain": [
       "  line_label  horaires  tag line_id  order  datetime_diff  station_id  \\\n",
       "0        104  05:50:00  0.0       4      1          833.0          15   \n",
       "1        104  06:03:53  0.0       4      2          172.0          16   \n",
       "2        104  06:06:45  0.0       4      3          199.0          17   \n",
       "3        104  06:10:04  0.0       4      4           84.0          18   \n",
       "4        104  06:11:28  0.0       4      5           81.0          19   \n",
       "\n",
       "    latitude  longitude  TripNb  \n",
       "0  36.800174  10.190487       1  \n",
       "1  36.799103  10.186369       1  \n",
       "2  36.792631  10.185839       1  \n",
       "3  36.785595  10.179933       1  \n",
       "4  36.784376  10.175823       1  "
      ]
     },
     "execution_count": 72,
     "metadata": {},
     "output_type": "execute_result"
    }
   ],
   "source": [
    "#sort values and delete microseconds\n",
    "Bus.horaires = Bus.horaires.apply(lambda x : x.replace(x.hour,x.minute,x.second,0))\n",
    "Bus = Bus.sort_values(['line_id', 'TripNb']).reset_index(drop = True)\n",
    "Bus.head()"
   ]
  },
  {
   "cell_type": "code",
   "execution_count": 73,
   "metadata": {},
   "outputs": [
    {
     "data": {
      "text/plain": [
       "line_label       0\n",
       "horaires         0\n",
       "tag              0\n",
       "line_id          0\n",
       "order            0\n",
       "datetime_diff    0\n",
       "station_id       0\n",
       "latitude         0\n",
       "longitude        0\n",
       "TripNb           0\n",
       "dtype: int64"
      ]
     },
     "execution_count": 73,
     "metadata": {},
     "output_type": "execute_result"
    }
   ],
   "source": [
    "Bus.isnull().sum()"
   ]
  },
  {
   "cell_type": "code",
   "execution_count": 74,
   "metadata": {},
   "outputs": [
    {
     "data": {
      "text/plain": [
       "(10786, 10)"
      ]
     },
     "execution_count": 74,
     "metadata": {},
     "output_type": "execute_result"
    }
   ],
   "source": [
    "Bus.shape"
   ]
  },
  {
   "cell_type": "code",
   "execution_count": 75,
   "metadata": {},
   "outputs": [
    {
     "data": {
      "text/plain": [
       "<AxesSubplot:xlabel='latitude', ylabel='longitude'>"
      ]
     },
     "execution_count": 75,
     "metadata": {},
     "output_type": "execute_result"
    },
    {
     "data": {
      "image/png": "[encoded data removed]",
      "text/plain": [
       "<Figure size 1440x504 with 1 Axes>"
      ]
     },
     "metadata": {
      "needs_background": "light"
     },
     "output_type": "display_data"
    }
   ],
   "source": [
    "plt.figure(figsize= (20,7))\n",
    "sns.scatterplot(data = Bus.drop(['horaires','TripNb'], axis=1).drop_duplicates(), x='latitude', y='longitude', hue = 'line_label')"
   ]
  },
  {
   "cell_type": "markdown",
   "metadata": {},
   "source": [
    "# Time Table Extraction :"
   ]
  },
  {
   "cell_type": "code",
   "execution_count": 76,
   "metadata": {},
   "outputs": [
    {
     "data": {
      "text/html": [
       "<div>\n",
       "<style scoped>\n",
       "    .dataframe tbody tr th:only-of-type {\n",
       "        vertical-align: middle;\n",
       "    }\n",
       "\n",
       "    .dataframe tbody tr th {\n",
       "        vertical-align: top;\n",
       "    }\n",
       "\n",
       "    .dataframe thead th {\n",
       "        text-align: right;\n",
       "    }\n",
       "</style>\n",
       "<table border=\"1\" class=\"dataframe\">\n",
       "  <thead>\n",
       "    <tr style=\"text-align: right;\">\n",
       "      <th></th>\n",
       "      <th>line_label</th>\n",
       "      <th>horaires</th>\n",
       "      <th>tag</th>\n",
       "      <th>line_id</th>\n",
       "      <th>order</th>\n",
       "      <th>datetime_diff</th>\n",
       "      <th>station_id</th>\n",
       "      <th>latitude</th>\n",
       "      <th>longitude</th>\n",
       "      <th>TripNb</th>\n",
       "    </tr>\n",
       "  </thead>\n",
       "  <tbody>\n",
       "    <tr>\n",
       "      <th>0</th>\n",
       "      <td>104</td>\n",
       "      <td>05:50:00</td>\n",
       "      <td>0.0</td>\n",
       "      <td>4</td>\n",
       "      <td>1</td>\n",
       "      <td>833.0</td>\n",
       "      <td>15</td>\n",
       "      <td>36.800174</td>\n",
       "      <td>10.190487</td>\n",
       "      <td>1</td>\n",
       "    </tr>\n",
       "    <tr>\n",
       "      <th>1</th>\n",
       "      <td>104</td>\n",
       "      <td>06:03:53</td>\n",
       "      <td>0.0</td>\n",
       "      <td>4</td>\n",
       "      <td>2</td>\n",
       "      <td>172.0</td>\n",
       "      <td>16</td>\n",
       "      <td>36.799103</td>\n",
       "      <td>10.186369</td>\n",
       "      <td>1</td>\n",
       "    </tr>\n",
       "    <tr>\n",
       "      <th>2</th>\n",
       "      <td>104</td>\n",
       "      <td>06:06:45</td>\n",
       "      <td>0.0</td>\n",
       "      <td>4</td>\n",
       "      <td>3</td>\n",
       "      <td>199.0</td>\n",
       "      <td>17</td>\n",
       "      <td>36.792631</td>\n",
       "      <td>10.185839</td>\n",
       "      <td>1</td>\n",
       "    </tr>\n",
       "    <tr>\n",
       "      <th>3</th>\n",
       "      <td>104</td>\n",
       "      <td>06:10:04</td>\n",
       "      <td>0.0</td>\n",
       "      <td>4</td>\n",
       "      <td>4</td>\n",
       "      <td>84.0</td>\n",
       "      <td>18</td>\n",
       "      <td>36.785595</td>\n",
       "      <td>10.179933</td>\n",
       "      <td>1</td>\n",
       "    </tr>\n",
       "    <tr>\n",
       "      <th>4</th>\n",
       "      <td>104</td>\n",
       "      <td>06:11:28</td>\n",
       "      <td>0.0</td>\n",
       "      <td>4</td>\n",
       "      <td>5</td>\n",
       "      <td>81.0</td>\n",
       "      <td>19</td>\n",
       "      <td>36.784376</td>\n",
       "      <td>10.175823</td>\n",
       "      <td>1</td>\n",
       "    </tr>\n",
       "  </tbody>\n",
       "</table>\n",
       "</div>"
      ],
      "text/plain": [
       "  line_label  horaires  tag line_id  order  datetime_diff  station_id  \\\n",
       "0        104  05:50:00  0.0       4      1          833.0          15   \n",
       "1        104  06:03:53  0.0       4      2          172.0          16   \n",
       "2        104  06:06:45  0.0       4      3          199.0          17   \n",
       "3        104  06:10:04  0.0       4      4           84.0          18   \n",
       "4        104  06:11:28  0.0       4      5           81.0          19   \n",
       "\n",
       "    latitude  longitude  TripNb  \n",
       "0  36.800174  10.190487       1  \n",
       "1  36.799103  10.186369       1  \n",
       "2  36.792631  10.185839       1  \n",
       "3  36.785595  10.179933       1  \n",
       "4  36.784376  10.175823       1  "
      ]
     },
     "execution_count": 76,
     "metadata": {},
     "output_type": "execute_result"
    }
   ],
   "source": [
    "Bus.head()"
   ]
  },
  {
   "cell_type": "code",
   "execution_count": 77,
   "metadata": {},
   "outputs": [
    {
     "data": {
      "text/html": [
       "<div>\n",
       "<style scoped>\n",
       "    .dataframe tbody tr th:only-of-type {\n",
       "        vertical-align: middle;\n",
       "    }\n",
       "\n",
       "    .dataframe tbody tr th {\n",
       "        vertical-align: top;\n",
       "    }\n",
       "\n",
       "    .dataframe thead th {\n",
       "        text-align: right;\n",
       "    }\n",
       "</style>\n",
       "<table border=\"1\" class=\"dataframe\">\n",
       "  <thead>\n",
       "    <tr style=\"text-align: right;\">\n",
       "      <th></th>\n",
       "      <th>line_label</th>\n",
       "      <th>horaires</th>\n",
       "      <th>tag</th>\n",
       "      <th>line_id</th>\n",
       "      <th>order</th>\n",
       "      <th>datetime_diff</th>\n",
       "      <th>station_id</th>\n",
       "      <th>latitude</th>\n",
       "      <th>longitude</th>\n",
       "      <th>TripNb</th>\n",
       "    </tr>\n",
       "  </thead>\n",
       "  <tbody>\n",
       "    <tr>\n",
       "      <th>0</th>\n",
       "      <td>5</td>\n",
       "      <td>04:26:00</td>\n",
       "      <td>1</td>\n",
       "      <td>1</td>\n",
       "      <td>1</td>\n",
       "      <td>219.0</td>\n",
       "      <td>1</td>\n",
       "      <td>36.838918</td>\n",
       "      <td>10.117072</td>\n",
       "      <td>1</td>\n",
       "    </tr>\n",
       "    <tr>\n",
       "      <th>1</th>\n",
       "      <td>5</td>\n",
       "      <td>04:29:39</td>\n",
       "      <td>1</td>\n",
       "      <td>1</td>\n",
       "      <td>2</td>\n",
       "      <td>129.0</td>\n",
       "      <td>2</td>\n",
       "      <td>36.835840</td>\n",
       "      <td>10.117590</td>\n",
       "      <td>1</td>\n",
       "    </tr>\n",
       "    <tr>\n",
       "      <th>2</th>\n",
       "      <td>5</td>\n",
       "      <td>04:31:48</td>\n",
       "      <td>1</td>\n",
       "      <td>1</td>\n",
       "      <td>3</td>\n",
       "      <td>76.0</td>\n",
       "      <td>3</td>\n",
       "      <td>36.830582</td>\n",
       "      <td>10.124005</td>\n",
       "      <td>1</td>\n",
       "    </tr>\n",
       "    <tr>\n",
       "      <th>3</th>\n",
       "      <td>5</td>\n",
       "      <td>04:33:04</td>\n",
       "      <td>1</td>\n",
       "      <td>1</td>\n",
       "      <td>4</td>\n",
       "      <td>109.0</td>\n",
       "      <td>4</td>\n",
       "      <td>36.829180</td>\n",
       "      <td>10.128620</td>\n",
       "      <td>1</td>\n",
       "    </tr>\n",
       "    <tr>\n",
       "      <th>4</th>\n",
       "      <td>5</td>\n",
       "      <td>04:34:53</td>\n",
       "      <td>1</td>\n",
       "      <td>1</td>\n",
       "      <td>5</td>\n",
       "      <td>113.0</td>\n",
       "      <td>5</td>\n",
       "      <td>36.825880</td>\n",
       "      <td>10.134540</td>\n",
       "      <td>1</td>\n",
       "    </tr>\n",
       "  </tbody>\n",
       "</table>\n",
       "</div>"
      ],
      "text/plain": [
       "  line_label  horaires tag line_id  order  datetime_diff  station_id  \\\n",
       "0          5  04:26:00   1       1      1          219.0           1   \n",
       "1          5  04:29:39   1       1      2          129.0           2   \n",
       "2          5  04:31:48   1       1      3           76.0           3   \n",
       "3          5  04:33:04   1       1      4          109.0           4   \n",
       "4          5  04:34:53   1       1      5          113.0           5   \n",
       "\n",
       "    latitude  longitude  TripNb  \n",
       "0  36.838918  10.117072       1  \n",
       "1  36.835840  10.117590       1  \n",
       "2  36.830582  10.124005       1  \n",
       "3  36.829180  10.128620       1  \n",
       "4  36.825880  10.134540       1  "
      ]
     },
     "execution_count": 77,
     "metadata": {},
     "output_type": "execute_result"
    }
   ],
   "source": [
    "metro.head()"
   ]
  },
  {
   "cell_type": "code",
   "execution_count": 78,
   "metadata": {},
   "outputs": [
    {
     "data": {
      "text/html": [
       "<div>\n",
       "<style scoped>\n",
       "    .dataframe tbody tr th:only-of-type {\n",
       "        vertical-align: middle;\n",
       "    }\n",
       "\n",
       "    .dataframe tbody tr th {\n",
       "        vertical-align: top;\n",
       "    }\n",
       "\n",
       "    .dataframe thead th {\n",
       "        text-align: right;\n",
       "    }\n",
       "</style>\n",
       "<table border=\"1\" class=\"dataframe\">\n",
       "  <thead>\n",
       "    <tr style=\"text-align: right;\">\n",
       "      <th></th>\n",
       "      <th>line_label</th>\n",
       "      <th>horaires</th>\n",
       "      <th>tag</th>\n",
       "      <th>line_id</th>\n",
       "      <th>order</th>\n",
       "      <th>datetime_diff</th>\n",
       "      <th>station_id</th>\n",
       "      <th>latitude</th>\n",
       "      <th>longitude</th>\n",
       "      <th>TripNb</th>\n",
       "    </tr>\n",
       "  </thead>\n",
       "  <tbody>\n",
       "    <tr>\n",
       "      <th>0</th>\n",
       "      <td>TGM</td>\n",
       "      <td>03:30:00</td>\n",
       "      <td>0</td>\n",
       "      <td>10</td>\n",
       "      <td>1</td>\n",
       "      <td>997.0</td>\n",
       "      <td>72</td>\n",
       "      <td>36.800742</td>\n",
       "      <td>10.192478</td>\n",
       "      <td>1</td>\n",
       "    </tr>\n",
       "    <tr>\n",
       "      <th>1</th>\n",
       "      <td>TGM</td>\n",
       "      <td>03:46:37</td>\n",
       "      <td>0</td>\n",
       "      <td>10</td>\n",
       "      <td>2</td>\n",
       "      <td>114.0</td>\n",
       "      <td>73</td>\n",
       "      <td>36.814178</td>\n",
       "      <td>10.292450</td>\n",
       "      <td>1</td>\n",
       "    </tr>\n",
       "    <tr>\n",
       "      <th>2</th>\n",
       "      <td>TGM</td>\n",
       "      <td>03:48:31</td>\n",
       "      <td>0</td>\n",
       "      <td>10</td>\n",
       "      <td>3</td>\n",
       "      <td>68.0</td>\n",
       "      <td>74</td>\n",
       "      <td>36.818051</td>\n",
       "      <td>10.301940</td>\n",
       "      <td>1</td>\n",
       "    </tr>\n",
       "    <tr>\n",
       "      <th>3</th>\n",
       "      <td>TGM</td>\n",
       "      <td>03:49:39</td>\n",
       "      <td>0</td>\n",
       "      <td>10</td>\n",
       "      <td>4</td>\n",
       "      <td>85.0</td>\n",
       "      <td>75</td>\n",
       "      <td>36.819845</td>\n",
       "      <td>10.305601</td>\n",
       "      <td>1</td>\n",
       "    </tr>\n",
       "    <tr>\n",
       "      <th>4</th>\n",
       "      <td>TGM</td>\n",
       "      <td>03:51:04</td>\n",
       "      <td>0</td>\n",
       "      <td>10</td>\n",
       "      <td>5</td>\n",
       "      <td>54.0</td>\n",
       "      <td>76</td>\n",
       "      <td>36.824201</td>\n",
       "      <td>10.308773</td>\n",
       "      <td>1</td>\n",
       "    </tr>\n",
       "  </tbody>\n",
       "</table>\n",
       "</div>"
      ],
      "text/plain": [
       "  line_label  horaires tag line_id  order  datetime_diff  station_id  \\\n",
       "0        TGM  03:30:00   0      10      1          997.0          72   \n",
       "1        TGM  03:46:37   0      10      2          114.0          73   \n",
       "2        TGM  03:48:31   0      10      3           68.0          74   \n",
       "3        TGM  03:49:39   0      10      4           85.0          75   \n",
       "4        TGM  03:51:04   0      10      5           54.0          76   \n",
       "\n",
       "    latitude  longitude  TripNb  \n",
       "0  36.800742  10.192478       1  \n",
       "1  36.814178  10.292450       1  \n",
       "2  36.818051  10.301940       1  \n",
       "3  36.819845  10.305601       1  \n",
       "4  36.824201  10.308773       1  "
      ]
     },
     "execution_count": 78,
     "metadata": {},
     "output_type": "execute_result"
    }
   ],
   "source": [
    "train.head()"
   ]
  },
  {
   "cell_type": "code",
   "execution_count": 79,
   "metadata": {},
   "outputs": [],
   "source": [
    "timetable = pd.concat([train, metro, Bus], axis = 0)"
   ]
  },
  {
   "cell_type": "code",
   "execution_count": 80,
   "metadata": {},
   "outputs": [],
   "source": [
    "#add vehicle type to timetable\n",
    "timetable = timetable.merge(stations_paths.groupby('line_id').first().vehicle_type, how='left', on='line_id')"
   ]
  },
  {
   "cell_type": "code",
   "execution_count": 81,
   "metadata": {},
   "outputs": [
    {
     "data": {
      "text/plain": [
       "(29912, 11)"
      ]
     },
     "execution_count": 81,
     "metadata": {},
     "output_type": "execute_result"
    }
   ],
   "source": [
    "timetable = timetable.reset_index(drop=True)\n",
    "timetable.shape"
   ]
  },
  {
   "cell_type": "code",
   "execution_count": 82,
   "metadata": {},
   "outputs": [],
   "source": [
    "timetable.to_csv('data/timetable.csv')"
   ]
  },
  {
   "cell_type": "code",
   "execution_count": 83,
   "metadata": {},
   "outputs": [
    {
     "data": {
      "text/plain": [
       "<AxesSubplot:xlabel='latitude', ylabel='longitude'>"
      ]
     },
     "execution_count": 83,
     "metadata": {},
     "output_type": "execute_result"
    },
    {
     "data": {
      "image/png": "[encoded data removed]",
      "text/plain": [
       "<Figure size 1440x504 with 1 Axes>"
      ]
     },
     "metadata": {
      "needs_background": "light"
     },
     "output_type": "display_data"
    }
   ],
   "source": [
    "import seaborn as sns\n",
    "\n",
    "plt.figure(figsize= (20,7))\n",
    "sns.scatterplot(data = timetable.drop(['horaires','TripNb'], axis=1).drop_duplicates(), x='latitude', y='longitude', hue = 'line_label')"
   ]
  },
  {
   "cell_type": "code",
   "execution_count": 84,
   "metadata": {},
   "outputs": [
    {
     "data": {
      "text/html": [
       "<div>\n",
       "<style scoped>\n",
       "    .dataframe tbody tr th:only-of-type {\n",
       "        vertical-align: middle;\n",
       "    }\n",
       "\n",
       "    .dataframe tbody tr th {\n",
       "        vertical-align: top;\n",
       "    }\n",
       "\n",
       "    .dataframe thead th {\n",
       "        text-align: right;\n",
       "    }\n",
       "</style>\n",
       "<table border=\"1\" class=\"dataframe\">\n",
       "  <thead>\n",
       "    <tr style=\"text-align: right;\">\n",
       "      <th></th>\n",
       "      <th>line_label</th>\n",
       "      <th>horaires</th>\n",
       "      <th>tag</th>\n",
       "      <th>line_id</th>\n",
       "      <th>order</th>\n",
       "      <th>datetime_diff</th>\n",
       "      <th>station_id</th>\n",
       "      <th>latitude</th>\n",
       "      <th>longitude</th>\n",
       "      <th>TripNb</th>\n",
       "      <th>vehicle_type</th>\n",
       "    </tr>\n",
       "  </thead>\n",
       "  <tbody>\n",
       "    <tr>\n",
       "      <th>0</th>\n",
       "      <td>TGM</td>\n",
       "      <td>03:30:00</td>\n",
       "      <td>0</td>\n",
       "      <td>10</td>\n",
       "      <td>1</td>\n",
       "      <td>997.0</td>\n",
       "      <td>72</td>\n",
       "      <td>36.800742</td>\n",
       "      <td>10.192478</td>\n",
       "      <td>1</td>\n",
       "      <td>1</td>\n",
       "    </tr>\n",
       "    <tr>\n",
       "      <th>1</th>\n",
       "      <td>TGM</td>\n",
       "      <td>03:46:37</td>\n",
       "      <td>0</td>\n",
       "      <td>10</td>\n",
       "      <td>2</td>\n",
       "      <td>114.0</td>\n",
       "      <td>73</td>\n",
       "      <td>36.814178</td>\n",
       "      <td>10.292450</td>\n",
       "      <td>1</td>\n",
       "      <td>1</td>\n",
       "    </tr>\n",
       "    <tr>\n",
       "      <th>2</th>\n",
       "      <td>TGM</td>\n",
       "      <td>03:48:31</td>\n",
       "      <td>0</td>\n",
       "      <td>10</td>\n",
       "      <td>3</td>\n",
       "      <td>68.0</td>\n",
       "      <td>74</td>\n",
       "      <td>36.818051</td>\n",
       "      <td>10.301940</td>\n",
       "      <td>1</td>\n",
       "      <td>1</td>\n",
       "    </tr>\n",
       "    <tr>\n",
       "      <th>3</th>\n",
       "      <td>TGM</td>\n",
       "      <td>03:49:39</td>\n",
       "      <td>0</td>\n",
       "      <td>10</td>\n",
       "      <td>4</td>\n",
       "      <td>85.0</td>\n",
       "      <td>75</td>\n",
       "      <td>36.819845</td>\n",
       "      <td>10.305601</td>\n",
       "      <td>1</td>\n",
       "      <td>1</td>\n",
       "    </tr>\n",
       "    <tr>\n",
       "      <th>4</th>\n",
       "      <td>TGM</td>\n",
       "      <td>03:51:04</td>\n",
       "      <td>0</td>\n",
       "      <td>10</td>\n",
       "      <td>5</td>\n",
       "      <td>54.0</td>\n",
       "      <td>76</td>\n",
       "      <td>36.824201</td>\n",
       "      <td>10.308773</td>\n",
       "      <td>1</td>\n",
       "      <td>1</td>\n",
       "    </tr>\n",
       "    <tr>\n",
       "      <th>...</th>\n",
       "      <td>...</td>\n",
       "      <td>...</td>\n",
       "      <td>...</td>\n",
       "      <td>...</td>\n",
       "      <td>...</td>\n",
       "      <td>...</td>\n",
       "      <td>...</td>\n",
       "      <td>...</td>\n",
       "      <td>...</td>\n",
       "      <td>...</td>\n",
       "      <td>...</td>\n",
       "    </tr>\n",
       "    <tr>\n",
       "      <th>29907</th>\n",
       "      <td>11</td>\n",
       "      <td>20:53:03</td>\n",
       "      <td>1.0</td>\n",
       "      <td>50</td>\n",
       "      <td>15</td>\n",
       "      <td>57.0</td>\n",
       "      <td>55</td>\n",
       "      <td>36.785375</td>\n",
       "      <td>10.170942</td>\n",
       "      <td>18</td>\n",
       "      <td>3</td>\n",
       "    </tr>\n",
       "    <tr>\n",
       "      <th>29908</th>\n",
       "      <td>11</td>\n",
       "      <td>20:54:00</td>\n",
       "      <td>1.0</td>\n",
       "      <td>50</td>\n",
       "      <td>16</td>\n",
       "      <td>157.0</td>\n",
       "      <td>252</td>\n",
       "      <td>36.784258</td>\n",
       "      <td>10.175475</td>\n",
       "      <td>18</td>\n",
       "      <td>3</td>\n",
       "    </tr>\n",
       "    <tr>\n",
       "      <th>29909</th>\n",
       "      <td>11</td>\n",
       "      <td>20:56:37</td>\n",
       "      <td>1.0</td>\n",
       "      <td>50</td>\n",
       "      <td>17</td>\n",
       "      <td>184.0</td>\n",
       "      <td>56</td>\n",
       "      <td>36.786997</td>\n",
       "      <td>10.180485</td>\n",
       "      <td>18</td>\n",
       "      <td>3</td>\n",
       "    </tr>\n",
       "    <tr>\n",
       "      <th>29910</th>\n",
       "      <td>11</td>\n",
       "      <td>20:59:41</td>\n",
       "      <td>1.0</td>\n",
       "      <td>50</td>\n",
       "      <td>18</td>\n",
       "      <td>196.0</td>\n",
       "      <td>17</td>\n",
       "      <td>36.792631</td>\n",
       "      <td>10.185839</td>\n",
       "      <td>18</td>\n",
       "      <td>3</td>\n",
       "    </tr>\n",
       "    <tr>\n",
       "      <th>29911</th>\n",
       "      <td>11</td>\n",
       "      <td>21:02:57</td>\n",
       "      <td>1.0</td>\n",
       "      <td>50</td>\n",
       "      <td>19</td>\n",
       "      <td>127.0</td>\n",
       "      <td>297</td>\n",
       "      <td>36.799034</td>\n",
       "      <td>10.187113</td>\n",
       "      <td>18</td>\n",
       "      <td>3</td>\n",
       "    </tr>\n",
       "  </tbody>\n",
       "</table>\n",
       "<p>29912 rows × 11 columns</p>\n",
       "</div>"
      ],
      "text/plain": [
       "      line_label  horaires  tag line_id  order  datetime_diff  station_id  \\\n",
       "0            TGM  03:30:00    0      10      1          997.0          72   \n",
       "1            TGM  03:46:37    0      10      2          114.0          73   \n",
       "2            TGM  03:48:31    0      10      3           68.0          74   \n",
       "3            TGM  03:49:39    0      10      4           85.0          75   \n",
       "4            TGM  03:51:04    0      10      5           54.0          76   \n",
       "...          ...       ...  ...     ...    ...            ...         ...   \n",
       "29907         11  20:53:03  1.0      50     15           57.0          55   \n",
       "29908         11  20:54:00  1.0      50     16          157.0         252   \n",
       "29909         11  20:56:37  1.0      50     17          184.0          56   \n",
       "29910         11  20:59:41  1.0      50     18          196.0          17   \n",
       "29911         11  21:02:57  1.0      50     19          127.0         297   \n",
       "\n",
       "        latitude  longitude  TripNb  vehicle_type  \n",
       "0      36.800742  10.192478       1             1  \n",
       "1      36.814178  10.292450       1             1  \n",
       "2      36.818051  10.301940       1             1  \n",
       "3      36.819845  10.305601       1             1  \n",
       "4      36.824201  10.308773       1             1  \n",
       "...          ...        ...     ...           ...  \n",
       "29907  36.785375  10.170942      18             3  \n",
       "29908  36.784258  10.175475      18             3  \n",
       "29909  36.786997  10.180485      18             3  \n",
       "29910  36.792631  10.185839      18             3  \n",
       "29911  36.799034  10.187113      18             3  \n",
       "\n",
       "[29912 rows x 11 columns]"
      ]
     },
     "execution_count": 84,
     "metadata": {},
     "output_type": "execute_result"
    }
   ],
   "source": [
    "timetable"
   ]
  }
 ],
 "metadata": {
  "kernelspec": {
   "display_name": "Python 3",
   "language": "python",
   "name": "python3"
  },
  "language_info": {
   "codemirror_mode": {
    "name": "ipython",
    "version": 3
   },
   "file_extension": ".py",
   "mimetype": "text/x-python",
   "name": "python",
   "nbconvert_exporter": "python",
   "pygments_lexer": "ipython3",
   "version": "3.8.0"
  }
 },
 "nbformat": 4,
 "nbformat_minor": 4
}
