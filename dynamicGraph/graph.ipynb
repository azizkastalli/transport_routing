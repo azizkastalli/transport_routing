{
 "cells": [
  {
   "cell_type": "code",
   "execution_count": 1,
   "metadata": {},
   "outputs": [],
   "source": [
    "#import networkx as nx\n",
    "import pandas as pd\n",
    "import numpy as np\n",
    "import matplotlib.pyplot as plt\n",
    "import seaborn as sns\n",
    "from datetime import datetime, timedelta, time\n",
    "from DynamicTimeModel import DynTM\n",
    "from Helper import *\n",
    "from queryAlgorithm import earliestArrival_path, pareto_paths"
   ]
  },
  {
   "cell_type": "markdown",
   "metadata": {},
   "source": [
    "### Import data"
   ]
  },
  {
   "cell_type": "code",
   "execution_count": 2,
   "metadata": {},
   "outputs": [
    {
     "data": {
      "text/html": [
       "<div>\n",
       "<style scoped>\n",
       "    .dataframe tbody tr th:only-of-type {\n",
       "        vertical-align: middle;\n",
       "    }\n",
       "\n",
       "    .dataframe tbody tr th {\n",
       "        vertical-align: top;\n",
       "    }\n",
       "\n",
       "    .dataframe thead th {\n",
       "        text-align: right;\n",
       "    }\n",
       "</style>\n",
       "<table border=\"1\" class=\"dataframe\">\n",
       "  <thead>\n",
       "    <tr style=\"text-align: right;\">\n",
       "      <th></th>\n",
       "      <th>TripNb</th>\n",
       "      <th>line_id</th>\n",
       "      <th>vehicle_type</th>\n",
       "      <th>currentStop</th>\n",
       "      <th>nextStop</th>\n",
       "      <th>departure_time</th>\n",
       "      <th>nextStop_arrival_time</th>\n",
       "      <th>nextStop_deaprture_time</th>\n",
       "    </tr>\n",
       "  </thead>\n",
       "  <tbody>\n",
       "    <tr>\n",
       "      <th>0</th>\n",
       "      <td>1</td>\n",
       "      <td>10</td>\n",
       "      <td>1</td>\n",
       "      <td>72</td>\n",
       "      <td>73</td>\n",
       "      <td>03:36:01</td>\n",
       "      <td>03:53:27</td>\n",
       "      <td>03:53:42</td>\n",
       "    </tr>\n",
       "    <tr>\n",
       "      <th>1</th>\n",
       "      <td>1</td>\n",
       "      <td>10</td>\n",
       "      <td>1</td>\n",
       "      <td>73</td>\n",
       "      <td>74</td>\n",
       "      <td>03:53:42</td>\n",
       "      <td>03:55:36</td>\n",
       "      <td>03:55:52</td>\n",
       "    </tr>\n",
       "    <tr>\n",
       "      <th>2</th>\n",
       "      <td>1</td>\n",
       "      <td>10</td>\n",
       "      <td>1</td>\n",
       "      <td>74</td>\n",
       "      <td>75</td>\n",
       "      <td>03:55:52</td>\n",
       "      <td>03:57:00</td>\n",
       "      <td>03:57:17</td>\n",
       "    </tr>\n",
       "    <tr>\n",
       "      <th>3</th>\n",
       "      <td>1</td>\n",
       "      <td>10</td>\n",
       "      <td>1</td>\n",
       "      <td>75</td>\n",
       "      <td>76</td>\n",
       "      <td>03:57:17</td>\n",
       "      <td>03:58:42</td>\n",
       "      <td>03:58:58</td>\n",
       "    </tr>\n",
       "    <tr>\n",
       "      <th>4</th>\n",
       "      <td>1</td>\n",
       "      <td>10</td>\n",
       "      <td>1</td>\n",
       "      <td>76</td>\n",
       "      <td>77</td>\n",
       "      <td>03:58:58</td>\n",
       "      <td>03:59:52</td>\n",
       "      <td>04:00:06</td>\n",
       "    </tr>\n",
       "  </tbody>\n",
       "</table>\n",
       "</div>"
      ],
      "text/plain": [
       "   TripNb  line_id  vehicle_type  currentStop  nextStop departure_time  \\\n",
       "0       1       10             1           72        73       03:36:01   \n",
       "1       1       10             1           73        74       03:53:42   \n",
       "2       1       10             1           74        75       03:55:52   \n",
       "3       1       10             1           75        76       03:57:17   \n",
       "4       1       10             1           76        77       03:58:58   \n",
       "\n",
       "  nextStop_arrival_time nextStop_deaprture_time  \n",
       "0              03:53:27                03:53:42  \n",
       "1              03:55:36                03:55:52  \n",
       "2              03:57:00                03:57:17  \n",
       "3              03:58:42                03:58:58  \n",
       "4              03:59:52                04:00:06  "
      ]
     },
     "execution_count": 2,
     "metadata": {},
     "output_type": "execute_result"
    }
   ],
   "source": [
    "timetable = pd.read_csv('../dataPreprocessing/data/preprocessed_timetable.csv')\n",
    "#timetable = timetable.sort_values(['nextStop_arrival_time'])\n",
    "timetable.head()"
   ]
  },
  {
   "cell_type": "code",
   "execution_count": 3,
   "metadata": {},
   "outputs": [],
   "source": [
    "#convert str to time object\n",
    "timetable.departure_time  = timetable.departure_time.apply(str_time_to_int)\n",
    "timetable.nextStop_arrival_time = timetable.nextStop_arrival_time.apply(str_time_to_int)\n",
    "timetable.nextStop_deaprture_time = timetable.nextStop_deaprture_time.apply(str_time_to_int)"
   ]
  },
  {
   "cell_type": "code",
   "execution_count": 4,
   "metadata": {},
   "outputs": [],
   "source": [
    "Dmatrix = pd.read_csv('../dataPreprocessing/data/Dmatrix.csv')\n",
    "Dmatrix = Dmatrix.set_index('station_id')"
   ]
  },
  {
   "cell_type": "code",
   "execution_count": 5,
   "metadata": {},
   "outputs": [],
   "source": [
    "stations_paths = pd.read_csv('../dataPreprocessing/data/stations_paths.csv')\n",
    "stations_coord = pd.read_csv('../dataPreprocessing/data/station_coord.csv')\n",
    "paths = pd.read_csv('../dataPreprocessing/data/paths.csv')"
   ]
  },
  {
   "cell_type": "code",
   "execution_count": 6,
   "metadata": {},
   "outputs": [],
   "source": [
    "stations = pd.concat([timetable.currentStop,timetable.nextStop]).reset_index(drop=True).unique()\n",
    "stations_paths = stations_paths[stations_paths.station_id.isin(stations)]\n",
    "stations_paths = stations_paths[['station_id', 'english_name', 'french_name', 'arabic_name','latitude','longitude']].drop_duplicates()"
   ]
  },
  {
   "cell_type": "code",
   "execution_count": 7,
   "metadata": {},
   "outputs": [],
   "source": [
    "stations_coord = stations_coord[stations_coord.station_id.isin(stations)]"
   ]
  },
  {
   "cell_type": "markdown",
   "metadata": {},
   "source": [
    "\n",
    "## Build DTM Graph Structure"
   ]
  },
  {
   "cell_type": "code",
   "execution_count": 8,
   "metadata": {},
   "outputs": [],
   "source": [
    "#timetable data structre\n",
    "timetable = (stations ,timetable.values)"
   ]
  },
  {
   "cell_type": "code",
   "execution_count": 9,
   "metadata": {},
   "outputs": [
    {
     "data": {
      "text/plain": [
       "(290,)"
      ]
     },
     "execution_count": 9,
     "metadata": {},
     "output_type": "execute_result"
    }
   ],
   "source": [
    "timetable[0].shape"
   ]
  },
  {
   "cell_type": "code",
   "execution_count": 10,
   "metadata": {},
   "outputs": [
    {
     "data": {
      "text/plain": [
       "(27967, 8)"
      ]
     },
     "execution_count": 10,
     "metadata": {},
     "output_type": "execute_result"
    }
   ],
   "source": [
    "timetable[1].shape"
   ]
  },
  {
   "cell_type": "code",
   "execution_count": 11,
   "metadata": {},
   "outputs": [],
   "source": [
    "#intiate graph\n",
    "max_walk_between_stations = 300 #300meters\n",
    "walk_speed  = 1.4  #1.4 meter per second\n",
    "DTM = DynTM(max_walk_between_stations, stations_coord, walk_speed)"
   ]
  },
  {
   "cell_type": "code",
   "execution_count": 12,
   "metadata": {},
   "outputs": [
    {
     "name": "stdout",
     "output_type": "stream",
     "text": [
      "0.8255414962768555\n"
     ]
    }
   ],
   "source": [
    "from time import time\n",
    "#generate graph and add unrestricted path\n",
    "start = time()\n",
    "DTM.generateTimetableDynamicModel(timetable)\n",
    "DTM.add_unresticted_paths(Dmatrix)\n",
    "stop = time()\n",
    "print(stop-start)"
   ]
  },
  {
   "cell_type": "code",
   "execution_count": 13,
   "metadata": {},
   "outputs": [
    {
     "data": {
      "text/plain": [
       "30205"
      ]
     },
     "execution_count": 13,
     "metadata": {},
     "output_type": "execute_result"
    }
   ],
   "source": [
    "DTM.dtm.number_of_nodes()"
   ]
  },
  {
   "cell_type": "code",
   "execution_count": 14,
   "metadata": {},
   "outputs": [
    {
     "data": {
      "text/plain": [
       "84441"
      ]
     },
     "execution_count": 14,
     "metadata": {},
     "output_type": "execute_result"
    }
   ],
   "source": [
    "DTM.dtm.number_of_edges()"
   ]
  },
  {
   "cell_type": "code",
   "execution_count": 15,
   "metadata": {},
   "outputs": [],
   "source": [
    "start = time()\n",
    "update = 0\n",
    "delete = []\n",
    "for node in DTM.dtm.nodes:\n",
    "    if 'switch' not in node and (1 == node[-2] or 2 == node[-2]) and node[1] == 10 :\n",
    "        delete.append(node)"
   ]
  },
  {
   "cell_type": "code",
   "execution_count": 16,
   "metadata": {},
   "outputs": [
    {
     "data": {
      "text/plain": [
       "[('node', 10, 72, 1, 12961),\n",
       " ('node', 10, 73, 1, 14022),\n",
       " ('node', 10, 74, 1, 14152),\n",
       " ('node', 10, 75, 1, 14237),\n",
       " ('node', 10, 76, 1, 14338),\n",
       " ('node', 10, 77, 1, 14406),\n",
       " ('node', 10, 78, 1, 14493),\n",
       " ('node', 10, 79, 1, 14593),\n",
       " ('node', 10, 80, 1, 14697),\n",
       " ('node', 10, 81, 1, 14778),\n",
       " ('node', 10, 82, 1, 14858),\n",
       " ('node', 10, 83, 1, 14930),\n",
       " ('node', 10, 84, 1, 15056),\n",
       " ('node', 10, 85, 1, 15165),\n",
       " ('node', 10, 86, 1, 15296),\n",
       " ('node', 10, 87, 1, 15426),\n",
       " ('node', 10, 88, 1, 15525),\n",
       " ('node', 10, 72, 2, 15841),\n",
       " ('node', 10, 73, 2, 16902),\n",
       " ('node', 10, 74, 2, 17032),\n",
       " ('node', 10, 75, 2, 17117),\n",
       " ('node', 10, 76, 2, 17218),\n",
       " ('node', 10, 77, 2, 17286),\n",
       " ('node', 10, 78, 2, 17373),\n",
       " ('node', 10, 79, 2, 17473),\n",
       " ('node', 10, 80, 2, 17577),\n",
       " ('node', 10, 81, 2, 17658),\n",
       " ('node', 10, 82, 2, 17738),\n",
       " ('node', 10, 83, 2, 17810),\n",
       " ('node', 10, 84, 2, 17936),\n",
       " ('node', 10, 85, 2, 18045),\n",
       " ('node', 10, 86, 2, 18176),\n",
       " ('node', 10, 87, 2, 18306),\n",
       " ('node', 10, 88, 2, 18405),\n",
       " ('node', 10, 89, 1, 15641),\n",
       " ('node', 10, 89, 2, 18521)]"
      ]
     },
     "execution_count": 16,
     "metadata": {},
     "output_type": "execute_result"
    }
   ],
   "source": [
    "delete"
   ]
  },
  {
   "cell_type": "code",
   "execution_count": 17,
   "metadata": {},
   "outputs": [],
   "source": [
    "t_derive = timetable[1][:34]"
   ]
  },
  {
   "cell_type": "code",
   "execution_count": 18,
   "metadata": {},
   "outputs": [],
   "source": [
    "moy = np.zeros(1000)\n",
    "for i in range(1000):\n",
    "    start = time()\n",
    "    #delete departure nodes\n",
    "    for node in delete:\n",
    "        DTM.dtm.remove_node(node)\n",
    "    #add departure nodes\n",
    "    DTM.update_departureEvents(t_derive)\n",
    "    stop = time()\n",
    "    moy[i] = stop-start"
   ]
  },
  {
   "cell_type": "code",
   "execution_count": 19,
   "metadata": {},
   "outputs": [
    {
     "data": {
      "text/plain": [
       "0.0004194412231445312"
      ]
     },
     "execution_count": 19,
     "metadata": {},
     "output_type": "execute_result"
    }
   ],
   "source": [
    "moy.mean()"
   ]
  },
  {
   "cell_type": "markdown",
   "metadata": {},
   "source": [
    "## DTM-QH algorithm to solve EA Problem"
   ]
  },
  {
   "cell_type": "code",
   "execution_count": 20,
   "metadata": {},
   "outputs": [],
   "source": [
    "from time import time as timo\n",
    "\n",
    "curr_time = datetime.now().time().replace(microsecond=0)\n",
    "curr_time = str(curr_time.hour)+':'+str(curr_time.minute)+':'+str(curr_time.second)\n",
    "curr_time = str_time_to_int(curr_time)\n",
    "curr_time = str_time_to_int('10:10:00')\n",
    "\n",
    "#source = ('source_node', 36.87007096206944, 10.34382253848957)   #sidi bou said\n",
    "#source = ('source_node', 36.87970216988326, 10.327309234021802)   #marsa ville\n",
    "#target = ('target_node', 36.8226374125104, 10.30882462463282) #la goulette\n",
    "#source = ('source_node', 36.83906834458209, 10.316478568193) #le kram\n",
    "#target = ('target_node',36.8066962256805, 10.18126936246436) #siege IT transtu \n",
    "source = ('source_node', 36.806678, 10.181269)   #Tunis marine\n",
    "#target = ('target_node', 36.829968, 10.150268)  #manar1\n",
    "#target = ('target_node', 36.724688, 10.205779)  #el mourouj 3\n",
    "#target = ('target_node',36.85340441371543, 10.196437250933252)  #ariana\n",
    "#target = ('target_node', 36.81792285359155, 10.080213439106986)  #manouba\n",
    "#target = ('target_node', 36.75537489487085, 10.22252052118309 ) #Ben Arouss\n",
    "#target = ('target_node', 36.83848676642428, 10.183395901376352) #Manzeh 1 cité sportive\n",
    "#target = ('target_node', 36.80936808780992, 10.133522078274913) #Musée bardo\n",
    "target = ('target_node', 36.796247434333004, 10.132042159557537) #ezzouhour\n",
    "#target = ('target_node', 36.79086785239071, 10.092124602977709) #cité el mechtel\n",
    "#target = ('target_node', 36.841494756981, 10.132237773927486) #Omrane sup\n",
    "#target = ('target_node', 36.79037011799913, 10.107341203160626) #municipalité hrairia (ezzahrouni)\n",
    "#target = ('target_node', 36.788855425031464, 10.177730508869596) #beb alioua\n",
    "#target = ('target_node', 36.839583107126735, 10.117761184660045) #el intilaka"
   ]
  },
  {
   "cell_type": "code",
   "execution_count": 21,
   "metadata": {},
   "outputs": [],
   "source": [
    "#add source node\n",
    "coords =  source[1:]\n",
    "DTM.add_sourceNode(coords, 2000)"
   ]
  },
  {
   "cell_type": "code",
   "execution_count": 22,
   "metadata": {},
   "outputs": [],
   "source": [
    "#add target node\n",
    "coords =  target[1:]\n",
    "DTM.add_targetNode(coords, 2000)"
   ]
  },
  {
   "cell_type": "code",
   "execution_count": 23,
   "metadata": {},
   "outputs": [
    {
     "name": "stdout",
     "output_type": "stream",
     "text": [
      "1.8308074474334717\n"
     ]
    }
   ],
   "source": [
    "start = timo()\n",
    "path, transitions, walk = pareto_paths(DTM.dtm, source, target, curr_time, walk_panalisation=True, transfer_time=150)\n",
    "stop = timo()\n",
    "print(stop - start)"
   ]
  },
  {
   "cell_type": "code",
   "execution_count": 24,
   "metadata": {},
   "outputs": [
    {
     "data": {
      "text/plain": [
       "[650]"
      ]
     },
     "execution_count": 24,
     "metadata": {},
     "output_type": "execute_result"
    }
   ],
   "source": [
    "walk"
   ]
  },
  {
   "cell_type": "code",
   "execution_count": 25,
   "metadata": {},
   "outputs": [
    {
     "data": {
      "text/plain": [
       "[1]"
      ]
     },
     "execution_count": 25,
     "metadata": {},
     "output_type": "execute_result"
    }
   ],
   "source": [
    "transitions"
   ]
  },
  {
   "cell_type": "code",
   "execution_count": 26,
   "metadata": {},
   "outputs": [
    {
     "data": {
      "text/plain": [
       "[['switch_source',\n",
       "  ('switch', 161.0),\n",
       "  ('node', 35, 161, 4, 37383),\n",
       "  ('node', 35, 162, 4, 37969),\n",
       "  ('node', 35, 159, 4, 38043),\n",
       "  ('node', 35, 152, 4, 38137),\n",
       "  ('node', 35, 23, 4, 38291),\n",
       "  ('node', 35, 192, 4, 38470),\n",
       "  ('node', 35, 194, 4, 38586),\n",
       "  ('node', 35, 195, 4, 38620),\n",
       "  ('node', 35, 196, 4, 38688),\n",
       "  ('switch', 197),\n",
       "  'switch_target']]"
      ]
     },
     "execution_count": 26,
     "metadata": {},
     "output_type": "execute_result"
    }
   ],
   "source": [
    "path"
   ]
  },
  {
   "cell_type": "code",
   "execution_count": 27,
   "metadata": {},
   "outputs": [
    {
     "data": {
      "text/plain": [
       "\"\\nprint('---------------------Pareto--Set--Of--Optimal--Paths--Solution------------------------', end='\\n\\n')\\nfor i, solution in enumerate(path) : \\n    print('*Path N°',i+1, ' : ', end='\\n\\n')\\n    print(path_interpretor(solution, stations_paths, paths, language='french'))\\n    print('-------------------------------------------------------------------------------------', end='\\n\\n')\\n\""
      ]
     },
     "execution_count": 27,
     "metadata": {},
     "output_type": "execute_result"
    }
   ],
   "source": [
    "'''\n",
    "print('---------------------Pareto--Set--Of--Optimal--Paths--Solution------------------------', end='\\n\\n')\n",
    "for i, solution in enumerate(path) : \n",
    "    print('*Path N°',i+1, ' : ', end='\\n\\n')\n",
    "    print(path_interpretor(solution, stations_paths, paths, language='french'))\n",
    "    print('-------------------------------------------------------------------------------------', end='\\n\\n')\n",
    "'''"
   ]
  },
  {
   "cell_type": "code",
   "execution_count": 28,
   "metadata": {},
   "outputs": [
    {
     "name": "stdout",
     "output_type": "stream",
     "text": [
      "0.07592582702636719\n"
     ]
    }
   ],
   "source": [
    "start = timo()\n",
    "path, dist, transistions, cc = earliestArrival_path(DTM.dtm, source, target, curr_time, walk_panalisation=True, transfer_time=150)\n",
    "stop = timo()\n",
    "print(stop - start)"
   ]
  },
  {
   "cell_type": "code",
   "execution_count": 29,
   "metadata": {},
   "outputs": [
    {
     "data": {
      "text/plain": [
       "AtlasView({('node', 11, 89, 1, 15331): {'weight': 100000}, ('node', 11, 89, 2, 18031): {'weight': 100000}, ('node', 11, 89, 3, 20731): {'weight': 100000}, ('node', 11, 89, 4, 22171): {'weight': 100000}, ('node', 11, 89, 5, 23251): {'weight': 100000}, ('node', 11, 89, 6, 24331): {'weight': 100000}, ('node', 11, 89, 7, 25231): {'weight': 100000}, ('node', 11, 89, 8, 26131): {'weight': 100000}, ('node', 11, 89, 9, 27031): {'weight': 100000}, ('node', 11, 89, 10, 27931): {'weight': 100000}, ('node', 11, 89, 11, 28831): {'weight': 100000}, ('node', 11, 89, 12, 29731): {'weight': 100000}, ('node', 11, 89, 13, 30631): {'weight': 100000}, ('node', 11, 89, 14, 31531): {'weight': 100000}, ('node', 11, 89, 15, 32431): {'weight': 100000}, ('node', 11, 89, 16, 33331): {'weight': 100000}, ('node', 11, 89, 17, 34231): {'weight': 100000}, ('node', 11, 89, 18, 35131): {'weight': 100000}, ('node', 11, 89, 19, 36031): {'weight': 100000}, ('node', 11, 89, 20, 36931): {'weight': 100000}, ('node', 11, 89, 21, 37831): {'weight': 100000}, ('node', 11, 89, 22, 38731): {'weight': 100000}, ('node', 11, 89, 23, 39631): {'weight': 100000}, ('node', 11, 89, 24, 40531): {'weight': 100000}, ('node', 11, 89, 25, 41431): {'weight': 100000}, ('node', 11, 89, 26, 42331): {'weight': 100000}, ('node', 11, 89, 27, 43231): {'weight': 100000}, ('node', 11, 89, 28, 44131): {'weight': 100000}, ('node', 11, 89, 29, 45031): {'weight': 100000}, ('node', 11, 89, 30, 45931): {'weight': 100000}, ('node', 11, 89, 31, 46831): {'weight': 100000}, ('node', 11, 89, 32, 47731): {'weight': 100000}, ('node', 11, 89, 33, 48631): {'weight': 100000}, ('node', 11, 89, 34, 49531): {'weight': 100000}, ('node', 11, 89, 35, 50431): {'weight': 100000}, ('node', 11, 89, 36, 51331): {'weight': 100000}, ('node', 11, 89, 37, 52231): {'weight': 100000}, ('node', 11, 89, 38, 53131): {'weight': 100000}, ('node', 11, 89, 39, 54031): {'weight': 100000}, ('node', 11, 89, 40, 54931): {'weight': 100000}, ('node', 11, 89, 41, 55831): {'weight': 100000}, ('node', 11, 89, 42, 56731): {'weight': 100000}, ('node', 11, 89, 43, 57631): {'weight': 100000}, ('node', 11, 89, 44, 58531): {'weight': 100000}, ('node', 11, 89, 45, 59431): {'weight': 100000}, ('node', 11, 89, 46, 60331): {'weight': 100000}, ('node', 11, 89, 47, 61231): {'weight': 100000}, ('node', 11, 89, 48, 62131): {'weight': 100000}, ('node', 11, 89, 49, 63031): {'weight': 100000}, ('node', 11, 89, 50, 63931): {'weight': 100000}, ('node', 11, 89, 51, 64831): {'weight': 100000}, ('node', 11, 89, 52, 65731): {'weight': 100000}, ('node', 11, 89, 53, 66631): {'weight': 100000}, ('node', 11, 89, 54, 67531): {'weight': 100000}, ('node', 11, 89, 55, 68431): {'weight': 100000}, ('node', 11, 89, 56, 69331): {'weight': 100000}, ('node', 11, 89, 57, 70231): {'weight': 100000}, ('node', 11, 89, 58, 71131): {'weight': 100000}, ('node', 11, 89, 59, 72631): {'weight': 100000}, ('node', 11, 89, 60, 74731): {'weight': 100000}, ('node', 11, 89, 61, 77431): {'weight': 100000}, ('node', 11, 89, 62, 80431): {'weight': 100000}, ('node', 11, 89, 63, 82231): {'weight': 100000}, ('node', 11, 89, 64, 85531): {'weight': 100000}, ('node', 11, 89, 65, 931): {'weight': 100000}, ('node', 10, 88, 1, 15525): {'weight': 100000}, ('node', 10, 88, 2, 18405): {'weight': 100000}})"
      ]
     },
     "execution_count": 29,
     "metadata": {},
     "output_type": "execute_result"
    }
   ],
   "source": [
    "DTM.dtm[('switch', 89.0)]"
   ]
  },
  {
   "cell_type": "code",
   "execution_count": 30,
   "metadata": {},
   "outputs": [
    {
     "data": {
      "text/plain": [
       "['switch_source',\n",
       " ('switch', 161.0),\n",
       " ('node', 35, 161, 4, 37383),\n",
       " ('node', 35, 162, 4, 37969),\n",
       " ('node', 35, 159, 4, 38043),\n",
       " ('node', 35, 152, 4, 38137),\n",
       " ('node', 35, 23, 4, 38291),\n",
       " ('node', 35, 192, 4, 38470),\n",
       " ('node', 35, 194, 4, 38586),\n",
       " ('node', 35, 195, 4, 38620),\n",
       " ('node', 35, 196, 4, 38688),\n",
       " ('switch', 197),\n",
       " 'switch_target']"
      ]
     },
     "execution_count": 30,
     "metadata": {},
     "output_type": "execute_result"
    }
   ],
   "source": [
    "path"
   ]
  },
  {
   "cell_type": "code",
   "execution_count": 31,
   "metadata": {},
   "outputs": [
    {
     "data": {
      "text/plain": [
       "\"\\nprint('---------------------Earliest--Arrival--Time--Path------------------------', end='\\n\\n')\\nprint(path_interpretor(path, stations_paths, paths, language='french'))\\n\""
      ]
     },
     "execution_count": 31,
     "metadata": {},
     "output_type": "execute_result"
    }
   ],
   "source": [
    "'''\n",
    "print('---------------------Earliest--Arrival--Time--Path------------------------', end='\\n\\n')\n",
    "print(path_interpretor(path, stations_paths, paths, language='french'))\n",
    "'''"
   ]
  },
  {
   "cell_type": "code",
   "execution_count": 32,
   "metadata": {},
   "outputs": [],
   "source": [
    "#remove source and target nodes from graph\n",
    "DTM.remove_switch('switch_source')\n",
    "DTM.remove_switch('switch_target')"
   ]
  }
 ],
 "metadata": {
  "kernelspec": {
   "display_name": "Python 3",
   "language": "python",
   "name": "python3"
  },
  "language_info": {
   "codemirror_mode": {
    "name": "ipython",
    "version": 3
   },
   "file_extension": ".py",
   "mimetype": "text/x-python",
   "name": "python",
   "nbconvert_exporter": "python",
   "pygments_lexer": "ipython3",
   "version": "3.8.8"
  }
 },
 "nbformat": 4,
 "nbformat_minor": 4
}
