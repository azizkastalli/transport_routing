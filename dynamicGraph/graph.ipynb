{
 "cells": [
  {
   "cell_type": "code",
   "execution_count": 1,
   "metadata": {},
   "outputs": [],
   "source": [
    "import networkx as nx\n",
    "import pandas as pd\n",
    "import numpy as np\n",
    "import matplotlib.pyplot as plt\n",
    "import seaborn as sns\n",
    "from datetime import datetime, timedelta, time\n",
    "from DynamicTimeModel import DynTM\n",
    "from Qeuryalgorithm import QHalgorithm, path_interpretor\n",
    "from QHquery import queryAlgorithm"
   ]
  },
  {
   "cell_type": "code",
   "execution_count": 2,
   "metadata": {},
   "outputs": [],
   "source": [
    "def haversine_affinity(x,y):\n",
    "    R = 6378137 #in meter\n",
    "\n",
    "    #convert to raduis\n",
    "    lat1  = x[0] * np.pi/180\n",
    "    long1 = x[1] * np.pi/180\n",
    "    lat2  = y[0] * np.pi/180\n",
    "    long2 = y[1] * np.pi/180\n",
    "    \n",
    "    #calculate haversine distance\n",
    "    delta_longitude = long1 - long2\n",
    "    delta_latitude = lat1 - lat2\n",
    "    a = (np.sin(delta_latitude/2)**2) + np.cos(lat1)*np.cos(lat2)*(np.sin(delta_longitude/2)**2)\n",
    "    c = 2*np.arctan2(np.sqrt(a),np.sqrt(1-a))\n",
    "    distance = R*c\n",
    "    \n",
    "    return distance"
   ]
  },
  {
   "cell_type": "code",
   "execution_count": 3,
   "metadata": {},
   "outputs": [],
   "source": [
    "def str_time_to_int(ch):\n",
    "    ch = ch.split(':')\n",
    "    H  = int(ch[0])*60*60\n",
    "    M  = int(ch[1])*60\n",
    "    S  = int(ch[2])\n",
    "    Time = (H+M+S)%86400\n",
    "    return Time"
   ]
  },
  {
   "cell_type": "markdown",
   "metadata": {},
   "source": [
    "### Import data"
   ]
  },
  {
   "cell_type": "code",
   "execution_count": 4,
   "metadata": {},
   "outputs": [],
   "source": [
    "timetable = pd.read_csv('../Data preprocessing/data/preprocessed_timetable.csv')\n",
    "timetable.next_station = timetable.next_station.astype(int)\n",
    "timetable = timetable.sort_values(['horaires_depart'])"
   ]
  },
  {
   "cell_type": "code",
   "execution_count": 5,
   "metadata": {},
   "outputs": [],
   "source": [
    "#convert str to time object\n",
    "timetable.horaires_depart  = timetable.horaires_depart.apply(str_time_to_int)\n",
    "timetable.horaires_arrivee = timetable.horaires_arrivee.apply(str_time_to_int)"
   ]
  },
  {
   "cell_type": "code",
   "execution_count": 6,
   "metadata": {},
   "outputs": [],
   "source": [
    "Dmatrix = pd.read_csv('../Data preprocessing/data/Dmatrix.csv')\n",
    "Dmatrix = Dmatrix.set_index('station_id')"
   ]
  },
  {
   "cell_type": "code",
   "execution_count": 7,
   "metadata": {},
   "outputs": [],
   "source": [
    "stations_paths = pd.read_csv('../Data preprocessing/data/stations_paths.csv')\n",
    "stations_coord = pd.read_csv('../Data preprocessing/data/station_coord.csv')\n",
    "paths = pd.read_csv('../Data preprocessing/data/paths.csv')"
   ]
  },
  {
   "cell_type": "code",
   "execution_count": 8,
   "metadata": {},
   "outputs": [],
   "source": [
    "stations = pd.concat([timetable.next_station,timetable.prev_station]).reset_index(drop=True).unique()\n",
    "stations_paths = stations_paths[stations_paths.station_id.isin(stations)]\n",
    "stations_paths = stations_paths[['station_id', 'english_name', 'french_name', 'arabic_name','latitude','longitude']].drop_duplicates()"
   ]
  },
  {
   "cell_type": "code",
   "execution_count": 9,
   "metadata": {},
   "outputs": [],
   "source": [
    "stations_coord = stations_coord[stations_coord.station_id.isin(stations)]"
   ]
  },
  {
   "cell_type": "markdown",
   "metadata": {},
   "source": [
    "## Build DTM Graph Structure"
   ]
  },
  {
   "cell_type": "code",
   "execution_count": 10,
   "metadata": {},
   "outputs": [],
   "source": [
    "#intiate graph\n",
    "max_walk_between_stations = 300 #300meters\n",
    "walk_speed  = 1.4  #1.4 meter per second\n",
    "DTM = DynTM(max_walk_between_stations, walk_speed)\n",
    "#generate graph and add unrestricted path\n",
    "DTM.generateTimetableDynamicModel(timetable)\n",
    "DTM.add_unresticted_paths(Dmatrix)"
   ]
  },
  {
   "cell_type": "code",
   "execution_count": 11,
   "metadata": {},
   "outputs": [
    {
     "data": {
      "text/plain": [
       "30209"
      ]
     },
     "execution_count": 11,
     "metadata": {},
     "output_type": "execute_result"
    }
   ],
   "source": [
    "DTM.dtm.number_of_nodes()"
   ]
  },
  {
   "cell_type": "code",
   "execution_count": 12,
   "metadata": {},
   "outputs": [
    {
     "data": {
      "text/plain": [
       "84486"
      ]
     },
     "execution_count": 12,
     "metadata": {},
     "output_type": "execute_result"
    }
   ],
   "source": [
    "DTM.dtm.number_of_edges()"
   ]
  },
  {
   "cell_type": "markdown",
   "metadata": {},
   "source": [
    "## DTM-QH algorithm to solve EA Problem"
   ]
  },
  {
   "cell_type": "code",
   "execution_count": 13,
   "metadata": {},
   "outputs": [
    {
     "name": "stdout",
     "output_type": "stream",
     "text": [
      "0.2144637107849121\n"
     ]
    }
   ],
   "source": [
    "from time import time as timo\n",
    "\n",
    "curr_time = datetime.now().time().replace(microsecond=0)\n",
    "curr_time = str(curr_time.hour)+':'+str(curr_time.minute)+':'+str(curr_time.second)\n",
    "curr_time = str_time_to_int(curr_time)\n",
    "curr_time = str_time_to_int('11:10:00')\n",
    "\n",
    "#source = ('source_node', 36.87007096206944, 10.34382253848957)   #sidi bou said\n",
    "source = ('source_node', 36.87970216988326, 10.327309234021802)   #marsa ville\n",
    "#target = ('target_node', 36.8226374125104, 10.30882462463282) #la goulette\n",
    "#source = ('source_node', 36.83906834458209, 10.316478568193) #le kram\n",
    "target = ('target_node',36.8066962256805, 10.18126936246436) #siege IT transtu \n",
    "#target = ('target_node', 36.806678, 10.181269)   #Tunis marine\n",
    "#target = ('target_node', 36.829968, 10.150268)  #manar1\n",
    "#target = ('target_node', 36.724688, 10.205779)  #el mourouj 3\n",
    "#target = ('target_node',36.85340441371543, 10.196437250933252)  #ariana\n",
    "#target = ('target_node', 36.81792285359155, 10.080213439106986)  #manouba\n",
    "#target = ('target_node', 36.75537489487085, 10.22252052118309 ) #Ben Arouss\n",
    "#target = ('target_node', 36.83848676642428, 10.183395901376352) #Manzeh 1 cité sportive\n",
    "#target = ('target_node', 36.80936808780992, 10.133522078274913) #Musée bardo\n",
    "#target = ('target_node', 36.796247434333004, 10.132042159557537) #ezzouhour\n",
    "#target = ('target_node', 36.79086785239071, 10.092124602977709) #cité el mechtel\n",
    "#target = ('target_node', 36.841494756981, 10.132237773927486) #Omrane sup\n",
    "#target = ('target_node', 36.79037011799913, 10.107341203160626) #municipalité hrairia (ezzahrouni)\n",
    "#target = ('target_node', 36.788855425031464, 10.177730508869596) #beb alioua\n",
    "#target = ('target_node', 36.839583107126735, 10.117761184660045) #el intilaka\n",
    "\n",
    "\n",
    "start = timo()\n",
    "path, transitions, walk = QHalgorithm(DTM.dtm, source, target, curr_time, stations_coord, walk_panalisation=True, transfer_time=150, max_StationDistance = 1000)\n",
    "stop = timo()\n",
    "print(stop - start)"
   ]
  },
  {
   "cell_type": "code",
   "execution_count": 14,
   "metadata": {},
   "outputs": [
    {
     "data": {
      "text/plain": [
       "[1896]"
      ]
     },
     "execution_count": 14,
     "metadata": {},
     "output_type": "execute_result"
    }
   ],
   "source": [
    "walk"
   ]
  },
  {
   "cell_type": "code",
   "execution_count": 15,
   "metadata": {},
   "outputs": [],
   "source": [
    "# target manar1 , 20:10:00\n",
    "# target manouba, 22:30:00\n",
    "# siege it transtu 11:10:00"
   ]
  },
  {
   "cell_type": "code",
   "execution_count": 16,
   "metadata": {},
   "outputs": [
    {
     "data": {
      "text/plain": [
       "[['switch_source',\n",
       "  ('switch', 89),\n",
       "  ('node', 11, 89, 'TGM', 41400),\n",
       "  ('node', 11, 88, 'TGM', 41524),\n",
       "  ('node', 11, 87, 'TGM', 41606),\n",
       "  ('node', 11, 86, 'TGM', 41718),\n",
       "  ('node', 11, 85, 'TGM', 41814),\n",
       "  ('node', 11, 84, 'TGM', 41900),\n",
       "  ('node', 11, 83, 'TGM', 42015),\n",
       "  ('node', 11, 82, 'TGM', 42077),\n",
       "  ('node', 11, 81, 'TGM', 42150),\n",
       "  ('node', 11, 80, 'TGM', 42223),\n",
       "  ('node', 11, 79, 'TGM', 42315),\n",
       "  ('node', 11, 78, 'TGM', 42390),\n",
       "  ('node', 11, 77, 'TGM', 42459),\n",
       "  ('node', 11, 76, 'TGM', 42513),\n",
       "  ('node', 11, 75, 'TGM', 42601),\n",
       "  ('node', 11, 74, 'TGM', 42672),\n",
       "  ('node', 11, 73, 'TGM', 42792),\n",
       "  ('switch', 72),\n",
       "  ('switch', 69),\n",
       "  ('node', 16, 69, '6', 44280),\n",
       "  ('switch', 70),\n",
       "  ('switch', 16),\n",
       "  'switch_target']]"
      ]
     },
     "execution_count": 16,
     "metadata": {},
     "output_type": "execute_result"
    }
   ],
   "source": [
    "path"
   ]
  },
  {
   "cell_type": "code",
   "execution_count": 17,
   "metadata": {},
   "outputs": [],
   "source": [
    "#ken ncost < qcost dima wa77el\n",
    "#ken ncost => qcost chouf ken tekel wa9t akther ama feha trans w walk a9al wa7el"
   ]
  },
  {
   "cell_type": "code",
   "execution_count": 18,
   "metadata": {},
   "outputs": [
    {
     "name": "stdout",
     "output_type": "stream",
     "text": [
      "0.025930404663085938\n"
     ]
    },
    {
     "data": {
      "text/plain": [
       "['switch_source',\n",
       " ('switch', 89),\n",
       " ('node', 11, 89, 'TGM', 41400),\n",
       " ('node', 11, 88, 'TGM', 41524),\n",
       " ('node', 11, 87, 'TGM', 41606),\n",
       " ('node', 11, 86, 'TGM', 41718),\n",
       " ('node', 11, 85, 'TGM', 41814),\n",
       " ('node', 11, 84, 'TGM', 41900),\n",
       " ('node', 11, 83, 'TGM', 42015),\n",
       " ('node', 11, 82, 'TGM', 42077),\n",
       " ('node', 11, 81, 'TGM', 42150),\n",
       " ('node', 11, 80, 'TGM', 42223),\n",
       " ('node', 11, 79, 'TGM', 42315),\n",
       " ('node', 11, 78, 'TGM', 42390),\n",
       " ('node', 11, 77, 'TGM', 42459),\n",
       " ('node', 11, 76, 'TGM', 42513),\n",
       " ('node', 11, 75, 'TGM', 42601),\n",
       " ('node', 11, 74, 'TGM', 42672),\n",
       " ('node', 11, 73, 'TGM', 42792),\n",
       " ('switch', 72),\n",
       " ('switch', 15),\n",
       " 'switch_target']"
      ]
     },
     "execution_count": 18,
     "metadata": {},
     "output_type": "execute_result"
    }
   ],
   "source": [
    "start = timo()\n",
    "pathqh, trans, dist = queryAlgorithm(DTM.dtm, source, target, curr_time, stations_coord, walk_panalisation=True, transfer_time=150)\n",
    "stop = timo()\n",
    "print(stop - start)\n",
    "pathqh"
   ]
  },
  {
   "cell_type": "code",
   "execution_count": 221,
   "metadata": {
    "collapsed": true,
    "jupyter": {
     "outputs_hidden": true,
     "source_hidden": true
    }
   },
   "outputs": [
    {
     "name": "stdout",
     "output_type": "stream",
     "text": [
      "add to quee\n"
     ]
    }
   ],
   "source": [
    "ncost = 11\n",
    "qcost = 11\n",
    "ntrans = 4\n",
    "qtrans = 5\n",
    "qwalk_dist = 5\n",
    "nwalk_dist = 5\n",
    "\n",
    "\n",
    "if ncost >= qcost :\n",
    "    if  not (ntrans < qtrans or nwalk_dist < qwalk_dist) :\n",
    "        print('skip')\n",
    "    else :\n",
    "        print('add to quee')\n",
    "else:\n",
    "    print('add to quee')"
   ]
  },
  {
   "cell_type": "markdown",
   "metadata": {},
   "source": [
    "### Path verfication"
   ]
  },
  {
   "cell_type": "code",
   "execution_count": 19,
   "metadata": {},
   "outputs": [
    {
     "name": "stdout",
     "output_type": "stream",
     "text": [
      "aller à pied jusqu'à la station LA MARSA et prendre la ligne (TGM) : Marsa vers Tunis marine à 11H 30m 0s\n",
      "descendre du véhicule à la station TUNIS MARINE\n",
      "de la station TUNIS MARINE aller à pied jusqu'à la station TUNIS MARINE\n",
      "aller à pied jusqu'à votre destination\n"
     ]
    }
   ],
   "source": [
    "print(path_interpretor(pathqh, stations_paths, paths, language='french'))"
   ]
  },
  {
   "cell_type": "code",
   "execution_count": 20,
   "metadata": {},
   "outputs": [
    {
     "data": {
      "text/plain": [
       "8226.900491814667"
      ]
     },
     "execution_count": 20,
     "metadata": {},
     "output_type": "execute_result"
    }
   ],
   "source": [
    "haversine_affinity(target[1:], [36.812810, 10.089279])"
   ]
  },
  {
   "cell_type": "code",
   "execution_count": 21,
   "metadata": {},
   "outputs": [
    {
     "data": {
      "text/plain": [
       "1073.662262195404"
      ]
     },
     "execution_count": 21,
     "metadata": {},
     "output_type": "execute_result"
    }
   ],
   "source": [
    "haversine_affinity(target[1:], [36.797900, 10.186210])"
   ]
  },
  {
   "cell_type": "code",
   "execution_count": 22,
   "metadata": {},
   "outputs": [
    {
     "data": {
      "text/html": [
       "<div>\n",
       "<style scoped>\n",
       "    .dataframe tbody tr th:only-of-type {\n",
       "        vertical-align: middle;\n",
       "    }\n",
       "\n",
       "    .dataframe tbody tr th {\n",
       "        vertical-align: top;\n",
       "    }\n",
       "\n",
       "    .dataframe thead th {\n",
       "        text-align: right;\n",
       "    }\n",
       "</style>\n",
       "<table border=\"1\" class=\"dataframe\">\n",
       "  <thead>\n",
       "    <tr style=\"text-align: right;\">\n",
       "      <th></th>\n",
       "      <th>TripNb</th>\n",
       "      <th>line_label</th>\n",
       "      <th>line_id</th>\n",
       "      <th>tag</th>\n",
       "      <th>order</th>\n",
       "      <th>prev_station</th>\n",
       "      <th>next_station</th>\n",
       "      <th>prev_latitude</th>\n",
       "      <th>prev_longitude</th>\n",
       "      <th>next_latitude</th>\n",
       "      <th>next_longitude</th>\n",
       "      <th>horaires_depart</th>\n",
       "      <th>horaires_arrivee</th>\n",
       "      <th>datetime_diff</th>\n",
       "      <th>vehicle_type</th>\n",
       "      <th>distance_diff</th>\n",
       "    </tr>\n",
       "  </thead>\n",
       "  <tbody>\n",
       "    <tr>\n",
       "      <th>9763</th>\n",
       "      <td>10</td>\n",
       "      <td>6</td>\n",
       "      <td>16</td>\n",
       "      <td>0</td>\n",
       "      <td>1</td>\n",
       "      <td>69</td>\n",
       "      <td>70</td>\n",
       "      <td>36.799610</td>\n",
       "      <td>10.193027</td>\n",
       "      <td>36.797900</td>\n",
       "      <td>10.186210</td>\n",
       "      <td>21360</td>\n",
       "      <td>21508</td>\n",
       "      <td>148.0</td>\n",
       "      <td>2</td>\n",
       "      <td>637.0</td>\n",
       "    </tr>\n",
       "    <tr>\n",
       "      <th>9968</th>\n",
       "      <td>10</td>\n",
       "      <td>6</td>\n",
       "      <td>16</td>\n",
       "      <td>0</td>\n",
       "      <td>2</td>\n",
       "      <td>70</td>\n",
       "      <td>14</td>\n",
       "      <td>36.797900</td>\n",
       "      <td>10.186210</td>\n",
       "      <td>36.796109</td>\n",
       "      <td>10.180552</td>\n",
       "      <td>21508</td>\n",
       "      <td>21679</td>\n",
       "      <td>171.0</td>\n",
       "      <td>2</td>\n",
       "      <td>542.0</td>\n",
       "    </tr>\n",
       "    <tr>\n",
       "      <th>4461</th>\n",
       "      <td>10</td>\n",
       "      <td>6</td>\n",
       "      <td>16</td>\n",
       "      <td>0</td>\n",
       "      <td>3</td>\n",
       "      <td>14</td>\n",
       "      <td>106</td>\n",
       "      <td>36.796109</td>\n",
       "      <td>10.180552</td>\n",
       "      <td>36.785807</td>\n",
       "      <td>10.179813</td>\n",
       "      <td>21679</td>\n",
       "      <td>21878</td>\n",
       "      <td>199.0</td>\n",
       "      <td>2</td>\n",
       "      <td>1149.0</td>\n",
       "    </tr>\n",
       "    <tr>\n",
       "      <th>15847</th>\n",
       "      <td>10</td>\n",
       "      <td>6</td>\n",
       "      <td>16</td>\n",
       "      <td>0</td>\n",
       "      <td>4</td>\n",
       "      <td>106</td>\n",
       "      <td>107</td>\n",
       "      <td>36.785807</td>\n",
       "      <td>10.179813</td>\n",
       "      <td>36.782100</td>\n",
       "      <td>10.179840</td>\n",
       "      <td>21878</td>\n",
       "      <td>21990</td>\n",
       "      <td>112.0</td>\n",
       "      <td>2</td>\n",
       "      <td>413.0</td>\n",
       "    </tr>\n",
       "    <tr>\n",
       "      <th>16171</th>\n",
       "      <td>10</td>\n",
       "      <td>6</td>\n",
       "      <td>16</td>\n",
       "      <td>0</td>\n",
       "      <td>5</td>\n",
       "      <td>107</td>\n",
       "      <td>108</td>\n",
       "      <td>36.782100</td>\n",
       "      <td>10.179840</td>\n",
       "      <td>36.775040</td>\n",
       "      <td>10.179200</td>\n",
       "      <td>21990</td>\n",
       "      <td>22128</td>\n",
       "      <td>138.0</td>\n",
       "      <td>2</td>\n",
       "      <td>788.0</td>\n",
       "    </tr>\n",
       "    <tr>\n",
       "      <th>16495</th>\n",
       "      <td>10</td>\n",
       "      <td>6</td>\n",
       "      <td>16</td>\n",
       "      <td>0</td>\n",
       "      <td>6</td>\n",
       "      <td>108</td>\n",
       "      <td>109</td>\n",
       "      <td>36.775040</td>\n",
       "      <td>10.179200</td>\n",
       "      <td>36.767880</td>\n",
       "      <td>10.183880</td>\n",
       "      <td>22128</td>\n",
       "      <td>22251</td>\n",
       "      <td>123.0</td>\n",
       "      <td>2</td>\n",
       "      <td>900.0</td>\n",
       "    </tr>\n",
       "    <tr>\n",
       "      <th>16818</th>\n",
       "      <td>10</td>\n",
       "      <td>6</td>\n",
       "      <td>16</td>\n",
       "      <td>0</td>\n",
       "      <td>7</td>\n",
       "      <td>109</td>\n",
       "      <td>116</td>\n",
       "      <td>36.767880</td>\n",
       "      <td>10.183880</td>\n",
       "      <td>36.760650</td>\n",
       "      <td>10.187016</td>\n",
       "      <td>22251</td>\n",
       "      <td>22400</td>\n",
       "      <td>149.0</td>\n",
       "      <td>2</td>\n",
       "      <td>852.0</td>\n",
       "    </tr>\n",
       "    <tr>\n",
       "      <th>17769</th>\n",
       "      <td>10</td>\n",
       "      <td>6</td>\n",
       "      <td>16</td>\n",
       "      <td>0</td>\n",
       "      <td>8</td>\n",
       "      <td>116</td>\n",
       "      <td>117</td>\n",
       "      <td>36.760650</td>\n",
       "      <td>10.187016</td>\n",
       "      <td>36.754668</td>\n",
       "      <td>10.187660</td>\n",
       "      <td>22400</td>\n",
       "      <td>22510</td>\n",
       "      <td>110.0</td>\n",
       "      <td>2</td>\n",
       "      <td>668.0</td>\n",
       "    </tr>\n",
       "    <tr>\n",
       "      <th>17977</th>\n",
       "      <td>10</td>\n",
       "      <td>6</td>\n",
       "      <td>16</td>\n",
       "      <td>0</td>\n",
       "      <td>9</td>\n",
       "      <td>117</td>\n",
       "      <td>118</td>\n",
       "      <td>36.754668</td>\n",
       "      <td>10.187660</td>\n",
       "      <td>36.748444</td>\n",
       "      <td>10.188733</td>\n",
       "      <td>22510</td>\n",
       "      <td>22615</td>\n",
       "      <td>105.0</td>\n",
       "      <td>2</td>\n",
       "      <td>699.0</td>\n",
       "    </tr>\n",
       "    <tr>\n",
       "      <th>18184</th>\n",
       "      <td>10</td>\n",
       "      <td>6</td>\n",
       "      <td>16</td>\n",
       "      <td>0</td>\n",
       "      <td>10</td>\n",
       "      <td>118</td>\n",
       "      <td>119</td>\n",
       "      <td>36.748444</td>\n",
       "      <td>10.188733</td>\n",
       "      <td>36.745177</td>\n",
       "      <td>10.190492</td>\n",
       "      <td>22615</td>\n",
       "      <td>22681</td>\n",
       "      <td>66.0</td>\n",
       "      <td>2</td>\n",
       "      <td>396.0</td>\n",
       "    </tr>\n",
       "    <tr>\n",
       "      <th>18391</th>\n",
       "      <td>10</td>\n",
       "      <td>6</td>\n",
       "      <td>16</td>\n",
       "      <td>0</td>\n",
       "      <td>11</td>\n",
       "      <td>119</td>\n",
       "      <td>120</td>\n",
       "      <td>36.745177</td>\n",
       "      <td>10.190492</td>\n",
       "      <td>36.742908</td>\n",
       "      <td>10.193196</td>\n",
       "      <td>22681</td>\n",
       "      <td>22751</td>\n",
       "      <td>70.0</td>\n",
       "      <td>2</td>\n",
       "      <td>349.0</td>\n",
       "    </tr>\n",
       "    <tr>\n",
       "      <th>18598</th>\n",
       "      <td>10</td>\n",
       "      <td>6</td>\n",
       "      <td>16</td>\n",
       "      <td>0</td>\n",
       "      <td>12</td>\n",
       "      <td>120</td>\n",
       "      <td>121</td>\n",
       "      <td>36.742908</td>\n",
       "      <td>10.193196</td>\n",
       "      <td>36.742185</td>\n",
       "      <td>10.197745</td>\n",
       "      <td>22751</td>\n",
       "      <td>22836</td>\n",
       "      <td>85.0</td>\n",
       "      <td>2</td>\n",
       "      <td>414.0</td>\n",
       "    </tr>\n",
       "    <tr>\n",
       "      <th>18805</th>\n",
       "      <td>10</td>\n",
       "      <td>6</td>\n",
       "      <td>16</td>\n",
       "      <td>0</td>\n",
       "      <td>13</td>\n",
       "      <td>121</td>\n",
       "      <td>122</td>\n",
       "      <td>36.742185</td>\n",
       "      <td>10.197745</td>\n",
       "      <td>36.738540</td>\n",
       "      <td>10.206570</td>\n",
       "      <td>22836</td>\n",
       "      <td>22947</td>\n",
       "      <td>111.0</td>\n",
       "      <td>2</td>\n",
       "      <td>886.0</td>\n",
       "    </tr>\n",
       "    <tr>\n",
       "      <th>19012</th>\n",
       "      <td>10</td>\n",
       "      <td>6</td>\n",
       "      <td>16</td>\n",
       "      <td>0</td>\n",
       "      <td>14</td>\n",
       "      <td>122</td>\n",
       "      <td>123</td>\n",
       "      <td>36.738540</td>\n",
       "      <td>10.206570</td>\n",
       "      <td>36.733106</td>\n",
       "      <td>10.210390</td>\n",
       "      <td>22947</td>\n",
       "      <td>23064</td>\n",
       "      <td>117.0</td>\n",
       "      <td>2</td>\n",
       "      <td>694.0</td>\n",
       "    </tr>\n",
       "    <tr>\n",
       "      <th>19220</th>\n",
       "      <td>10</td>\n",
       "      <td>6</td>\n",
       "      <td>16</td>\n",
       "      <td>0</td>\n",
       "      <td>15</td>\n",
       "      <td>123</td>\n",
       "      <td>124</td>\n",
       "      <td>36.733106</td>\n",
       "      <td>10.210390</td>\n",
       "      <td>36.728704</td>\n",
       "      <td>10.210733</td>\n",
       "      <td>23064</td>\n",
       "      <td>23158</td>\n",
       "      <td>94.0</td>\n",
       "      <td>2</td>\n",
       "      <td>491.0</td>\n",
       "    </tr>\n",
       "    <tr>\n",
       "      <th>19428</th>\n",
       "      <td>10</td>\n",
       "      <td>6</td>\n",
       "      <td>16</td>\n",
       "      <td>0</td>\n",
       "      <td>16</td>\n",
       "      <td>124</td>\n",
       "      <td>125</td>\n",
       "      <td>36.728704</td>\n",
       "      <td>10.210733</td>\n",
       "      <td>36.723648</td>\n",
       "      <td>10.212106</td>\n",
       "      <td>23158</td>\n",
       "      <td>23252</td>\n",
       "      <td>94.0</td>\n",
       "      <td>2</td>\n",
       "      <td>576.0</td>\n",
       "    </tr>\n",
       "    <tr>\n",
       "      <th>19635</th>\n",
       "      <td>10</td>\n",
       "      <td>6</td>\n",
       "      <td>16</td>\n",
       "      <td>0</td>\n",
       "      <td>17</td>\n",
       "      <td>125</td>\n",
       "      <td>126</td>\n",
       "      <td>36.723648</td>\n",
       "      <td>10.212106</td>\n",
       "      <td>36.719657</td>\n",
       "      <td>10.216398</td>\n",
       "      <td>23252</td>\n",
       "      <td>23362</td>\n",
       "      <td>110.0</td>\n",
       "      <td>2</td>\n",
       "      <td>586.0</td>\n",
       "    </tr>\n",
       "  </tbody>\n",
       "</table>\n",
       "</div>"
      ],
      "text/plain": [
       "       TripNb line_label  line_id  tag  order  prev_station  next_station  \\\n",
       "9763       10          6       16    0      1            69            70   \n",
       "9968       10          6       16    0      2            70            14   \n",
       "4461       10          6       16    0      3            14           106   \n",
       "15847      10          6       16    0      4           106           107   \n",
       "16171      10          6       16    0      5           107           108   \n",
       "16495      10          6       16    0      6           108           109   \n",
       "16818      10          6       16    0      7           109           116   \n",
       "17769      10          6       16    0      8           116           117   \n",
       "17977      10          6       16    0      9           117           118   \n",
       "18184      10          6       16    0     10           118           119   \n",
       "18391      10          6       16    0     11           119           120   \n",
       "18598      10          6       16    0     12           120           121   \n",
       "18805      10          6       16    0     13           121           122   \n",
       "19012      10          6       16    0     14           122           123   \n",
       "19220      10          6       16    0     15           123           124   \n",
       "19428      10          6       16    0     16           124           125   \n",
       "19635      10          6       16    0     17           125           126   \n",
       "\n",
       "       prev_latitude  prev_longitude  next_latitude  next_longitude  \\\n",
       "9763       36.799610       10.193027      36.797900       10.186210   \n",
       "9968       36.797900       10.186210      36.796109       10.180552   \n",
       "4461       36.796109       10.180552      36.785807       10.179813   \n",
       "15847      36.785807       10.179813      36.782100       10.179840   \n",
       "16171      36.782100       10.179840      36.775040       10.179200   \n",
       "16495      36.775040       10.179200      36.767880       10.183880   \n",
       "16818      36.767880       10.183880      36.760650       10.187016   \n",
       "17769      36.760650       10.187016      36.754668       10.187660   \n",
       "17977      36.754668       10.187660      36.748444       10.188733   \n",
       "18184      36.748444       10.188733      36.745177       10.190492   \n",
       "18391      36.745177       10.190492      36.742908       10.193196   \n",
       "18598      36.742908       10.193196      36.742185       10.197745   \n",
       "18805      36.742185       10.197745      36.738540       10.206570   \n",
       "19012      36.738540       10.206570      36.733106       10.210390   \n",
       "19220      36.733106       10.210390      36.728704       10.210733   \n",
       "19428      36.728704       10.210733      36.723648       10.212106   \n",
       "19635      36.723648       10.212106      36.719657       10.216398   \n",
       "\n",
       "       horaires_depart  horaires_arrivee  datetime_diff  vehicle_type  \\\n",
       "9763             21360             21508          148.0             2   \n",
       "9968             21508             21679          171.0             2   \n",
       "4461             21679             21878          199.0             2   \n",
       "15847            21878             21990          112.0             2   \n",
       "16171            21990             22128          138.0             2   \n",
       "16495            22128             22251          123.0             2   \n",
       "16818            22251             22400          149.0             2   \n",
       "17769            22400             22510          110.0             2   \n",
       "17977            22510             22615          105.0             2   \n",
       "18184            22615             22681           66.0             2   \n",
       "18391            22681             22751           70.0             2   \n",
       "18598            22751             22836           85.0             2   \n",
       "18805            22836             22947          111.0             2   \n",
       "19012            22947             23064          117.0             2   \n",
       "19220            23064             23158           94.0             2   \n",
       "19428            23158             23252           94.0             2   \n",
       "19635            23252             23362          110.0             2   \n",
       "\n",
       "       distance_diff  \n",
       "9763           637.0  \n",
       "9968           542.0  \n",
       "4461          1149.0  \n",
       "15847          413.0  \n",
       "16171          788.0  \n",
       "16495          900.0  \n",
       "16818          852.0  \n",
       "17769          668.0  \n",
       "17977          699.0  \n",
       "18184          396.0  \n",
       "18391          349.0  \n",
       "18598          414.0  \n",
       "18805          886.0  \n",
       "19012          694.0  \n",
       "19220          491.0  \n",
       "19428          576.0  \n",
       "19635          586.0  "
      ]
     },
     "execution_count": 22,
     "metadata": {},
     "output_type": "execute_result"
    }
   ],
   "source": [
    "timetable[(timetable.line_id == 16) & (timetable.TripNb == 10)]"
   ]
  }
 ],
 "metadata": {
  "kernelspec": {
   "display_name": "Python 3",
   "language": "python",
   "name": "python3"
  },
  "language_info": {
   "codemirror_mode": {
    "name": "ipython",
    "version": 3
   },
   "file_extension": ".py",
   "mimetype": "text/x-python",
   "name": "python",
   "nbconvert_exporter": "python",
   "pygments_lexer": "ipython3",
   "version": "3.8.0"
  }
 },
 "nbformat": 4,
 "nbformat_minor": 4
}
